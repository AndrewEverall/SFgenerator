{
 "cells": [
  {
   "cell_type": "code",
   "execution_count": 1,
   "metadata": {},
   "outputs": [],
   "source": [
    "# autoreload modules when files have been altered\n",
    "%load_ext autoreload\n",
    "%autoreload 2\n",
    "\n",
    "import ebf, sys, gc\n",
    "import numpy as np\n",
    "import pandas as pd\n",
    "import dill\n",
    "\n",
    "%matplotlib inline\n",
    "from matplotlib import pyplot as plt\n",
    "import matplotlib\n",
    "from matplotlib.colors import LogNorm\n",
    "font = {'family' : 'normal',\n",
    "        'weight' : 'bold',\n",
    "        'size'   : 30}\n",
    "matplotlib.rc('font', **font)\n",
    "\n",
    "import seaborn as sns\n",
    "rc={'font.size': 16, 'axes.labelsize': 16, 'legend.fontsize': 12,\n",
    "    'axes.titlesize': 18, 'xtick.labelsize': 12, 'ytick.labelsize': 12}\n",
    "sns.set(font=\"serif\",style=\"white\",rc=rc)\n",
    "\n",
    "def ErrorWarning():\n",
    "    raise ValueError(\"Wait, don't run this, you don't want to!\")"
   ]
  },
  {
   "cell_type": "markdown",
   "metadata": {},
   "source": [
    "# Create New\n",
    "New database for information."
   ]
  },
  {
   "cell_type": "code",
   "execution_count": 19,
   "metadata": {
    "collapsed": true
   },
   "outputs": [
    {
     "ename": "ZipImportError",
     "evalue": "bad local file header: /home/andy/anaconda2/lib/python2.7/site-packages/seestar-1.2.7rc0-py2.7.egg",
     "output_type": "error",
     "traceback": [
      "\u001b[0;31m---------------------------------------------------------------------------\u001b[0m",
      "\u001b[0;31mZipImportError\u001b[0m                            Traceback (most recent call last)",
      "\u001b[0;32m<ipython-input-19-cb6f565cc6af>\u001b[0m in \u001b[0;36m<module>\u001b[0;34m()\u001b[0m\n\u001b[0;32m----> 1\u001b[0;31m \u001b[0;32mfrom\u001b[0m \u001b[0mseestar\u001b[0m \u001b[0;32mimport\u001b[0m \u001b[0mcreateNew\u001b[0m\u001b[0;34m\u001b[0m\u001b[0m\n\u001b[0m\u001b[1;32m      2\u001b[0m \u001b[0mcreateNew\u001b[0m\u001b[0;34m.\u001b[0m\u001b[0mcreate\u001b[0m\u001b[0;34m(\u001b[0m\u001b[0;34m)\u001b[0m\u001b[0;34m\u001b[0m\u001b[0m\n",
      "\u001b[0;31mZipImportError\u001b[0m: bad local file header: /home/andy/anaconda2/lib/python2.7/site-packages/seestar-1.2.7rc0-py2.7.egg"
     ]
    }
   ],
   "source": [
    "from seestar import createNew\n",
    "createNew.create()\n",
    "# When requested , give the database a path\n",
    "# Provide a name for the database \n",
    "# (I've used Apogee_new here and for the rest of this notebook but you can change that.)"
   ]
  },
  {
   "cell_type": "markdown",
   "metadata": {},
   "source": [
    "# File Info"
   ]
  },
  {
   "cell_type": "code",
   "execution_count": 2,
   "metadata": {},
   "outputs": [],
   "source": [
    "from seestar import surveyInfoPickler"
   ]
  },
  {
   "cell_type": "code",
   "execution_count": 3,
   "metadata": {},
   "outputs": [],
   "source": [
    "# Location of fileinfo file - replace teh fileinfo_path string\n",
    "fileinfo_path = '/media/andy/37E3-0F91/Research/SF/SFdata/Apogee_new/Apogee_new_fileinfo.pickle'\n",
    "fileinfo = surveyInfoPickler.surveyInformation(fileinfo_path)"
   ]
  },
  {
   "cell_type": "code",
   "execution_count": 4,
   "metadata": {},
   "outputs": [
    {
     "name": "stdout",
     "output_type": "stream",
     "text": [
      "1) Checking file paths exist:\n",
      "OK\n",
      "\n",
      "2) Checking spectroscopic catalogue file structure:\n",
      "OK\n",
      "\n",
      "3) Checking field information file structure:\n",
      "(make sure halfangle is in units of radians.)\n",
      "OK\n",
      "\n",
      "4) Checking photometric catalogue file structure:\n",
      "Checking 4302.csv:\n",
      "OK\n",
      "\n",
      "5) Checking selection function pickle paths exist:\n",
      "The path to your selection function pickled instance, obsSF_pickle_path, does not exist: /media/andy/37E3-0F91/Research/SF/SFdata/Apogee_new/Apogee_new_obsSF.pickle\n",
      "The path to your selection function pickled instance, obsSF_pickle_path, does not exist: /media/andy/37E3-0F91/Research/SF/SFdata/Apogee_new/Apogee_new_fieldoverlapdatabase\n",
      "^ These files should exist for an already made selection function. If you're starting from scratch, ignore this!\n",
      "\n",
      "6) Checking isochrone pickle files exist:\n",
      "The premade interpolants (isochrone_interpolantinstances.pickle) will be automatically be used to calculate the selection function.\n"
     ]
    }
   ],
   "source": [
    "# Test for any problems in the\n",
    "fileinfo.testFiles()\n",
    "# Good to come back to this whenever you move files around or change things."
   ]
  },
  {
   "cell_type": "code",
   "execution_count": 10,
   "metadata": {},
   "outputs": [],
   "source": [
    "# Some changes will be saved automatically if you run testFiles then save. \n",
    "fileinfo.save()"
   ]
  },
  {
   "cell_type": "code",
   "execution_count": 7,
   "metadata": {},
   "outputs": [],
   "source": [
    "# Joins some of the given folders and filenames together to create full paths\n",
    "fileinfo()"
   ]
  },
  {
   "cell_type": "markdown",
   "metadata": {},
   "source": [
    "# Field info"
   ]
  },
  {
   "cell_type": "code",
   "execution_count": 1,
   "metadata": {},
   "outputs": [],
   "source": [
    "# Field file downloaded from website\n",
    "filepath = '/media/andy/UUI/Research/SF/SFdata/APOGEE_learnt/allPlates-l31c.2.fits'"
   ]
  },
  {
   "cell_type": "code",
   "execution_count": 2,
   "metadata": {
    "collapsed": true
   },
   "outputs": [
    {
     "ename": "IOError",
     "evalue": "[Errno 2] No such file or directory: '/media/andy/UUI/Research/SF/SFdata/APOGEE_learnt/allPlates-l31c.2.fits'",
     "output_type": "error",
     "traceback": [
      "\u001b[0;31m---------------------------------------------------------------------------\u001b[0m",
      "\u001b[0;31mIOError\u001b[0m                                   Traceback (most recent call last)",
      "\u001b[0;32m<ipython-input-2-16956bb086c9>\u001b[0m in \u001b[0;36m<module>\u001b[0;34m()\u001b[0m\n\u001b[1;32m      1\u001b[0m \u001b[0;32mfrom\u001b[0m \u001b[0mastropy\u001b[0m\u001b[0;34m.\u001b[0m\u001b[0mtable\u001b[0m \u001b[0;32mimport\u001b[0m \u001b[0mTable\u001b[0m\u001b[0;34m\u001b[0m\u001b[0m\n\u001b[1;32m      2\u001b[0m \u001b[0;34m\u001b[0m\u001b[0m\n\u001b[0;32m----> 3\u001b[0;31m \u001b[0;32mwith\u001b[0m \u001b[0mopen\u001b[0m\u001b[0;34m(\u001b[0m\u001b[0mfilepath\u001b[0m\u001b[0;34m)\u001b[0m \u001b[0;32mas\u001b[0m \u001b[0mdata\u001b[0m\u001b[0;34m:\u001b[0m\u001b[0;34m\u001b[0m\u001b[0m\n\u001b[0m\u001b[1;32m      4\u001b[0m     \u001b[0mdat\u001b[0m \u001b[0;34m=\u001b[0m \u001b[0mTable\u001b[0m\u001b[0;34m.\u001b[0m\u001b[0mread\u001b[0m\u001b[0;34m(\u001b[0m\u001b[0mdata\u001b[0m\u001b[0;34m,\u001b[0m \u001b[0mformat\u001b[0m\u001b[0;34m=\u001b[0m\u001b[0;34m'fits'\u001b[0m\u001b[0;34m)\u001b[0m\u001b[0;34m\u001b[0m\u001b[0m\n\u001b[1;32m      5\u001b[0m \u001b[0;34m\u001b[0m\u001b[0m\n",
      "\u001b[0;31mIOError\u001b[0m: [Errno 2] No such file or directory: '/media/andy/UUI/Research/SF/SFdata/APOGEE_learnt/allPlates-l31c.2.fits'"
     ]
    }
   ],
   "source": [
    "# Generate dataframe from file\n",
    "from astropy.table import Table\n",
    "\n",
    "with open(filepath) as data:\n",
    "    dat = Table.read(data, format='fits')\n",
    "    \n",
    "    arr = dat.as_array()\n",
    "    lstlst = [list(row)[:15]+list(row)[16:] for row in arr.tolist()]\n",
    "    pointings = pd.DataFrame(lstlst, columns=dat.colnames[:15]+dat.colnames[16:])"
   ]
  },
  {
   "cell_type": "code",
   "execution_count": 12,
   "metadata": {},
   "outputs": [],
   "source": [
    "# Transform from Equatorial to Galactic (Copied from your CoordTrans script in AngleDisks.EquatToGal)\n",
    "from seestar import AngleDisks\n",
    "\n",
    "pointings['RADIUS'] *= np.pi/180\n",
    "\n",
    "pointings['RA'] = pointings.RACEN * np.pi/180\n",
    "pointings['Dec'] = pointings.DECCEN * np.pi/180\n",
    "pointings['glon'], pointings['glat'] = AngleDisks.EquatToGal(pointings.RA, pointings.Dec)"
   ]
  },
  {
   "cell_type": "code",
   "execution_count": 13,
   "metadata": {},
   "outputs": [
    {
     "name": "stderr",
     "output_type": "stream",
     "text": [
      "/home/andy/.local/lib/python2.7/site-packages/matplotlib/projections/geo.py:493: RuntimeWarning: invalid value encountered in arcsin\n",
      "  theta = np.arcsin(y / np.sqrt(2))\n"
     ]
    },
    {
     "data": {
      "text/plain": [
       "<matplotlib.collections.PathCollection at 0x7f7d63c4ca10>"
      ]
     },
     "execution_count": 13,
     "metadata": {},
     "output_type": "execute_result"
    },
    {
     "data": {
      "image/png": "[encoded data removed]",
      "text/plain": [
       "<matplotlib.figure.Figure at 0x7f7d63c4cd50>"
      ]
     },
     "metadata": {},
     "output_type": "display_data"
    }
   ],
   "source": [
    "# Scatter of pointings locations\n",
    "fig = plt.figure(figsize=(10,10))\n",
    "l = pointings['glon'].copy()\n",
    "l[l>np.pi] -= 2*np.pi\n",
    "b = pointings.glat.copy()\n",
    "plt.subplot(projection='mollweide')\n",
    "plt.scatter(l, b, s=10)"
   ]
  },
  {
   "cell_type": "code",
   "execution_count": 14,
   "metadata": {},
   "outputs": [],
   "source": [
    "# Rename columns and provide colour and magnitude boundaries\n",
    "cols_old = ['LOCATION_ID', 'glon', 'glat', 'RADIUS']\n",
    "cols_new = ['fieldID', 'glon', 'glat', 'halfangle']\n",
    "pointings = pointings.rename(index=str, columns=dict(zip(cols_old, cols_new)))\n",
    "pointings = pointings[cols_new]\n",
    "\n",
    "pointings['Magmin'] = 'NoLimit'\n",
    "pointings['Magmax'] = 'NoLimit'\n",
    "pointings['Colmin'] = 'NoLimit'\n",
    "pointings['Colmax'] = 'NoLimit'\n",
    "\n",
    "pointings.drop_duplicates('fieldID', inplace=True)"
   ]
  },
  {
   "cell_type": "code",
   "execution_count": 15,
   "metadata": {},
   "outputs": [],
   "source": [
    "# Save to csv inside database\n",
    "pointings.to_csv(fileinfo.field_path, index=False)"
   ]
  },
  {
   "cell_type": "markdown",
   "metadata": {},
   "source": [
    "# Spectro data"
   ]
  },
  {
   "cell_type": "code",
   "execution_count": 44,
   "metadata": {},
   "outputs": [],
   "source": [
    "# Spectroscopic datafile which you sent me\n",
    "filepath = '/media/andy/37E3-0F91/Research/SF/SFdata/APOGEE14/APOGEE_distances_withPRIOR_MASTER_suppapodr14(1).csv'\n",
    "df = pd.read_csv(filepath)"
   ]
  },
  {
   "cell_type": "code",
   "execution_count": 45,
   "metadata": {
    "collapsed": true
   },
   "outputs": [
    {
     "data": {
      "text/html": [
       "<div>\n",
       "<style>\n",
       "    .dataframe thead tr:only-child th {\n",
       "        text-align: right;\n",
       "    }\n",
       "\n",
       "    .dataframe thead th {\n",
       "        text-align: left;\n",
       "    }\n",
       "\n",
       "    .dataframe tbody tr th {\n",
       "        vertical-align: top;\n",
       "    }\n",
       "</style>\n",
       "<table border=\"1\" class=\"dataframe\">\n",
       "  <thead>\n",
       "    <tr style=\"text-align: right;\">\n",
       "      <th></th>\n",
       "      <th>Unnamed: 0</th>\n",
       "      <th>apogee_id</th>\n",
       "      <th>apogee_location_id</th>\n",
       "      <th>apogee_j</th>\n",
       "      <th>apogee_h</th>\n",
       "      <th>apogee_k</th>\n",
       "      <th>apogee_j_err</th>\n",
       "      <th>apogee_h_err</th>\n",
       "      <th>apogee_k_err</th>\n",
       "      <th>apogee_ra</th>\n",
       "      <th>...</th>\n",
       "      <th>phi_err</th>\n",
       "      <th>z_err</th>\n",
       "      <th>vR_err</th>\n",
       "      <th>vphi_err</th>\n",
       "      <th>vz_err</th>\n",
       "      <th>JR_err</th>\n",
       "      <th>Lz_err</th>\n",
       "      <th>Jz_err</th>\n",
       "      <th>Rc_err</th>\n",
       "      <th>flag</th>\n",
       "    </tr>\n",
       "  </thead>\n",
       "  <tbody>\n",
       "    <tr>\n",
       "      <th>0</th>\n",
       "      <td>0</td>\n",
       "      <td>VESTA</td>\n",
       "      <td>1</td>\n",
       "      <td>-9999.990</td>\n",
       "      <td>-99.999</td>\n",
       "      <td>-9999.990</td>\n",
       "      <td>-9999.990</td>\n",
       "      <td>-9999.990</td>\n",
       "      <td>-9999.990</td>\n",
       "      <td>0.000000</td>\n",
       "      <td>...</td>\n",
       "      <td>NaN</td>\n",
       "      <td>NaN</td>\n",
       "      <td>NaN</td>\n",
       "      <td>NaN</td>\n",
       "      <td>NaN</td>\n",
       "      <td>NaN</td>\n",
       "      <td>NaN</td>\n",
       "      <td>NaN</td>\n",
       "      <td>NaN</td>\n",
       "      <td>True</td>\n",
       "    </tr>\n",
       "    <tr>\n",
       "      <th>1</th>\n",
       "      <td>1</td>\n",
       "      <td>2M00000002+7417074</td>\n",
       "      <td>5046</td>\n",
       "      <td>8.597</td>\n",
       "      <td>7.667</td>\n",
       "      <td>7.314</td>\n",
       "      <td>0.039</td>\n",
       "      <td>0.029</td>\n",
       "      <td>0.018</td>\n",
       "      <td>0.000103</td>\n",
       "      <td>...</td>\n",
       "      <td>0.011926</td>\n",
       "      <td>0.037990</td>\n",
       "      <td>2.631136</td>\n",
       "      <td>1.056514</td>\n",
       "      <td>0.954366</td>\n",
       "      <td>4.020780</td>\n",
       "      <td>21.721739</td>\n",
       "      <td>0.805830</td>\n",
       "      <td>0.095030</td>\n",
       "      <td>False</td>\n",
       "    </tr>\n",
       "    <tr>\n",
       "      <th>2</th>\n",
       "      <td>2</td>\n",
       "      <td>2M00000019-1924498</td>\n",
       "      <td>5071</td>\n",
       "      <td>11.074</td>\n",
       "      <td>10.740</td>\n",
       "      <td>10.670</td>\n",
       "      <td>0.022</td>\n",
       "      <td>0.026</td>\n",
       "      <td>0.023</td>\n",
       "      <td>0.000832</td>\n",
       "      <td>...</td>\n",
       "      <td>0.000418</td>\n",
       "      <td>0.015165</td>\n",
       "      <td>2.429757</td>\n",
       "      <td>2.120973</td>\n",
       "      <td>0.653616</td>\n",
       "      <td>0.984060</td>\n",
       "      <td>17.627916</td>\n",
       "      <td>0.417470</td>\n",
       "      <td>0.075070</td>\n",
       "      <td>False</td>\n",
       "    </tr>\n",
       "    <tr>\n",
       "      <th>3</th>\n",
       "      <td>3</td>\n",
       "      <td>2M00000032+5737103</td>\n",
       "      <td>4264</td>\n",
       "      <td>10.905</td>\n",
       "      <td>10.635</td>\n",
       "      <td>10.483</td>\n",
       "      <td>0.023</td>\n",
       "      <td>0.030</td>\n",
       "      <td>0.022</td>\n",
       "      <td>0.001335</td>\n",
       "      <td>...</td>\n",
       "      <td>0.002175</td>\n",
       "      <td>0.001723</td>\n",
       "      <td>0.492138</td>\n",
       "      <td>0.153465</td>\n",
       "      <td>0.416544</td>\n",
       "      <td>0.068677</td>\n",
       "      <td>3.152596</td>\n",
       "      <td>0.022192</td>\n",
       "      <td>0.013557</td>\n",
       "      <td>False</td>\n",
       "    </tr>\n",
       "    <tr>\n",
       "      <th>4</th>\n",
       "      <td>4</td>\n",
       "      <td>2M00000032+5737103</td>\n",
       "      <td>4424</td>\n",
       "      <td>10.905</td>\n",
       "      <td>10.635</td>\n",
       "      <td>10.483</td>\n",
       "      <td>0.023</td>\n",
       "      <td>0.030</td>\n",
       "      <td>0.022</td>\n",
       "      <td>0.001335</td>\n",
       "      <td>...</td>\n",
       "      <td>0.002175</td>\n",
       "      <td>0.001723</td>\n",
       "      <td>0.492138</td>\n",
       "      <td>0.153465</td>\n",
       "      <td>0.416544</td>\n",
       "      <td>0.068677</td>\n",
       "      <td>3.152596</td>\n",
       "      <td>0.022192</td>\n",
       "      <td>0.013557</td>\n",
       "      <td>False</td>\n",
       "    </tr>\n",
       "  </tbody>\n",
       "</table>\n",
       "<p>5 rows × 75 columns</p>\n",
       "</div>"
      ],
      "text/plain": [
       "   Unnamed: 0           apogee_id  apogee_location_id  apogee_j  apogee_h  \\\n",
       "0           0  VESTA                                1 -9999.990   -99.999   \n",
       "1           1  2M00000002+7417074                5046     8.597     7.667   \n",
       "2           2  2M00000019-1924498                5071    11.074    10.740   \n",
       "3           3  2M00000032+5737103                4264    10.905    10.635   \n",
       "4           4  2M00000032+5737103                4424    10.905    10.635   \n",
       "\n",
       "   apogee_k  apogee_j_err  apogee_h_err  apogee_k_err  apogee_ra  ...    \\\n",
       "0 -9999.990     -9999.990     -9999.990     -9999.990   0.000000  ...     \n",
       "1     7.314         0.039         0.029         0.018   0.000103  ...     \n",
       "2    10.670         0.022         0.026         0.023   0.000832  ...     \n",
       "3    10.483         0.023         0.030         0.022   0.001335  ...     \n",
       "4    10.483         0.023         0.030         0.022   0.001335  ...     \n",
       "\n",
       "    phi_err     z_err    vR_err  vphi_err    vz_err    JR_err     Lz_err  \\\n",
       "0       NaN       NaN       NaN       NaN       NaN       NaN        NaN   \n",
       "1  0.011926  0.037990  2.631136  1.056514  0.954366  4.020780  21.721739   \n",
       "2  0.000418  0.015165  2.429757  2.120973  0.653616  0.984060  17.627916   \n",
       "3  0.002175  0.001723  0.492138  0.153465  0.416544  0.068677   3.152596   \n",
       "4  0.002175  0.001723  0.492138  0.153465  0.416544  0.068677   3.152596   \n",
       "\n",
       "     Jz_err    Rc_err   flag  \n",
       "0       NaN       NaN   True  \n",
       "1  0.805830  0.095030  False  \n",
       "2  0.417470  0.075070  False  \n",
       "3  0.022192  0.013557  False  \n",
       "4  0.022192  0.013557  False  \n",
       "\n",
       "[5 rows x 75 columns]"
      ]
     },
     "execution_count": 45,
     "metadata": {},
     "output_type": "execute_result"
    }
   ],
   "source": [
    "df.head()"
   ]
  },
  {
   "cell_type": "code",
   "execution_count": 46,
   "metadata": {
    "scrolled": true
   },
   "outputs": [],
   "source": [
    "# Relabel columns and correct units (e.g. log10age --> ageGyr)\n",
    "cols = ['apogee_id', 'apogee_location_id', 'l', 'b', 's', \n",
    "            'apogee_j', 'apogee_h', 'apogee_k', \n",
    "            'apogee_m_h', 'dm', 'dist', 'par', 'log10_age',\n",
    "            'mass', 'Z', 'R', 'phi', 'z',  'flag']\n",
    "df = df[cols].copy()\n",
    "\n",
    "cols_old = ['apogee_id', 'apogee_location_id', 'l', 'b', 's', 'dist', 'par', 'log10_age', 'mass', 'Z', 'log10_av', 'R', 'phi', 'z']\n",
    "cols_new = ['APOGEE_ID', 'fieldID', 'glon', 'glat', 's', 'dist', 'par', 'log10age', 'mass', 'Z', 'log10_av', 'R', 'phi', 'z']\n",
    "df.rename(index=str, columns=dict(zip(cols_old, cols_new)), inplace=True)\n",
    "\n",
    "cm_old = ['apogee_j', 'apogee_h', 'apogee_k']\n",
    "cm_new = ['Japp', 'Kapp', 'Happ']\n",
    "df.rename(index=str, columns=dict(zip(cm_old, cm_new)), inplace=True)\n",
    "\n",
    "df['ageGyr'] = 10**df['log10age']\n",
    "# Zsolar = 0.0152\n",
    "df['mh'] = df.Z"
   ]
  },
  {
   "cell_type": "code",
   "execution_count": 26,
   "metadata": {
    "scrolled": false
   },
   "outputs": [
    {
     "data": {
      "text/plain": [
       "<matplotlib.collections.PathCollection at 0x7f7d4e2f9890>"
      ]
     },
     "execution_count": 26,
     "metadata": {},
     "output_type": "execute_result"
    },
    {
     "data": {
      "image/png": "[encoded data removed]",
      "text/plain": [
       "<matplotlib.figure.Figure at 0x7f7d41c1c3d0>"
      ]
     },
     "metadata": {},
     "output_type": "display_data"
    }
   ],
   "source": [
    "fig = plt.figure(figsize=(10,10))\n",
    "\n",
    "plt.subplot(projection='mollweide')\n",
    "plt.scatter(df.glon, df.glat, s=0.1)"
   ]
  },
  {
   "cell_type": "code",
   "execution_count": 11,
   "metadata": {
    "collapsed": true
   },
   "outputs": [
    {
     "data": {
      "text/html": [
       "<div>\n",
       "<style>\n",
       "    .dataframe thead tr:only-child th {\n",
       "        text-align: right;\n",
       "    }\n",
       "\n",
       "    .dataframe thead th {\n",
       "        text-align: left;\n",
       "    }\n",
       "\n",
       "    .dataframe tbody tr th {\n",
       "        vertical-align: top;\n",
       "    }\n",
       "</style>\n",
       "<table border=\"1\" class=\"dataframe\">\n",
       "  <thead>\n",
       "    <tr style=\"text-align: right;\">\n",
       "      <th></th>\n",
       "      <th>APOGEE_ID</th>\n",
       "      <th>fieldID</th>\n",
       "      <th>glon</th>\n",
       "      <th>glat</th>\n",
       "      <th>s</th>\n",
       "      <th>Japp</th>\n",
       "      <th>Kapp</th>\n",
       "      <th>Happ</th>\n",
       "      <th>apogee_m_h</th>\n",
       "      <th>dm</th>\n",
       "      <th>...</th>\n",
       "      <th>par</th>\n",
       "      <th>log10age</th>\n",
       "      <th>mass</th>\n",
       "      <th>Z</th>\n",
       "      <th>R</th>\n",
       "      <th>phi</th>\n",
       "      <th>z</th>\n",
       "      <th>flag</th>\n",
       "      <th>ageGyr</th>\n",
       "      <th>mh</th>\n",
       "    </tr>\n",
       "  </thead>\n",
       "  <tbody>\n",
       "    <tr>\n",
       "      <th>1</th>\n",
       "      <td>2M00000002+7417074</td>\n",
       "      <td>5046</td>\n",
       "      <td>2.083955</td>\n",
       "      <td>0.205377</td>\n",
       "      <td>3.635099</td>\n",
       "      <td>8.597</td>\n",
       "      <td>7.667</td>\n",
       "      <td>7.314</td>\n",
       "      <td>-0.068105</td>\n",
       "      <td>12.801202</td>\n",
       "      <td>...</td>\n",
       "      <td>0.275633</td>\n",
       "      <td>0.901988</td>\n",
       "      <td>1.090921</td>\n",
       "      <td>-0.054262</td>\n",
       "      <td>10.418575</td>\n",
       "      <td>-0.302025</td>\n",
       "      <td>0.758312</td>\n",
       "      <td>False</td>\n",
       "      <td>7.979728</td>\n",
       "      <td>-0.054262</td>\n",
       "    </tr>\n",
       "    <tr>\n",
       "      <th>2</th>\n",
       "      <td>2M00000019-1924498</td>\n",
       "      <td>5071</td>\n",
       "      <td>1.106437</td>\n",
       "      <td>-1.324818</td>\n",
       "      <td>0.248455</td>\n",
       "      <td>11.074</td>\n",
       "      <td>10.740</td>\n",
       "      <td>10.670</td>\n",
       "      <td>-0.182092</td>\n",
       "      <td>6.979364</td>\n",
       "      <td>...</td>\n",
       "      <td>4.025543</td>\n",
       "      <td>0.654352</td>\n",
       "      <td>0.866900</td>\n",
       "      <td>-0.184686</td>\n",
       "      <td>8.173496</td>\n",
       "      <td>-0.006618</td>\n",
       "      <td>-0.227022</td>\n",
       "      <td>False</td>\n",
       "      <td>4.511827</td>\n",
       "      <td>-0.184686</td>\n",
       "    </tr>\n",
       "    <tr>\n",
       "      <th>3</th>\n",
       "      <td>2M00000032+5737103</td>\n",
       "      <td>4264</td>\n",
       "      <td>2.025723</td>\n",
       "      <td>-0.079673</td>\n",
       "      <td>0.812791</td>\n",
       "      <td>10.905</td>\n",
       "      <td>10.635</td>\n",
       "      <td>10.483</td>\n",
       "      <td>-0.270533</td>\n",
       "      <td>9.559009</td>\n",
       "      <td>...</td>\n",
       "      <td>1.225693</td>\n",
       "      <td>0.224728</td>\n",
       "      <td>1.618856</td>\n",
       "      <td>-0.253530</td>\n",
       "      <td>8.587034</td>\n",
       "      <td>-0.084856</td>\n",
       "      <td>-0.050081</td>\n",
       "      <td>False</td>\n",
       "      <td>1.677753</td>\n",
       "      <td>-0.253530</td>\n",
       "    </tr>\n",
       "    <tr>\n",
       "      <th>4</th>\n",
       "      <td>2M00000032+5737103</td>\n",
       "      <td>4424</td>\n",
       "      <td>2.025723</td>\n",
       "      <td>-0.079673</td>\n",
       "      <td>0.812791</td>\n",
       "      <td>10.905</td>\n",
       "      <td>10.635</td>\n",
       "      <td>10.483</td>\n",
       "      <td>-0.285743</td>\n",
       "      <td>9.559009</td>\n",
       "      <td>...</td>\n",
       "      <td>1.225693</td>\n",
       "      <td>0.224728</td>\n",
       "      <td>1.618856</td>\n",
       "      <td>-0.253530</td>\n",
       "      <td>8.587034</td>\n",
       "      <td>-0.084856</td>\n",
       "      <td>-0.050081</td>\n",
       "      <td>False</td>\n",
       "      <td>1.677753</td>\n",
       "      <td>-0.253530</td>\n",
       "    </tr>\n",
       "    <tr>\n",
       "      <th>5</th>\n",
       "      <td>2M00000068+5710233</td>\n",
       "      <td>4264</td>\n",
       "      <td>2.024183</td>\n",
       "      <td>-0.087311</td>\n",
       "      <td>0.745545</td>\n",
       "      <td>10.664</td>\n",
       "      <td>10.132</td>\n",
       "      <td>10.018</td>\n",
       "      <td>-0.122799</td>\n",
       "      <td>9.359217</td>\n",
       "      <td>...</td>\n",
       "      <td>1.343549</td>\n",
       "      <td>0.561265</td>\n",
       "      <td>1.315703</td>\n",
       "      <td>-0.145693</td>\n",
       "      <td>8.551543</td>\n",
       "      <td>-0.078154</td>\n",
       "      <td>-0.050456</td>\n",
       "      <td>False</td>\n",
       "      <td>3.641368</td>\n",
       "      <td>-0.145693</td>\n",
       "    </tr>\n",
       "  </tbody>\n",
       "</table>\n",
       "<p>5 rows × 21 columns</p>\n",
       "</div>"
      ],
      "text/plain": [
       "            APOGEE_ID  fieldID      glon      glat         s    Japp    Kapp  \\\n",
       "1  2M00000002+7417074     5046  2.083955  0.205377  3.635099   8.597   7.667   \n",
       "2  2M00000019-1924498     5071  1.106437 -1.324818  0.248455  11.074  10.740   \n",
       "3  2M00000032+5737103     4264  2.025723 -0.079673  0.812791  10.905  10.635   \n",
       "4  2M00000032+5737103     4424  2.025723 -0.079673  0.812791  10.905  10.635   \n",
       "5  2M00000068+5710233     4264  2.024183 -0.087311  0.745545  10.664  10.132   \n",
       "\n",
       "     Happ  apogee_m_h         dm    ...          par  log10age      mass  \\\n",
       "1   7.314   -0.068105  12.801202    ...     0.275633  0.901988  1.090921   \n",
       "2  10.670   -0.182092   6.979364    ...     4.025543  0.654352  0.866900   \n",
       "3  10.483   -0.270533   9.559009    ...     1.225693  0.224728  1.618856   \n",
       "4  10.483   -0.285743   9.559009    ...     1.225693  0.224728  1.618856   \n",
       "5  10.018   -0.122799   9.359217    ...     1.343549  0.561265  1.315703   \n",
       "\n",
       "          Z          R       phi         z   flag    ageGyr        mh  \n",
       "1 -0.054262  10.418575 -0.302025  0.758312  False  7.979728 -0.054262  \n",
       "2 -0.184686   8.173496 -0.006618 -0.227022  False  4.511827 -0.184686  \n",
       "3 -0.253530   8.587034 -0.084856 -0.050081  False  1.677753 -0.253530  \n",
       "4 -0.253530   8.587034 -0.084856 -0.050081  False  1.677753 -0.253530  \n",
       "5 -0.145693   8.551543 -0.078154 -0.050456  False  3.641368 -0.145693  \n",
       "\n",
       "[5 rows x 21 columns]"
      ]
     },
     "execution_count": 11,
     "metadata": {},
     "output_type": "execute_result"
    }
   ],
   "source": [
    "df.head()"
   ]
  },
  {
   "cell_type": "code",
   "execution_count": 47,
   "metadata": {
    "collapsed": true
   },
   "outputs": [
    {
     "data": {
      "text/plain": [
       "<matplotlib.text.Text at 0x7efd7b4ecad0>"
      ]
     },
     "execution_count": 47,
     "metadata": {},
     "output_type": "execute_result"
    },
    {
     "data": {
      "image/png": "[encoded data removed]",
      "text/plain": [
       "<matplotlib.figure.Figure at 0x7efd9d9303d0>"
      ]
     },
     "metadata": {},
     "output_type": "display_data"
    }
   ],
   "source": [
    "# Check histograms are as expected\n",
    "fig = plt.figure(figsize=(20, 20))\n",
    "\n",
    "ax=plt.subplot(221)\n",
    "_=plt.hist(df.ageGyr[pd.notnull(df.ageGyr)], bins=30)\n",
    "plt.title('ageGyr')\n",
    "\n",
    "ax=plt.subplot(222)\n",
    "_=plt.hist(df.mh[pd.notnull(df.mh)], bins=30)\n",
    "plt.title('mh')\n",
    "\n",
    "ax=plt.subplot(223)\n",
    "_=plt.hist(df.log10age[pd.notnull(df.log10age)], bins=30)\n",
    "plt.title('logage')\n",
    "\n",
    "ax=plt.subplot(224)\n",
    "_=plt.hist(df.apogee_m_h[pd.notnull(df.apogee_m_h) & (df.apogee_m_h>-10)], bins=30)\n",
    "plt.title('mh nn')"
   ]
  },
  {
   "cell_type": "code",
   "execution_count": 48,
   "metadata": {
    "collapsed": true
   },
   "outputs": [
    {
     "data": {
      "text/plain": [
       "(277371,\n",
       " 215081,\n",
       " 224686,\n",
       " 224686,\n",
       " 224686,\n",
       " 222527,\n",
       " 229285,\n",
       " 276430,\n",
       " 276440,\n",
       " 277370)"
      ]
     },
     "execution_count": 48,
     "metadata": {},
     "output_type": "execute_result"
    }
   ],
   "source": [
    "# Lengths of dataframe with various cuts applied\n",
    "lengths = (len(df), len(df[~df.flag]), \n",
    "           len(df[pd.notnull(df.ageGyr)]), len(df[pd.notnull(df.mass)]), len(df[pd.notnull(df.Z)]), len(df[pd.notnull(df.s)]),\n",
    "            len(df[pd.notnull(df.apogee_m_h) & (df.apogee_m_h>-5)]), \n",
    "            len(df[pd.notnull(df.Happ) & (df.Happ>-5)]), \n",
    "            len(df[pd.notnull(df.Japp) & (df.Japp>-5)]), \n",
    "            len(df[pd.notnull(df.Kapp) & (df.Kapp>-5)]))\n",
    "\n",
    "# Drop nan values for age and distance and only use flag==False\n",
    "df = df[pd.notnull(df.ageGyr) & pd.notnull(df.s) & (~df.flag)]\n",
    "# Only take stars which have normal magnitudes (bad values are -10000)\n",
    "magcon = (df.Japp<-5000)|(df.Kapp<-5000)|(df.Happ<-5000)\n",
    "df = df[~magcon]\n",
    "\n",
    "# Display lengths of various filters\n",
    "lengths, len(df)"
   ]
  },
  {
   "cell_type": "code",
   "execution_count": 50,
   "metadata": {
    "collapsed": true
   },
   "outputs": [
    {
     "data": {
      "text/html": [
       "<div>\n",
       "<style>\n",
       "    .dataframe thead tr:only-child th {\n",
       "        text-align: right;\n",
       "    }\n",
       "\n",
       "    .dataframe thead th {\n",
       "        text-align: left;\n",
       "    }\n",
       "\n",
       "    .dataframe tbody tr th {\n",
       "        vertical-align: top;\n",
       "    }\n",
       "</style>\n",
       "<table border=\"1\" class=\"dataframe\">\n",
       "  <thead>\n",
       "    <tr style=\"text-align: right;\">\n",
       "      <th></th>\n",
       "      <th>APOGEE_ID</th>\n",
       "      <th>fieldID</th>\n",
       "      <th>glon</th>\n",
       "      <th>glat</th>\n",
       "      <th>s</th>\n",
       "      <th>Japp</th>\n",
       "      <th>Kapp</th>\n",
       "      <th>Happ</th>\n",
       "      <th>apogee_m_h</th>\n",
       "      <th>dm</th>\n",
       "      <th>...</th>\n",
       "      <th>par</th>\n",
       "      <th>log10age</th>\n",
       "      <th>mass</th>\n",
       "      <th>Z</th>\n",
       "      <th>R</th>\n",
       "      <th>phi</th>\n",
       "      <th>z</th>\n",
       "      <th>flag</th>\n",
       "      <th>ageGyr</th>\n",
       "      <th>mh</th>\n",
       "    </tr>\n",
       "  </thead>\n",
       "  <tbody>\n",
       "    <tr>\n",
       "      <th>1</th>\n",
       "      <td>2M00000002+7417074</td>\n",
       "      <td>5046</td>\n",
       "      <td>2.083955</td>\n",
       "      <td>0.205377</td>\n",
       "      <td>3.635099</td>\n",
       "      <td>8.597</td>\n",
       "      <td>7.667</td>\n",
       "      <td>7.314</td>\n",
       "      <td>-0.068105</td>\n",
       "      <td>12.801202</td>\n",
       "      <td>...</td>\n",
       "      <td>0.275633</td>\n",
       "      <td>0.901988</td>\n",
       "      <td>1.090921</td>\n",
       "      <td>-0.054262</td>\n",
       "      <td>10.418575</td>\n",
       "      <td>-0.302025</td>\n",
       "      <td>0.758312</td>\n",
       "      <td>False</td>\n",
       "      <td>7.979728</td>\n",
       "      <td>-0.054262</td>\n",
       "    </tr>\n",
       "    <tr>\n",
       "      <th>2</th>\n",
       "      <td>2M00000019-1924498</td>\n",
       "      <td>5071</td>\n",
       "      <td>1.106437</td>\n",
       "      <td>-1.324818</td>\n",
       "      <td>0.248455</td>\n",
       "      <td>11.074</td>\n",
       "      <td>10.740</td>\n",
       "      <td>10.670</td>\n",
       "      <td>-0.182092</td>\n",
       "      <td>6.979364</td>\n",
       "      <td>...</td>\n",
       "      <td>4.025543</td>\n",
       "      <td>0.654352</td>\n",
       "      <td>0.866900</td>\n",
       "      <td>-0.184686</td>\n",
       "      <td>8.173496</td>\n",
       "      <td>-0.006618</td>\n",
       "      <td>-0.227022</td>\n",
       "      <td>False</td>\n",
       "      <td>4.511827</td>\n",
       "      <td>-0.184686</td>\n",
       "    </tr>\n",
       "    <tr>\n",
       "      <th>3</th>\n",
       "      <td>2M00000032+5737103</td>\n",
       "      <td>4264</td>\n",
       "      <td>2.025723</td>\n",
       "      <td>-0.079673</td>\n",
       "      <td>0.812791</td>\n",
       "      <td>10.905</td>\n",
       "      <td>10.635</td>\n",
       "      <td>10.483</td>\n",
       "      <td>-0.270533</td>\n",
       "      <td>9.559009</td>\n",
       "      <td>...</td>\n",
       "      <td>1.225693</td>\n",
       "      <td>0.224728</td>\n",
       "      <td>1.618856</td>\n",
       "      <td>-0.253530</td>\n",
       "      <td>8.587034</td>\n",
       "      <td>-0.084856</td>\n",
       "      <td>-0.050081</td>\n",
       "      <td>False</td>\n",
       "      <td>1.677753</td>\n",
       "      <td>-0.253530</td>\n",
       "    </tr>\n",
       "    <tr>\n",
       "      <th>4</th>\n",
       "      <td>2M00000032+5737103</td>\n",
       "      <td>4424</td>\n",
       "      <td>2.025723</td>\n",
       "      <td>-0.079673</td>\n",
       "      <td>0.812791</td>\n",
       "      <td>10.905</td>\n",
       "      <td>10.635</td>\n",
       "      <td>10.483</td>\n",
       "      <td>-0.285743</td>\n",
       "      <td>9.559009</td>\n",
       "      <td>...</td>\n",
       "      <td>1.225693</td>\n",
       "      <td>0.224728</td>\n",
       "      <td>1.618856</td>\n",
       "      <td>-0.253530</td>\n",
       "      <td>8.587034</td>\n",
       "      <td>-0.084856</td>\n",
       "      <td>-0.050081</td>\n",
       "      <td>False</td>\n",
       "      <td>1.677753</td>\n",
       "      <td>-0.253530</td>\n",
       "    </tr>\n",
       "    <tr>\n",
       "      <th>5</th>\n",
       "      <td>2M00000068+5710233</td>\n",
       "      <td>4264</td>\n",
       "      <td>2.024183</td>\n",
       "      <td>-0.087311</td>\n",
       "      <td>0.745545</td>\n",
       "      <td>10.664</td>\n",
       "      <td>10.132</td>\n",
       "      <td>10.018</td>\n",
       "      <td>-0.122799</td>\n",
       "      <td>9.359217</td>\n",
       "      <td>...</td>\n",
       "      <td>1.343549</td>\n",
       "      <td>0.561265</td>\n",
       "      <td>1.315703</td>\n",
       "      <td>-0.145693</td>\n",
       "      <td>8.551543</td>\n",
       "      <td>-0.078154</td>\n",
       "      <td>-0.050456</td>\n",
       "      <td>False</td>\n",
       "      <td>3.641368</td>\n",
       "      <td>-0.145693</td>\n",
       "    </tr>\n",
       "  </tbody>\n",
       "</table>\n",
       "<p>5 rows × 21 columns</p>\n",
       "</div>"
      ],
      "text/plain": [
       "            APOGEE_ID  fieldID      glon      glat         s    Japp    Kapp  \\\n",
       "1  2M00000002+7417074     5046  2.083955  0.205377  3.635099   8.597   7.667   \n",
       "2  2M00000019-1924498     5071  1.106437 -1.324818  0.248455  11.074  10.740   \n",
       "3  2M00000032+5737103     4264  2.025723 -0.079673  0.812791  10.905  10.635   \n",
       "4  2M00000032+5737103     4424  2.025723 -0.079673  0.812791  10.905  10.635   \n",
       "5  2M00000068+5710233     4264  2.024183 -0.087311  0.745545  10.664  10.132   \n",
       "\n",
       "     Happ  apogee_m_h         dm    ...          par  log10age      mass  \\\n",
       "1   7.314   -0.068105  12.801202    ...     0.275633  0.901988  1.090921   \n",
       "2  10.670   -0.182092   6.979364    ...     4.025543  0.654352  0.866900   \n",
       "3  10.483   -0.270533   9.559009    ...     1.225693  0.224728  1.618856   \n",
       "4  10.483   -0.285743   9.559009    ...     1.225693  0.224728  1.618856   \n",
       "5  10.018   -0.122799   9.359217    ...     1.343549  0.561265  1.315703   \n",
       "\n",
       "          Z          R       phi         z   flag    ageGyr        mh  \n",
       "1 -0.054262  10.418575 -0.302025  0.758312  False  7.979728 -0.054262  \n",
       "2 -0.184686   8.173496 -0.006618 -0.227022  False  4.511827 -0.184686  \n",
       "3 -0.253530   8.587034 -0.084856 -0.050081  False  1.677753 -0.253530  \n",
       "4 -0.253530   8.587034 -0.084856 -0.050081  False  1.677753 -0.253530  \n",
       "5 -0.145693   8.551543 -0.078154 -0.050456  False  3.641368 -0.145693  \n",
       "\n",
       "[5 rows x 21 columns]"
      ]
     },
     "execution_count": 50,
     "metadata": {},
     "output_type": "execute_result"
    }
   ],
   "source": [
    "df.head()"
   ]
  },
  {
   "cell_type": "code",
   "execution_count": 55,
   "metadata": {
    "collapsed": true
   },
   "outputs": [
    {
     "data": {
      "text/plain": [
       "<matplotlib.text.Text at 0x7efd7aec0310>"
      ]
     },
     "execution_count": 55,
     "metadata": {},
     "output_type": "execute_result"
    },
    {
     "data": {
      "image/png": "[encoded data removed]",
      "text/plain": [
       "<matplotlib.figure.Figure at 0x7efd7b0af290>"
      ]
     },
     "metadata": {},
     "output_type": "display_data"
    }
   ],
   "source": [
    "# Check mag and colour histograms are as expected\n",
    "fig = plt.figure(figsize=(20, 10))\n",
    "\n",
    "#df = pd.read_csv(fileinfo.spectro_path)\n",
    "mag = df.Happ\n",
    "colour = df.Japp - df.Kapp\n",
    "\n",
    "ax=plt.subplot(121)\n",
    "_=plt.hist(mag, bins=30)\n",
    "plt.title('mag')\n",
    "\n",
    "ax=plt.subplot(122)\n",
    "_=plt.hist(colour, bins=30)\n",
    "plt.title('colour')"
   ]
  },
  {
   "cell_type": "code",
   "execution_count": 56,
   "metadata": {},
   "outputs": [],
   "source": [
    "# Save to spectro file\n",
    "df.to_csv(fileinfo.spectro_path, index=False)"
   ]
  },
  {
   "cell_type": "markdown",
   "metadata": {},
   "source": [
    "### Field assignment\n",
    "Assigning photometric stars to correct fields"
   ]
  },
  {
   "cell_type": "code",
   "execution_count": 4,
   "metadata": {},
   "outputs": [],
   "source": [
    "from seestar import FieldAssignment\n",
    "from seestar import ArrayMechanics\n",
    "from seestar import AngleDisks"
   ]
  },
  {
   "cell_type": "code",
   "execution_count": 48,
   "metadata": {},
   "outputs": [],
   "source": [
    "pointings = pd.read_csv('/media/andy/37E3-0F91/Research/SF/SFdata/APOGEE_data/APOGEE_fields.csv')"
   ]
  },
  {
   "cell_type": "code",
   "execution_count": 49,
   "metadata": {},
   "outputs": [
    {
     "name": "stdout",
     "output_type": "stream",
     "text": [
      "21...248472/258475"
     ]
    }
   ],
   "source": [
    "Nsample = FieldAssignment.iterLimit(len(pointings))\n",
    "\n",
    "df = ArrayMechanics.AnglePointsToPointingsMatrix(df, pointings, 'glon', 'glat', 'halfangle',\n",
    "                                                   IDtype=float, progress=True, Nsample=Nsample)"
   ]
  },
  {
   "cell_type": "markdown",
   "metadata": {},
   "source": [
    "# Photometric - 2MASS"
   ]
  },
  {
   "cell_type": "code",
   "execution_count": 6,
   "metadata": {},
   "outputs": [],
   "source": [
    "files = [str(i*10)+\"_\"+str((i+1)*10) for i in range(24)]\n",
    "files.extend([str(i*5)+\"_\"+str((i+1)*5) for i in range(24*2, 30*2)])\n",
    "files.extend([str(i*10)+\"_\"+str((i+1)*10) for i in range(30, 36)])\n",
    "files = ['/media/andy/UUI/Research/SF/SFdata/2MASS/2MASSfixed/2MASS_'+filen+'.csv.gz' for filen in files]"
   ]
  },
  {
   "cell_type": "code",
   "execution_count": 41,
   "metadata": {},
   "outputs": [
    {
     "name": "stdout",
     "output_type": "stream",
     "text": [
      "2...2MASS_210_220.csv.gz...20374829"
     ]
    }
   ],
   "source": [
    "# Correct 2MASS files to have galactic longitude and latitude in radians\n",
    "\n",
    "ErrorWarning()\n",
    "#This is now in the 2MASS folder, please can we ditch it!\n",
    "Nimport = FieldAssignment.importLimit(files)\n",
    "\n",
    "Nstars = 0\n",
    "i = 0\n",
    "for filepath in files[20:22]:\n",
    "    i += 1\n",
    "     \n",
    "    dtypes = {'j':float, 'h':float, 'k':float}\n",
    "        \n",
    "    j = 0\n",
    "    for df in pd.read_csv(filepath, chunksize=Nimport, low_memory=False):\n",
    "        \n",
    "        fname = filepath.split('/')[-1]\n",
    "    \n",
    "        j += 1\n",
    "        Nstars += len(df) \n",
    "        sys.stdout.write('\\r'+str(i)+'...'+fname+'...'+str(Nstars))\n",
    "    \n",
    "        df.RA *= np.pi/180\n",
    "        df.Dec *= np.pi/180\n",
    "\n",
    "        df['glon'], df['glat'] = AngleDisks.EquatToGal(df.RA, df.Dec)\n",
    "        \n",
    "        if j == 0:\n",
    "            df.to_csv('/media/andy/UUI/Research/SF/SFdata/2MASS/2MASSgalactic/'+fname, \n",
    "                      header=True, index=False, compression='gzip', mode='w')\n",
    "        else:\n",
    "            df.to_csv('/media/andy/UUI/Research/SF/SFdata/2MASS/2MASSgalactic/'+fname, \n",
    "                      header=False, index=False, compression='gzip', mode='a')\n",
    "            \n",
    "        del(df)\n",
    "        gc.collect()"
   ]
  },
  {
   "cell_type": "markdown",
   "metadata": {},
   "source": [
    "# Apogee field assignment"
   ]
  },
  {
   "cell_type": "code",
   "execution_count": 3,
   "metadata": {},
   "outputs": [],
   "source": [
    "files = [str(i*10)+\"_\"+str((i+1)*10) for i in range(24)]\n",
    "files.extend([str(i*5)+\"_\"+str((i+1)*5) for i in range(24*2, 30*2)])\n",
    "files.extend([str(i*10)+\"_\"+str((i+1)*10) for i in range(30, 36)])\n",
    "files = ['/media/andy/UUI/Research/SF/SFdata/2MASS/2MASSgalactic/2MASS_'+filen+'.csv.gz' for filen in files]"
   ]
  },
  {
   "cell_type": "code",
   "execution_count": 6,
   "metadata": {},
   "outputs": [
    {
     "name": "stdout",
     "output_type": "stream",
     "text": [
      "Checking photometric catalogue file structure:\n",
      "Checking /media/andy/UUI/Research/SF/SFdata/2MASS/2MASSgalactic/2MASS_90_100.csv.gz:\n",
      "Column headers are ['RA' 'Dec' 'j' 'h' 'k' 'glon' 'glat'], \n",
      "but photo_coords suggests ['glon', 'glat', 'Japp', 'Kapp', 'Happ'], \n",
      "please resolve this.\n",
      "\n",
      "Tests on the files have raised some warnings. Would you like to continue anyway? (y/n)y\n",
      "\n",
      "Total number of stars 470000000.\n",
      "Importing 5310850 stars at a time. Iterating 42264 stars at a time.\n",
      "Field file path for field 4394: /media/andy/37E3-0F91/Research/SF/SFdata/Apogee_new/photometric/4394.csv\n",
      "Clearing field files...\n",
      "...done\n",
      "\n",
      "File: 2MASS_340_350.csv.gz  Complete: 465745510/470000000(99.095%)  Time: 1020.9m  Projected: 17h10m...Saving: 141/141        \n",
      "Total stars assigned to fields: 34199298.\n",
      "Dictionary of stars per field in fileinfo.photo_field_starcount.\n"
     ]
    },
    {
     "data": {
      "text/plain": [
       "<seestar.FieldAssignment.FieldAssignment instance at 0x7f7c00665638>"
      ]
     },
     "execution_count": 6,
     "metadata": {},
     "output_type": "execute_result"
    }
   ],
   "source": [
    "FieldAssignment.FieldAssignment(fileinfo_path, files)"
   ]
  },
  {
   "cell_type": "code",
   "execution_count": 11,
   "metadata": {},
   "outputs": [
    {
     "data": {
      "text/plain": [
       "{2249: 44531,\n",
       " 2308: 10013,\n",
       " 4104: 93798,\n",
       " 4106: 805092,\n",
       " 4240: 795804,\n",
       " 4241: 583455,\n",
       " 4245: 442999,\n",
       " 4247: 545288,\n",
       " 4254: 300311,\n",
       " 4259: 28905,\n",
       " 4268: 664839,\n",
       " 4269: 416620,\n",
       " 4279: 607585,\n",
       " 4280: 784506,\n",
       " 4281: 562322,\n",
       " 4305: 377572,\n",
       " 4306: 338259,\n",
       " 4310: 115723,\n",
       " 4312: 656568,\n",
       " 4313: 610031,\n",
       " 4314: 555672,\n",
       " 4329: 244166,\n",
       " 4330: 402189,\n",
       " 4332: 279946,\n",
       " 4334: 282581,\n",
       " 4335: 62191,\n",
       " 4336: 92004,\n",
       " 4337: 39392,\n",
       " 4338: 98897,\n",
       " 4339: 382622,\n",
       " 4340: 377899,\n",
       " 4341: 76536,\n",
       " 4342: 300077,\n",
       " 4343: 73166,\n",
       " 4346: 277940,\n",
       " 4347: 268813,\n",
       " 4348: 76773,\n",
       " 4349: 76022,\n",
       " 4350: 158989,\n",
       " 4351: 415476,\n",
       " 4352: 335183,\n",
       " 4353: 317840,\n",
       " 4354: 331182,\n",
       " 4355: 322459,\n",
       " 4356: 398813,\n",
       " 4357: 391601,\n",
       " 4358: 379732,\n",
       " 4359: 46233,\n",
       " 4362: 215441,\n",
       " 4363: 291044,\n",
       " 4364: 290310,\n",
       " 4365: 85634,\n",
       " 4366: 83738,\n",
       " 4367: 219668,\n",
       " 4368: 218637,\n",
       " 4370: 290197,\n",
       " 4373: 278537,\n",
       " 4374: 310384,\n",
       " 4375: 303978,\n",
       " 4376: 310237,\n",
       " 4377: 269440,\n",
       " 4378: 303795,\n",
       " 4379: 294793,\n",
       " 4380: 291580,\n",
       " 4384: 334638,\n",
       " 4386: 394490,\n",
       " 4388: 294953,\n",
       " 4389: 289863,\n",
       " 4390: 291861,\n",
       " 4392: 235398,\n",
       " 4393: 236015,\n",
       " 4394: 419699,\n",
       " 4398: 311606,\n",
       " 4416: 170791,\n",
       " 4421: 198517,\n",
       " 4429: 126130,\n",
       " 4456: 285392,\n",
       " 4457: 279166,\n",
       " 4458: 389253,\n",
       " 4467: 511920,\n",
       " 4468: 414494,\n",
       " 4469: 374575,\n",
       " 4470: 579718,\n",
       " 4541: 458430,\n",
       " 4543: 285736,\n",
       " 4546: 227870,\n",
       " 4560: 111200,\n",
       " 4611: 39281,\n",
       " 4613: 31644,\n",
       " 4614: 30559,\n",
       " 4615: 27529,\n",
       " 4616: 151983,\n",
       " 5029: 716752,\n",
       " 5039: 293363,\n",
       " 5059: 178181,\n",
       " 5061: 186569,\n",
       " 5063: 122675,\n",
       " 5068: 19053,\n",
       " 5070: 163965,\n",
       " 5074: 119506,\n",
       " 5092: 24031,\n",
       " 5093: 47266,\n",
       " 5096: 223883,\n",
       " 5098: 8451,\n",
       " 5109: 8979,\n",
       " 5110: 39783,\n",
       " 5114: 96126,\n",
       " 5118: 12380,\n",
       " 5119: 11340,\n",
       " 5120: 399882,\n",
       " 5121: 12264,\n",
       " 5122: 9106,\n",
       " 5123: 9680,\n",
       " 5124: 8343,\n",
       " 5125: 19059,\n",
       " 5128: 450933,\n",
       " 5129: 243467,\n",
       " 5130: 289539,\n",
       " 5131: 23633,\n",
       " 5132: 333487,\n",
       " 5147: 315622,\n",
       " 5148: 19325,\n",
       " 5152: 178905,\n",
       " 5156: 312346,\n",
       " 5159: 161586,\n",
       " 5165: 8694,\n",
       " 5169: 65338,\n",
       " 5170: 59156,\n",
       " 5178: 9188,\n",
       " 5179: 12771,\n",
       " 5180: 9109,\n",
       " 5181: 12139,\n",
       " 5182: 13346,\n",
       " 5183: 12306,\n",
       " 5184: 15429,\n",
       " 5185: 12628,\n",
       " 5186: 10218,\n",
       " 5187: 326370,\n",
       " 5188: 20181,\n",
       " 5201: 339133,\n",
       " 5203: 805073}"
      ]
     },
     "execution_count": 11,
     "metadata": {},
     "output_type": "execute_result"
    }
   ],
   "source": [
    "fileinfo.photo_field_starcount"
   ]
  },
  {
   "cell_type": "code",
   "execution_count": 4,
   "metadata": {},
   "outputs": [],
   "source": [
    "import pandas as pd"
   ]
  },
  {
   "cell_type": "code",
   "execution_count": 5,
   "metadata": {},
   "outputs": [],
   "source": [
    "df = pd.read_csv(files[0], nrows=100)"
   ]
  },
  {
   "cell_type": "code",
   "execution_count": 10,
   "metadata": {},
   "outputs": [
    {
     "data": {
      "text/html": [
       "<div>\n",
       "<style>\n",
       "    .dataframe thead tr:only-child th {\n",
       "        text-align: right;\n",
       "    }\n",
       "\n",
       "    .dataframe thead th {\n",
       "        text-align: left;\n",
       "    }\n",
       "\n",
       "    .dataframe tbody tr th {\n",
       "        vertical-align: top;\n",
       "    }\n",
       "</style>\n",
       "<table border=\"1\" class=\"dataframe\">\n",
       "  <thead>\n",
       "    <tr style=\"text-align: right;\">\n",
       "      <th></th>\n",
       "      <th>RA</th>\n",
       "      <th>Dec</th>\n",
       "      <th>j</th>\n",
       "      <th>h</th>\n",
       "      <th>k</th>\n",
       "      <th>glon</th>\n",
       "      <th>glat</th>\n",
       "    </tr>\n",
       "  </thead>\n",
       "  <tbody>\n",
       "  </tbody>\n",
       "</table>\n",
       "</div>"
      ],
      "text/plain": [
       "Empty DataFrame\n",
       "Columns: [RA, Dec, j, h, k, glon, glat]\n",
       "Index: []"
      ]
     },
     "execution_count": 10,
     "metadata": {},
     "output_type": "execute_result"
    }
   ],
   "source": [
    "df.iloc[100:110]"
   ]
  },
  {
   "cell_type": "code",
   "execution_count": 14,
   "metadata": {},
   "outputs": [
    {
     "data": {
      "text/plain": [
       "1.0"
      ]
     },
     "execution_count": 14,
     "metadata": {},
     "output_type": "execute_result"
    }
   ],
   "source": [
    "round(float(3)/2.5)"
   ]
  },
  {
   "cell_type": "code",
   "execution_count": 18,
   "metadata": {},
   "outputs": [
    {
     "data": {
      "text/plain": [
       "5"
      ]
     },
     "execution_count": 18,
     "metadata": {},
     "output_type": "execute_result"
    }
   ],
   "source": [
    "11/2"
   ]
  },
  {
   "cell_type": "code",
   "execution_count": null,
   "metadata": {},
   "outputs": [],
   "source": []
  }
 ],
 "metadata": {
  "kernelspec": {
   "display_name": "Python 2",
   "language": "python",
   "name": "python2"
  },
  "language_info": {
   "codemirror_mode": {
    "name": "ipython",
    "version": 2
   },
   "file_extension": ".py",
   "mimetype": "text/x-python",
   "name": "python",
   "nbconvert_exporter": "python",
   "pygments_lexer": "ipython2",
   "version": "2.7.14"
  }
 },
 "nbformat": 4,
 "nbformat_minor": 2
}
