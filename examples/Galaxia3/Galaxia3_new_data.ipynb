{
 "cells": [
  {
   "cell_type": "markdown",
   "metadata": {},
   "source": [
    "# 1) Galaxia 3-field data\n",
    "\n",
    "* [Check fileinfo for the Galaxia data](#check)\n",
    "* [Sort and save the field pointings file](#field)\n",
    "* [Run field assignment on Galaxia data](#fa)\n",
    "* [Generate the isochrone calculator](#iso)\n",
    "* [Correct photometric files](#photo)\n",
    "* [Correct spectroscopic files](#spectro)\n",
    "* [Apply selection function criteria](#SF)\n",
    "\n",
    "Saved version of the repository online is [here](https://drive.google.com/file/d/1XLFX1uRS3INFsdL3s889SuBtw1k3W-11/view?usp=sharing)\n",
    "\n",
    "Run \n",
    "```tar -xvf Galaxia3_new.tar.gz```\n",
    "to untar and unzip file."
   ]
  },
  {
   "cell_type": "code",
   "execution_count": 1,
   "metadata": {
    "collapsed": true
   },
   "outputs": [],
   "source": [
    "# autoreload modules when files have been altered\n",
    "%load_ext autoreload\n",
    "%autoreload 2\n",
    "\n",
    "import sys, os\n",
    "import ebf\n",
    "import numpy as np\n",
    "import pandas as pd\n",
    "import dill\n",
    "\n",
    "%matplotlib inline\n",
    "from matplotlib import pyplot as plt\n",
    "import matplotlib\n",
    "from matplotlib.colors import LogNorm\n",
    "font = {'family' : 'normal',\n",
    "        'weight' : 'bold',\n",
    "        'size'   : 30}\n",
    "matplotlib.rc('font', **font)\n",
    "\n",
    "import seaborn as sns\n",
    "rc={'font.size': 16, 'axes.labelsize': 16, 'legend.fontsize': 12,\n",
    "    'axes.titlesize': 18, 'xtick.labelsize': 12, 'ytick.labelsize': 12}\n",
    "sns.set(font=\"serif\",style=\"white\",rc=rc)\n",
    "\n",
    "def ErrorWarning():\n",
    "    raise ValueError(\"Wait, don't run this, you don't want to!\")"
   ]
  },
  {
   "cell_type": "markdown",
   "metadata": {},
   "source": [
    "<a name=\"check\"></a>\n",
    "# File info"
   ]
  },
  {
   "cell_type": "code",
   "execution_count": 2,
   "metadata": {
    "collapsed": true
   },
   "outputs": [],
   "source": [
    "from seestar import surveyInfoPickler\n",
    "fileinfo = surveyInfoPickler.surveyInformation('PATH/Galaxia3_new/Galaxia3_new_fileinfo.pickle')"
   ]
  },
  {
   "cell_type": "code",
   "execution_count": 3,
   "metadata": {
    "collapsed": false
   },
   "outputs": [
    {
     "name": "stdout",
     "output_type": "stream",
     "text": [
      "1) Checking file paths exist:\n",
      "OK\n",
      "\n",
      "2) Checking spectroscopic catalogue file structure:\n",
      "OK\n",
      "\n",
      "3) Checking field information file structure:\n",
      "(make sure halfangle is in units of radians.)\n",
      "OK\n",
      "\n",
      "4) Checking photometric catalogue file structure:\n",
      "Checking solutionF1.csv:\n",
      "OK\n",
      "\n",
      "5) Checking selection function pickle paths exist:\n",
      "OK\n",
      "\n",
      "6) Checking isochrone pickle files exist:\n",
      "The premade interpolants (isochrone_interpolantinstances.pickle) will be automatically be used to calculate the selection function.\n"
     ]
    }
   ],
   "source": [
    "fileinfo.testFiles()"
   ]
  },
  {
   "cell_type": "code",
   "execution_count": 5,
   "metadata": {
    "collapsed": true
   },
   "outputs": [],
   "source": [
    "fileinfo.save()"
   ]
  },
  {
   "cell_type": "markdown",
   "metadata": {},
   "source": [
    "<a name=\"field\"></a>\n",
    "# Field info file"
   ]
  },
  {
   "cell_type": "code",
   "execution_count": 16,
   "metadata": {
    "collapsed": true
   },
   "outputs": [],
   "source": [
    "df = pd.read_csv('PATH/Galaxia3/Galaxia3_fieldinfo.csv')\n",
    "df.glon *= np.pi/180\n",
    "df.glat *= np.pi/180\n",
    "df.drop('Unnamed: 0', axis=1, inplace=True)\n",
    "df.rename(index=str, columns={'hmin':'Magmin', 'hmax':'Magmax', 'cmin':'Colmin', 'cmax':'Colmax'}, inplace=True)\n",
    "df.to_csv(fileinfo.field_path, index=False)"
   ]
  },
  {
   "cell_type": "markdown",
   "metadata": {},
   "source": [
    "<a name=\"fa\"></a>\n",
    "# Field Assignment"
   ]
  },
  {
   "cell_type": "code",
   "execution_count": 2,
   "metadata": {
    "collapsed": true
   },
   "outputs": [],
   "source": [
    "from seestar import FieldAssignment"
   ]
  },
  {
   "cell_type": "code",
   "execution_count": 24,
   "metadata": {
    "collapsed": false
   },
   "outputs": [
    {
     "name": "stdout",
     "output_type": "stream",
     "text": [
      "Checking photometric catalogue file structure:\n",
      "Checking /media/andy/UUI/Research/SF/SFdata/Galaxia/Galaxia3/Galaxy3_fieldassign_2.csv:\n",
      "Datatype of column glon given as <type 'numpy.object_'> but is actually <type 'numpy.float64'>.\n",
      "Changed dtype to <type 'numpy.float64'>, run self.save() to keep these changes.\n",
      "Datatype of column glat given as <type 'numpy.object_'> but is actually <type 'numpy.float64'>.\n",
      "Changed dtype to <type 'numpy.float64'>, run self.save() to keep these changes.\n",
      "Datatype of column Japp given as <type 'numpy.object_'> but is actually <type 'numpy.float64'>.\n",
      "Changed dtype to <type 'numpy.float64'>, run self.save() to keep these changes.\n",
      "Datatype of column Kapp given as <type 'numpy.object_'> but is actually <type 'numpy.float64'>.\n",
      "Changed dtype to <type 'numpy.float64'>, run self.save() to keep these changes.\n",
      "Datatype of column Happ given as <type 'numpy.object_'> but is actually <type 'numpy.float64'>.\n",
      "Changed dtype to <type 'numpy.float64'>, run self.save() to keep these changes.\n",
      "Tests on the files have raised some warnings. Would you like to continue anyway? (y/n)y\n",
      "\n",
      "Counting total number of stars . . . . . . . . . . . . . . done\n",
      "Total number of stars 66853170.\n",
      "Importing 2443500.0 stars at a time. Iterating 2217211 stars at a time.\n",
      "Field file path for field 1.0: /media/andy/37E3-0F91/Research/SF/SFdata/Galaxia3_new/photometric/1.0.csv\n",
      "Clearing field files... ...done\n",
      "\n",
      "allsky file: Galaxy3_fieldassign_1.csv  Completion: 2443500/66853170(3.655%)  Time=0.2m  Projected: 0h5m          "
     ]
    },
    {
     "name": "stderr",
     "output_type": "stream",
     "text": [
      "/home/andy/Documents/Research/SF/GitRepo/seestar/FieldAssignment.py:205: SettingWithCopyWarning: \n",
      "A value is trying to be set on a copy of a slice from a DataFrame\n",
      "\n",
      "See the caveats in the documentation: http://pandas.pydata.org/pandas-docs/stable/indexing.html#indexing-view-versus-copy\n",
      "  df.drop('points', inplace=True, axis=1)\n"
     ]
    },
    {
     "name": "stdout",
     "output_type": "stream",
     "text": [
      "allsky file: Galaxy3_fieldassign_14.csv  Completion: 66853156/66853170(100.0%)  Time=12.8m  Projected: 0h12m           "
     ]
    }
   ],
   "source": [
    "fileinfo_path = 'PATH/Galaxia3_new/Galaxia3_new_fileinfo.pickle'\n",
    "# Galaxia 'photometric' files\n",
    "files = [\"PATH/Galaxia3/Galaxy3_fieldassign_\"+str(n)+\".csv\" for n in range(1, 15)]\n",
    "FA = FieldAssignment.FieldAssignment(fileinfo_path, files)\n",
    "# ncores=1: SF will run the Serial version (not use multiprocessing)\n",
    "# ncores>1: Parallel version on the number of cores given\n",
    "# When running in parallel, the field counting can mess up a bit because the pools get disordered\n",
    "\n",
    "# You can also specify memory= as an additional kwargs\n",
    "# If memory given: its currently set up to use 5% of given memory\n",
    "# If no memory kwarg given: It will use 5% of the memory available in the computer (not sure how this works on a cluser)"
   ]
  },
  {
   "cell_type": "markdown",
   "metadata": {},
   "source": [
    "<a name=\"iso\"></a>\n",
    "# Isochrone calculator (Just for Galaxia)"
   ]
  },
  {
   "cell_type": "code",
   "execution_count": 2,
   "metadata": {
    "collapsed": true
   },
   "outputs": [],
   "source": [
    "from seestar import IsochroneScaling"
   ]
  },
  {
   "cell_type": "code",
   "execution_count": 4,
   "metadata": {
    "collapsed": true
   },
   "outputs": [
    {
     "data": {
      "text/plain": [
       "('/media/andy/37E3-0F91/Research/SF/SFdata/Galaxia3_new/isochrones/stellarprop_parsecdefault_currentmass.dill',\n",
       " '/media/andy/37E3-0F91/Research/SF/SFdata/Galaxia3_new/isochrones/isochrone_interpolantinstances.pickle',\n",
       " '/media/andy/37E3-0F91/Research/SF/SFdata/Galaxia3_new/isochrones/isochrone_magnitudes.pickle')"
      ]
     },
     "execution_count": 4,
     "metadata": {},
     "output_type": "execute_result"
    }
   ],
   "source": [
    "fileinfo.iso_data_path, fileinfo.iso_interp_path, fileinfo.iso_mag_path"
   ]
  },
  {
   "cell_type": "code",
   "execution_count": 5,
   "metadata": {
    "collapsed": false
   },
   "outputs": [
    {
     "name": "stdout",
     "output_type": "stream",
     "text": [
      "/media/andy/37E3-0F91/Research/SF/SFdata/isoPARSEC/stellarprop_parsecdefault_currentmass.dill\n",
      "Undilling isochrone interpolants...\n",
      "...done.\n",
      "\n",
      "Scaled masses spacing: 235 / 353\r"
     ]
    },
    {
     "name": "stderr",
     "output_type": "stream",
     "text": [
      "/home/andy/anaconda2/lib/python2.7/site-packages/seestar-1.0-py2.7.egg/seestar/IsochroneScaling.py:639: RuntimeWarning: divide by zero encountered in double_scalars\n"
     ]
    },
    {
     "name": "stdout",
     "output_type": "stream",
     "text": [
      "Scaled masses spacing: 352 / 353\n",
      "Scaled masses points: 999 / 1000\n",
      "nage, nmh, nmass: 353, 54, 500\n",
      "((0.0, 13.220006551228417), (-2.2435283018867924, 0.5905283018867925), (0.0, 1.0))\n"
     ]
    }
   ],
   "source": [
    "ErrorWarning()\n",
    "IsoCalculator = IsochroneScaling.IntrinsicToObservable()\n",
    "iso_data = '.../isoPARSEC/stellarprop_parsecdefault_currentmass.dill'\n",
    "IsoCalculator.CreateFromIsochrones(iso_data)\n",
    "IsoCalculator.pickleColMag(fileinfo.iso_interp_path)"
   ]
  },
  {
   "cell_type": "code",
   "execution_count": 10,
   "metadata": {
    "collapsed": true
   },
   "outputs": [],
   "source": [
    "IsoCalculator = IsochroneScaling.IntrinsicToObservable()\n",
    "IsoCalculator.LoadColMag(fileinfo.iso_interp_path)"
   ]
  },
  {
   "cell_type": "markdown",
   "metadata": {},
   "source": [
    "<a name=\"photo\"></a>\n",
    "## Correct Photometric files"
   ]
  },
  {
   "cell_type": "code",
   "execution_count": 25,
   "metadata": {
    "collapsed": false
   },
   "outputs": [
    {
     "name": "stdout",
     "output_type": "stream",
     "text": [
      "(2625266, 1969303, 1969303)\n",
      "(8655, 7340, 7340)\n",
      "(8465, 7226, 7226)\n"
     ]
    }
   ],
   "source": [
    "pointings = pd.read_csv(fileinfo.field_path)\n",
    "for field in pointings.fieldID:\n",
    "    \n",
    "    filepath = os.path.join(fileinfo.photo_path, str(field))+'.csv'\n",
    "    \n",
    "    df = pd.read_csv(filepath)\n",
    "    \n",
    "    # Apparent magnitudes\n",
    "    df['j'], df['k'], df['h'] = IsoCalculator.AppMags(df.ageGyr, df.feh, df.smass, df.rad)\n",
    "    \n",
    "    stats =(len(df), len(df[pd.notnull(df.h)]), len(df[pd.notnull(df.j)]))\n",
    "    print(stats)\n",
    "    df = df[pd.notnull(df.h)]\n",
    "    \n",
    "    df = df[['fieldID', 'ageGyr', 'feh', 'smass', 'rad', 'glat', 'glon', 'j', 'k', 'h']]\n",
    "    \n",
    "    df.rename(index=str, columns={'feh':'mh', 'smass':'mass', 'rad':'s',\n",
    "                                      'j':'Japp', 'k':'Kapp', 'h':'Happ'}, inplace=True)\n",
    "    \n",
    "    df.to_csv(filepath, index=False)"
   ]
  },
  {
   "cell_type": "markdown",
   "metadata": {},
   "source": [
    "<a name=\"spectro\"></a>\n",
    "## Correct Spectroscopic files"
   ]
  },
  {
   "cell_type": "code",
   "execution_count": 16,
   "metadata": {
    "collapsed": false
   },
   "outputs": [
    {
     "name": "stdout",
     "output_type": "stream",
     "text": [
      "(8885, 6263, 6263)\n"
     ]
    }
   ],
   "source": [
    "ErrorWarning()\n",
    "# No longer using this because we need to do the selection criteria in the next cell.\n",
    "\n",
    "survey = pd.read_csv('PATH/Galaxia3/Galaxia3_survey.csv')\n",
    "\n",
    "survey['j'], survey['k'], survey['h'] = IsoCalculator.AppMags(survey.ageGyr, survey.feh, survey.smass, survey.rad)\n",
    "\n",
    "stats = (len(survey), len(survey[pd.notnull(survey.h)]), len(survey[pd.notnull(survey.j)]))\n",
    "print(stats)\n",
    "survey = survey[pd.notnull(survey.h)]\n",
    "\n",
    "survey = survey[['fieldid', 'ageGyr', 'feh', 'smass', 'rad', 'glat', 'glon', 'j', 'k', 'h']]\n",
    "\n",
    "survey.rename(index=str, columns={'fieldid':'fieldID', 'feh':'mh', 'smass':'mass', 'rad':'s',\n",
    "                                  'j':'Japp', 'k':'Kapp', 'h':'Happ'}, inplace=True)\n",
    "\n",
    "survey.glat *= np.pi/180\n",
    "survey.glon *= np.pi/180\n",
    "\n",
    "survey.to_csv(fileinfo.spectro_path, index=False)"
   ]
  },
  {
   "cell_type": "markdown",
   "metadata": {},
   "source": [
    "<a name=\"SF\"></a>\n",
    "## Selection criteria for spectroscpoic files"
   ]
  },
  {
   "cell_type": "code",
   "execution_count": 24,
   "metadata": {
    "collapsed": false
   },
   "outputs": [
    {
     "data": {
      "text/html": [
       "<div>\n",
       "<style>\n",
       "    .dataframe thead tr:only-child th {\n",
       "        text-align: right;\n",
       "    }\n",
       "\n",
       "    .dataframe thead th {\n",
       "        text-align: left;\n",
       "    }\n",
       "\n",
       "    .dataframe tbody tr th {\n",
       "        vertical-align: top;\n",
       "    }\n",
       "</style>\n",
       "<table border=\"1\" class=\"dataframe\">\n",
       "  <thead>\n",
       "    <tr style=\"text-align: right;\">\n",
       "      <th></th>\n",
       "      <th>glon</th>\n",
       "      <th>glat</th>\n",
       "      <th>SA</th>\n",
       "      <th>halfangle</th>\n",
       "      <th>fieldID</th>\n",
       "      <th>Magmin</th>\n",
       "      <th>Magmax</th>\n",
       "      <th>Colmin</th>\n",
       "      <th>Colmax</th>\n",
       "    </tr>\n",
       "  </thead>\n",
       "  <tbody>\n",
       "    <tr>\n",
       "      <th>0</th>\n",
       "      <td>0.523599</td>\n",
       "      <td>0.000000</td>\n",
       "      <td>12.565095</td>\n",
       "      <td>0.034907</td>\n",
       "      <td>1.0</td>\n",
       "      <td>8.0</td>\n",
       "      <td>13.5</td>\n",
       "      <td>0.5</td>\n",
       "      <td>NoLimit</td>\n",
       "    </tr>\n",
       "    <tr>\n",
       "      <th>1</th>\n",
       "      <td>0.523599</td>\n",
       "      <td>1.047198</td>\n",
       "      <td>12.565095</td>\n",
       "      <td>0.034907</td>\n",
       "      <td>2.0</td>\n",
       "      <td>8.0</td>\n",
       "      <td>13.5</td>\n",
       "      <td>0.5</td>\n",
       "      <td>NoLimit</td>\n",
       "    </tr>\n",
       "    <tr>\n",
       "      <th>2</th>\n",
       "      <td>0.523599</td>\n",
       "      <td>1.064651</td>\n",
       "      <td>12.565095</td>\n",
       "      <td>0.034907</td>\n",
       "      <td>3.0</td>\n",
       "      <td>8.0</td>\n",
       "      <td>13.5</td>\n",
       "      <td>0.5</td>\n",
       "      <td>NoLimit</td>\n",
       "    </tr>\n",
       "  </tbody>\n",
       "</table>\n",
       "</div>"
      ],
      "text/plain": [
       "       glon      glat         SA  halfangle  fieldID  Magmin  Magmax  Colmin  \\\n",
       "0  0.523599  0.000000  12.565095   0.034907      1.0     8.0    13.5     0.5   \n",
       "1  0.523599  1.047198  12.565095   0.034907      2.0     8.0    13.5     0.5   \n",
       "2  0.523599  1.064651  12.565095   0.034907      3.0     8.0    13.5     0.5   \n",
       "\n",
       "    Colmax  \n",
       "0  NoLimit  \n",
       "1  NoLimit  \n",
       "2  NoLimit  "
      ]
     },
     "execution_count": 24,
     "metadata": {},
     "output_type": "execute_result"
    }
   ],
   "source": [
    "pd.read_csv(fileinfo.field_path)"
   ]
  },
  {
   "cell_type": "code",
   "execution_count": 57,
   "metadata": {
    "collapsed": true
   },
   "outputs": [],
   "source": [
    "survey_df = pd.DataFrame()\n",
    "\n",
    "for index, row in pointings.iterrows():\n",
    "    \n",
    "    filepath = os.path.join(fileinfo.photo_path, str(row.fieldID))+'.csv'\n",
    "    fieldstars = pd.read_csv(filepath)\n",
    "    \n",
    "    colour = fieldstars.Japp - fieldstars.Kapp\n",
    "    Happ = fieldstars.Happ\n",
    "    fieldstars = fieldstars[(Happ>row.Magmin) & (Happ<row.Magmax) & (colour>row.Colmin)]\n",
    "    \n",
    "    if row.fieldID == 1.0: fraction = 0.02\n",
    "    else: fraction = 0.1\n",
    "        \n",
    "    rand_select = np.random.rand(len(fieldstars))\n",
    "    fieldstars = fieldstars[rand_select<fraction]\n",
    "    \n",
    "    fieldstars['fieldID'] = row.fieldID\n",
    "\n",
    "    survey_df = pd.concat((survey_df, fieldstars))\n",
    "    \n",
    "survey_df.to_csv(fileinfo.spectro_path, index=False)"
   ]
  }
 ],
 "metadata": {
  "kernelspec": {
   "display_name": "Python 2",
   "language": "python",
   "name": "python2"
  },
  "language_info": {
   "codemirror_mode": {
    "name": "ipython",
    "version": 2
   },
   "file_extension": ".py",
   "mimetype": "text/x-python",
   "name": "python",
   "nbconvert_exporter": "python",
   "pygments_lexer": "ipython2",
   "version": "2.7.6"
  }
 },
 "nbformat": 4,
 "nbformat_minor": 2
}
