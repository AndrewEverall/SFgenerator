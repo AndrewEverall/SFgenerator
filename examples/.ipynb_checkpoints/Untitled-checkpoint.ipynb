{
 "cells": [
  {
   "cell_type": "code",
   "execution_count": null,
   "metadata": {},
   "outputs": [],
   "source": []
  },
  {
   "cell_type": "code",
   "execution_count": null,
   "metadata": {},
   "outputs": [],
   "source": []
  },
  {
   "cell_type": "code",
   "execution_count": null,
   "metadata": {},
   "outputs": [],
   "source": []
  },
  {
   "cell_type": "code",
   "execution_count": null,
   "metadata": {},
   "outputs": [],
   "source": [
    "\n",
    "        if self.use_isointerp:\n",
    "            print(\"Importing colour-magnitude isochrone interpolants...\")\n",
    "            IsoCalculator.LoadColMag(self.isocolmag_pickle)\n",
    "            print(\"...done\")\n",
    "        else:\n",
    "            IsoCalculator.iso_pickle = self.iso_pickle\n",
    "            IsoCalculator.agerng = agerng\n",
    "            IsoCalculator.mhrng = mhrng\n",
    "\n",
    "            print(\"Calculating isochrone distributions...\")\n",
    "            IsoCalculator.CreateFromIsochrones()\n",
    "            print(\"...done\")\n",
    "\n",
    "            print(\"Pickling isochrone distributions...\")\n",
    "            IsoCalculator.pickleColMag(self.isocolmag_pickle)\n",
    "            print(\"...done\")"
   ]
  }
 ],
 "metadata": {
  "kernelspec": {
   "display_name": "Python 2",
   "language": "python",
   "name": "python2"
  },
  "language_info": {
   "codemirror_mode": {
    "name": "ipython",
    "version": 2
   },
   "file_extension": ".py",
   "mimetype": "text/x-python",
   "name": "python",
   "nbconvert_exporter": "python",
   "pygments_lexer": "ipython2",
   "version": "2.7.14"
  }
 },
 "nbformat": 4,
 "nbformat_minor": 2
}
