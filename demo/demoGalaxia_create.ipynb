{
 "cells": [
  {
   "cell_type": "code",
   "execution_count": 1,
   "metadata": {},
   "outputs": [],
   "source": [
    "# autoreload modules when files have been altered\n",
    "%load_ext autoreload\n",
    "%autoreload 2"
   ]
  },
  {
   "cell_type": "markdown",
   "metadata": {},
   "source": [
    "# Create New"
   ]
  },
  {
   "cell_type": "code",
   "execution_count": 3,
   "metadata": {
    "scrolled": false
   },
   "outputs": [
    {
     "name": "stdout",
     "output_type": "stream",
     "text": [
      "Where is the directory? /media/andy/37E3-0F91/Research/SF/SFdata\n",
      "What survey? (will be used to label the folder and file contents) demoGalaxia\n",
      "Style of survey? a = multi-fibre fields, b = all-sky: a\n",
      "\n",
      "The files for the project have been generated.\n",
      "They are located here: /media/andy/37E3-0F91/Research/SF/SFdata/demoGalaxia\n",
      "Photometric files are in the subfolder: /media/andy/37E3-0F91/Research/SF/SFdata/demoGalaxia/photometric\n",
      "Example csv files have been generated for you with the correct column headings.\n",
      "\n"
     ]
    },
    {
     "data": {
      "text/plain": [
       "'/media/andy/37E3-0F91/Research/SF/SFdata/demoGalaxia/demoGalaxia_fileinfo.pickle'"
      ]
     },
     "execution_count": 3,
     "metadata": {},
     "output_type": "execute_result"
    }
   ],
   "source": [
    "from seestar import createNew\n",
    "createNew.create()"
   ]
  },
  {
   "cell_type": "code",
   "execution_count": null,
   "metadata": {},
   "outputs": [],
   "source": []
  },
  {
   "cell_type": "markdown",
   "metadata": {},
   "source": [
    "Once you have created this folder, you must replace the template files with real field files:\n",
    "* Spectroscopic catalogue (SURVEY_survey.csv). This file will be a comma separated file with at least the following five columns (appropriately labelled): galactic longitude in radians ('glon'), galactic latitude in radians ('glat'), apparent magnitudes ('Happ', 'Japp', 'Kapp'), field id tag for the star ('fieldID'). The file can have other columns too but they won't be used.\n",
    "* Locations and IDs of the spectroscopic field pointings (SURVEY_fieldinfo.csv). This file gives the central galactic longitude in radians ('glon') and galactic latitude in radians ('glat') of each field, half angle in radians ('halfangle') and the color and magnitude limits imposed by the spectroscopic survey ('Magmin', 'Magmax', 'Colmin', 'Colmax'). If none are imposed, write \"NoLimit\".\n",
    "* PARSEC isochrone files can extracted from [isoPARSEC.tar.gz](https://drive.google.com/drive/folders/1mz09FRP6hJPo1zPBJHP1T0BNhtDOkdGs?usp=sharing). Move isochrone_interpolantinstances.pickle into the isochrones/ folder. Without the isochrones, you can still generate the selection function in observable coordinates.\n"
   ]
  },
  {
   "cell_type": "code",
   "execution_count": null,
   "metadata": {},
   "outputs": [],
   "source": []
  },
  {
   "cell_type": "markdown",
   "metadata": {},
   "source": [
    "# Survey fileinfo"
   ]
  },
  {
   "cell_type": "code",
   "execution_count": 6,
   "metadata": {
    "scrolled": false
   },
   "outputs": [
    {
     "name": "stdout",
     "output_type": "stream",
     "text": [
      "1) Checking file paths exist:\n",
      "OK\n",
      "\n",
      "2) Checking spectroscopic catalogue file structure:\n",
      "OK\n",
      "\n",
      "3) Checking field information file structure:\n",
      "(make sure halfangle is in units of radians.)\n",
      "OK\n",
      "\n",
      "4) Checking photometric catalogue file structure:\n",
      "Checking field1.csv:\n",
      "OK\n",
      "\n",
      "5) Checking selection function pickle paths exist:\n",
      "The path to your selection function pickled instance, sf_pickle_path, does not exist: /media/andy/37E3-0F91/Research/SF/SFdata/demoGalaxia/demoGalaxia_SF.pickle\n",
      "The path to your selection function pickled instance, obsSF_pickle_path, does not exist: /media/andy/37E3-0F91/Research/SF/SFdata/demoGalaxia/demoGalaxia_obsSF.pickle\n",
      "The path to your selection function pickled instance, obsSF_pickle_path, does not exist: /media/andy/37E3-0F91/Research/SF/SFdata/demoGalaxia/demoGalaxia_fieldoverlapdatabase\n",
      "^ These files should exist for an already made selection function. If you're starting from scratch, ignore this!\n",
      "\n",
      "6) Checking isochrone pickle files exist:\n",
      "The premade interpolants (isochrone_interpolantinstances.pickle) will be automatically be used to calculate the selection function.\n"
     ]
    }
   ],
   "source": [
    "from seestar import surveyInfoPickler\n",
    "fileinfo_path = '/media/andy/37E3-0F91/Research/SF/SFdata/demoGalaxia/demoGalaxia_fileinfo.pickle'\n",
    "fileinfo = surveyInfoPickler.surveyInformation(fileinfo_path)\n",
    "fileinfo.testFiles()"
   ]
  },
  {
   "cell_type": "code",
   "execution_count": 5,
   "metadata": {},
   "outputs": [],
   "source": [
    "fileinfo.save()"
   ]
  },
  {
   "cell_type": "code",
   "execution_count": null,
   "metadata": {},
   "outputs": [],
   "source": []
  },
  {
   "cell_type": "markdown",
   "metadata": {},
   "source": [
    "# Survey field assignment"
   ]
  },
  {
   "cell_type": "markdown",
   "metadata": {},
   "source": [
    "* Photometric catalogue for each field in the spectroscopic catalogue (photometric/FIELD-ID.csv). Comma separated file listing all stars on the field pointing in the photometric catalogue. It will have at least the following four columns (appropriately labelled): galactic longitude in radians ('glon'), galactic latitude in radians ('glat'), apparent magnitudes ('Happ', 'Japp', 'Kapp'). The file can have other columns too but they won't be used."
   ]
  },
  {
   "cell_type": "code",
   "execution_count": 2,
   "metadata": {},
   "outputs": [
    {
     "name": "stdout",
     "output_type": "stream",
     "text": [
      "Checking photometric catalogue file structure:\n",
      "Checking /media/andy/UUI/Research/SF/SFdata/Galaxia/Galaxia3/Galaxy3_fieldassign_9.csv:\n",
      "File OK\n",
      "\n",
      "Counting total number of stars..............done\n",
      "Total number of stars 66853170.\n",
      "Importing 2851282 stars at a time. Iterating 2587140 stars at a time.\n",
      "Field file path for field 1.0: /media/andy/37E3-0F91/Research/SF/SFdata/demoGalaxia/photometric/1.0.csv\n",
      "Clearing field files...\n",
      "...done\n",
      "\n",
      "allsky file: Galaxy3_fieldassign_14.csv  Completion: 66853156/66853170(100.0%)  Time=12.7m  Projected: 0h12m           \n",
      "Total stars assigned to fields: 2889730.\n",
      "Dictionary of stars per field in fileinfo.photo_field_starcount.\n"
     ]
    }
   ],
   "source": [
    "from seestar import FieldAssignment\n",
    "\n",
    "fileinfo_path = \"/media/andy/37E3-0F91/Research/SF/SFdata/demoGalaxia/demoGalaxia_fileinfo.pickle\"\n",
    "files = [\"/media/andy/UUI/Research/SF/SFdata/Galaxia/Galaxia3/Galaxy3_fieldassign_\"+str(n)+\".csv\" for n in range(1, 15)]\n",
    "\n",
    "assign = FieldAssignment.FieldAssignment(fileinfo_path, files)"
   ]
  },
  {
   "cell_type": "code",
   "execution_count": null,
   "metadata": {},
   "outputs": [],
   "source": []
  },
  {
   "cell_type": "markdown",
   "metadata": {},
   "source": [
    "# Selection Function"
   ]
  },
  {
   "cell_type": "code",
   "execution_count": 1,
   "metadata": {},
   "outputs": [],
   "source": [
    "from seestar import SelectionGrid"
   ]
  },
  {
   "cell_type": "code",
   "execution_count": 2,
   "metadata": {
    "scrolled": false
   },
   "outputs": [
    {
     "name": "stdout",
     "output_type": "stream",
     "text": [
      "Would you like the selection function in: a) observable, b) intrinsic, c) both? (return a, b or c)c\n",
      "No observed SF found at /media/andy/37E3-0F91/Research/SF/SFdata/demoGalaxia/demoGalaxia_obsSF.pickle, we'll build observable seleciton function from scratch.\n",
      "Path to interpolated isochrones (isochrone_interpolantinstances.pickle) exists. These will be used.\n",
      "No field overlap information. This will be generated using the pointings data.\n",
      "\n",
      "{'halfangle': 'halfangle', 'Colmin': 'Colmin', 'Colmax': 'Colmax', 'Magmax': 'Magmax', 'glat': 'theta', 'glon': 'phi', 'Magmin': 'Magmin', 'fieldID': 'fieldID'}\n",
      "Creating Distance Age Metalicity interpolants...\n",
      "Importing colour-magnitude isochrone interpolants...\n",
      "...done\n",
      "...done.\n",
      "\n",
      "Importing data for Colour-Magnitude Field interpolants...\n",
      "{'Happ': 'appC', 'Japp': 'appA', 'Kapp': 'appB', 'glat': 'theta', 'glon': 'phi', 'fieldID': 'fieldID'}\n",
      "Filtering for null values in spectro: Total star count = 5847. Filtered star count = 5847. 0 stars removed with null values\n",
      "(8.0010177016227839, 13.499959932502573) (0.50001881628885769, 1.1835355696129728)\n",
      "...done.\n",
      "\n",
      "Creating Colour-Magnitude Field interpolants...\n",
      "Current field in col-mag calculation: 1.0, 0/3\n",
      "\n",
      "Current field in col-mag calculation: 2.0, 1/3\n",
      "\n",
      "Current field in col-mag calculation: 3.0, 2/3\n",
      "\n",
      "\n",
      "now pickling them...\n",
      "...done\n",
      ".\n",
      "Counting intersection area fractions...\n",
      "3 / 3\n",
      "...done\n"
     ]
    }
   ],
   "source": [
    "SF = SelectionGrid.SFGenerator('/media/andy/37E3-0F91/Research/SF/SFdata/demoGalaxia/demoGalaxia_fileinfo.pickle')"
   ]
  },
  {
   "cell_type": "code",
   "execution_count": 3,
   "metadata": {
    "scrolled": true
   },
   "outputs": [
    {
     "name": "stdout",
     "output_type": "stream",
     "text": [
      "Would you like the selection function in: a) observable, b) intrinsic, c) both? (return a, b or c)c\n",
      "Path to intrinsic SF (demoGalaxia_SF.pickle) exists. Load SF in from here? (y/n)y\n",
      "Path to observable SF (demoGalaxia_obsSF.pickle) exists. Use this to ? (y/n)y\n",
      "Path to field overlap info (demoGalaxia_fieldoverlapdatabase) exists. This will be used.\n",
      "\n",
      "{'halfangle': 'halfangle', 'Colmin': 'Colmin', 'Colmax': 'Colmax', 'Magmax': 'Magmax', 'glat': 'theta', 'glon': 'phi', 'Magmin': 'Magmin', 'fieldID': 'fieldID'}\n",
      "Unpickling survey selection function...\n",
      "...done.\n",
      "\n",
      "Unpickling colour-magnitude interpolant dictionaries...\n",
      "...done.\n",
      "\n"
     ]
    }
   ],
   "source": [
    "SF = SelectionGrid.SFGenerator('/media/andy/37E3-0F91/Research/SF/SFdata/demoGalaxia/demoGalaxia_fileinfo.pickle')"
   ]
  },
  {
   "cell_type": "code",
   "execution_count": null,
   "metadata": {},
   "outputs": [],
   "source": []
  },
  {
   "cell_type": "code",
   "execution_count": null,
   "metadata": {},
   "outputs": [],
   "source": []
  },
  {
   "cell_type": "markdown",
   "metadata": {},
   "source": [
    "# Calculate SF probabilities"
   ]
  },
  {
   "cell_type": "code",
   "execution_count": null,
   "metadata": {},
   "outputs": [],
   "source": [
    "import pandas as pd\n",
    "df = pd.read_csv(\"PATH/TO/CSV/FILE\")"
   ]
  },
  {
   "cell_type": "code",
   "execution_count": null,
   "metadata": {},
   "outputs": [],
   "source": []
  },
  {
   "cell_type": "code",
   "execution_count": null,
   "metadata": {},
   "outputs": [],
   "source": [
    "df = SF(df, method='intrinsic', coords=['ageGyr', 'mh', 's', 'mass'], angle_coords=['glon', 'glat'])\n",
    "df['union_int'] = df.union"
   ]
  },
  {
   "cell_type": "code",
   "execution_count": null,
   "metadata": {},
   "outputs": [],
   "source": []
  },
  {
   "cell_type": "code",
   "execution_count": null,
   "metadata": {},
   "outputs": [],
   "source": [
    "df = SF(df, method='observable', coords=['Happ', 'Colour'], angle_coords=['glon', 'glat'])\n",
    "df['union_obs'] = df.union"
   ]
  }
 ],
 "metadata": {
  "kernelspec": {
   "display_name": "Python 3",
   "language": "python",
   "name": "python3"
  },
  "language_info": {
   "codemirror_mode": {
    "name": "ipython",
    "version": 3
   },
   "file_extension": ".py",
   "mimetype": "text/x-python",
   "name": "python",
   "nbconvert_exporter": "python",
   "pygments_lexer": "ipython3",
   "version": "3.5.4"
  }
 },
 "nbformat": 4,
 "nbformat_minor": 2
}
