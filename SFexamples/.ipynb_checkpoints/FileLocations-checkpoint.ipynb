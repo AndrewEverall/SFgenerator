{
 "cells": [
  {
   "cell_type": "code",
   "execution_count": 23,
   "metadata": {},
   "outputs": [
    {
     "name": "stdout",
     "output_type": "stream",
     "text": [
      "The autoreload extension is already loaded. To reload it, use:\n",
      "  %reload_ext autoreload\n"
     ]
    }
   ],
   "source": [
    "# autoreload modules when files have been altered\n",
    "%load_ext autoreload\n",
    "%autoreload 2\n",
    "\n",
    "import sys, os\n",
    "sys.path.append(\"../../SFgithub/SFscripts/\")\n",
    "\n",
    "import numpy as np"
   ]
  },
  {
   "cell_type": "code",
   "execution_count": 19,
   "metadata": {},
   "outputs": [],
   "source": [
    "from surveyInfoPickler import surveyInformation"
   ]
  },
  {
   "cell_type": "code",
   "execution_count": 20,
   "metadata": {},
   "outputs": [],
   "source": [
    "RAVE = surveyInformation()\n",
    "\n",
    "RAVE.data_path = '../../SFgithub/SFdata'\n",
    "RAVE.photo_path = '/media/andy/37E3-0F91/2MASS/RAVE-2MASS_fieldbyfield_29-11/RAVEfield_'\n",
    "RAVE.spectro = '/RAVE'\n",
    "RAVE.spectro_fname = '/RAVE_wPlateIDs.csv'\n",
    "RAVE.spectro_coords = ['FieldName', 'RA_TGAS', 'DE_TGAS', 'Jmag_2MASS', 'Kmag_2MASS', 'Hmag_2MASS']\n",
    "RAVE.field_coords = (['RAVE_FIELD', 'RAdeg', 'DEdeg'], 'Equatorial')\n",
    "RAVE.photo_coords = ['RA', 'Dec', 'j', 'h', 'k']\n",
    "RAVE.field_SA = 28.3\n",
    "RAVE.spectro_pickle_fname = '/surveydata_RAVEfields.pickle'\n",
    "RAVE.photo_pickle_fname = '/2massdata_RAVEfields.pickle'\n",
    "RAVE.sf_pickle_fname = '/2massdata_RAVEfields.pickle'\n",
    "RAVE.obsSF_pickle_fname = '/RAVE_obsSF.pickle'\n",
    "RAVE.photo_tag = '.csv'\n",
    "RAVE.fieldlabel_type = str\n",
    "RAVE.iso_pickle_file = \"/evoTracks/isochrone_distributions_resampled.pickle\" \n",
    "RAVE.field_fname = '/RAVE_FIELDS_wFieldIDs.csv'\n",
    "\n",
    "RAVE()"
   ]
  },
  {
   "cell_type": "code",
   "execution_count": 21,
   "metadata": {},
   "outputs": [
    {
     "name": "stdout",
     "output_type": "stream",
     "text": [
      "\n",
      "The path to your photometric survey, photo_path, does not exist: /media/andy/37E3-0F91/2MASS/RAVE-2MASS_fieldbyfield_29-11/RAVEfield_\n",
      "\n",
      "Your angular coordinates will be treated as Equatorial.\n",
      "\n",
      " The solid angle extent of your fields is 28.3\n",
      "\n",
      "\n",
      "Your field labels are of type <type 'str'>\n",
      "\n"
     ]
    }
   ],
   "source": [
    "RAVE.testFiles()\n",
    "\n",
    "pklfile = \"../../SFgithub/SFdata/RAVE/raveFileInformation.pickle\"\n",
    "RAVE.pickleInformation(pklfile)"
   ]
  },
  {
   "cell_type": "code",
   "execution_count": 24,
   "metadata": {},
   "outputs": [],
   "source": [
    "APOGEE = surveyInformation()\n",
    "\n",
    "APOGEE.data_path = '../../SFgithub/SFdata'\n",
    "APOGEE.photo_path = '/media/andy/37E3-0F91/2MASS/Apogee-2MASS/APOGEEfield_'\n",
    "APOGEE.spectro = '/APOGEE'\n",
    "APOGEE.spectro_fname = '/TGAS_APOGEE_supp_keplercannon_masses_ages.csv'\n",
    "APOGEE.spectro_coords = ['# location_id', 'ra', 'dec', 'j', 'k', 'h']\n",
    "APOGEE.field_coords = (['FieldName', 'RA', 'Dec'], 'Equatorial')\n",
    "APOGEE.photo_coords = ['RA', 'Dec', 'j', 'h', 'k']\n",
    "APOGEE.field_SA = 7.\n",
    "APOGEE.spectro_pickle_fname = '/surveydata_APOGEEfields.pickle'\n",
    "APOGEE.photo_pickle_fname = '/2massdata_APOGEEfields.pickle'\n",
    "APOGEE.sf_pickle_fname = '/sf_apogeefields.pickle'\n",
    "APOGEE.obsSF_pickle_fname = '/APOGEE_obsSF.pickle'\n",
    "APOGEE.photo_tag = '.csv'\n",
    "APOGEE.fieldlabel_type = np.float64\n",
    "APOGEE.iso_pickle_file = \"/evoTracks/isochrone_distributions_resampled.pickle\" \n",
    "APOGEE.field_fname = \"/apogeetgasdr14_fieldinfo.csv\"\n",
    "\n",
    "APOGEE()"
   ]
  },
  {
   "cell_type": "code",
   "execution_count": 25,
   "metadata": {},
   "outputs": [
    {
     "name": "stdout",
     "output_type": "stream",
     "text": [
      "\n",
      "No file: ../../SFgithub/SFdata/APOGEE/TGAS_APOGEE_supp_keplercannon_masses_ages.csv\n",
      "\n",
      "The path to your photometric survey, photo_path, does not exist: /media/andy/37E3-0F91/2MASS/Apogee-2MASS/APOGEEfield_\n",
      "\n",
      "Your angular coordinates will be treated as Equatorial.\n",
      "\n",
      "The path to your photometric pickled instance, photo_pickle_path, does not exist: ../../SFgithub/SFdata/APOGEE/2massdata_APOGEEfields.pickle\n",
      "\n",
      "The path to your spectroscopic pickled instance, spectro_pickle_path, does not exist: ../../SFgithub/SFdata/APOGEE/surveydata_APOGEEfields.pickle\n",
      "\n",
      "The path to your selection function pickled instance, sf_pickle_path, does not exist: ../../SFgithub/SFdata/APOGEE/sf_apogeefields.pickle\n",
      "\n",
      "The path to your selection function pickled instance, obsSF_pickle_path, does not exist: ../../SFgithub/SFdata/APOGEE/APOGEE_obsSF.pickle\n",
      "\n",
      " The solid angle extent of your fields is 7.0\n",
      "\n",
      "\n",
      "Your field labels are of type <type 'numpy.float64'>\n",
      "\n"
     ]
    }
   ],
   "source": [
    "APOGEE.testFiles()\n",
    "\n",
    "pklfile = \"../../SFgithub/SFdata/APOGEE/ApogeeFileInformation.pickle\"\n",
    "APOGEE.pickleInformation(pklfile)"
   ]
  }
 ],
 "metadata": {
  "kernelspec": {
   "display_name": "Python 2",
   "language": "python",
   "name": "python2"
  },
  "language_info": {
   "codemirror_mode": {
    "name": "ipython",
    "version": 2
   },
   "file_extension": ".py",
   "mimetype": "text/x-python",
   "name": "python",
   "nbconvert_exporter": "python",
   "pygments_lexer": "ipython2",
   "version": "2.7.14"
  }
 },
 "nbformat": 4,
 "nbformat_minor": 2
}
