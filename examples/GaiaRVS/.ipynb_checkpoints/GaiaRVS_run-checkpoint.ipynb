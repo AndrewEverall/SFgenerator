{
 "cells": [
  {
   "cell_type": "code",
   "execution_count": 1,
   "metadata": {},
   "outputs": [],
   "source": [
    "# autoreload modules when files have been altered\n",
    "%load_ext autoreload\n",
    "%autoreload 2\n",
    "\n",
    "import os, sys, pickle\n",
    "import numpy as np\n",
    "import pandas as pd\n",
    "\n",
    "%matplotlib inline\n",
    "import matplotlib.pyplot as plt\n",
    "\n",
    "from seestar import ArrayMechanics\n",
    "from seestar import SelectionGrid\n",
    "from seestar import IsochroneScaling\n",
    "\n",
    "import seaborn as sns\n",
    "\n",
    "\n",
    "def ErrorWarning():\n",
    "    raise ValueError(\"Wait, don't run this, you don't want to!\")"
   ]
  },
  {
   "cell_type": "markdown",
   "metadata": {},
   "source": [
    "# Check fileinfo"
   ]
  },
  {
   "cell_type": "code",
   "execution_count": 10,
   "metadata": {},
   "outputs": [],
   "source": [
    "from seestar import surveyInfoPickler\n",
    "fileinfo_path = '/media/andy/37E3-0F91/Research/SF/SFdata/GaiaRVS/GaiaRVS_fileinfo.pickle'\n",
    "fileinfo = surveyInfoPickler.surveyInformation(fileinfo_path)"
   ]
  },
  {
   "cell_type": "code",
   "execution_count": 16,
   "metadata": {},
   "outputs": [
    {
     "name": "stdout",
     "output_type": "stream",
     "text": [
      "1) Checking file paths exist:\n",
      "OK\n",
      "\n",
      "2) Checking spectroscopic catalogue file structure:\n",
      "OK\n",
      "\n",
      "3) Checking field information file structure:\n",
      "OK\n",
      "\n",
      "4) Checking photometric catalogue file structure:\n",
      "Checking 46.csv:\n",
      "OK\n",
      "\n",
      "5) Checking selection function pickle paths exist:\n",
      "The path to your selection function pickled instance, sf_pickle_path, does not exist: /media/andy/37E3-0F91/Research/SF/SFdata/GaiaRVS/GaiaRVS_SF.pickle\n",
      "The path to your selection function pickled instance, obsSF_pickle_path, does not exist: /media/andy/37E3-0F91/Research/SF/SFdata/GaiaRVS/GaiaRVS_obsSF.pickle\n",
      "^ These files should exist for an already made selection function. If you're starting from scratch, ignore this!\n",
      "\n",
      "6) Checking isochrone pickle files exist:\n",
      "The path to isochrone data, iso_interp_path, does not exist: /media/andy/37E3-0F91/Research/SF/SFdata/GaiaRVS/isochrones/isochrone_interpolantinstances.pickle\n",
      "The path to isochrone data, iso_data_path, does not exist: /media/andy/37E3-0F91/Research/SF/SFdata/GaiaRVS/isochrones/iso_fulldata.pickle\n",
      "(At lease one of the above files mus exist to generate a selection function in intrinsic coordinates)\n"
     ]
    }
   ],
   "source": [
    "fileinfo.testFiles()"
   ]
  },
  {
   "cell_type": "code",
   "execution_count": null,
   "metadata": {},
   "outputs": [],
   "source": [
    "# You can change the model if you like (This is the default)\n",
    "# 'GMM' = Gaussian mixture model, the number corresponds to the number of components\n",
    "fileinfo.spectro_model = ('GMM', 1)\n",
    "fileinfo.photo_model = ('GMM', 2)"
   ]
  },
  {
   "cell_type": "code",
   "execution_count": null,
   "metadata": {},
   "outputs": [],
   "source": [
    "# This is default a string and the test seems not to be picking it up\n",
    "fileinfo.fieldlabel_type = int"
   ]
  },
  {
   "cell_type": "code",
   "execution_count": 9,
   "metadata": {},
   "outputs": [],
   "source": [
    "# Make sure to save your changes if you change anything\n",
    "fileinfo.save()"
   ]
  },
  {
   "cell_type": "markdown",
   "metadata": {},
   "source": [
    "# Calculate Selection function"
   ]
  },
  {
   "cell_type": "code",
   "execution_count": null,
   "metadata": {},
   "outputs": [],
   "source": [
    "# Run the selection function\n",
    "fileinfo_path = '/media/andy/37E3-0F91/Research/SF/SFdata/GaiaRVS/GaiaRVS_fileinfo.pickle'\n",
    "SF = SelectionGrid.SFGenerator(fileinfo_path, ncores=1)"
   ]
  },
  {
   "cell_type": "code",
   "execution_count": null,
   "metadata": {},
   "outputs": [],
   "source": []
  },
  {
   "cell_type": "code",
   "execution_count": null,
   "metadata": {},
   "outputs": [],
   "source": [
    "# Dataset to run selection function on\n",
    "survey = pd.read_csv(fileinfo.spectro_path)\n",
    "survey['Colour'] = survey[fileinfo.spectro_coords[3]] - survey[fileinfo.spectro_coords[4]]"
   ]
  },
  {
   "cell_type": "code",
   "execution_count": null,
   "metadata": {},
   "outputs": [],
   "source": [
    "# Run the selection function on the given dataset\n",
    "survey = SF(survey, method='observable', coords=['Happ', 'Colour'], angle_coords=['glon', 'glat'])\n",
    "survey['union_obs'] = sub.union"
   ]
  }
 ],
 "metadata": {
  "kernelspec": {
   "display_name": "Python 2",
   "language": "python",
   "name": "python2"
  },
  "language_info": {
   "codemirror_mode": {
    "name": "ipython",
    "version": 2
   },
   "file_extension": ".py",
   "mimetype": "text/x-python",
   "name": "python",
   "nbconvert_exporter": "python",
   "pygments_lexer": "ipython2",
   "version": "2.7.14"
  }
 },
 "nbformat": 4,
 "nbformat_minor": 2
}
