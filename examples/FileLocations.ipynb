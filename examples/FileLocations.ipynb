{
 "cells": [
  {
   "cell_type": "code",
   "execution_count": 1,
   "metadata": {},
   "outputs": [],
   "source": [
    "from selfun import surveyInfoPickler\n",
    "\n",
    "# Initialise class\n",
    "Demo = surveyInfoPickler.surveyInformation()"
   ]
  },
  {
   "cell_type": "code",
   "execution_count": 2,
   "metadata": {},
   "outputs": [],
   "source": [
    "import numpy as np\n",
    "import sys\n",
    "sys.path.append('../selfun')\n",
    "\n",
    "import surveyInfoPickler\n",
    "# Initialise class\n",
    "Demo = surveyInfoPickler.surveyInformation()"
   ]
  },
  {
   "cell_type": "code",
   "execution_count": 3,
   "metadata": {},
   "outputs": [],
   "source": [
    "# Location where spectrograph survey information is stored\n",
    "Demo.data_path = '../../SFdata'\n",
    "\n",
    "# Folder in .data_path which contains the file informatino\n",
    "Demo.spectro = 'SpectroName'\n",
    "\n",
    "# Filename of spectrograph star information\n",
    "Demo.spectro_fname = 'Spectrograph_survey.csv'\n",
    "# Column headers for spectrograph information\n",
    "# [ fieldID, Phi, Th, magA, magB, magC]\n",
    "# magA-magB = Colour, magC = m (for selection limits)\n",
    "Demo.spectro_coords = ['fieldid', 'glon', 'glat', 'J', 'K', 'H']\n",
    "\n",
    "# Filename (in Demo.spectro file) for field pointings\n",
    "Demo.field_fname = 'Spectrograph_fieldinfo.csv'\n",
    "# Column headers in field pointings\n",
    "Demo.field_coords = (['fieldID', 'glon', 'glat', 'hmin', 'hmax', 'cmin', 'cmax'], 'Galactic')\n",
    "# Solid angle area of fiels in deg^2\n",
    "Demo.field_SA = 12.565\n",
    "# Data type for field IDs\n",
    "Demo.fieldlabel_type = np.float64\n",
    "\n",
    "# Location where photometric datafiles are stored (require large storage space)\n",
    "Demo.photo_path = '../../SFgithub/SFdata'\n",
    "# Column headers in photometric data files\n",
    "Demo.photo_coords = ['glon', 'glat', 'J', 'K', 'H']\n",
    "# File types for photometric data\n",
    "Demo.photo_tag = '.csv'\n",
    "\n",
    "# pickled file locations which will store the selection function information\n",
    "Demo.sf_pickle_fname = 'Spectrograph_SF.pickle'\n",
    "Demo.obsSF_pickle_fname = 'Spectrograph_obsSF.pickle'\n",
    "\n",
    "# File containing isochrone data\n",
    "Demo.iso_pickle_file = \"evoTracks/isochrones.pickle\" \n",
    "# File location for storing information on area overlap of individual fields\n",
    "Demo.overlap_fname = 'Spectrograph_fieldoverlapdatabase'"
   ]
  },
  {
   "cell_type": "code",
   "execution_count": 4,
   "metadata": {},
   "outputs": [
    {
     "name": "stdout",
     "output_type": "stream",
     "text": [
      "\n",
      "No file: ../../SFdata/SpectroName/Spectrograph_survey.csv\n",
      "\n",
      "The path to your photometric survey, photo_path, does not exist: ../../SFgithub/SFdata\n",
      "\n",
      "The path to your field coordinates, field_path, does not exist: ../../SFdata/SpectroName/Spectrograph_fieldinfo.csv\n",
      "\n",
      "The path to your selection function pickled instance, sf_pickle_path, does not exist: ../../SFdata/SpectroName/Spectrograph_SF.pickle\n",
      "\n",
      "The path to your selection function pickled instance, obsSF_pickle_path, does not exist: ../../SFdata/SpectroName/Spectrograph_obsSF.pickle\n",
      "\n",
      "The path to your selection function pickled instance, obsSF_pickle_path, does not exist: ../../SFdata/SpectroName/Spectrograph_fieldoverlapdatabase\n",
      "\n",
      " The solid angle extent of your fields is 12.565\n",
      "\n",
      "\n",
      "The tests of field_path and field_coords have not been passed so fieldlabel_type cannot be tested.\n",
      "\n",
      "The path to your isochrone pickled instance, iso_pickle_path, does not exist: ../../SFdata/evoTracks/isochrones.pickle\n"
     ]
    }
   ],
   "source": [
    "# Run the __call__ routine to setup the file locations\n",
    "Demo()\n",
    "# testFiles checks whether the information given is accurate\n",
    "# If this is the first time running, pickle files and overlap_fname shouldn't exist\n",
    "Demo.testFiles()"
   ]
  },
  {
   "cell_type": "code",
   "execution_count": 5,
   "metadata": {
    "collapsed": true
   },
   "outputs": [
    {
     "name": "stdout",
     "output_type": "stream",
     "text": [
      "python\t\n",
      "        # Get file names and coordinates from pickled file\n",
      "        pickleFile = '../../SFdata/SpectroName/SpectroName_FileInformation.pickle'\n",
      "        with open(pickleFile, \"rb\") as input:\n",
      "            SpectroName  = pickle.load(input)\n",
      "\n",
      "\t\t# Location where spectrograph survey information is stored\n",
      "\t\tSpectroName.data_path = '../../SFgithub/SFdata'\n",
      "\n",
      "\t\t# Folder in .data_path which contains the file informatino\n",
      "\t\tSpectroName.spectro = '/SpectroName'\n",
      "\n",
      "\t\t# Filename of spectrograph star information\n",
      "\t\tSpectroName.spectro_fname = '/Spectrograph_survey.csv'\n",
      "\t\t# Column headers for spectrograph information\n",
      "\t\t# [ fieldID, Phi, Th, magA, magB, magC]\n",
      "\t\t# magA-magB = Colour, magC = m (for selection limits)\n",
      "\t\tSpectroName.spectro_coords = ['fieldid', 'glon', 'glat', 'J', 'K', 'H']\n",
      "\n",
      "\t\t# Filename (in SpectroName.spectro file) for field pointings\n",
      "\t\tSpectroName.field_fname = '/Spectrograph_fieldinfo.csv'\n",
      "\t\t# Column headers in field pointings\n",
      "\t\tSpectroName.field_coords = (['fieldID', 'glon', 'glat', 'hmin', 'hmax', 'cmin', 'cmax'], 'Galactic')\n",
      "\t\t# Solid angle area of fiels in deg^2\n",
      "\t\tSpectroName.field_SA = 12.565\n",
      "\t\t# Data type for field IDs\n",
      "\t\tSpectroName.fieldlabel_type = np.float64\n",
      "\n",
      "\t\t# Location where photometric datafiles are stored (require large storage space)\n",
      "\t\tSpectroName.photo_path = '/photometricstorage/'\n",
      "\t\t# Column headers in photometric data files\n",
      "\t\tSpectroName.photo_coords = ['glon', 'glat', 'J', 'K', 'H']\n",
      "\t\t# File types for photometric data\n",
      "\t\tSpectroName.photo_tag = '.csv'\n",
      "\n",
      "\t\t# pickled file locations which will store the selection function information\n",
      "\t\tSpectroName.sf_pickle_fname = '/Spectrograph_SF.pickle'\n",
      "\t\tSpectroName.obsSF_pickle_fname = '/Spectrograph_obsSF.pickle'\n",
      "\n",
      "\t\t# File containing isochrone data\n",
      "\t\tSpectroName.iso_pickle_file = \"/evoTracks/isochrones.pickle\" \n",
      "\t\t# File location for storing information on area overlap of individual fields\n",
      "\t\tSpectroName.overlap_fname = '/Spectrograph_fieldoverlapdatabase'\n",
      "\n",
      "\t\t# Run the __call__ routine to setup the file locations\n",
      "\t\tSpectroName()\n",
      "\t\t# testFiles checks whether the information given is accurate\n",
      "\t\t# If this is the first time running, pickle files and overlap_fname shouldn't exist\n",
      "\t\tSpectroName.testFiles()\n",
      "\n",
      "\t\t# Location of pickle file which the file information will be stored in\n",
      "\t\tpklfile = \"../../SFgithub/SFdata/SpectroName/SpectrographFileInformation.pickle\"\n",
      "\t\t# Pickle the file information\n",
      "\t\tSpectroName.pickleInformation(pklfile)\n",
      "\t\t\n"
     ]
    }
   ],
   "source": [
    "Demo.pythonCodeExample()"
   ]
  },
  {
   "cell_type": "code",
   "execution_count": 6,
   "metadata": {
    "collapsed": true
   },
   "outputs": [
    {
     "ename": "IOError",
     "evalue": "[Errno 2] No such file or directory: '../../SFgithub/SFdata/SpectroName/SpectrographFileInformation.pickle'",
     "output_type": "error",
     "traceback": [
      "\u001b[0;31m---------------------------------------------------------------------------\u001b[0m",
      "\u001b[0;31mIOError\u001b[0m                                   Traceback (most recent call last)",
      "\u001b[0;32m<ipython-input-6-f92f0d466ab9>\u001b[0m in \u001b[0;36m<module>\u001b[0;34m()\u001b[0m\n\u001b[1;32m      2\u001b[0m \u001b[0mpklfile\u001b[0m \u001b[0;34m=\u001b[0m \u001b[0;34m\"../../SFgithub/SFdata/SpectroName/SpectrographFileInformation.pickle\"\u001b[0m\u001b[0;34m\u001b[0m\u001b[0m\n\u001b[1;32m      3\u001b[0m \u001b[0;31m# Pickle the file information\u001b[0m\u001b[0;34m\u001b[0m\u001b[0;34m\u001b[0m\u001b[0m\n\u001b[0;32m----> 4\u001b[0;31m \u001b[0mDemo\u001b[0m\u001b[0;34m.\u001b[0m\u001b[0mpickleInformation\u001b[0m\u001b[0;34m(\u001b[0m\u001b[0mpklfile\u001b[0m\u001b[0;34m)\u001b[0m\u001b[0;34m\u001b[0m\u001b[0m\n\u001b[0m",
      "\u001b[0;32m/home/andy/Documents/Research/SFgithub/selfun/surveyInfoPickler.py\u001b[0m in \u001b[0;36mpickleInformation\u001b[0;34m(self, filename)\u001b[0m\n\u001b[1;32m    162\u001b[0m \u001b[0;34m\u001b[0m\u001b[0m\n\u001b[1;32m    163\u001b[0m                 \u001b[0;31m# Can you pickle a class from inside the class?\u001b[0m\u001b[0;34m\u001b[0m\u001b[0;34m\u001b[0m\u001b[0m\n\u001b[0;32m--> 164\u001b[0;31m                 \u001b[0;32mwith\u001b[0m \u001b[0mopen\u001b[0m\u001b[0;34m(\u001b[0m\u001b[0mfilename\u001b[0m\u001b[0;34m,\u001b[0m \u001b[0;34m'wb'\u001b[0m\u001b[0;34m)\u001b[0m \u001b[0;32mas\u001b[0m \u001b[0mhandle\u001b[0m\u001b[0;34m:\u001b[0m\u001b[0;34m\u001b[0m\u001b[0m\n\u001b[0m\u001b[1;32m    165\u001b[0m                         \u001b[0mpickle\u001b[0m\u001b[0;34m.\u001b[0m\u001b[0mdump\u001b[0m\u001b[0;34m(\u001b[0m\u001b[0mself\u001b[0m\u001b[0;34m,\u001b[0m \u001b[0mhandle\u001b[0m\u001b[0;34m)\u001b[0m\u001b[0;34m\u001b[0m\u001b[0m\n\u001b[1;32m    166\u001b[0m \u001b[0;34m\u001b[0m\u001b[0m\n",
      "\u001b[0;31mIOError\u001b[0m: [Errno 2] No such file or directory: '../../SFgithub/SFdata/SpectroName/SpectrographFileInformation.pickle'"
     ]
    }
   ],
   "source": [
    "# Location of pickle file which the file information will be stored in\n",
    "pklfile = \"../../SFgithub/SFdata/SpectroName/SpectrographFileInformation.pickle\"\n",
    "# Pickle the file information\n",
    "Demo.pickleInformation(pklfile)"
   ]
  },
  {
   "cell_type": "code",
   "execution_count": null,
   "metadata": {},
   "outputs": [],
   "source": []
  },
  {
   "cell_type": "code",
   "execution_count": 1,
   "metadata": {},
   "outputs": [],
   "source": [
    "import sys\n",
    "sys.path.append('../selfun/')"
   ]
  },
  {
   "cell_type": "code",
   "execution_count": 2,
   "metadata": {},
   "outputs": [],
   "source": [
    "import createNew as cn"
   ]
  },
  {
   "cell_type": "code",
   "execution_count": 3,
   "metadata": {},
   "outputs": [
    {
     "name": "stdout",
     "output_type": "stream",
     "text": [
      "Where is the directory? ../../DataTrial\n",
      "What survey? (will be used to label the folder and file contents) Testing\n"
     ]
    }
   ],
   "source": [
    "cn.create()"
   ]
  },
  {
   "cell_type": "code",
   "execution_count": 4,
   "metadata": {},
   "outputs": [],
   "source": [
    "import pickle\n",
    "\n",
    "# Load infofile\n",
    "path = '../../DataTrial/Testing/Testing_FileInformation.pickle'\n",
    "\n",
    "with open(path, \"rb\") as input:\n",
    "    file_info  = pickle.load(input)"
   ]
  },
  {
   "cell_type": "code",
   "execution_count": 7,
   "metadata": {},
   "outputs": [],
   "source": [
    "file_info()"
   ]
  },
  {
   "cell_type": "code",
   "execution_count": 6,
   "metadata": {},
   "outputs": [],
   "source": [
    "file_info?"
   ]
  },
  {
   "cell_type": "code",
   "execution_count": 10,
   "metadata": {
    "collapsed": true
   },
   "outputs": [
    {
     "name": "stdout",
     "output_type": "stream",
     "text": [
      "\n",
      "\tsurveyInformation - Creating a pickled instance with all of the file locations and \n",
      "\t\t\t\t\t\tdata structure information for running the selection function.\n",
      "\n",
      "\tFunctions\n",
      "\t---------\n",
      "\t\ttestFiles - Runs a test on all entries into the class to check if the file names\n",
      "\t\t\t\t\thave all been given correctly.\n",
      "\n",
      "\t\tpickleInformation - Pickles an instance of the class so that it is saved for use\n",
      "\t\t\t\t\t\t\tin the selection function\n",
      "\n",
      "\tVariables Required\n",
      "\t------------------\n",
      "\t\tdata_path - str - Path to folder containing all data - e.g. '../SFdata'\n",
      "\t\tphoto_path - str - Path to folder containing photometric survey data - e.g. '/media/.../2MASS'\n",
      "\t\t\t\t(This is usually kept externally due to the large file size 40+Gb)\n",
      "\n",
      "\t\tspectro - str - Name of spectroscopic survey folder being analysed - e.g. '/RAVE'\n",
      "\t\tspectro_fname - str - Name of file containing spectroscopic survey data - e.g. '/RAVE_wPlateIDs.csv'\n",
      "\n",
      "\t\tfield_fname - str - File name of data file for field pointings - e.g. '/RAVE_FIELDS_wFieldIDs.csv\n",
      "\n",
      "\t\tspectro_coords - list of str - List of column headers taken from spectroscopic survey - \n",
      "\t\t\t\t\t- e.g. ['FieldName', 'RA_TGAS', 'DE_TGAS', 'Jmag_2MASS', 'Kmag_2MASS', 'Hmag_2MASS']\n",
      "\t\tfield_coords - tuple of list and str - List of column headers taken from pointings file and coord system (Equatorial or Galactic)\n",
      "\t\t\t\t\t- e.g. (['RAVE_FIELD', 'RAdeg', 'DEdeg'], 'Equatorial')\n",
      "\t\tphoto_coords - list of str - List of column headers taken from photometric survey\n",
      "\t\t\t\t\t- e.g. ['RA', 'Dec', 'j', 'h', 'k']\n",
      "\n",
      "\t\tfield_SA - float - Solid angle of all fields in the survey (this will need to be changed if SA is variable) - e.g. 28.3\n",
      "\n",
      "\t\tphoto_pickle_fname - str - File name for pickled instance of photometric interpolants - e.g. '/2massdata_RAVEfields.pickle'\n",
      "\t\tspectro_pickle_fname - str - File name for pickled instance of spectroscopic interpolants - e.g. '/2massdata_RAVEfields.pickle'\n",
      "\t\tsf_pickle_fname - str - File name for pickled instance of physical selection function interpolants - e.g. '/2massdata_RAVEfields.pickle'\n",
      "\n",
      "\t\tphoto_tag - str - File type tagged on the end of photometric data folders - e.g. '.csv'\n",
      "\t\tfieldlabel_type - obj - Data type used for names of fields in the pointings catalogue - e.g. str\n",
      "\n",
      "\t\tiso_pickle_file - str - File name for pickled isochrones instances - e.g. \"/evoTracks/isochrone_distributions_resampled.pickle\" \n",
      "\n",
      "\tExample:\n",
      "\t--------\n",
      "\t\tDemo = surveyInformation()\n",
      "\n",
      "\t\t# Location where spectrograph survey information is stored\n",
      "\t\tDemo.data_path = '../../SFgithub/SFdata'\n",
      "\n",
      "\t\t# Folder in .data_path which contains the file informatino\n",
      "\t\tDemo.spectro = '/SpectroName'\n",
      "\n",
      "\t\t# Filename of spectrograph star information\n",
      "\t\tDemo.spectro_fname = '/Spectrograph_survey.csv'\n",
      "\t\t# Column headers for spectrograph information\n",
      "\t\t# [ fieldID, Phi, Th, magA, magB, magC]\n",
      "\t\t# magA-magB = Colour, magC = m (for selection limits)\n",
      "\t\tDemo.spectro_coords = ['fieldid', 'glon', 'glat', 'J', 'K', 'H']\n",
      "\n",
      "\t\t# Filename (in Demo.spectro file) for field pointings\n",
      "\t\tDemo.field_fname = '/Spectrograph_fieldinfo.csv'\n",
      "\t\t# Column headers in field pointings\n",
      "\t\tDemo.field_coords = (['fieldID', 'glon', 'glat', 'hmin', 'hmax', 'cmin', 'cmax'], 'Galactic')\n",
      "\t\t# Solid angle area of fiels in deg^2\n",
      "\t\tDemo.field_SA = 12.565\n",
      "\t\t# Data type for field IDs\n",
      "\t\tDemo.fieldlabel_type = np.float64\n",
      "\n",
      "\t\t# Location where photometric datafiles are stored (require large storage space)\n",
      "\t\tDemo.photo_path = '/photometricstorage/'\n",
      "\t\t# Column headers in photometric data files\n",
      "\t\tDemo.photo_coords = ['glon', 'glat', 'J', 'K', 'H']\n",
      "\t\t# File types for photometric data\n",
      "\t\tDemo.photo_tag = '.csv'\n",
      "\n",
      "\t\t# pickled file locations which will store the selection function information\n",
      "\t\tDemo.spectro_pickle_fname = '/Spectrograph_survey.pickle'\n",
      "\t\tDemo.photo_pickle_fname = '/Spectrograph_full.pickle'\n",
      "\t\tDemo.sf_pickle_fname = '/Spectrograph_SF.pickle'\n",
      "\t\tDemo.obsSF_pickle_fname = '/Spectrograph_obsSF.pickle'\n",
      "\n",
      "\t\t# File containing isochrone data\n",
      "\t\tDemo.iso_pickle_file = \"/evoTracks/isochrones.pickle\" \n",
      "\t\t# File location for storing information on area overlap of individual fields\n",
      "\t\tDemo.overlap_fname = '/Spectrograph_fieldoverlapdatabase'\n",
      "\n",
      "\t\t# Run the __call__ routine to setup the file locations\n",
      "\t\tDemo()\n",
      "\t\t# testFiles checks whether the information given is accurate\n",
      "\t\t# If this is the first time running, pickle files and overlap_fname shouldn't exist\n",
      "\t\tDemo.testFiles()\n",
      "\n",
      "\t\t# Location of pickle file which the file information will be stored in\n",
      "\t\tpklfile = \"../../SFgithub/SFdata/SpectroName/SpectrographFileInformation.pickle\"\n",
      "\t\t# Pickle the file information\n",
      "\t\tDemo.pickleInformation(pklfile)\n",
      "\n",
      "\t\n"
     ]
    }
   ],
   "source": [
    "print(file_info.__doc__)"
   ]
  },
  {
   "cell_type": "code",
   "execution_count": 26,
   "metadata": {
    "collapsed": true
   },
   "outputs": [
    {
     "name": "stdout",
     "output_type": "stream",
     "text": [
      "\n",
      "\tsurveyInformation - Creating a pickled instance with all of the file locations and \n",
      "\t\t\t\t\t\tdata structure information for running the selection function.\n",
      "\n",
      "\tFunctions\n",
      "\t---------\n",
      "\t\ttestFiles - Runs a test on all entries into the class to check if the file names\n",
      "\t\t\t\t\thave all been given correctly.\n",
      "\n",
      "\t\tpickleInformation - Pickles an instance of the class so that it is saved for use\n",
      "\t\t\t\t\t\t\tin the selection function\n",
      "\n",
      "\tVariables Required\n",
      "\t------------------\n",
      "\t\tdata_path - str - Path to folder containing all data - e.g. '../SFdata'\n",
      "\t\tphoto_path - str - Path to folder containing photometric survey data - e.g. '/media/.../2MASS'\n",
      "\t\t\t\t(This is usually kept externally due to the large file size 40+Gb)\n",
      "\n",
      "\t\tspectro - str - Name of spectroscopic survey folder being analysed - e.g. '/RAVE'\n",
      "\t\tspectro_fname - str - Name of file containing spectroscopic survey data - e.g. '/RAVE_wPlateIDs.csv'\n",
      "\n",
      "\t\tfield_fname - str - File name of data file for field pointings - e.g. '/RAVE_FIELDS_wFieldIDs.csv\n",
      "\n",
      "\t\tspectro_coords - list of str - List of column headers taken from spectroscopic survey - \n",
      "\t\t\t\t\t- e.g. ['FieldName', 'RA_TGAS', 'DE_TGAS', 'Jmag_2MASS', 'Kmag_2MASS', 'Hmag_2MASS']\n",
      "\t\tfield_coords - tuple of list and str - List of column headers taken from pointings file and coord system (Equatorial or Galactic)\n",
      "\t\t\t\t\t- e.g. (['RAVE_FIELD', 'RAdeg', 'DEdeg'], 'Equatorial')\n",
      "\t\tphoto_coords - list of str - List of column headers taken from photometric survey\n",
      "\t\t\t\t\t- e.g. ['RA', 'Dec', 'j', 'h', 'k']\n",
      "\n",
      "\t\tfield_SA - float - Solid angle of all fields in the survey (this will need to be changed if SA is variable) - e.g. 28.3\n",
      "\n",
      "\t\tphoto_pickle_fname - str - File name for pickled instance of photometric interpolants - e.g. '/2massdata_RAVEfields.pickle'\n",
      "\t\tspectro_pickle_fname - str - File name for pickled instance of spectroscopic interpolants - e.g. '/2massdata_RAVEfields.pickle'\n",
      "\t\tsf_pickle_fname - str - File name for pickled instance of physical selection function interpolants - e.g. '/2massdata_RAVEfields.pickle'\n",
      "\n",
      "\t\tphoto_tag - str - File type tagged on the end of photometric data folders - e.g. '.csv'\n",
      "\t\tfieldlabel_type - obj - Data type used for names of fields in the pointings catalogue - e.g. str\n",
      "\n",
      "\t\tiso_pickle_file - str - File name for pickled isochrones instances - e.g. \"/evoTracks/isochrone_distributions_resampled.pickle\" \n",
      "\n",
      "\tExample:\n",
      "\t--------\n",
      "\t\tDemo = surveyInformation()\n",
      "\n",
      "\t\t# Location where spectrograph survey information is stored\n",
      "\t\tDemo.data_path = '../../SFgithub/SFdata'\n",
      "\n",
      "\t\t# Folder in .data_path which contains the file informatino\n",
      "\t\tDemo.spectro = '/SpectroName'\n",
      "\n",
      "\t\t# Filename of spectrograph star information\n",
      "\t\tDemo.spectro_fname = '/Spectrograph_survey.csv'\n",
      "\t\t# Column headers for spectrograph information\n",
      "\t\t# [ fieldID, Phi, Th, magA, magB, magC]\n",
      "\t\t# magA-magB = Colour, magC = m (for selection limits)\n",
      "\t\tDemo.spectro_coords = ['fieldid', 'glon', 'glat', 'J', 'K', 'H']\n",
      "\n",
      "\t\t# Filename (in Demo.spectro file) for field pointings\n",
      "\t\tDemo.field_fname = '/Spectrograph_fieldinfo.csv'\n",
      "\t\t# Column headers in field pointings\n",
      "\t\tDemo.field_coords = (['fieldID', 'glon', 'glat', 'hmin', 'hmax', 'cmin', 'cmax'], 'Galactic')\n",
      "\t\t# Solid angle area of fiels in deg^2\n",
      "\t\tDemo.field_SA = 12.565\n",
      "\t\t# Data type for field IDs\n",
      "\t\tDemo.fieldlabel_type = np.float64\n",
      "\n",
      "\t\t# Location where photometric datafiles are stored (require large storage space)\n",
      "\t\tDemo.photo_path = '/photometricstorage/'\n",
      "\t\t# Column headers in photometric data files\n",
      "\t\tDemo.photo_coords = ['glon', 'glat', 'J', 'K', 'H']\n",
      "\t\t# File types for photometric data\n",
      "\t\tDemo.photo_tag = '.csv'\n",
      "\n",
      "\t\t# pickled file locations which will store the selection function information\n",
      "\t\tDemo.spectro_pickle_fname = '/Spectrograph_survey.pickle'\n",
      "\t\tDemo.photo_pickle_fname = '/Spectrograph_full.pickle'\n",
      "\t\tDemo.sf_pickle_fname = '/Spectrograph_SF.pickle'\n",
      "\t\tDemo.obsSF_pickle_fname = '/Spectrograph_obsSF.pickle'\n",
      "\n",
      "\t\t# File containing isochrone data\n",
      "\t\tDemo.iso_pickle_file = \"/evoTracks/isochrones.pickle\" \n",
      "\t\t# File location for storing information on area overlap of individual fields\n",
      "\t\tDemo.overlap_fname = '/Spectrograph_fieldoverlapdatabase'\n",
      "\n",
      "\t\t# Run the __call__ routine to setup the file locations\n",
      "\t\tDemo()\n",
      "\t\t# testFiles checks whether the information given is accurate\n",
      "\t\t# If this is the first time running, pickle files and overlap_fname shouldn't exist\n",
      "\t\tDemo.testFiles()\n",
      "\n",
      "\t\t# Location of pickle file which the file information will be stored in\n",
      "\t\tpklfile = \"../../SFgithub/SFdata/SpectroName/SpectrographFileInformation.pickle\"\n",
      "\t\t# Pickle the file information\n",
      "\t\tDemo.pickleInformation(pklfile)\n",
      "\n",
      "\t\n"
     ]
    }
   ],
   "source": [
    "print(surveyInfoPickler.surveyInformation.__doc__)"
   ]
  },
  {
   "cell_type": "code",
   "execution_count": null,
   "metadata": {},
   "outputs": [],
   "source": []
  },
  {
   "cell_type": "code",
   "execution_count": 11,
   "metadata": {},
   "outputs": [],
   "source": [
    "if True:\n",
    "        x = \\\n",
    "        \"\"\"\n",
    "        This is a string\n",
    "        is it indented??\n",
    "        I don't know\n",
    "        \"\"\"\n",
    "        y = 1"
   ]
  },
  {
   "cell_type": "code",
   "execution_count": 12,
   "metadata": {},
   "outputs": [
    {
     "name": "stdout",
     "output_type": "stream",
     "text": [
      "\n",
      "        This is a string\n",
      "        is it indented??\n",
      "        I don't know\n",
      "        \n"
     ]
    }
   ],
   "source": [
    "print(x)"
   ]
  }
 ],
 "metadata": {
  "kernelspec": {
   "display_name": "Python 2",
   "language": "python",
   "name": "python2"
  },
  "language_info": {
   "codemirror_mode": {
    "name": "ipython",
    "version": 2
   },
   "file_extension": ".py",
   "mimetype": "text/x-python",
   "name": "python",
   "nbconvert_exporter": "python",
   "pygments_lexer": "ipython2",
   "version": "2.7.14"
  }
 },
 "nbformat": 4,
 "nbformat_minor": 2
}
