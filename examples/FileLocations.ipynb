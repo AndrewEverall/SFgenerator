{
 "cells": [
  {
   "cell_type": "code",
   "execution_count": null,
   "metadata": {},
   "outputs": [],
   "source": [
    "from selfun import surveyInfoPickler\n",
    "\n",
    "# Initialise class\n",
    "Demo = surveyInfoPickler.surveyInformation()"
   ]
  },
  {
   "cell_type": "code",
   "execution_count": null,
   "metadata": {},
   "outputs": [],
   "source": [
    "# Location where spectrograph survey information is stored\n",
    "Demo.data_path = '../../SFgithub/SFdata'\n",
    "\n",
    "# Folder in .data_path which contains the file informatino\n",
    "Demo.spectro = '/SpectroName'\n",
    "\n",
    "# Filename of spectrograph star information\n",
    "Demo.spectro_fname = '/Spectrograph_survey.csv'\n",
    "# Column headers for spectrograph information\n",
    "# [ fieldID, Phi, Th, magA, magB, magC]\n",
    "# magA-magB = Colour, magC = m (for selection limits)\n",
    "Demo.spectro_coords = ['fieldid', 'glon', 'glat', 'J', 'K', 'H']\n",
    "\n",
    "# Filename (in Demo.spectro file) for field pointings\n",
    "Demo.field_fname = '/Spectrograph_fieldinfo.csv'\n",
    "# Column headers in field pointings\n",
    "Demo.field_coords = (['fieldID', 'glon', 'glat', 'hmin', 'hmax', 'cmin', 'cmax'], 'Galactic')\n",
    "# Solid angle area of fiels in deg^2\n",
    "Demo.field_SA = 12.565\n",
    "# Data type for field IDs\n",
    "Demo.fieldlabel_type = np.float64\n",
    "\n",
    "# Location where photometric datafiles are stored (require large storage space)\n",
    "Demo.photo_path = '/photometricstorage/'\n",
    "# Column headers in photometric data files\n",
    "Demo.photo_coords = ['glon', 'glat', 'J', 'K', 'H']\n",
    "# File types for photometric data\n",
    "Demo.photo_tag = '.csv'\n",
    "\n",
    "# pickled file locations which will store the selection function information\n",
    "Demo.spectro_pickle_fname = '/Spectrograph_survey.pickle'\n",
    "Demo.photo_pickle_fname = '/Spectrograph_full.pickle'\n",
    "Demo.sf_pickle_fname = '/Spectrograph_SF.pickle'\n",
    "Demo.obsSF_pickle_fname = '/Spectrograph_obsSF.pickle'\n",
    "\n",
    "# File containing isochrone data\n",
    "Demo.iso_pickle_file = \"/evoTracks/isochrones.pickle\" \n",
    "# File location for storing information on area overlap of individual fields\n",
    "Demo.overlap_fname = '/Spectrograph_fieldoverlapdatabase'"
   ]
  },
  {
   "cell_type": "code",
   "execution_count": null,
   "metadata": {},
   "outputs": [],
   "source": [
    "# Run the __call__ routine to setup the file locations\n",
    "Demo()\n",
    "# testFiles checks whether the information given is accurate\n",
    "# If this is the first time running, pickle files and overlap_fname shouldn't exist\n",
    "Demo.testFiles()"
   ]
  },
  {
   "cell_type": "code",
   "execution_count": null,
   "metadata": {},
   "outputs": [],
   "source": [
    "# Location of pickle file which the file information will be stored in\n",
    "pklfile = \"../../SFgithub/SFdata/SpectroName/SpectrographFileInformation.pickle\"\n",
    "# Pickle the file information\n",
    "Demo.pickleInformation(pklfile)"
   ]
  }
 ],
 "metadata": {
  "kernelspec": {
   "display_name": "Python 2",
   "language": "python",
   "name": "python2"
  },
  "language_info": {
   "codemirror_mode": {
    "name": "ipython",
    "version": 2
   },
   "file_extension": ".py",
   "mimetype": "text/x-python",
   "name": "python",
   "nbconvert_exporter": "python",
   "pygments_lexer": "ipython2",
   "version": "2.7.14"
  }
 },
 "nbformat": 4,
 "nbformat_minor": 2
}
