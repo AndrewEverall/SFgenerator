{
 "cells": [
  {
   "cell_type": "code",
   "execution_count": 2,
   "metadata": {
    "scrolled": true
   },
   "outputs": [
    {
     "name": "stdout",
     "output_type": "stream",
     "text": [
      "The autoreload extension is already loaded. To reload it, use:\n",
      "  %reload_ext autoreload\n"
     ]
    }
   ],
   "source": [
    "# autoreload modules when files have been altered\n",
    "%load_ext autoreload\n",
    "%autoreload 2\n",
    "\n",
    "#import neccessary dependencies for code\n",
    "import numpy as np\n",
    "import pandas as pd\n",
    "import re\n",
    "import scipy\n",
    "from scipy.io import readsav\n",
    "import dill\n",
    "from itertools import product\n",
    "import savReaderWriter\n",
    "import pickle\n",
    "\n",
    "import cProfile\n",
    "import pstats\n",
    "\n",
    "import sys, os\n",
    "sys.path.append(\"../SFscripts/\")\n",
    "\n",
    "%matplotlib inline\n",
    "from matplotlib import pyplot as plt\n",
    "import matplotlib\n",
    "font = {'family' : 'normal',\n",
    "        'weight' : 'bold',\n",
    "        'size'   : 15}\n",
    "\n",
    "matplotlib.rc('font', **font)\n",
    "\n",
    "import ComputerOps\n",
    "import SelectionGrid"
   ]
  },
  {
   "cell_type": "code",
   "execution_count": 7,
   "metadata": {
    "scrolled": false
   },
   "outputs": [
    {
     "name": "stdout",
     "output_type": "stream",
     "text": [
      "1565\n",
      "               RA       Dec         l         b  half_opening\n",
      "fieldID                                                      \n",
      "1507m23  3.960879 -0.401911  5.925067  0.523612      3.001361\n",
      "0932m08  2.499239 -0.152779  4.232150  0.523554      3.001361\n",
      "1047m24  2.823725 -0.433855  4.715845  0.523581      3.001361\n",
      "1029m24  2.748385 -0.419184  4.641258  0.497404      3.001361\n",
      "1231m34  3.281146 -0.596883  5.207280  0.497417      3.001361\n",
      "1418m30  3.747658 -0.536107  5.660075  0.497432      3.001361\n",
      "1051m27  2.840669 -0.473716  4.754483  0.497418      3.001361\n",
      "1204m33  3.162755 -0.582397  5.094113  0.497424      3.001361\n",
      "1353m32  3.637193 -0.568449  5.546923  0.497412      3.001361\n",
      "1504m25  3.946698 -0.442543  5.886494  0.497424      3.001361\n",
      "1138m31  3.048690 -0.556435  4.980887  0.497419      3.001361\n",
      "1621m07  4.282842 -0.131128  0.113198  0.497421      3.001361\n",
      "1042m11  2.803042 -0.209323  4.538695  0.696385      3.001361\n",
      "1208m21  3.176652 -0.381524  5.057402  0.696386      3.001361\n",
      "1345m21  3.602745 -0.370378  5.576117  0.696389      3.001361\n",
      "1052m20  2.846705 -0.360595  4.691009  0.596886      3.001361\n",
      "1201m27  3.147192 -0.477445  5.051861  0.596899      3.001361\n",
      "1934m59  5.123792 -1.041952  5.886505 -0.497416      3.001361\n",
      "1512m17  3.978711 -0.298078  6.014159  0.596906      3.001361\n",
      "1040m04  2.795196 -0.071340  4.407823  0.795869      3.001361\n",
      "1430m16  3.797124 -0.294423  5.835470  0.696387      3.001361\n",
      "1939m54  5.145122 -0.943161  5.999706 -0.497416      3.001361\n",
      "1101m15  2.886556 -0.266837  4.668377  0.696387      3.001361\n",
      "1229m05  3.271881 -0.095237  5.114471  0.994837      3.001361\n",
      "1634m02  4.339848 -0.049436  0.226401  0.497421      3.001361\n",
      "1232m22  3.282819 -0.397227  5.187084  0.696384      3.001361\n",
      "1431m23  3.800236 -0.405425  5.773526  0.596929      3.001361\n",
      "1559m14  4.186245 -0.246877  6.226075  0.497459      3.001361\n",
      "1929m76  5.100943 -1.339967  5.546905 -0.497416      3.001361\n",
      "2034m29  5.385868 -0.521010  0.240548 -0.596864      3.001361\n",
      "...           ...       ...       ...       ...           ...\n",
      "0144m15  0.453786 -0.278089  3.020291 -1.281917      3.001361\n",
      "2232m08  5.899213 -0.139626  0.985742 -0.905346      3.001361\n",
      "2239m14  5.929756 -0.244346  0.859789 -0.985680      3.001361\n",
      "2141m52  5.678138 -0.897681  6.026849 -0.820056      3.001361\n",
      "2306m11  6.047566 -0.191986  1.062580 -1.054811      3.001361\n",
      "2247m04  5.964663 -0.069813  1.140642 -0.913985      3.001361\n",
      "2248m10  5.969026 -0.174533  1.003574 -0.981919      3.001361\n",
      "2256m20  6.003933 -0.349066  0.729783 -1.093860      3.001361\n",
      "0340m03  0.959931 -0.055269  3.309806 -0.753381      3.001361\n",
      "2258m15  6.012659 -0.261799  0.904935 -1.064419      3.001361\n",
      "0202p01  0.533416  0.018908  2.738569 -0.995572      3.001361\n",
      "0025p00  0.111628  0.002909  1.903370 -1.082217      3.001361\n",
      "0242p00  0.706131  0.000291  2.998770 -0.908506      3.001361\n",
      "0226p03  0.637772  0.055560  2.855803 -0.908303      3.001361\n",
      "0359p00  1.046107  0.008145  3.306935 -0.646441      3.001361\n",
      "2300m06  6.021386 -0.104720  1.159887 -0.979445      3.001361\n",
      "2316m07  6.091199 -0.122173  1.225146 -1.042037      3.001361\n",
      "0304p01  0.803579  0.028216  3.077238 -0.820814      3.001361\n",
      "0332p01  0.927570  0.020653  3.201040 -0.733322      3.001361\n",
      "2226m16  5.873033 -0.279253  0.761504 -0.952110      3.001361\n",
      "2236m11  5.916666 -0.200713  0.915559 -0.952943      3.001361\n",
      "2246m17  5.960299 -0.296706  0.796424 -1.035440      3.001361\n",
      "2248m07  5.969026 -0.122173  1.077671 -0.950775      3.001361\n",
      "0023m72  0.100356 -1.256637  5.341233 -0.784644      3.001361\n",
      "2253m12  5.990843 -0.222529  0.950768 -1.026173      3.001361\n",
      "2303m08  6.034476 -0.148353  1.114323 -1.017713      3.001361\n",
      "0645m00  1.767146 -0.014544  3.716501 -0.031632      3.001361\n",
      "0752m38  2.059489 -0.671952  4.424772 -0.102114      3.001361\n",
      "0210m68  0.527598 -1.202823  5.129122 -0.819803      3.001361\n",
      "0412m33  1.099194 -0.684751  4.231416 -0.818924      3.001361\n",
      "\n",
      "[1565 rows x 5 columns]\n",
      "Undilling isochrone interpolants...\n",
      "...done.\n",
      " \n",
      "Importing data for Colour-Magnitude Field interpolants...\n",
      "...done.\n",
      " \n",
      "Creating Colour-Magnitude Field interpolants...\n"
     ]
    },
    {
     "ename": "OSError",
     "evalue": "[Errno 12] Cannot allocate memory",
     "output_type": "error",
     "traceback": [
      "\u001b[0;31m---------------------------------------------------------------------------\u001b[0m",
      "\u001b[0;31mOSError\u001b[0m                                   Traceback (most recent call last)",
      "\u001b[0;32m<ipython-input-7-7fccb942ea69>\u001b[0m in \u001b[0;36m<module>\u001b[0;34m()\u001b[0m\n\u001b[1;32m      3\u001b[0m Testing = SelectionGrid.FieldInterpolator(ColMagSF_exists = False,\n\u001b[1;32m      4\u001b[0m                                             \u001b[0msurveysf_exists\u001b[0m \u001b[0;34m=\u001b[0m \u001b[0mFalse\u001b[0m\u001b[0;34m,\u001b[0m\u001b[0;34m\u001b[0m\u001b[0m\n\u001b[0;32m----> 5\u001b[0;31m                                             survey='RAVE')\n\u001b[0m\u001b[1;32m      6\u001b[0m \u001b[0mlogger\u001b[0m\u001b[0;34m.\u001b[0m\u001b[0mstop\u001b[0m\u001b[0;34m(\u001b[0m\u001b[0;34m)\u001b[0m\u001b[0;34m\u001b[0m\u001b[0m\n\u001b[1;32m      7\u001b[0m \u001b[0mlogger\u001b[0m\u001b[0;34m.\u001b[0m\u001b[0mdisplay\u001b[0m\u001b[0;34m(\u001b[0m\u001b[0;34m)\u001b[0m\u001b[0;34m\u001b[0m\u001b[0m\n",
      "\u001b[0;32m/home/andy/Documents/Research/SFgithub/SFscripts/SelectionGrid.py\u001b[0m in \u001b[0;36m__init__\u001b[0;34m(self, survey, surveysf_exists, ColMagSF_exists, testbool, testfield)\u001b[0m\n\u001b[1;32m    216\u001b[0m \u001b[0;34m\u001b[0m\u001b[0m\n\u001b[1;32m    217\u001b[0m                 \u001b[0;32mprint\u001b[0m\u001b[0;34m(\u001b[0m\u001b[0;34m'Creating Colour-Magnitude Field interpolants...'\u001b[0m\u001b[0;34m)\u001b[0m\u001b[0;34m\u001b[0m\u001b[0m\n\u001b[0;32m--> 218\u001b[0;31m                 \u001b[0mself\u001b[0m\u001b[0;34m.\u001b[0m\u001b[0mtmass_interp\u001b[0m\u001b[0;34m,\u001b[0m \u001b[0mself\u001b[0m\u001b[0;34m.\u001b[0m\u001b[0mdata_interp\u001b[0m \u001b[0;34m=\u001b[0m \u001b[0mself\u001b[0m\u001b[0;34m.\u001b[0m\u001b[0miterateAllFields\u001b[0m\u001b[0;34m(\u001b[0m\u001b[0mtmass_path\u001b[0m\u001b[0;34m)\u001b[0m\u001b[0;34m\u001b[0m\u001b[0m\n\u001b[0m\u001b[1;32m    219\u001b[0m                 \u001b[0;32mprint\u001b[0m\u001b[0;34m(\u001b[0m\u001b[0;34m\"...done.\"\u001b[0m\u001b[0;34m)\u001b[0m\u001b[0;34m\u001b[0m\u001b[0m\n\u001b[1;32m    220\u001b[0m                 \u001b[0;32mprint\u001b[0m\u001b[0;34m(\u001b[0m\u001b[0;34m\" \"\u001b[0m\u001b[0;34m)\u001b[0m\u001b[0;34m\u001b[0m\u001b[0m\n",
      "\u001b[0;32m/home/andy/Documents/Research/SFgithub/SFscripts/SelectionGrid.py\u001b[0m in \u001b[0;36miterateAllFields\u001b[0;34m(self, tmass_path)\u001b[0m\n\u001b[1;32m    451\u001b[0m         \u001b[0;31m# Create processor pools for multiprocessing\u001b[0m\u001b[0;34m\u001b[0m\u001b[0;34m\u001b[0m\u001b[0m\n\u001b[1;32m    452\u001b[0m         \u001b[0mnCores\u001b[0m \u001b[0;34m=\u001b[0m \u001b[0mmultiprocessing\u001b[0m\u001b[0;34m.\u001b[0m\u001b[0mcpu_count\u001b[0m\u001b[0;34m(\u001b[0m\u001b[0;34m)\u001b[0m\u001b[0;34m\u001b[0m\u001b[0m\n\u001b[0;32m--> 453\u001b[0;31m         \u001b[0mpool\u001b[0m \u001b[0;34m=\u001b[0m \u001b[0mmultiprocessing\u001b[0m\u001b[0;34m.\u001b[0m\u001b[0mPool\u001b[0m\u001b[0;34m(\u001b[0m \u001b[0mnCores\u001b[0m \u001b[0;34m)\u001b[0m\u001b[0;34m\u001b[0m\u001b[0m\n\u001b[0m\u001b[1;32m    454\u001b[0m \u001b[0;34m\u001b[0m\u001b[0m\n\u001b[1;32m    455\u001b[0m         \u001b[0;31m# List of fields in pointings database\u001b[0m\u001b[0;34m\u001b[0m\u001b[0;34m\u001b[0m\u001b[0m\n",
      "\u001b[0;32m/home/andy/anaconda2/lib/python2.7/multiprocessing/__init__.pyc\u001b[0m in \u001b[0;36mPool\u001b[0;34m(processes, initializer, initargs, maxtasksperchild)\u001b[0m\n\u001b[1;32m    230\u001b[0m     '''\n\u001b[1;32m    231\u001b[0m     \u001b[0;32mfrom\u001b[0m \u001b[0mmultiprocessing\u001b[0m\u001b[0;34m.\u001b[0m\u001b[0mpool\u001b[0m \u001b[0;32mimport\u001b[0m \u001b[0mPool\u001b[0m\u001b[0;34m\u001b[0m\u001b[0m\n\u001b[0;32m--> 232\u001b[0;31m     \u001b[0;32mreturn\u001b[0m \u001b[0mPool\u001b[0m\u001b[0;34m(\u001b[0m\u001b[0mprocesses\u001b[0m\u001b[0;34m,\u001b[0m \u001b[0minitializer\u001b[0m\u001b[0;34m,\u001b[0m \u001b[0minitargs\u001b[0m\u001b[0;34m,\u001b[0m \u001b[0mmaxtasksperchild\u001b[0m\u001b[0;34m)\u001b[0m\u001b[0;34m\u001b[0m\u001b[0m\n\u001b[0m\u001b[1;32m    233\u001b[0m \u001b[0;34m\u001b[0m\u001b[0m\n\u001b[1;32m    234\u001b[0m \u001b[0;32mdef\u001b[0m \u001b[0mRawValue\u001b[0m\u001b[0;34m(\u001b[0m\u001b[0mtypecode_or_type\u001b[0m\u001b[0;34m,\u001b[0m \u001b[0;34m*\u001b[0m\u001b[0margs\u001b[0m\u001b[0;34m)\u001b[0m\u001b[0;34m:\u001b[0m\u001b[0;34m\u001b[0m\u001b[0m\n",
      "\u001b[0;32m/home/andy/anaconda2/lib/python2.7/multiprocessing/pool.pyc\u001b[0m in \u001b[0;36m__init__\u001b[0;34m(self, processes, initializer, initargs, maxtasksperchild)\u001b[0m\n\u001b[1;32m    159\u001b[0m         \u001b[0mself\u001b[0m\u001b[0;34m.\u001b[0m\u001b[0m_processes\u001b[0m \u001b[0;34m=\u001b[0m \u001b[0mprocesses\u001b[0m\u001b[0;34m\u001b[0m\u001b[0m\n\u001b[1;32m    160\u001b[0m         \u001b[0mself\u001b[0m\u001b[0;34m.\u001b[0m\u001b[0m_pool\u001b[0m \u001b[0;34m=\u001b[0m \u001b[0;34m[\u001b[0m\u001b[0;34m]\u001b[0m\u001b[0;34m\u001b[0m\u001b[0m\n\u001b[0;32m--> 161\u001b[0;31m         \u001b[0mself\u001b[0m\u001b[0;34m.\u001b[0m\u001b[0m_repopulate_pool\u001b[0m\u001b[0;34m(\u001b[0m\u001b[0;34m)\u001b[0m\u001b[0;34m\u001b[0m\u001b[0m\n\u001b[0m\u001b[1;32m    162\u001b[0m \u001b[0;34m\u001b[0m\u001b[0m\n\u001b[1;32m    163\u001b[0m         self._worker_handler = threading.Thread(\n",
      "\u001b[0;32m/home/andy/anaconda2/lib/python2.7/multiprocessing/pool.pyc\u001b[0m in \u001b[0;36m_repopulate_pool\u001b[0;34m(self)\u001b[0m\n\u001b[1;32m    223\u001b[0m             \u001b[0mw\u001b[0m\u001b[0;34m.\u001b[0m\u001b[0mname\u001b[0m \u001b[0;34m=\u001b[0m \u001b[0mw\u001b[0m\u001b[0;34m.\u001b[0m\u001b[0mname\u001b[0m\u001b[0;34m.\u001b[0m\u001b[0mreplace\u001b[0m\u001b[0;34m(\u001b[0m\u001b[0;34m'Process'\u001b[0m\u001b[0;34m,\u001b[0m \u001b[0;34m'PoolWorker'\u001b[0m\u001b[0;34m)\u001b[0m\u001b[0;34m\u001b[0m\u001b[0m\n\u001b[1;32m    224\u001b[0m             \u001b[0mw\u001b[0m\u001b[0;34m.\u001b[0m\u001b[0mdaemon\u001b[0m \u001b[0;34m=\u001b[0m \u001b[0mTrue\u001b[0m\u001b[0;34m\u001b[0m\u001b[0m\n\u001b[0;32m--> 225\u001b[0;31m             \u001b[0mw\u001b[0m\u001b[0;34m.\u001b[0m\u001b[0mstart\u001b[0m\u001b[0;34m(\u001b[0m\u001b[0;34m)\u001b[0m\u001b[0;34m\u001b[0m\u001b[0m\n\u001b[0m\u001b[1;32m    226\u001b[0m             \u001b[0mdebug\u001b[0m\u001b[0;34m(\u001b[0m\u001b[0;34m'added worker'\u001b[0m\u001b[0;34m)\u001b[0m\u001b[0;34m\u001b[0m\u001b[0m\n\u001b[1;32m    227\u001b[0m \u001b[0;34m\u001b[0m\u001b[0m\n",
      "\u001b[0;32m/home/andy/anaconda2/lib/python2.7/multiprocessing/process.pyc\u001b[0m in \u001b[0;36mstart\u001b[0;34m(self)\u001b[0m\n\u001b[1;32m    128\u001b[0m         \u001b[0;32melse\u001b[0m\u001b[0;34m:\u001b[0m\u001b[0;34m\u001b[0m\u001b[0m\n\u001b[1;32m    129\u001b[0m             \u001b[0;32mfrom\u001b[0m \u001b[0;34m.\u001b[0m\u001b[0mforking\u001b[0m \u001b[0;32mimport\u001b[0m \u001b[0mPopen\u001b[0m\u001b[0;34m\u001b[0m\u001b[0m\n\u001b[0;32m--> 130\u001b[0;31m         \u001b[0mself\u001b[0m\u001b[0;34m.\u001b[0m\u001b[0m_popen\u001b[0m \u001b[0;34m=\u001b[0m \u001b[0mPopen\u001b[0m\u001b[0;34m(\u001b[0m\u001b[0mself\u001b[0m\u001b[0;34m)\u001b[0m\u001b[0;34m\u001b[0m\u001b[0m\n\u001b[0m\u001b[1;32m    131\u001b[0m         \u001b[0;31m# Avoid a refcycle if the target function holds an indirect\u001b[0m\u001b[0;34m\u001b[0m\u001b[0;34m\u001b[0m\u001b[0m\n\u001b[1;32m    132\u001b[0m         \u001b[0;31m# reference to the process object (see bpo-30775)\u001b[0m\u001b[0;34m\u001b[0m\u001b[0;34m\u001b[0m\u001b[0m\n",
      "\u001b[0;32m/home/andy/anaconda2/lib/python2.7/multiprocessing/forking.pyc\u001b[0m in \u001b[0;36m__init__\u001b[0;34m(self, process_obj)\u001b[0m\n\u001b[1;32m    119\u001b[0m             \u001b[0mself\u001b[0m\u001b[0;34m.\u001b[0m\u001b[0mreturncode\u001b[0m \u001b[0;34m=\u001b[0m \u001b[0mNone\u001b[0m\u001b[0;34m\u001b[0m\u001b[0m\n\u001b[1;32m    120\u001b[0m \u001b[0;34m\u001b[0m\u001b[0m\n\u001b[0;32m--> 121\u001b[0;31m             \u001b[0mself\u001b[0m\u001b[0;34m.\u001b[0m\u001b[0mpid\u001b[0m \u001b[0;34m=\u001b[0m \u001b[0mos\u001b[0m\u001b[0;34m.\u001b[0m\u001b[0mfork\u001b[0m\u001b[0;34m(\u001b[0m\u001b[0;34m)\u001b[0m\u001b[0;34m\u001b[0m\u001b[0m\n\u001b[0m\u001b[1;32m    122\u001b[0m             \u001b[0;32mif\u001b[0m \u001b[0mself\u001b[0m\u001b[0;34m.\u001b[0m\u001b[0mpid\u001b[0m \u001b[0;34m==\u001b[0m \u001b[0;36m0\u001b[0m\u001b[0;34m:\u001b[0m\u001b[0;34m\u001b[0m\u001b[0m\n\u001b[1;32m    123\u001b[0m                 \u001b[0;32mif\u001b[0m \u001b[0;34m'random'\u001b[0m \u001b[0;32min\u001b[0m \u001b[0msys\u001b[0m\u001b[0;34m.\u001b[0m\u001b[0mmodules\u001b[0m\u001b[0;34m:\u001b[0m\u001b[0;34m\u001b[0m\u001b[0m\n",
      "\u001b[0;31mOSError\u001b[0m: [Errno 12] Cannot allocate memory"
     ]
    }
   ],
   "source": [
    "logger = ComputerOps.LogData()\n",
    "logger.start()\n",
    "Testing = SelectionGrid.FieldInterpolator(ColMagSF_exists = False,\n",
    "                                            surveysf_exists = False,\n",
    "                                            survey='RAVE')\n",
    "logger.stop()\n",
    "logger.display()"
   ]
  },
  {
   "cell_type": "code",
   "execution_count": null,
   "metadata": {},
   "outputs": [],
   "source": []
  },
  {
   "cell_type": "code",
   "execution_count": 7,
   "metadata": {},
   "outputs": [
    {
     "name": "stdout",
     "output_type": "stream",
     "text": [
      "         224153548 function calls (223916446 primitive calls) in 189.976 seconds\n",
      "\n",
      "   Ordered by: internal time\n",
      "   List reduced from 1297 to 10 due to restriction <10>\n",
      "\n",
      "   ncalls  tottime  percall  cumtime  percall filename:lineno(function)\n",
      " 24179016   31.617    0.000   65.403    0.000 arrayprint.py:381(wrapper)\n",
      " 24179016   24.183    0.000   25.986    0.000 arrayprint.py:399(array2string)\n",
      "      202   19.646    0.097   19.667    0.097 {method 'read' of 'pandas._libs.parsers.TextReader' objects}\n",
      "      404   17.121    0.042   93.893    0.232 internals.py:4739(_transform_index)\n",
      "      394   13.627    0.035   16.858    0.043 interpolate.py:2432(_evaluate_linear)\n",
      " 24179016   10.536    0.000   75.939    0.000 numeric.py:1905(array_str)\n",
      "      201    8.577    0.043   39.644    0.197 SelectionGrid.py:839(fieldInterp)\n",
      "      394    6.000    0.015    9.456    0.024 interpolate.py:2453(_find_indices)\n",
      "     1379    3.436    0.002    3.436    0.002 {method 'searchsorted' of 'numpy.ndarray' objects}\n",
      "      200    3.266    0.016    3.266    0.016 {pandas._libs.lib.scalar_compare}\n",
      "\n",
      "\n"
     ]
    }
   ],
   "source": [
    "logger.display()"
   ]
  },
  {
   "cell_type": "code",
   "execution_count": null,
   "metadata": {},
   "outputs": [],
   "source": []
  }
 ],
 "metadata": {
  "kernelspec": {
   "display_name": "Python 2",
   "language": "python",
   "name": "python2"
  },
  "language_info": {
   "codemirror_mode": {
    "name": "ipython",
    "version": 2
   },
   "file_extension": ".py",
   "mimetype": "text/x-python",
   "name": "python",
   "nbconvert_exporter": "python",
   "pygments_lexer": "ipython2",
   "version": "2.7.14"
  }
 },
 "nbformat": 4,
 "nbformat_minor": 2
}
