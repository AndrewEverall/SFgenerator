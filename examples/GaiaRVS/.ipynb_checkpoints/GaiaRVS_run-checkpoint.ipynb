{
 "cells": [
  {
   "cell_type": "markdown",
   "metadata": {},
   "source": [
    "# 2) Gaia RVS run selection function\n",
    "\n",
    "* [Check fileinfo for the Gaia data](#check)\n",
    "* [Generate selection function](#SF)\n",
    "* [Calculate SF probabilities](#SFprob)"
   ]
  },
  {
   "cell_type": "code",
   "execution_count": 1,
   "metadata": {},
   "outputs": [],
   "source": [
    "# autoreload modules when files have been altered\n",
    "%load_ext autoreload\n",
    "%autoreload 2\n",
    "\n",
    "import os, sys, pickle\n",
    "import numpy as np\n",
    "import pandas as pd\n",
    "\n",
    "%matplotlib inline\n",
    "import matplotlib.pyplot as plt\n",
    "\n",
    "from seestar import ArrayMechanics\n",
    "from seestar import SelectionGrid\n",
    "from seestar import IsochroneScaling\n",
    "\n",
    "import seaborn as sns\n",
    "\n",
    "\n",
    "def ErrorWarning():\n",
    "    raise ValueError(\"Wait, don't run this, you don't want to!\")"
   ]
  },
  {
   "cell_type": "markdown",
   "metadata": {},
   "source": [
    "<a name=\"check\"></a>\n",
    "# Check fileinfo"
   ]
  },
  {
   "cell_type": "code",
   "execution_count": 2,
   "metadata": {},
   "outputs": [],
   "source": [
    "from seestar import surveyInfoPickler\n",
    "fileinfo_path = '/media/andy/37E3-0F91/Research/SF/SFdata/GaiaRVS/GaiaRVS_fileinfo.pickle'\n",
    "fileinfo = surveyInfoPickler.surveyInformation(fileinfo_path)"
   ]
  },
  {
   "cell_type": "code",
   "execution_count": 3,
   "metadata": {},
   "outputs": [
    {
     "name": "stdout",
     "output_type": "stream",
     "text": [
      "1) Checking file paths exist:\n",
      "OK\n",
      "\n",
      "2) Checking spectroscopic catalogue file structure:\n",
      "OK\n",
      "\n",
      "3) Checking field information file structure:\n",
      "OK\n",
      "\n",
      "4) Checking photometric catalogue file structure:\n",
      "Checking 92.csv:\n",
      "OK\n",
      "\n",
      "5) Checking selection function pickle paths exist:\n",
      "The path to your selection function pickled instance, sf_pickle_path, does not exist: /media/andy/37E3-0F91/Research/SF/SFdata/GaiaRVS/GaiaRVS_SF.pickle\n",
      "The path to your selection function pickled instance, obsSF_pickle_path, does not exist: /media/andy/37E3-0F91/Research/SF/SFdata/GaiaRVS/GaiaRVS_obsSF.pickle\n",
      "^ These files should exist for an already made selection function. If you're starting from scratch, ignore this!\n",
      "\n",
      "6) Checking isochrone pickle files exist:\n",
      "The path to isochrone data, iso_interp_path, does not exist: /media/andy/37E3-0F91/Research/SF/SFdata/GaiaRVS/isochrones/isochrone_interpolantinstances.pickle\n",
      "The path to isochrone data, iso_data_path, does not exist: /media/andy/37E3-0F91/Research/SF/SFdata/GaiaRVS/isochrones/iso_fulldata.pickle\n",
      "(At lease one of the above files mus exist to generate a selection function in intrinsic coordinates)\n"
     ]
    }
   ],
   "source": [
    "fileinfo.testFiles()"
   ]
  },
  {
   "cell_type": "code",
   "execution_count": 4,
   "metadata": {},
   "outputs": [],
   "source": [
    "# You can change the model if you like (This is the default)\n",
    "# 'GMM' = Gaussian mixture model, the number corresponds to the number of components\n",
    "fileinfo.spectro_model = ('GMM', 1)\n",
    "fileinfo.photo_model = ('GMM', 2)"
   ]
  },
  {
   "cell_type": "code",
   "execution_count": 5,
   "metadata": {},
   "outputs": [],
   "source": [
    "# Make sure to save your changes if you change anything\n",
    "fileinfo.save()"
   ]
  },
  {
   "cell_type": "markdown",
   "metadata": {},
   "source": [
    "<a name=\"SF\"></a>\n",
    "# Calculate Selection function"
   ]
  },
  {
   "cell_type": "code",
   "execution_count": 7,
   "metadata": {},
   "outputs": [
    {
     "name": "stdout",
     "output_type": "stream",
     "text": [
      "Would you like the selection function in: a) observable, b) intrinsic, c) both? (return a, b or c)a\n",
      "No observed SF found at /media/andy/37E3-0F91/Research/SF/SFdata/GaiaRVS/GaiaRVS_obsSF.pickle, we'll build observable seleciton function from scratch.\n",
      "The spectro model description is:('GMM', 1)\n",
      "The photo model description is:('GMM', 2)\n",
      "\n",
      "{'Colmin': 'Colmin', 'Colmax': 'Colmax', 'Magmax': 'Magmax', 'fieldID': 'fieldID', 'Magmin': 'Magmin'}\n",
      "Importing data for Colour-Magnitude Field interpolants...\n",
      "{'Kapp': 'appB', 'Happ': 'appC', 'glon': 'phi', 'glat': 'theta', 'Japp': 'appA', 'fieldID': 'fieldID'}\n",
      "Filtering for null values in spectro: Total star count = 24235. Filtered star count = 24235. 0 stars removed with null values\n",
      "((1.34200000763, 12.8100004196), (-0.5150003433000006, 2.0560002326999998))\n",
      "...done.\n",
      "\n",
      "Creating Colour-Magnitude Field interpolants...\n",
      "multiprocessing - observable SF calculation - running on 3 cores...\n",
      "Current field in col-mag calculation: 43, 44/108, Time: 4m, Left: -2m"
     ]
    },
    {
     "ename": "MemoryError",
     "evalue": "",
     "output_type": "error",
     "traceback": [
      "\u001b[0;31m---------------------------------------------------------------------------\u001b[0m",
      "\u001b[0;31mMemoryError\u001b[0m                               Traceback (most recent call last)",
      "\u001b[0;32m<ipython-input-7-ba33f9976e30>\u001b[0m in \u001b[0;36m<module>\u001b[0;34m()\u001b[0m\n\u001b[1;32m      1\u001b[0m \u001b[0;31m# Run the selection function\u001b[0m\u001b[0;34m\u001b[0m\u001b[0;34m\u001b[0m\u001b[0m\n\u001b[1;32m      2\u001b[0m \u001b[0mfileinfo_path\u001b[0m \u001b[0;34m=\u001b[0m \u001b[0;34m'/media/andy/37E3-0F91/Research/SF/SFdata/GaiaRVS/GaiaRVS_fileinfo.pickle'\u001b[0m\u001b[0;34m\u001b[0m\u001b[0m\n\u001b[0;32m----> 3\u001b[0;31m \u001b[0mSF\u001b[0m \u001b[0;34m=\u001b[0m \u001b[0mSelectionGrid\u001b[0m\u001b[0;34m.\u001b[0m\u001b[0mSFGenerator\u001b[0m\u001b[0;34m(\u001b[0m\u001b[0mfileinfo_path\u001b[0m\u001b[0;34m,\u001b[0m \u001b[0mncores\u001b[0m\u001b[0;34m=\u001b[0m\u001b[0;36m3\u001b[0m\u001b[0;34m)\u001b[0m\u001b[0;34m\u001b[0m\u001b[0m\n\u001b[0m",
      "\u001b[0;32m/home/andy/anaconda2/lib/python2.7/site-packages/seestar-1.2.7rc0-py2.7.egg/seestar/SelectionGrid.pyc\u001b[0m in \u001b[0;36m__init__\u001b[0;34m(self, pickleFile, ncores, memory)\u001b[0m\n\u001b[1;32m    207\u001b[0m \u001b[0;34m\u001b[0m\u001b[0m\n\u001b[1;32m    208\u001b[0m                 \u001b[0;32mprint\u001b[0m\u001b[0;34m(\u001b[0m\u001b[0;34m'Creating Colour-Magnitude Field interpolants...'\u001b[0m\u001b[0;34m)\u001b[0m\u001b[0;34m\u001b[0m\u001b[0m\n\u001b[0;32m--> 209\u001b[0;31m                 \u001b[0mobsSF_dicts\u001b[0m \u001b[0;34m=\u001b[0m \u001b[0mself\u001b[0m\u001b[0;34m.\u001b[0m\u001b[0miterateAllFields\u001b[0m\u001b[0;34m(\u001b[0m\u001b[0;34m)\u001b[0m\u001b[0;34m\u001b[0m\u001b[0m\n\u001b[0m\u001b[1;32m    210\u001b[0m                 \u001b[0;32mprint\u001b[0m\u001b[0;34m(\u001b[0m\u001b[0;34m'\\nnow pickling them...'\u001b[0m\u001b[0;34m)\u001b[0m\u001b[0;34m\u001b[0m\u001b[0m\n\u001b[1;32m    211\u001b[0m                 \u001b[0;32mwith\u001b[0m \u001b[0mopen\u001b[0m\u001b[0;34m(\u001b[0m\u001b[0mobsSF_pickle_path\u001b[0m\u001b[0;34m,\u001b[0m \u001b[0;34m'wb'\u001b[0m\u001b[0;34m)\u001b[0m \u001b[0;32mas\u001b[0m \u001b[0mhandle\u001b[0m\u001b[0;34m:\u001b[0m\u001b[0;34m\u001b[0m\u001b[0m\n",
      "\u001b[0;32m/home/andy/anaconda2/lib/python2.7/site-packages/seestar-1.2.7rc0-py2.7.egg/seestar/SelectionGrid.pyc\u001b[0m in \u001b[0;36miterateAllFields\u001b[0;34m(self)\u001b[0m\n\u001b[1;32m    443\u001b[0m                                         tstart=start, fieldN=len(field_list))\n\u001b[1;32m    444\u001b[0m             \u001b[0;31m# Run class obsMultiFunction.__call___ as external function for each field\u001b[0m\u001b[0;34m\u001b[0m\u001b[0;34m\u001b[0m\u001b[0m\n\u001b[0;32m--> 445\u001b[0;31m             \u001b[0mresults\u001b[0m \u001b[0;34m=\u001b[0m \u001b[0mpool\u001b[0m\u001b[0;34m.\u001b[0m\u001b[0mmap\u001b[0m\u001b[0;34m(\u001b[0m\u001b[0miter_inst\u001b[0m\u001b[0;34m,\u001b[0m \u001b[0mfield_iter\u001b[0m\u001b[0;34m)\u001b[0m\u001b[0;34m\u001b[0m\u001b[0m\n\u001b[0m\u001b[1;32m    446\u001b[0m \u001b[0;34m\u001b[0m\u001b[0m\n\u001b[1;32m    447\u001b[0m             \u001b[0;31m# Exit the pools as they won't be used again\u001b[0m\u001b[0;34m\u001b[0m\u001b[0;34m\u001b[0m\u001b[0m\n",
      "\u001b[0;32m/home/andy/anaconda2/lib/python2.7/multiprocessing/pool.pyc\u001b[0m in \u001b[0;36mmap\u001b[0;34m(self, func, iterable, chunksize)\u001b[0m\n\u001b[1;32m    251\u001b[0m         '''\n\u001b[1;32m    252\u001b[0m         \u001b[0;32massert\u001b[0m \u001b[0mself\u001b[0m\u001b[0;34m.\u001b[0m\u001b[0m_state\u001b[0m \u001b[0;34m==\u001b[0m \u001b[0mRUN\u001b[0m\u001b[0;34m\u001b[0m\u001b[0m\n\u001b[0;32m--> 253\u001b[0;31m         \u001b[0;32mreturn\u001b[0m \u001b[0mself\u001b[0m\u001b[0;34m.\u001b[0m\u001b[0mmap_async\u001b[0m\u001b[0;34m(\u001b[0m\u001b[0mfunc\u001b[0m\u001b[0;34m,\u001b[0m \u001b[0miterable\u001b[0m\u001b[0;34m,\u001b[0m \u001b[0mchunksize\u001b[0m\u001b[0;34m)\u001b[0m\u001b[0;34m.\u001b[0m\u001b[0mget\u001b[0m\u001b[0;34m(\u001b[0m\u001b[0;34m)\u001b[0m\u001b[0;34m\u001b[0m\u001b[0m\n\u001b[0m\u001b[1;32m    254\u001b[0m \u001b[0;34m\u001b[0m\u001b[0m\n\u001b[1;32m    255\u001b[0m     \u001b[0;32mdef\u001b[0m \u001b[0mimap\u001b[0m\u001b[0;34m(\u001b[0m\u001b[0mself\u001b[0m\u001b[0;34m,\u001b[0m \u001b[0mfunc\u001b[0m\u001b[0;34m,\u001b[0m \u001b[0miterable\u001b[0m\u001b[0;34m,\u001b[0m \u001b[0mchunksize\u001b[0m\u001b[0;34m=\u001b[0m\u001b[0;36m1\u001b[0m\u001b[0;34m)\u001b[0m\u001b[0;34m:\u001b[0m\u001b[0;34m\u001b[0m\u001b[0m\n",
      "\u001b[0;32m/home/andy/anaconda2/lib/python2.7/multiprocessing/pool.pyc\u001b[0m in \u001b[0;36mget\u001b[0;34m(self, timeout)\u001b[0m\n\u001b[1;32m    570\u001b[0m             \u001b[0;32mreturn\u001b[0m \u001b[0mself\u001b[0m\u001b[0;34m.\u001b[0m\u001b[0m_value\u001b[0m\u001b[0;34m\u001b[0m\u001b[0m\n\u001b[1;32m    571\u001b[0m         \u001b[0;32melse\u001b[0m\u001b[0;34m:\u001b[0m\u001b[0;34m\u001b[0m\u001b[0m\n\u001b[0;32m--> 572\u001b[0;31m             \u001b[0;32mraise\u001b[0m \u001b[0mself\u001b[0m\u001b[0;34m.\u001b[0m\u001b[0m_value\u001b[0m\u001b[0;34m\u001b[0m\u001b[0m\n\u001b[0m\u001b[1;32m    573\u001b[0m \u001b[0;34m\u001b[0m\u001b[0m\n\u001b[1;32m    574\u001b[0m     \u001b[0;32mdef\u001b[0m \u001b[0m_set\u001b[0m\u001b[0;34m(\u001b[0m\u001b[0mself\u001b[0m\u001b[0;34m,\u001b[0m \u001b[0mi\u001b[0m\u001b[0;34m,\u001b[0m \u001b[0mobj\u001b[0m\u001b[0;34m)\u001b[0m\u001b[0;34m:\u001b[0m\u001b[0;34m\u001b[0m\u001b[0m\n",
      "\u001b[0;31mMemoryError\u001b[0m: "
     ]
    },
    {
     "name": "stdout",
     "output_type": "stream",
     "text": [
      "Current field in col-mag calculation: 72, 73/108, Time: 5m, Left: -1m"
     ]
    },
    {
     "name": "stderr",
     "output_type": "stream",
     "text": [
      "Process PoolWorker-4:\n",
      "Traceback (most recent call last):\n",
      "  File \"/home/andy/anaconda2/lib/python2.7/multiprocessing/process.py\", line 267, in _bootstrap\n",
      "    self.run()\n",
      "Process PoolWorker-3:\n",
      "Traceback (most recent call last):\n",
      "  File \"/home/andy/anaconda2/lib/python2.7/multiprocessing/process.py\", line 267, in _bootstrap\n",
      "    self.run()\n",
      "  File \"/home/andy/anaconda2/lib/python2.7/multiprocessing/process.py\", line 114, in run\n",
      "  File \"/home/andy/anaconda2/lib/python2.7/multiprocessing/process.py\", line 114, in run\n",
      "    self._target(*self._args, **self._kwargs)\n",
      "  File \"/home/andy/anaconda2/lib/python2.7/multiprocessing/pool.py\", line 113, in worker\n",
      "    self._target(*self._args, **self._kwargs)\n",
      "    result = (True, func(*args, **kwds))\n",
      "  File \"/home/andy/anaconda2/lib/python2.7/multiprocessing/pool.py\", line 113, in worker\n",
      "  File \"/home/andy/anaconda2/lib/python2.7/multiprocessing/pool.py\", line 65, in mapstar\n",
      "    result = (True, func(*args, **kwds))\n",
      "    return map(*args)\n",
      "  File \"build/bdist.linux-x86_64/egg/seestar/SelectionGrid.py\", line 823, in __call__\n",
      "    spectro_model=self.spectro_model, photo_model=self.photo_model)\n",
      "  File \"build/bdist.linux-x86_64/egg/seestar/SelectionGrid.py\", line 880, in iterateField\n",
      "  File \"/home/andy/anaconda2/lib/python2.7/multiprocessing/pool.py\", line 65, in mapstar\n",
      "    return map(*args)\n",
      "  File \"build/bdist.linux-x86_64/egg/seestar/SelectionGrid.py\", line 823, in __call__\n",
      "    spectro_model=self.spectro_model, photo_model=self.photo_model)\n",
      "    except IOError: photo_points = pd.read_csv(photofile)\n",
      "  File \"/home/andy/anaconda2/lib/python2.7/site-packages/pandas/io/parsers.py\", line 655, in parser_f\n",
      "  File \"build/bdist.linux-x86_64/egg/seestar/SelectionGrid.py\", line 884, in iterateField\n",
      "    return _read(filepath_or_buffer, kwds)\n",
      "    columns=dict(zip(photo_coords[2:5], coords)))\n",
      "  File \"/home/andy/anaconda2/lib/python2.7/site-packages/pandas/core/frame.py\", line 2746, in rename\n",
      "    **kwargs)\n",
      "  File \"/home/andy/anaconda2/lib/python2.7/site-packages/pandas/core/generic.py\", line 727, in rename\n",
      "  File \"/home/andy/anaconda2/lib/python2.7/site-packages/pandas/io/parsers.py\", line 411, in _read\n",
      "    data = parser.read(nrows)\n",
      "    level=level)\n",
      "  File \"/home/andy/anaconda2/lib/python2.7/site-packages/pandas/core/internals.py\", line 2853, in rename_axis\n",
      "  File \"/home/andy/anaconda2/lib/python2.7/site-packages/pandas/io/parsers.py\", line 1005, in read\n",
      "    obj.set_axis(axis, _transform_index(self.axes[axis], mapper, level))\n",
      "  File \"/home/andy/anaconda2/lib/python2.7/site-packages/pandas/core/internals.py\", line 4755, in _transform_index\n",
      "    items = [func(x) for x in index]\n",
      "KeyboardInterrupt\n",
      "    ret = self._engine.read(nrows)\n",
      "  File \"/home/andy/anaconda2/lib/python2.7/site-packages/pandas/io/parsers.py\", line 1748, in read\n",
      "    data = self._reader.read(nrows)\n",
      "  File \"pandas/_libs/parsers.pyx\", line 890, in pandas._libs.parsers.TextReader.read (pandas/_libs/parsers.c:10862)\n",
      "  File \"pandas/_libs/parsers.pyx\", line 912, in pandas._libs.parsers.TextReader._read_low_memory (pandas/_libs/parsers.c:11138)\n",
      "  File \"pandas/_libs/parsers.pyx\", line 989, in pandas._libs.parsers.TextReader._read_rows (pandas/_libs/parsers.c:12175)\n",
      "  File \"pandas/_libs/parsers.pyx\", line 1117, in pandas._libs.parsers.TextReader._convert_column_data (pandas/_libs/parsers.c:14136)\n",
      "  File \"pandas/_libs/parsers.pyx\", line 1162, in pandas._libs.parsers.TextReader._convert_tokens (pandas/_libs/parsers.c:14858)\n",
      "  File \"pandas/_libs/parsers.pyx\", line 1208, in pandas._libs.parsers.TextReader._convert_with_dtype (pandas/_libs/parsers.c:15629)\n",
      "  File \"/home/andy/anaconda2/lib/python2.7/site-packages/pandas/core/dtypes/common.py\", line 740, in is_integer_dtype\n",
      "    def is_integer_dtype(arr_or_dtype):\n",
      "KeyboardInterrupt\n",
      "Process PoolWorker-1:\n",
      "Traceback (most recent call last):\n",
      "  File \"/home/andy/anaconda2/lib/python2.7/multiprocessing/process.py\", line 267, in _bootstrap\n",
      "    self.run()\n",
      "  File \"/home/andy/anaconda2/lib/python2.7/multiprocessing/process.py\", line 114, in run\n",
      "    self._target(*self._args, **self._kwargs)\n",
      "  File \"/home/andy/anaconda2/lib/python2.7/multiprocessing/pool.py\", line 113, in worker\n",
      "    result = (True, func(*args, **kwds))\n",
      "  File \"/home/andy/anaconda2/lib/python2.7/multiprocessing/pool.py\", line 65, in mapstar\n",
      "    return map(*args)\n",
      "  File \"build/bdist.linux-x86_64/egg/seestar/SelectionGrid.py\", line 823, in __call__\n",
      "    spectro_model=self.spectro_model, photo_model=self.photo_model)\n",
      "  File \"build/bdist.linux-x86_64/egg/seestar/SelectionGrid.py\", line 880, in iterateField\n",
      "    except IOError: photo_points = pd.read_csv(photofile)\n",
      "  File \"/home/andy/anaconda2/lib/python2.7/site-packages/pandas/io/parsers.py\", line 655, in parser_f\n",
      "    return _read(filepath_or_buffer, kwds)\n",
      "  File \"/home/andy/anaconda2/lib/python2.7/site-packages/pandas/io/parsers.py\", line 411, in _read\n",
      "    data = parser.read(nrows)\n",
      "  File \"/home/andy/anaconda2/lib/python2.7/site-packages/pandas/io/parsers.py\", line 1005, in read\n",
      "    ret = self._engine.read(nrows)\n",
      "  File \"/home/andy/anaconda2/lib/python2.7/site-packages/pandas/io/parsers.py\", line 1748, in read\n",
      "    data = self._reader.read(nrows)\n",
      "  File \"pandas/_libs/parsers.pyx\", line 890, in pandas._libs.parsers.TextReader.read (pandas/_libs/parsers.c:10862)\n",
      "  File \"pandas/_libs/parsers.pyx\", line 912, in pandas._libs.parsers.TextReader._read_low_memory (pandas/_libs/parsers.c:11138)\n",
      "  File \"pandas/_libs/parsers.pyx\", line 989, in pandas._libs.parsers.TextReader._read_rows (pandas/_libs/parsers.c:12175)\n",
      "  File \"pandas/_libs/parsers.pyx\", line 1117, in pandas._libs.parsers.TextReader._convert_column_data (pandas/_libs/parsers.c:14136)\n",
      "  File \"pandas/_libs/parsers.pyx\", line 1162, in pandas._libs.parsers.TextReader._convert_tokens (pandas/_libs/parsers.c:14858)\n",
      "  File \"pandas/_libs/parsers.pyx\", line 1208, in pandas._libs.parsers.TextReader._convert_with_dtype (pandas/_libs/parsers.c:15629)\n",
      "  File \"/home/andy/anaconda2/lib/python2.7/site-packages/pandas/core/dtypes/common.py\", line 740, in is_integer_dtype\n",
      "    def is_integer_dtype(arr_or_dtype):\n",
      "KeyboardInterrupt\n"
     ]
    }
   ],
   "source": [
    "# Run the selection function\n",
    "fileinfo_path = '/media/andy/37E3-0F91/Research/SF/SFdata/GaiaRVS/GaiaRVS_fileinfo.pickle'\n",
    "SF = SelectionGrid.SFGenerator(fileinfo_path, ncores=1)\n",
    "\n",
    "# When running in parallel, the field counting can mess up a bit because the pools get disordered"
   ]
  },
  {
   "cell_type": "markdown",
   "metadata": {},
   "source": [
    "<a name=\"SFprob\"></a>\n",
    "# Calculate Selection function probabilities for dataset"
   ]
  },
  {
   "cell_type": "code",
   "execution_count": null,
   "metadata": {},
   "outputs": [],
   "source": [
    "# Dataset to run selection function on\n",
    "survey = pd.read_csv(fileinfo.spectro_path)\n",
    "survey['Colour'] = survey[fileinfo.spectro_coords[3]] - survey[fileinfo.spectro_coords[4]]"
   ]
  },
  {
   "cell_type": "code",
   "execution_count": null,
   "metadata": {},
   "outputs": [],
   "source": [
    "# Run the selection function on the given dataset\n",
    "survey = SF(survey, method='observable', coords=['Happ', 'Colour'], angle_coords=['glon', 'glat'])\n",
    "survey['union_obs'] = sub.union"
   ]
  }
 ],
 "metadata": {
  "kernelspec": {
   "display_name": "Python 2",
   "language": "python",
   "name": "python2"
  },
  "language_info": {
   "codemirror_mode": {
    "name": "ipython",
    "version": 2
   },
   "file_extension": ".py",
   "mimetype": "text/x-python",
   "name": "python",
   "nbconvert_exporter": "python",
   "pygments_lexer": "ipython2",
   "version": "2.7.14"
  }
 },
 "nbformat": 4,
 "nbformat_minor": 2
}
