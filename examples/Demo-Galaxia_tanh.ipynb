{
 "cells": [
  {
   "cell_type": "markdown",
   "metadata": {},
   "source": [
    "# Demo file for generating and analysing the tanh mock selection function."
   ]
  },
  {
   "cell_type": "code",
   "execution_count": 16,
   "metadata": {},
   "outputs": [
    {
     "name": "stdout",
     "output_type": "stream",
     "text": [
      "The autoreload extension is already loaded. To reload it, use:\n",
      "  %reload_ext autoreload\n"
     ]
    }
   ],
   "source": [
    "%load_ext autoreload\n",
    "%autoreload 2\n",
    "\n",
    "import sys, os\n",
    "import numpy as np, pandas as pd\n",
    "import scipy, h5py\n",
    "\n",
    "import warnings\n",
    "warnings.filterwarnings(\"ignore\", message=\"numpy.dtype size changed\")\n",
    "\n",
    "from matplotlib import pyplot as plt, cm\n",
    "from matplotlib.pyplot import NullFormatter\n",
    "import matplotlib\n",
    "from matplotlib.colors import LogNorm\n",
    "%matplotlib inline"
   ]
  },
  {
   "cell_type": "code",
   "execution_count": 17,
   "metadata": {},
   "outputs": [],
   "source": [
    "font = {'family' : 'normal',\n",
    "        'weight' : 'bold',\n",
    "        'size'   : 30}\n",
    "matplotlib.rc('font', **font)"
   ]
  },
  {
   "cell_type": "code",
   "execution_count": 18,
   "metadata": {},
   "outputs": [],
   "source": [
    "from seestar import SelectionGrid, IsochroneScaling"
   ]
  },
  {
   "cell_type": "markdown",
   "metadata": {},
   "source": [
    "# Running selection function"
   ]
  },
  {
   "cell_type": "code",
   "execution_count": 19,
   "metadata": {},
   "outputs": [],
   "source": [
    "folder = '/home/andy/Documents/Research/SF/SFdata/Galaxia_data/'\n",
    "iso_folder = '/home/andy/Documents/Research/SF/SFdata/'"
   ]
  },
  {
   "cell_type": "markdown",
   "metadata": {},
   "source": [
    "sys.path.append('/home/andy/Documents/Research/SF/GitRepo/seestar/')\n",
    "import SelectionGrid, IsochroneScaling, StatisticalModels, SFInstanceClasses"
   ]
  },
  {
   "cell_type": "markdown",
   "metadata": {},
   "source": [
    "## New selection functions"
   ]
  },
  {
   "cell_type": "code",
   "execution_count": 20,
   "metadata": {},
   "outputs": [],
   "source": [
    "survey = pd.read_csv(folder + '/Galaxia_sf_survey.csv')\n",
    "survey['Colour'] = survey.Japp-survey.Kapp\n",
    "\n",
    "pointings = pd.read_csv(folder + '/Galaxia_sf_fieldinfo.csv')\n",
    "pointings = pointings[['fieldID', 'glon', 'glat', 'halfangle','Magmin', 'Magmax', 'Colmin', 'Colmax']]\n",
    "pointings.rename({'glon':'phi', 'glat':'theta'})\n",
    "\n",
    "pointings = pointings[1:]\n",
    "pointings.Magmin = 4.\n",
    "pointings.Magmax = 15.\n",
    "pointings.Colmin = -0.1\n",
    "pointings.Colmax = 1.2"
   ]
  },
  {
   "cell_type": "code",
   "execution_count": 21,
   "metadata": {},
   "outputs": [],
   "source": [
    "def get_photo(field):\n",
    "    \n",
    "    file_path = folder + '/photometric/'+str(field)+'.csv'\n",
    "    field_data = pd.read_csv(file_path, usecols=['Japp', 'Happ', 'Kapp'])\n",
    "    \n",
    "    field_data['Colour'] = field_data.Japp - field_data.Kapp\n",
    "    field_data = np.array(field_data[['Happ', 'Colour']])\n",
    "    \n",
    "    # Probability of inclusion\n",
    "    p = np.ones(field_data.shape[0])\n",
    "    p = np.exp(-(field_data[:,0]-14.5)**2/0.5**2)\n",
    "    #p = 1-1/(1+np.exp(-(field_data[:,0]-14.5)*3))\n",
    "    p[field_data[:,0]<14.5] = 1.\n",
    "    survive = np.random.rand(field_data.shape[0])<p\n",
    "    \n",
    "    return field_data[survive]\n",
    "\n",
    "\n",
    "def p_tanh(x, y):\n",
    "    p = 0.1 * (1-np.tanh((x-13.5)/np.exp(-2)))/2\\\n",
    "            * (1+np.tanh((y-0.5)/np.exp(-2)))/2\n",
    "    return p\n",
    "\n",
    "def get_spectro(field):\n",
    "    \n",
    "    # Get photometric data\n",
    "    file_path = folder + '/photometric/'+str(field)+'.csv'\n",
    "    field_data = pd.read_csv(file_path, usecols=['Japp', 'Happ', 'Kapp'])\n",
    "    field_data['Colour'] = field_data.Japp - field_data.Kapp\n",
    "    field_data = np.array(field_data[['Happ', 'Colour']])\n",
    "    \n",
    "    p = p_rave(field_data[:,0], field_data[:,1])\n",
    "    \n",
    "    survive = np.random.rand(field_data.shape[0])<p\n",
    "    \n",
    "    return field_data[survive]"
   ]
  },
  {
   "cell_type": "code",
   "execution_count": 22,
   "metadata": {},
   "outputs": [
    {
     "name": "stdout",
     "output_type": "stream",
     "text": [
      "The spectro model description is:('BGM_TNC', None)\n",
      "The photo model description is:('BGM_TNC', None)\n"
     ]
    }
   ],
   "source": [
    "# Initialise class\n",
    "SF = SelectionGrid.SFGenerator(get_spectro, get_photo, pointings, \n",
    "                              spectro_model=('BGM_TNC', None), photo_model=('BGM_TNC', None))"
   ]
  },
  {
   "cell_type": "code",
   "execution_count": 13,
   "metadata": {},
   "outputs": [],
   "source": [
    "# Load in the isochrone interpolant\n",
    "IsoCalculator = IsochroneScaling.IntrinsicToObservable()\n",
    "IsoCalculator.LoadColMag(iso_folder+'isochrones/isochrone_interpolantinstances.pickle')"
   ]
  },
  {
   "cell_type": "markdown",
   "metadata": {},
   "source": [
    "## Generate new selection functions"
   ]
  },
  {
   "cell_type": "code",
   "execution_count": 23,
   "metadata": {},
   "outputs": [
    {
     "name": "stdout",
     "output_type": "stream",
     "text": [
      "The spectro model description is:('BGM_TNC', None)\n",
      "The photo model description is:('BGM_TNC', None)\n",
      "Creating colour-magnitude field interpolants...\n",
      "Finished col-mag calculation: 2.0, 1/2, Time: 0.00m, Left: 0.00m('Prior boundaries: ', array([[ 4. , 15. ],\n",
      "       [-0.1,  1.2]]))\n",
      "('N stars = ', 7996)\n",
      "('priorParams: ', [array([9.5 , 0.55]), 0.0001, array([[0.53777778, 0.        ],\n",
      "       [0.        , 0.00751111]]), 2.0])\n",
      "Running BGM\n",
      "(2, '  BIC: ', -83467.4646592805, '   lnP: ', 41787.65250981397)\n",
      "(3, '  BIC: ', -85036.08558992397, '   lnP: ', 42598.92306522257)\n",
      "(4, '  BIC: ', -86710.63354766592, '   lnP: ', 43463.1571341804)\n",
      "(5, '  BIC: ', -87211.20945545776, '   lnP: ', 43740.405178163186)\n",
      "(6, '  BIC: ', -87897.70934632185, '   lnP: ', 44110.61521368209)\n",
      "(7, '  BIC: ', -88214.45835395543, '   lnP: ', 44295.94980758574)\n",
      "(8, '  BIC: ', -88309.78894852847, '   lnP: ', 44370.57519495912)\n",
      "(9, '  BIC: ', -88499.02896963629, '   lnP: ', 44492.15529559989)\n",
      "(10, '  BIC: ', -88609.29484383867, '   lnP: ', 44574.24832278794)\n",
      "(11, '  BIC: ', -88745.3278134732, '   lnP: ', 44669.22489769207)\n",
      "(12, '  BIC: ', -88720.7430022133, '   lnP: ', 44683.89258214898)\n",
      "(13, '  BIC: ', -88757.6306337933, '   lnP: ', 44729.296488025844)\n",
      "(14, '  BIC: ', -88803.32768934923, '   lnP: ', 44779.10510589067)\n",
      "(15, '  BIC: ', -88785.7337640853, '   lnP: ', 44797.26823334556)\n",
      "(16, '  BIC: ', -88821.11608594167, '   lnP: ', 44841.91948436061)\n",
      "(17, '  BIC: ', -88742.1268947867, '   lnP: ', 44829.38497886999)\n",
      "(18, '  BIC: ', -88710.38081345361, '   lnP: ', 44840.4720282903)\n",
      "Using BGMM_df.\n",
      "('Best components: ', 16)\n",
      "('Param shape: ', (16, 6))\n",
      "\n",
      "('Prior boundaries: ', array([[ 4. , 15. ],\n",
      "       [-0.1,  1.2]]))\n",
      "('N stars = ', 69)\n",
      "('priorParams: ', [array([-0.528032  ,  0.89580247]), 0.0001, array([[0.50273522, 0.        ],\n",
      "       [0.        , 0.32646974]]), 2.0])\n",
      "('BGM', array([247.35091687, 247.35091658]), '  Test: ', 247.35091658192468)\n",
      "(1, '   BIC: ', 516.0010166546404, '   lnP: ', -247.35091658192468, '   lnL: ', -245.29818881352838)\n",
      "(1, '   BIC: ', 516.0010166546404, '   AIC: ', 502.59637762705677, '   AICc: ', 503.59637762705677)\n",
      "('KMS', array([234.35140566, 234.35140832]), '  Test: ', 234.35140565837156)\n",
      "(2, '   BIC: ', 533.782141374191, '   lnP: ', -234.35140565837156, '   lnL: ', -241.486431659512)\n",
      "(2, '   BIC: ', 533.782141374191, '   AIC: ', 506.972863319024, '   AICc: ', 511.972863319024)\n",
      "('BGM', array([241.0333673 , 215.44808515]), '  Test: ', 215.44808514820966)\n",
      "(3, '   BIC: ', 547.3765704681983, '   lnP: ', -215.44808514820966, '   lnL: ', -235.58132669272385)\n",
      "(3, '   BIC: ', 547.3765704681983, '   AIC: ', 507.1626533854477, '   AICc: ', 520.1626533854477)\n",
      "('KMS', array([204.1964903 , 217.78054994]), '  Test: ', 204.1964903012116)\n",
      "(4, '   BIC: ', 567.1001926501895, '   lnP: ', -204.1964903012116, '   lnL: ', -232.74081826992762)\n",
      "(4, '   BIC: ', 567.1001926501895, '   AIC: ', 513.4816365398552, '   AICc: ', 540.4816365398552)\n",
      "('KMS', array([189.70365212, 237.44523858]), '  Test: ', 189.7036521156332)\n",
      "(5, '   BIC: ', 587.2828826761414, '   lnP: ', -189.7036521156332, '   lnL: ', -230.1298437691118)\n",
      "(5, '   BIC: ', 587.2828826761414, '   AIC: ', 520.2596875382236, '   AICc: ', 568.2596875382236)\n",
      "('KMS', array([184.1922329 , 193.60481483]), '  Test: ', 184.19223290479178)\n",
      "(6, '   BIC: ', 609.4712082761753, '   lnP: ', -184.19223290479178, '   lnL: ', -228.521687055337)\n",
      "(6, '   BIC: ', 609.4712082761753, '   AIC: ', 529.043374110674, '   AICc: ', 612.043374110674)\n",
      "('KMS', array([157.60265734, 181.68519905]), '  Test: ', 157.6026573444522)\n",
      "(7, '   BIC: ', 619.0648361531408, '   lnP: ', -157.6026573444522, '   lnL: ', -220.616181480028)\n",
      "(7, '   BIC: ', 619.0648361531408, '   AIC: ', 525.232362960056, '   AICc: ', 663.232362960056)\n",
      "('KMS', array([156.02520211, 175.0264901 ]), '  Test: ', 156.02520210809047)\n",
      "(8, '   BIC: ', 654.7361588913432, '   lnP: ', -156.02520210809047, '   lnL: ', -225.74952333533736)\n",
      "(8, '   BIC: ', 654.7361588913432, '   AIC: ', 547.4990466706747, '   AICc: ', 782.4990466706747)\n",
      "('KMS', array([162.15902693, 193.01242737]), '  Test: ', 162.15902693462112)\n",
      "(9, '   BIC: ', 692.9166132726032, '   lnP: ', -162.15902693462112, '   lnL: ', -232.13743101217557)\n",
      "(9, '   BIC: ', 692.9166132726032, '   AIC: ', 572.2748620243511, '   AICc: ', 996.2748620243511)\n",
      "('KMS', array([129.08463089, 148.73563979]), '  Test: ', 129.08463088835205)\n",
      "(10, '   BIC: ', 690.2223834177386, '   lnP: ', -129.08463088835205, '   lnL: ', -218.0879965709515)\n",
      "(10, '   BIC: ', 690.2223834177386, '   AIC: ', 556.1759931419031, '   AICc: ', 1471.175993141903)\n",
      "('BGM', array([150.55668124, 133.04529857]), '  Test: ', 133.04529856659815)\n",
      "(11, '   BIC: ', 747.4296373647803, '   lnP: ', -133.04529856659815, '   lnL: ', -233.9893040306806)\n",
      "(11, '   BIC: ', 747.4296373647803, '   AIC: ', 599.9786080613612, '   AICc: ', 5021.978608061361)\n",
      "('KMS', array([155.41580814, 192.21040088]), '  Test: ', 155.41580813766961)\n",
      "(12, '   BIC: ', 784.170463023028, '   lnP: ', -155.41580813766961, '   lnL: ', -239.65739734601266)\n",
      "(12, '   BIC: ', 784.170463023028, '   AIC: ', 623.3147946920253, '   AICc: ', -2004.6852053079747)\n",
      "('KMS', array([140.1745419, 185.8928282]), '  Test: ', 140.17454190447262)\n",
      "(13, '   BIC: ', 792.6164635689054, '   lnP: ', -140.17454190447262, '   lnL: ', -231.17807810515953)\n",
      "(13, '   BIC: ', 792.6164635689054, '   AIC: ', 618.3561562103191, '   AICc: ', -614.6438437896809)\n",
      "('KMS', array([ 92.91645436, 118.73263971]), '  Test: ', 92.91645435542489)\n",
      "(14, '   BIC: ', 784.1868130787345, '   lnP: ', -92.91645435542489, '   lnL: ', -214.2609333462824)\n",
      "(14, '   BIC: ', 784.1868130787345, '   AIC: ', 596.5218666925648, '   AICc: ', -296.4781333074352)\n",
      "('BGM', array([104.92530735, 101.93382756]), '  Test: ', 101.93382756017485)\n",
      "(15, '   BIC: ', 859.4429073042756, '   lnP: ', -101.93382756017485, '   lnL: ', -239.1866609452611)\n",
      "(15, '   BIC: ', 859.4429073042756, '   AIC: ', 658.3733218905222, '   AICc: ', -86.62667810947778)\n",
      "Using TNC_sf_SFonly\n",
      "('Best components (posterior): ', 14)\n",
      "('Best components (BIC): ', 1)\n",
      "('Param shape: ', (1, 6))\n",
      "\n",
      "Finished col-mag calculation: 3.0, 2/2, Time: 15.00m, Left: 15.00m('Prior boundaries: ', array([[ 4. , 15. ],\n",
      "       [-0.1,  1.2]]))\n",
      "('N stars = ', 7784)\n",
      "('priorParams: ', [array([9.5 , 0.55]), 0.0001, array([[0.53777778, 0.        ],\n",
      "       [0.        , 0.00751111]]), 2.0])\n",
      "Running BGM\n",
      "(2, '  BIC: ', -81858.90370254341, '   lnP: ', 40983.210805014896)\n",
      "(3, '  BIC: ', -83296.63081088812, '   lnP: ', 41728.953836058856)\n",
      "(4, '  BIC: ', -84993.89763356955, '   lnP: ', 42604.466724271166)\n",
      "(5, '  BIC: ', -85733.97295116461, '   lnP: ', 43001.383859940295)\n",
      "(6, '  BIC: ', -86141.91063439118, '   lnP: ', 43232.232178425176)\n",
      "(7, '  BIC: ', -86450.04850533299, '   lnP: ', 43413.180590767675)\n",
      "(8, '  BIC: ', -86645.6655018102, '   lnP: ', 43537.868565877885)\n",
      "(9, '  BIC: ', -86746.96658483961, '   lnP: ', 43615.398584264185)\n",
      "(10, '  BIC: ', -86813.78270402094, '   lnP: ', 43675.686120726445)\n",
      "(11, '  BIC: ', -86976.69692910601, '   lnP: ', 43784.022710140576)\n",
      "(12, '  BIC: ', -87006.51378510256, '   lnP: ', 43825.81061501045)\n",
      "(13, '  BIC: ', -87044.23889495298, '   lnP: ', 43871.552646807264)\n",
      "(14, '  BIC: ', -87027.7023583154, '   lnP: ', 43890.163855360064)\n",
      "(15, '  BIC: ', -87044.57405912734, '   lnP: ', 43925.47918263763)\n",
      "(16, '  BIC: ', -87035.50883700205, '   lnP: ', 43947.826048446586)\n",
      "(17, '  BIC: ', -87018.30826890527, '   lnP: ', 43966.10524126979)\n",
      "Using BGMM_df.\n",
      "('Best components: ', 15)\n",
      "('Param shape: ', (15, 6))\n",
      "\n",
      "('Prior boundaries: ', array([[ 4. , 15. ],\n",
      "       [-0.1,  1.2]]))\n",
      "('N stars = ', 79)\n",
      "('priorParams: ', [array([-0.52871316,  0.77446563]), 0.0001, array([[0.54889969, 0.        ],\n",
      "       [0.        , 0.26521968]]), 2.0])\n",
      "('BGM', array([270.99958949, 270.99958944]), '  Test: ', 270.9995894353938)\n",
      "(1, '   BIC: ', 561.4383229697847, '   lnP: ', -270.9995894353938, '   lnL: ', -267.6108179274913)\n",
      "(1, '   BIC: ', 561.4383229697847, '   AIC: ', 547.2216358549827, '   AICc: ', 548.2216358549827)\n",
      "('KMS', array([255.02417732, 258.19902469]), '  Test: ', 255.0241773240337)\n",
      "(2, '   BIC: ', 578.7120442308635, '   lnP: ', -255.0241773240337, '   lnL: ', -263.1393350006296)\n",
      "(2, '   BIC: ', 578.7120442308635, '   AIC: ', 550.2786700012592, '   AICc: ', 554.2786700012592)\n"
     ]
    },
    {
     "name": "stdout",
     "output_type": "stream",
     "text": [
      "('BGM', array([253.87445888, 245.8726243 ]), '  Test: ', 245.87262430089874)\n",
      "(3, '   BIC: ', 603.5306939213749, '   lnP: ', -245.87262430089874, '   lnL: ', -262.44031628848427)\n",
      "(3, '   BIC: ', 603.5306939213749, '   AIC: ', 560.8806325769685, '   AICc: ', 571.8806325769685)\n",
      "('BGM', array([239.94249757, 228.51747878]), '  Test: ', 228.5174787807115)\n",
      "(4, '   BIC: ', 613.2349636218205, '   lnP: ', -228.5174787807115, '   lnL: ', -254.18410758130602)\n",
      "(4, '   BIC: ', 613.2349636218205, '   AIC: ', 556.368215162612, '   AICc: ', 578.368215162612)\n",
      "('KMS', array([210.07306292, 218.01988298]), '  Test: ', 210.07306292205226)\n",
      "(5, '   BIC: ', 629.3591928596675, '   lnP: ', -210.07306292205226, '   lnL: ', -249.1378786428284)\n",
      "(5, '   BIC: ', 629.3591928596675, '   AIC: ', 558.2757572856568, '   AICc: ', 596.2757572856568)\n",
      "('KMS', array([203.3555303 , 228.53487152]), '  Test: ', 203.35553030270233)\n",
      "(6, '   BIC: ', 641.133441412524, '   lnP: ', -203.35553030270233, '   lnL: ', -241.91665936185564)\n",
      "(6, '   BIC: ', 641.133441412524, '   AIC: ', 555.8333187237113, '   AICc: ', 618.8333187237113)\n",
      "('BGM', array([286.89132999, 211.41099162]), '  Test: ', 211.4109916178129)\n",
      "(7, '   BIC: ', 708.8452867286654, '   lnP: ', -211.4109916178129, '   lnL: ', -262.66423846252525)\n",
      "(7, '   BIC: ', 708.8452867286654, '   AIC: ', 609.3284769250505, '   AICc: ', 709.3284769250505)\n",
      "('KMS', array([164.15005031, 211.80677933]), '  Test: ', 164.15005030627236)\n",
      "(8, '   BIC: ', 689.6951933332075, '   lnP: ', -164.15005030627236, '   lnL: ', -239.98084820739524)\n",
      "(8, '   BIC: ', 689.6951933332075, '   AIC: ', 575.9616964147905, '   AICc: ', 731.9616964147905)\n",
      "('KMS', array([152.95674182, 178.66308981]), '  Test: ', 152.95674181660428)\n",
      "(9, '   BIC: ', 704.2802454515281, '   lnP: ', -152.95674181660428, '   lnL: ', -234.16503070915448)\n",
      "(9, '   BIC: ', 704.2802454515281, '   AIC: ', 576.330061418309, '   AICc: ', 823.330061418309)\n",
      "('KMS', array([133.59887861, 182.6517605 ]), '  Test: ', 133.59887861074253)\n",
      "(10, '   BIC: ', 717.8275913951203, '   lnP: ', -133.59887861074253, '   lnL: ', -227.8303601235495)\n",
      "(10, '   BIC: ', 717.8275913951203, '   AIC: ', 575.660720247099, '   AICc: ', 981.660720247099)\n",
      "('KMS', array([128.1192496 , 161.96489179]), '  Test: ', 128.11924959756647)\n",
      "(11, '   BIC: ', 758.8368466476284, '   lnP: ', -128.11924959756647, '   lnL: ', -235.2266441924025)\n",
      "(11, '   BIC: ', 758.8368466476284, '   AIC: ', 602.453288384805, '   AICc: ', 1339.453288384805)\n",
      "('BGM', array([177.09047482, 152.88299127]), '  Test: ', 152.882991272612)\n",
      "(12, '   BIC: ', 841.1050911652305, '   lnP: ', -152.882991272612, '   lnL: ', -263.25242289380253)\n",
      "(12, '   BIC: ', 841.1050911652305, '   AIC: ', 670.5048457876051, '   AICc: ', 2422.504845787605)\n",
      "('KMS', array([114.5313121 , 150.12973465]), '  Test: ', 114.53131210216286)\n",
      "(13, '   BIC: ', 801.1727833340549, '   lnP: ', -114.53131210216286, '   lnL: ', -230.1779254208136)\n"
     ]
    },
    {
     "ename": "ZeroDivisionError",
     "evalue": "integer division or modulo by zero",
     "output_type": "error",
     "traceback": [
      "\u001b[0;31m---------------------------------------------------------------------------\u001b[0m",
      "\u001b[0;31mZeroDivisionError\u001b[0m                         Traceback (most recent call last)",
      "\u001b[0;32m<ipython-input-23-33b599dda996>\u001b[0m in \u001b[0;36m<module>\u001b[0;34m()\u001b[0m\n\u001b[1;32m      2\u001b[0m                               spectro_model=('BGM_TNC', None), photo_model=('BGM_TNC', None))\n\u001b[1;32m      3\u001b[0m \u001b[0;34m\u001b[0m\u001b[0m\n\u001b[0;32m----> 4\u001b[0;31m \u001b[0mget_ipython\u001b[0m\u001b[0;34m(\u001b[0m\u001b[0;34m)\u001b[0m\u001b[0;34m.\u001b[0m\u001b[0mmagic\u001b[0m\u001b[0;34m(\u001b[0m\u001b[0;34mu\"time SF.gen_obsSF('/file/path/for/save')\"\u001b[0m\u001b[0;34m)\u001b[0m\u001b[0;34m\u001b[0m\u001b[0m\n\u001b[0m",
      "\u001b[0;32m/home/andy/py2_seestar/lib/python2.7/site-packages/IPython/core/interactiveshell.pyc\u001b[0m in \u001b[0;36mmagic\u001b[0;34m(self, arg_s)\u001b[0m\n\u001b[1;32m   2158\u001b[0m         \u001b[0mmagic_name\u001b[0m\u001b[0;34m,\u001b[0m \u001b[0m_\u001b[0m\u001b[0;34m,\u001b[0m \u001b[0mmagic_arg_s\u001b[0m \u001b[0;34m=\u001b[0m \u001b[0marg_s\u001b[0m\u001b[0;34m.\u001b[0m\u001b[0mpartition\u001b[0m\u001b[0;34m(\u001b[0m\u001b[0;34m' '\u001b[0m\u001b[0;34m)\u001b[0m\u001b[0;34m\u001b[0m\u001b[0m\n\u001b[1;32m   2159\u001b[0m         \u001b[0mmagic_name\u001b[0m \u001b[0;34m=\u001b[0m \u001b[0mmagic_name\u001b[0m\u001b[0;34m.\u001b[0m\u001b[0mlstrip\u001b[0m\u001b[0;34m(\u001b[0m\u001b[0mprefilter\u001b[0m\u001b[0;34m.\u001b[0m\u001b[0mESC_MAGIC\u001b[0m\u001b[0;34m)\u001b[0m\u001b[0;34m\u001b[0m\u001b[0m\n\u001b[0;32m-> 2160\u001b[0;31m         \u001b[0;32mreturn\u001b[0m \u001b[0mself\u001b[0m\u001b[0;34m.\u001b[0m\u001b[0mrun_line_magic\u001b[0m\u001b[0;34m(\u001b[0m\u001b[0mmagic_name\u001b[0m\u001b[0;34m,\u001b[0m \u001b[0mmagic_arg_s\u001b[0m\u001b[0;34m)\u001b[0m\u001b[0;34m\u001b[0m\u001b[0m\n\u001b[0m\u001b[1;32m   2161\u001b[0m \u001b[0;34m\u001b[0m\u001b[0m\n\u001b[1;32m   2162\u001b[0m     \u001b[0;31m#-------------------------------------------------------------------------\u001b[0m\u001b[0;34m\u001b[0m\u001b[0;34m\u001b[0m\u001b[0m\n",
      "\u001b[0;32m/home/andy/py2_seestar/lib/python2.7/site-packages/IPython/core/interactiveshell.pyc\u001b[0m in \u001b[0;36mrun_line_magic\u001b[0;34m(self, magic_name, line)\u001b[0m\n\u001b[1;32m   2079\u001b[0m                 \u001b[0mkwargs\u001b[0m\u001b[0;34m[\u001b[0m\u001b[0;34m'local_ns'\u001b[0m\u001b[0;34m]\u001b[0m \u001b[0;34m=\u001b[0m \u001b[0msys\u001b[0m\u001b[0;34m.\u001b[0m\u001b[0m_getframe\u001b[0m\u001b[0;34m(\u001b[0m\u001b[0mstack_depth\u001b[0m\u001b[0;34m)\u001b[0m\u001b[0;34m.\u001b[0m\u001b[0mf_locals\u001b[0m\u001b[0;34m\u001b[0m\u001b[0m\n\u001b[1;32m   2080\u001b[0m             \u001b[0;32mwith\u001b[0m \u001b[0mself\u001b[0m\u001b[0;34m.\u001b[0m\u001b[0mbuiltin_trap\u001b[0m\u001b[0;34m:\u001b[0m\u001b[0;34m\u001b[0m\u001b[0m\n\u001b[0;32m-> 2081\u001b[0;31m                 \u001b[0mresult\u001b[0m \u001b[0;34m=\u001b[0m \u001b[0mfn\u001b[0m\u001b[0;34m(\u001b[0m\u001b[0;34m*\u001b[0m\u001b[0margs\u001b[0m\u001b[0;34m,\u001b[0m\u001b[0;34m**\u001b[0m\u001b[0mkwargs\u001b[0m\u001b[0;34m)\u001b[0m\u001b[0;34m\u001b[0m\u001b[0m\n\u001b[0m\u001b[1;32m   2082\u001b[0m             \u001b[0;32mreturn\u001b[0m \u001b[0mresult\u001b[0m\u001b[0;34m\u001b[0m\u001b[0m\n\u001b[1;32m   2083\u001b[0m \u001b[0;34m\u001b[0m\u001b[0m\n",
      "\u001b[0;32m</home/andy/py2_seestar/lib/python2.7/site-packages/decorator.pyc:decorator-gen-60>\u001b[0m in \u001b[0;36mtime\u001b[0;34m(self, line, cell, local_ns)\u001b[0m\n",
      "\u001b[0;32m/home/andy/py2_seestar/lib/python2.7/site-packages/IPython/core/magic.pyc\u001b[0m in \u001b[0;36m<lambda>\u001b[0;34m(f, *a, **k)\u001b[0m\n\u001b[1;32m    186\u001b[0m     \u001b[0;31m# but it's overkill for just that one bit of state.\u001b[0m\u001b[0;34m\u001b[0m\u001b[0;34m\u001b[0m\u001b[0m\n\u001b[1;32m    187\u001b[0m     \u001b[0;32mdef\u001b[0m \u001b[0mmagic_deco\u001b[0m\u001b[0;34m(\u001b[0m\u001b[0marg\u001b[0m\u001b[0;34m)\u001b[0m\u001b[0;34m:\u001b[0m\u001b[0;34m\u001b[0m\u001b[0m\n\u001b[0;32m--> 188\u001b[0;31m         \u001b[0mcall\u001b[0m \u001b[0;34m=\u001b[0m \u001b[0;32mlambda\u001b[0m \u001b[0mf\u001b[0m\u001b[0;34m,\u001b[0m \u001b[0;34m*\u001b[0m\u001b[0ma\u001b[0m\u001b[0;34m,\u001b[0m \u001b[0;34m**\u001b[0m\u001b[0mk\u001b[0m\u001b[0;34m:\u001b[0m \u001b[0mf\u001b[0m\u001b[0;34m(\u001b[0m\u001b[0;34m*\u001b[0m\u001b[0ma\u001b[0m\u001b[0;34m,\u001b[0m \u001b[0;34m**\u001b[0m\u001b[0mk\u001b[0m\u001b[0;34m)\u001b[0m\u001b[0;34m\u001b[0m\u001b[0m\n\u001b[0m\u001b[1;32m    189\u001b[0m \u001b[0;34m\u001b[0m\u001b[0m\n\u001b[1;32m    190\u001b[0m         \u001b[0;32mif\u001b[0m \u001b[0mcallable\u001b[0m\u001b[0;34m(\u001b[0m\u001b[0marg\u001b[0m\u001b[0;34m)\u001b[0m\u001b[0;34m:\u001b[0m\u001b[0;34m\u001b[0m\u001b[0m\n",
      "\u001b[0;32m/home/andy/py2_seestar/lib/python2.7/site-packages/IPython/core/magics/execution.pyc\u001b[0m in \u001b[0;36mtime\u001b[0;34m(self, line, cell, local_ns)\u001b[0m\n\u001b[1;32m   1187\u001b[0m         \u001b[0;32mif\u001b[0m \u001b[0mmode\u001b[0m\u001b[0;34m==\u001b[0m\u001b[0;34m'eval'\u001b[0m\u001b[0;34m:\u001b[0m\u001b[0;34m\u001b[0m\u001b[0m\n\u001b[1;32m   1188\u001b[0m             \u001b[0mst\u001b[0m \u001b[0;34m=\u001b[0m \u001b[0mclock2\u001b[0m\u001b[0;34m(\u001b[0m\u001b[0;34m)\u001b[0m\u001b[0;34m\u001b[0m\u001b[0m\n\u001b[0;32m-> 1189\u001b[0;31m             \u001b[0mout\u001b[0m \u001b[0;34m=\u001b[0m \u001b[0meval\u001b[0m\u001b[0;34m(\u001b[0m\u001b[0mcode\u001b[0m\u001b[0;34m,\u001b[0m \u001b[0mglob\u001b[0m\u001b[0;34m,\u001b[0m \u001b[0mlocal_ns\u001b[0m\u001b[0;34m)\u001b[0m\u001b[0;34m\u001b[0m\u001b[0m\n\u001b[0m\u001b[1;32m   1190\u001b[0m             \u001b[0mend\u001b[0m \u001b[0;34m=\u001b[0m \u001b[0mclock2\u001b[0m\u001b[0;34m(\u001b[0m\u001b[0;34m)\u001b[0m\u001b[0;34m\u001b[0m\u001b[0m\n\u001b[1;32m   1191\u001b[0m         \u001b[0;32melse\u001b[0m\u001b[0;34m:\u001b[0m\u001b[0;34m\u001b[0m\u001b[0m\n",
      "\u001b[0;32m<timed eval>\u001b[0m in \u001b[0;36m<module>\u001b[0;34m()\u001b[0m\n",
      "\u001b[0;32m/home/andy/py2_seestar/lib/python2.7/site-packages/seestar-1.0-py2.7.egg/seestar/SelectionGrid.pyc\u001b[0m in \u001b[0;36mgen_obsSF\u001b[0;34m(self, obsSF_path)\u001b[0m\n\u001b[1;32m    271\u001b[0m \u001b[0;34m\u001b[0m\u001b[0m\n\u001b[1;32m    272\u001b[0m         \u001b[0;32mprint\u001b[0m\u001b[0;34m(\u001b[0m\u001b[0;34m'Creating colour-magnitude field interpolants...'\u001b[0m\u001b[0;34m)\u001b[0m\u001b[0;34m\u001b[0m\u001b[0m\n\u001b[0;32m--> 273\u001b[0;31m         \u001b[0mobsSF_dicts\u001b[0m \u001b[0;34m=\u001b[0m \u001b[0mself\u001b[0m\u001b[0;34m.\u001b[0m\u001b[0miterateAllFields\u001b[0m\u001b[0;34m(\u001b[0m\u001b[0;34m)\u001b[0m\u001b[0;34m\u001b[0m\u001b[0m\n\u001b[0m\u001b[1;32m    274\u001b[0m         \u001b[0;32mprint\u001b[0m\u001b[0;34m(\u001b[0m\u001b[0;34m\"...done\\n.\"\u001b[0m\u001b[0;34m)\u001b[0m\u001b[0;34m\u001b[0m\u001b[0m\n\u001b[1;32m    275\u001b[0m \u001b[0;34m\u001b[0m\u001b[0m\n",
      "\u001b[0;32m/home/andy/py2_seestar/lib/python2.7/site-packages/seestar-1.0-py2.7.egg/seestar/SelectionGrid.pyc\u001b[0m in \u001b[0;36miterateAllFields\u001b[0;34m(self)\u001b[0m\n\u001b[1;32m    430\u001b[0m \u001b[0;34m\u001b[0m\u001b[0m\n\u001b[1;32m    431\u001b[0m                 obsSF_field, field = _iterateField(self.get_spectro, self.get_photo, field, self.pointings.loc[field],\n\u001b[0;32m--> 432\u001b[0;31m                                                 cm_limits=self.cm_limits, spectro_model=self.spectro_model, photo_model=self.photo_model)\n\u001b[0m\u001b[1;32m    433\u001b[0m                 \u001b[0mobsSF_dicts\u001b[0m\u001b[0;34m[\u001b[0m\u001b[0mfield\u001b[0m\u001b[0;34m]\u001b[0m \u001b[0;34m=\u001b[0m \u001b[0mvars\u001b[0m\u001b[0;34m(\u001b[0m\u001b[0mobsSF_field\u001b[0m\u001b[0;34m)\u001b[0m\u001b[0;34m\u001b[0m\u001b[0m\n\u001b[1;32m    434\u001b[0m \u001b[0;34m\u001b[0m\u001b[0m\n",
      "\u001b[0;32m/home/andy/py2_seestar/lib/python2.7/site-packages/seestar-1.0-py2.7.egg/seestar/SelectionGrid.pyc\u001b[0m in \u001b[0;36m_iterateField\u001b[0;34m(get_spectro, get_photo, field, fieldpointing, cm_limits, spectro_model, photo_model)\u001b[0m\n\u001b[1;32m    746\u001b[0m                                                 \u001b[0mrunscaling\u001b[0m\u001b[0;34m=\u001b[0m\u001b[0mTrue\u001b[0m\u001b[0;34m,\u001b[0m \u001b[0mscales\u001b[0m\u001b[0;34m=\u001b[0m\u001b[0mscales\u001b[0m\u001b[0;34m,\u001b[0m \u001b[0mrunningL\u001b[0m\u001b[0;34m=\u001b[0m\u001b[0mTrue\u001b[0m\u001b[0;34m,\u001b[0m\u001b[0;34m\u001b[0m\u001b[0m\n\u001b[1;32m    747\u001b[0m                                                 priorDF=True, photoDF=DF_model, prior_sfBounds=prior_sfBounds)\n\u001b[0;32m--> 748\u001b[0;31m             \u001b[0mresult\u001b[0m \u001b[0;34m=\u001b[0m \u001b[0mSF_model\u001b[0m\u001b[0;34m.\u001b[0m\u001b[0moptimizeParams\u001b[0m\u001b[0;34m(\u001b[0m\u001b[0;34m)\u001b[0m\u001b[0;34m\u001b[0m\u001b[0m\n\u001b[0m\u001b[1;32m    749\u001b[0m             \u001b[0;31m#result_emcee = model.optimizeParams(method='emceeBall', init='reset')\u001b[0m\u001b[0;34m\u001b[0m\u001b[0;34m\u001b[0m\u001b[0m\n\u001b[1;32m    750\u001b[0m \u001b[0;34m\u001b[0m\u001b[0m\n",
      "\u001b[0;32m/home/andy/py2_seestar/lib/python2.7/site-packages/seestar-1.0-py2.7.egg/seestar/StatisticalModels.pyc\u001b[0m in \u001b[0;36moptimizeParams\u001b[0;34m(self)\u001b[0m\n\u001b[1;32m   1777\u001b[0m             \u001b[0mself\u001b[0m\u001b[0;34m.\u001b[0m\u001b[0mpriorParams\u001b[0m \u001b[0;34m=\u001b[0m \u001b[0mNIW_prior_params\u001b[0m\u001b[0;34m(\u001b[0m\u001b[0mself\u001b[0m\u001b[0;34m.\u001b[0m\u001b[0mprior_sfBounds\u001b[0m\u001b[0;34m,\u001b[0m \u001b[0mshrinker\u001b[0m\u001b[0;34m=\u001b[0m\u001b[0;36m7.5\u001b[0m\u001b[0;34m)\u001b[0m\u001b[0;34m\u001b[0m\u001b[0m\n\u001b[1;32m   1778\u001b[0m             \u001b[0;31m# Run optimize\u001b[0m\u001b[0;34m\u001b[0m\u001b[0;34m\u001b[0m\u001b[0m\n\u001b[0;32m-> 1779\u001b[0;31m             \u001b[0mparams\u001b[0m \u001b[0;34m=\u001b[0m \u001b[0mself\u001b[0m\u001b[0;34m.\u001b[0m\u001b[0moptimize\u001b[0m\u001b[0;34m(\u001b[0m\u001b[0mself\u001b[0m\u001b[0;34m.\u001b[0m\u001b[0mpriorParams\u001b[0m\u001b[0;34m,\u001b[0m \u001b[0;34m'TNC_SFonly'\u001b[0m\u001b[0;34m)\u001b[0m\u001b[0;34m\u001b[0m\u001b[0m\n\u001b[0m\u001b[1;32m   1780\u001b[0m \u001b[0;34m\u001b[0m\u001b[0m\n\u001b[1;32m   1781\u001b[0m         \u001b[0mself\u001b[0m\u001b[0;34m.\u001b[0m\u001b[0mparams_f_scaled\u001b[0m \u001b[0;34m=\u001b[0m \u001b[0mparams\u001b[0m\u001b[0;34m.\u001b[0m\u001b[0mcopy\u001b[0m\u001b[0;34m(\u001b[0m\u001b[0;34m)\u001b[0m\u001b[0;34m\u001b[0m\u001b[0m\n",
      "\u001b[0;32m/home/andy/py2_seestar/lib/python2.7/site-packages/seestar-1.0-py2.7.egg/seestar/StatisticalModels.pyc\u001b[0m in \u001b[0;36moptimize\u001b[0;34m(self, priorParams, method, niter)\u001b[0m\n\u001b[1;32m   1839\u001b[0m             \u001b[0mXdf\u001b[0m \u001b[0;34m=\u001b[0m \u001b[0mnp\u001b[0m\u001b[0;34m.\u001b[0m\u001b[0mvstack\u001b[0m\u001b[0;34m(\u001b[0m\u001b[0;34m(\u001b[0m\u001b[0mXdf\u001b[0m\u001b[0;34m[\u001b[0m\u001b[0;36m0\u001b[0m\u001b[0;34m]\u001b[0m\u001b[0;34m,\u001b[0m \u001b[0mXdf\u001b[0m\u001b[0;34m[\u001b[0m\u001b[0;36m1\u001b[0m\u001b[0;34m]\u001b[0m\u001b[0;34m)\u001b[0m\u001b[0;34m)\u001b[0m\u001b[0;34m.\u001b[0m\u001b[0mT\u001b[0m\u001b[0;34m\u001b[0m\u001b[0m\n\u001b[1;32m   1840\u001b[0m             raw_params = TNC_sf_SFonly(X, self.priorParams, self.params_df, stdout=self.runningL,\n\u001b[0;32m-> 1841\u001b[0;31m                                             Xdf=Xdf, init='best', max_components=self.params_df.shape[0])\n\u001b[0m\u001b[1;32m   1842\u001b[0m             \u001b[0mparams\u001b[0m \u001b[0;34m=\u001b[0m \u001b[0mtransform_sfparams_logit\u001b[0m\u001b[0;34m(\u001b[0m\u001b[0mraw_params\u001b[0m\u001b[0;34m)\u001b[0m\u001b[0;34m\u001b[0m\u001b[0m\n\u001b[1;32m   1843\u001b[0m         \u001b[0;32melif\u001b[0m \u001b[0mmethod\u001b[0m\u001b[0;34m==\u001b[0m\u001b[0;34m'BGM'\u001b[0m\u001b[0;34m:\u001b[0m\u001b[0;34m\u001b[0m\u001b[0m\n",
      "\u001b[0;32m/home/andy/py2_seestar/lib/python2.7/site-packages/seestar-1.0-py2.7.egg/seestar/StatisticalModels.pyc\u001b[0m in \u001b[0;36mTNC_sf_SFonly\u001b[0;34m(Xsf, priorParams, df_params, max_components, stdout, init, Xdf)\u001b[0m\n\u001b[1;32m   3441\u001b[0m             \u001b[0;31m#print(opt.success, opt.message)\u001b[0m\u001b[0;34m\u001b[0m\u001b[0;34m\u001b[0m\u001b[0m\n\u001b[1;32m   3442\u001b[0m             \u001b[0;32mprint\u001b[0m\u001b[0;34m(\u001b[0m\u001b[0mi\u001b[0m\u001b[0;34m,\u001b[0m \u001b[0;34m\"   BIC: \"\u001b[0m\u001b[0;34m,\u001b[0m \u001b[0mbic_val\u001b[0m\u001b[0;34m,\u001b[0m \u001b[0;34m\"   lnP: \"\u001b[0m\u001b[0;34m,\u001b[0m \u001b[0;34m-\u001b[0m\u001b[0mnlnp\u001b[0m\u001b[0;34m,\u001b[0m \u001b[0;34m\"   lnL: \"\u001b[0m\u001b[0;34m,\u001b[0m \u001b[0;34m-\u001b[0m\u001b[0mnlnL\u001b[0m\u001b[0;34m)\u001b[0m\u001b[0;34m\u001b[0m\u001b[0m\n\u001b[0;32m-> 3443\u001b[0;31m             \u001b[0;32mprint\u001b[0m\u001b[0;34m(\u001b[0m\u001b[0mi\u001b[0m\u001b[0;34m,\u001b[0m \u001b[0;34m\"   BIC: \"\u001b[0m\u001b[0;34m,\u001b[0m \u001b[0mbic_val\u001b[0m\u001b[0;34m,\u001b[0m \u001b[0;34m\"   AIC: \"\u001b[0m\u001b[0;34m,\u001b[0m \u001b[0mAIC\u001b[0m\u001b[0;34m(\u001b[0m\u001b[0mXsf\u001b[0m\u001b[0;34m.\u001b[0m\u001b[0mshape\u001b[0m\u001b[0;34m[\u001b[0m\u001b[0;36m0\u001b[0m\u001b[0;34m]\u001b[0m\u001b[0;34m,\u001b[0m \u001b[0mi\u001b[0m\u001b[0;34m*\u001b[0m\u001b[0;36m6\u001b[0m\u001b[0;34m,\u001b[0m \u001b[0;34m-\u001b[0m\u001b[0mnlnL\u001b[0m\u001b[0;34m)\u001b[0m\u001b[0;34m,\u001b[0m \u001b[0;34m\"   AICc: \"\u001b[0m\u001b[0;34m,\u001b[0m \u001b[0mAICc\u001b[0m\u001b[0;34m(\u001b[0m\u001b[0mXsf\u001b[0m\u001b[0;34m.\u001b[0m\u001b[0mshape\u001b[0m\u001b[0;34m[\u001b[0m\u001b[0;36m0\u001b[0m\u001b[0;34m]\u001b[0m\u001b[0;34m,\u001b[0m \u001b[0mi\u001b[0m\u001b[0;34m*\u001b[0m\u001b[0;36m6\u001b[0m\u001b[0;34m,\u001b[0m \u001b[0;34m-\u001b[0m\u001b[0mnlnL\u001b[0m\u001b[0;34m)\u001b[0m\u001b[0;34m)\u001b[0m\u001b[0;34m\u001b[0m\u001b[0m\n\u001b[0m\u001b[1;32m   3444\u001b[0m \u001b[0;34m\u001b[0m\u001b[0m\n\u001b[1;32m   3445\u001b[0m         \u001b[0msf_params_n\u001b[0m\u001b[0;34m[\u001b[0m\u001b[0mi\u001b[0m\u001b[0;34m]\u001b[0m \u001b[0;34m=\u001b[0m \u001b[0mopt\u001b[0m\u001b[0;34m.\u001b[0m\u001b[0mx\u001b[0m\u001b[0;34m.\u001b[0m\u001b[0mreshape\u001b[0m\u001b[0;34m(\u001b[0m\u001b[0;34m-\u001b[0m\u001b[0;36m1\u001b[0m\u001b[0;34m,\u001b[0m\u001b[0;36m6\u001b[0m\u001b[0;34m)\u001b[0m\u001b[0;34m\u001b[0m\u001b[0m\n",
      "\u001b[0;32m/home/andy/py2_seestar/lib/python2.7/site-packages/seestar-1.0-py2.7.egg/seestar/StatisticalModels.pyc\u001b[0m in \u001b[0;36mAICc\u001b[0;34m(n, k, lnL)\u001b[0m\n\u001b[1;32m   3200\u001b[0m     \u001b[0;32mreturn\u001b[0m \u001b[0;36m2\u001b[0m\u001b[0;34m*\u001b[0m\u001b[0mk\u001b[0m \u001b[0;34m-\u001b[0m \u001b[0;36m2\u001b[0m\u001b[0;34m*\u001b[0m\u001b[0mlnL\u001b[0m\u001b[0;34m\u001b[0m\u001b[0m\n\u001b[1;32m   3201\u001b[0m \u001b[0;32mdef\u001b[0m \u001b[0mAICc\u001b[0m\u001b[0;34m(\u001b[0m\u001b[0mn\u001b[0m\u001b[0;34m,\u001b[0m \u001b[0mk\u001b[0m\u001b[0;34m,\u001b[0m \u001b[0mlnL\u001b[0m\u001b[0;34m)\u001b[0m\u001b[0;34m:\u001b[0m\u001b[0;34m\u001b[0m\u001b[0m\n\u001b[0;32m-> 3202\u001b[0;31m     \u001b[0;32mreturn\u001b[0m \u001b[0;36m2\u001b[0m\u001b[0;34m*\u001b[0m\u001b[0mk\u001b[0m \u001b[0;34m-\u001b[0m \u001b[0;36m2\u001b[0m\u001b[0;34m*\u001b[0m\u001b[0mlnL\u001b[0m \u001b[0;34m+\u001b[0m \u001b[0;34m(\u001b[0m\u001b[0;36m2\u001b[0m\u001b[0;34m*\u001b[0m\u001b[0mk\u001b[0m\u001b[0;34m**\u001b[0m\u001b[0;36m2\u001b[0m \u001b[0;34m+\u001b[0m \u001b[0;36m2\u001b[0m\u001b[0;34m*\u001b[0m\u001b[0mk\u001b[0m\u001b[0;34m)\u001b[0m\u001b[0;34m/\u001b[0m\u001b[0;34m(\u001b[0m\u001b[0mn\u001b[0m\u001b[0;34m-\u001b[0m\u001b[0mk\u001b[0m\u001b[0;34m-\u001b[0m\u001b[0;36m1\u001b[0m\u001b[0;34m)\u001b[0m\u001b[0;34m\u001b[0m\u001b[0m\n\u001b[0m\u001b[1;32m   3203\u001b[0m \u001b[0;34m\u001b[0m\u001b[0m\n\u001b[1;32m   3204\u001b[0m \u001b[0;31m# Optimization methods\u001b[0m\u001b[0;34m\u001b[0m\u001b[0;34m\u001b[0m\u001b[0m\n",
      "\u001b[0;31mZeroDivisionError\u001b[0m: integer division or modulo by zero"
     ]
    }
   ],
   "source": [
    "SF = SelectionGrid.SFGenerator(get_spectro, get_photo, pointings, \n",
    "                              spectro_model=('BGM_TNC', None), photo_model=('BGM_TNC', None))\n",
    "\n",
    "%time SF.gen_obsSF('/file/path/for/save')"
   ]
  },
  {
   "cell_type": "code",
   "execution_count": 24,
   "metadata": {},
   "outputs": [
    {
     "ename": "AttributeError",
     "evalue": "SFGenerator instance has no attribute 'obsSF'",
     "output_type": "error",
     "traceback": [
      "\u001b[0;31m---------------------------------------------------------------------------\u001b[0m",
      "\u001b[0;31mAttributeError\u001b[0m                            Traceback (most recent call last)",
      "\u001b[0;32m<ipython-input-24-b249338e2480>\u001b[0m in \u001b[0;36m<module>\u001b[0;34m()\u001b[0m\n\u001b[0;32m----> 1\u001b[0;31m \u001b[0minstsf\u001b[0m \u001b[0;34m=\u001b[0m \u001b[0mSF\u001b[0m\u001b[0;34m.\u001b[0m\u001b[0mobsSF\u001b[0m\u001b[0;34m[\u001b[0m\u001b[0;36m2.0\u001b[0m\u001b[0;34m]\u001b[0m\u001b[0;34m.\u001b[0m\u001b[0mSF_model\u001b[0m\u001b[0;34m\u001b[0m\u001b[0m\n\u001b[0m\u001b[1;32m      2\u001b[0m \u001b[0mpriorParams\u001b[0m \u001b[0;34m=\u001b[0m \u001b[0mStatisticalModels\u001b[0m\u001b[0;34m.\u001b[0m\u001b[0mNIW_prior_params\u001b[0m\u001b[0;34m(\u001b[0m\u001b[0minstsf\u001b[0m\u001b[0;34m.\u001b[0m\u001b[0mprior_sfBounds\u001b[0m\u001b[0;34m,\u001b[0m \u001b[0mshrinker\u001b[0m\u001b[0;34m=\u001b[0m\u001b[0;36m7.5\u001b[0m\u001b[0;34m)\u001b[0m\u001b[0;34m\u001b[0m\u001b[0m\n\u001b[1;32m      3\u001b[0m \u001b[0;34m\u001b[0m\u001b[0m\n\u001b[1;32m      4\u001b[0m \u001b[0;32mfor\u001b[0m \u001b[0mfield\u001b[0m \u001b[0;32min\u001b[0m \u001b[0mSF\u001b[0m\u001b[0;34m.\u001b[0m\u001b[0mpointings\u001b[0m\u001b[0;34m.\u001b[0m\u001b[0mfieldID\u001b[0m\u001b[0;34m:\u001b[0m\u001b[0;34m\u001b[0m\u001b[0m\n\u001b[1;32m      5\u001b[0m     \u001b[0msampler\u001b[0m \u001b[0;34m=\u001b[0m \u001b[0mSF\u001b[0m\u001b[0;34m.\u001b[0m\u001b[0mobsSF\u001b[0m\u001b[0;34m[\u001b[0m\u001b[0mfield\u001b[0m\u001b[0;34m]\u001b[0m\u001b[0;34m.\u001b[0m\u001b[0mSF_model\u001b[0m\u001b[0;34m.\u001b[0m\u001b[0moptimize\u001b[0m\u001b[0;34m(\u001b[0m\u001b[0mpriorParams\u001b[0m\u001b[0;34m,\u001b[0m \u001b[0;34m'emceeBHM'\u001b[0m\u001b[0;34m,\u001b[0m \u001b[0mniter\u001b[0m\u001b[0;34m=\u001b[0m\u001b[0;36m1000\u001b[0m\u001b[0;34m)\u001b[0m\u001b[0;34m\u001b[0m\u001b[0m\n",
      "\u001b[0;31mAttributeError\u001b[0m: SFGenerator instance has no attribute 'obsSF'"
     ]
    }
   ],
   "source": [
    "instsf = SF.obsSF[2.0].SF_model\n",
    "priorParams = StatisticalModels.NIW_prior_params(instsf.prior_sfBounds, shrinker=7.5)\n",
    "\n",
    "for field in SF.pointings.fieldID:\n",
    "    sampler = SF.obsSF[field].SF_model.optimize(priorParams, 'emceeBHM', niter=1000)"
   ]
  },
  {
   "cell_type": "code",
   "execution_count": 16,
   "metadata": {},
   "outputs": [
    {
     "name": "stdout",
     "output_type": "stream",
     "text": [
      "Overwrite /home/andy/Documents/Research/data/asfe2/Projects/sf_data/mockrave_obsSF_fields23_corrBIC.pickle? (y/n)y\n",
      "\n",
      "Pickling observable SF...\n"
     ]
    }
   ],
   "source": [
    "SF.save_obsSF('/home/andy/Documents/Research/data/asfe2/Projects/sf_data/mockrave_obsSF_fields23_corrBIC.pickle')"
   ]
  },
  {
   "cell_type": "code",
   "execution_count": null,
   "metadata": {},
   "outputs": [],
   "source": []
  },
  {
   "cell_type": "code",
   "execution_count": null,
   "metadata": {},
   "outputs": [],
   "source": []
  },
  {
   "cell_type": "code",
   "execution_count": 365,
   "metadata": {},
   "outputs": [],
   "source": [
    "instsf = SF.obsSF[2.0].SF_model\n",
    "instdf = SF.obsSF[2.0].DF_model\n",
    "params_df = instsf.params_df"
   ]
  },
  {
   "cell_type": "code",
   "execution_count": 346,
   "metadata": {},
   "outputs": [
    {
     "data": {
      "text/plain": [
       "(array([ 4., 15.]), array([-0.1,  1.2]))"
      ]
     },
     "execution_count": 346,
     "metadata": {},
     "output_type": "execute_result"
    }
   ],
   "source": [
    "instsf.prior_sfBounds[0,:]*instsf.sx + instsf.mux, instsf.prior_sfBounds[1,:]*instsf.sy + instsf.muy"
   ]
  },
  {
   "cell_type": "code",
   "execution_count": 347,
   "metadata": {},
   "outputs": [
    {
     "data": {
      "text/plain": [
       "(182,\n",
       " 180.43952261106813,\n",
       " 13.432777918623836,\n",
       " 144.5324937195229,\n",
       " 12.022166764752638)"
      ]
     },
     "execution_count": 347,
     "metadata": {},
     "output_type": "execute_result"
    }
   ],
   "source": [
    "phot = pd.read_csv('/home/andy/Documents/Research/data/asfe2/Projects/sf_data/Galaxia_data/photometric/3.0.csv')\n",
    "x = phot.Happ\n",
    "y = phot.Japp-phot.Kapp\n",
    "xs = (x-instsf.mux)/instsf.sx\n",
    "ys = (y-instsf.muy)/instsf.sy\n",
    "\n",
    "sf_params = instsf.params_f_scaled.copy()\n",
    "pSelect = StatisticalModels.bivGaussMixture(sf_params, xs, ys)\n",
    "uncut = (x<13.5)&(y>0.5)\n",
    "len(instsf.x), np.sum(pSelect), np.sqrt(np.sum(pSelect)), np.sum(pSelect*uncut), np.sqrt(np.sum(pSelect*uncut))"
   ]
  },
  {
   "cell_type": "code",
   "execution_count": 171,
   "metadata": {},
   "outputs": [],
   "source": []
  },
  {
   "cell_type": "code",
   "execution_count": 351,
   "metadata": {},
   "outputs": [
    {
     "data": {
      "image/png": "[encoded data removed]",
      "text/plain": [
       "<matplotlib.figure.Figure at 0x7fa5ab30f8d0>"
      ]
     },
     "metadata": {},
     "output_type": "display_data"
    }
   ],
   "source": [
    "fig, axes = plt.subplots(1,2,figsize=(20,8), sharey=True)\n",
    "\n",
    "x = np.linspace(-0.1, 1.2, 300)\n",
    "y = np.linspace(4, 15, 420)\n",
    "xx, yy = np.meshgrid(y, x, indexing='ij')\n",
    "extent=[np.min(x), np.max(x), np.max(y), np.min(y)]\n",
    "vmin, vmax = (1e-10,1)\n",
    "\n",
    "levels=10**(np.arange(10)-9.)\n",
    "cmap = cm.viridis\n",
    "cmap.set_under('k')\n",
    "\n",
    "plt.sca(axes[0])\n",
    "#zz = np.flip(p_tanh(xx.flatten(), yy.flatten()).reshape(xx.shape), axis=0)\n",
    "zz = p_tanh(xx.flatten(), yy.flatten()).reshape(xx.shape)\n",
    "#im=plt.imshow(zz, vmin=vmin, vmax=vmax, norm=LogNorm(), cmap='viridis', extent=extent, aspect='auto')\n",
    "plt.contourf(x, y, zz, vmin=vmin, vmax=vmax, norm=LogNorm(), cmap=cmap, extent=extent,\n",
    "            levels=levels)\n",
    "plt.xlabel(r'$J-K$')\n",
    "plt.ylabel(r'$m_H$')\n",
    "\n",
    "plt.sca(axes[1])\n",
    "zz = StatisticalModels.bivGaussMixture(instsf.params_f, xx, yy)\n",
    "CS = plt.contourf(x, y, zz, cmap=cmap, norm=LogNorm(), vmin=vmin, vmax=vmax,\n",
    "                 levels=levels)\n",
    "plt.scatter(instsf.y, instsf.x, s=10, c='k')\n",
    "plt.xlabel(r'$J-K$')\n",
    "\n",
    "plt.ylim(extent[2], extent[3])\n",
    "\n",
    "plt.subplots_adjust(wspace=0.01)"
   ]
  },
  {
   "cell_type": "code",
   "execution_count": 55,
   "metadata": {},
   "outputs": [
    {
     "name": "stdout",
     "output_type": "stream",
     "text": [
      "emcee with 1000 iterations, 192 walkers...\n"
     ]
    },
    {
     "data": {
      "application/vnd.jupyter.widget-view+json": {
       "model_id": "668c82616a8c4ad388d6df9f20660979",
       "version_major": 2,
       "version_minor": 0
      },
      "text/plain": [
       "HBox(children=(IntProgress(value=0, max=1000), HTML(value=u'')))"
      ]
     },
     "metadata": {},
     "output_type": "display_data"
    },
    {
     "name": "stdout",
     "output_type": "stream",
     "text": [
      "\n",
      "emcee with 1000 iterations, 216 walkers...\n"
     ]
    },
    {
     "data": {
      "application/vnd.jupyter.widget-view+json": {
       "model_id": "6c613bd2d1bb4d11ba2624e7a246d356",
       "version_major": 2,
       "version_minor": 0
      },
      "text/plain": [
       "HBox(children=(IntProgress(value=0, max=1000), HTML(value=u'')))"
      ]
     },
     "metadata": {},
     "output_type": "display_data"
    },
    {
     "name": "stdout",
     "output_type": "stream",
     "text": [
      "\n"
     ]
    }
   ],
   "source": [
    "priorParams = StatisticalModels.NIW_prior_params(instsf.prior_sfBounds)\n",
    "\n",
    "for field in SF.pointings.fieldID:\n",
    "    sampler = SF.obsSF[field].SF_model.optimize(priorParams, 'emceeBHM', niter=1000)"
   ]
  },
  {
   "cell_type": "code",
   "execution_count": 57,
   "metadata": {},
   "outputs": [
    {
     "name": "stdout",
     "output_type": "stream",
     "text": [
      "Overwrite /home/andy/Documents/Research/data/asfe2/Projects/sf_data/mockrave_obsSF_fields23.pickle? (y/n)y\n",
      "\n",
      "Pickling observable SF...\n"
     ]
    }
   ],
   "source": [
    "SF.save_obsSF('/home/andy/Documents/Research/data/asfe2/Projects/sf_data/mockrave_obsSF_fields23.pickle')"
   ]
  },
  {
   "cell_type": "markdown",
   "metadata": {},
   "source": [
    "# Intrinsic coordinates"
   ]
  },
  {
   "cell_type": "code",
   "execution_count": 50,
   "metadata": {},
   "outputs": [
    {
     "name": "stdout",
     "output_type": "stream",
     "text": [
      "The spectro model description is:('BGM_TNC', None)\n",
      "The photo model description is:('BGM_TNC', None)\n",
      "Unpickling colour-magnitude interpolant dictionaries...\n",
      "...done.\n",
      "\n",
      "CPU times: user 116 ms, sys: 236 ms, total: 352 ms\n",
      "Wall time: 353 ms\n"
     ]
    }
   ],
   "source": [
    "def get_spectro(field):\n",
    "    \n",
    "    # Get photometric data\n",
    "    file_path = folder + '/photometric/'+str(field)+'.csv'\n",
    "    field_data = pd.read_csv(file_path, usecols=['Japp', 'Happ', 'Kapp'])\n",
    "    field_data['Colour'] = field_data.Japp - field_data.Kapp\n",
    "    field_data = np.array(field_data[['Happ', 'Colour']])\n",
    "    \n",
    "    p = p_tanh(field_data[:,0], field_data[:,1])\n",
    "    \n",
    "    survive = np.random.rand(field_data.shape[0])<p\n",
    "    \n",
    "    return field_data[survive] \n",
    "\n",
    "SF = SelectionGrid.SFGenerator(get_spectro, get_photo, pointings, \n",
    "                              spectro_model=('BGM_TNC', None), photo_model=('BGM_TNC', None))\n",
    "\n",
    "%time SF.load_obsSF('/home/andy/Documents/Research/data/asfe2/Projects/sf_data/mocktanh_obsSF_fields23_corrBIC.pickle')"
   ]
  },
  {
   "cell_type": "code",
   "execution_count": 51,
   "metadata": {},
   "outputs": [
    {
     "name": "stdout",
     "output_type": "stream",
     "text": [
      "Creating distance-age-metallicity interpolants...\n",
      "...done.\n",
      "\n",
      "Save as /home/andy/Documents/Research/data/asfe2/Projects/sf_data/mocktanh_obsSF_fields23_int_corrBIC.pickle? (y/n)y\n",
      "\n",
      "Pickling intrinsic SF...\n"
     ]
    }
   ],
   "source": [
    "SF.gen_intSF('/home/andy/Documents/Research/data/asfe2/Projects/sf_data/mocktanh_obsSF_fields23_int_corrBIC.pickle', \n",
    "             IsoCalculator)"
   ]
  },
  {
   "cell_type": "markdown",
   "metadata": {},
   "source": [
    "# KS test"
   ]
  },
  {
   "cell_type": "code",
   "execution_count": null,
   "metadata": {},
   "outputs": [],
   "source": [
    "params_spec = StatisticalModels.gmm_product_params(instsf.params_f_scaled, instsf.params_df)\n",
    "\n",
    "Xdf = StatisticalModels.feature_scaling(instsf.photoDF.x, instsf.photoDF.y, instsf.mux, instsf.muy, instsf.sx, instsf.sy)\n",
    "Xdf = np.vstack((Xdf[0], Xdf[1])).T\n",
    "\n",
    "Xsf = np.vstack((instsf.x_s, instsf.y_s)).T"
   ]
  },
  {
   "cell_type": "code",
   "execution_count": null,
   "metadata": {},
   "outputs": [],
   "source": []
  },
  {
   "cell_type": "code",
   "execution_count": null,
   "metadata": {},
   "outputs": [],
   "source": []
  },
  {
   "cell_type": "markdown",
   "metadata": {},
   "source": [
    "# ... still working on this demo file"
   ]
  },
  {
   "cell_type": "code",
   "execution_count": null,
   "metadata": {},
   "outputs": [],
   "source": []
  },
  {
   "cell_type": "code",
   "execution_count": null,
   "metadata": {},
   "outputs": [],
   "source": []
  },
  {
   "cell_type": "code",
   "execution_count": null,
   "metadata": {},
   "outputs": [],
   "source": []
  },
  {
   "cell_type": "code",
   "execution_count": null,
   "metadata": {},
   "outputs": [],
   "source": []
  },
  {
   "cell_type": "code",
   "execution_count": null,
   "metadata": {},
   "outputs": [],
   "source": []
  },
  {
   "cell_type": "code",
   "execution_count": 293,
   "metadata": {},
   "outputs": [],
   "source": [
    "instsf = SFInstanceClasses.obsSF_dicttoclass(SFInstanceClasses.obsSF_classtodict(SF.obsSF))[2.0].SF_model\n",
    "instdf = SFInstanceClasses.obsSF_dicttoclass(SFInstanceClasses.obsSF_classtodict(SF.obsSF))[2.0].DF_model"
   ]
  },
  {
   "cell_type": "code",
   "execution_count": 290,
   "metadata": {},
   "outputs": [],
   "source": [
    "params_spec = StatisticalModels.gmm_product_params(instsf.params_f_scaled, instsf.params_df)\n",
    "\n",
    "Xdf = StatisticalModels.feature_scaling(instsf.photoDF.x, instsf.photoDF.y, instsf.mux, instsf.muy, instsf.sx, instsf.sy)\n",
    "Xdf = np.vstack((Xdf[0], Xdf[1])).T\n",
    "\n",
    "Xsf = np.vstack((instsf.x_s, instsf.y_s)).T"
   ]
  },
  {
   "cell_type": "code",
   "execution_count": 291,
   "metadata": {},
   "outputs": [],
   "source": [
    "def marginal_dist(x, params, axis):\n",
    "    if axis=='x':\n",
    "        mu = params[:,0]\n",
    "        cov = params[:,2]\n",
    "    elif axis=='y':\n",
    "        mu = params[:,1]\n",
    "        cov = params[:,3]\n",
    "        \n",
    "    exponent = -0.5*(x[:,np.newaxis]-mu[np.newaxis,:])**2 / (cov[np.newaxis,:])\n",
    "    norm = 1/np.sqrt(2*np.pi*cov)[np.newaxis,:]\n",
    "        \n",
    "    return np.sum(params[:,5][np.newaxis,:]*norm*np.exp(exponent), axis=1)\n",
    "\n",
    "def marginal_cdf(x, params, axis, normed=False):\n",
    "    if axis=='x':\n",
    "        mu = params[:,0]\n",
    "        cov = params[:,2]\n",
    "    elif axis=='y':\n",
    "        mu = params[:,1]\n",
    "        cov = params[:,3]\n",
    "        \n",
    "    components =  0.5*(scipy.special.erf((x[:,np.newaxis] - mu[np.newaxis,:])/(np.sqrt(2*cov[np.newaxis,:]))) + 1)\n",
    "        \n",
    "    if normed:\n",
    "        return np.sum(params[:,5][np.newaxis,:]*components, axis=1)/np.sum(params[:,5])\n",
    "    return np.sum(params[:,5][np.newaxis,:]*components, axis=1)\n",
    "\n",
    "def marginal_cdf_bounded(x, params, axis, normed=False, bound=0.):\n",
    "    if axis=='x':\n",
    "        mu = params[:,0]\n",
    "        cov = params[:,2]\n",
    "    elif axis=='y':\n",
    "        mu = params[:,1]\n",
    "        cov = params[:,3]\n",
    "    \n",
    "    result = np.zeros(len(x))\n",
    "    result[x>bound] = 1.\n",
    "    \n",
    "    components =  0.5*(scipy.special.erf((x[:,np.newaxis] - mu[np.newaxis,:])/(np.sqrt(2*cov[np.newaxis,:]))) + 1)\n",
    "    norm = np.sum(params[:,5] * 0.5*(scipy.special.erf((bound - mu)/(np.sqrt(2*cov))) + 1))\n",
    "        \n",
    "    print(norm)\n",
    "        \n",
    "    if normed:\n",
    "        result[x<=bound] = np.sum(params[:,5][np.newaxis,:]*components[x<=bound], axis=1)/norm\n",
    "        return result\n",
    "    return np.sum(params[:,5][np.newaxis,:]*components, axis=1)\n",
    "\n",
    "def normed_marginal_cdf(x, params, axis):\n",
    "    if axis=='x':\n",
    "        mu = params[:,0]\n",
    "        cov = params[:,2]\n",
    "    elif axis=='y':\n",
    "        mu = params[:,1]\n",
    "        cov = params[:,3]\n",
    "        \n",
    "    components =  0.5*(scipy.special.erf((x - mu)/(np.sqrt(2*cov))) + 1)\n",
    "        \n",
    "    return np.sum(params[:,5]*components)/np.sum(params[:,5])"
   ]
  }
 ],
 "metadata": {
  "kernelspec": {
   "display_name": "py2_seestar",
   "language": "python",
   "name": "py2_seestar"
  },
  "language_info": {
   "codemirror_mode": {
    "name": "ipython",
    "version": 2
   },
   "file_extension": ".py",
   "mimetype": "text/x-python",
   "name": "python",
   "nbconvert_exporter": "python",
   "pygments_lexer": "ipython2",
   "version": "2.7.15"
  }
 },
 "nbformat": 4,
 "nbformat_minor": 2
}
