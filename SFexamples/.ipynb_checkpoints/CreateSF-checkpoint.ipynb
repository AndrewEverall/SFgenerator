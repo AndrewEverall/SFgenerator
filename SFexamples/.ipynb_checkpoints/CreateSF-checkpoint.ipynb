{
 "cells": [
  {
   "cell_type": "code",
   "execution_count": null,
   "metadata": {},
   "outputs": [],
   "source": [
    "#import neccessary dependencies for code\n",
    "import numpy as np\n",
    "import pandas as pd\n",
    "import re\n",
    "import scipy\n",
    "from scipy.io import readsav\n",
    "import dill\n",
    "from itertools import product\n",
    "import savReaderWriter\n",
    "import pickle\n",
    "\n",
    "import cProfile\n",
    "import pstats\n",
    "\n",
    "import sys, os\n",
    "sys.path.append(\"../SFscripts/\")\n",
    "\n",
    "%matplotlib inline\n",
    "from matplotlib import pyplot as plt\n",
    "import matplotlib\n",
    "font = {'family' : 'normal',\n",
    "        'weight' : 'bold',\n",
    "        'size'   : 15}\n",
    "\n",
    "matplotlib.rc('font', **font)\n",
    "\n",
    "\n",
    "from DataImport import *\n",
    "from ArrayMechanics import *\n",
    "from AngleDisks import *\n",
    "from PlotCoordinates import *\n",
    "from SelectionGrid import *"
   ]
  },
  {
   "cell_type": "code",
   "execution_count": null,
   "metadata": {},
   "outputs": [],
   "source": [
    "pr = cProfile.Profile()\n",
    "pr.enable()\n",
    "\n",
    "Testing = FieldInterpolator(ColMagSF_exists = True,\n",
    "                            surveysf_exists = True)\n",
    "                            #testbool = True)\n",
    "                            #survey='Apogee')\n",
    "\n",
    "pr.disable()\n",
    "pstats.Stats(pr).strip_dirs().sort_stats('time').print_stats(10)"
   ]
  },
  {
   "cell_type": "code",
   "execution_count": null,
   "metadata": {},
   "outputs": [],
   "source": []
  }
 ],
 "metadata": {
  "kernelspec": {
   "display_name": "Python 2",
   "language": "python",
   "name": "python2"
  },
  "language_info": {
   "codemirror_mode": {
    "name": "ipython",
    "version": 2
   },
   "file_extension": ".py",
   "mimetype": "text/x-python",
   "name": "python",
   "nbconvert_exporter": "python",
   "pygments_lexer": "ipython2",
   "version": "2.7.14"
  }
 },
 "nbformat": 4,
 "nbformat_minor": 2
}
