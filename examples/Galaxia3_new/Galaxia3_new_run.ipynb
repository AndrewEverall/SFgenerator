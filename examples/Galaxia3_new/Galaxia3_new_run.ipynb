{
 "cells": [
  {
   "cell_type": "markdown",
   "metadata": {},
   "source": [
    "# 2) Galaxia 3-field run selection function\n",
    "\n",
    "* [Check fileinfo for the Galaxia data](#check)\n",
    "* [Generate selection function](#SF)\n",
    "* [Calculate SF probabilities](#SFprob)"
   ]
  },
  {
   "cell_type": "code",
   "execution_count": 9,
   "metadata": {},
   "outputs": [
    {
     "name": "stdout",
     "output_type": "stream",
     "text": [
      "The autoreload extension is already loaded. To reload it, use:\n",
      "  %reload_ext autoreload\n"
     ]
    }
   ],
   "source": [
    "# autoreload modules when files have been altered\n",
    "%load_ext autoreload\n",
    "%autoreload 2\n",
    "\n",
    "import os, sys, time\n",
    "import numpy as np\n",
    "import pandas as pd\n",
    "\n",
    "%matplotlib inline\n",
    "import matplotlib.pyplot as plt\n",
    "\n",
    "from seestar import ArrayMechanics\n",
    "from seestar import SelectionGrid\n",
    "\n",
    "import seaborn as sns"
   ]
  },
  {
   "cell_type": "markdown",
   "metadata": {},
   "source": [
    "<a name=\"check\"></a>\n",
    "# Check file information"
   ]
  },
  {
   "cell_type": "code",
   "execution_count": 2,
   "metadata": {},
   "outputs": [],
   "source": [
    "from seestar import surveyInfoPickler\n",
    "fileinfo = surveyInfoPickler.surveyInformation('/media/andy/37E3-0F91/Research/SF/SFdata/Galaxia3_new/Galaxia3_new_fileinfo.pickle')\n",
    "fileinfo.spectro_model = ('GMM', 1)\n",
    "fileinfo.photo_model = ('GMM', 2)\n",
    "#fileinfo.photo_coords = ['glon', 'glat', 'Japp', 'Kapp', 'Happ']\n",
    "fileinfo.save()"
   ]
  },
  {
   "cell_type": "markdown",
   "metadata": {},
   "source": [
    "<a name=\"SF\"></a>\n",
    "# Generate selection function"
   ]
  },
  {
   "cell_type": "code",
   "execution_count": 11,
   "metadata": {},
   "outputs": [
    {
     "name": "stdout",
     "output_type": "stream",
     "text": [
      "Would you like the selection function in: a) observable, b) intrinsic, c) both? (return a, b or c)a\n",
      "Path to observable SF (Galaxia3_new_obsSF.pickle) exists. Use this to ? (y/n)n\n",
      "The spectro model description is:('GMM', 1)\n",
      "The photo model description is:('GMM', 2)\n",
      "\n",
      "{'glon': 'phi', 'Colmin': 'Colmin', 'glat': 'theta', 'Colmax': 'Colmax', 'Magmin': 'Magmin', 'Magmax': 'Magmax', 'fieldID': 'fieldID', 'halfangle': 'halfangle'}\n",
      "Importing data for Colour-Magnitude Field interpolants...\n",
      "{'Kapp': 'appB', 'Happ': 'appC', 'glon': 'phi', 'glat': 'theta', 'Japp': 'appA', 'fieldID': 'fieldID'}\n",
      "Filtering for null values in spectro: Total star count = 5847. Filtered star count = 5847. 0 stars removed with null values\n",
      "((8.001017701622784, 13.499959932502573), (0.5000188162888577, 1.1835355696129728))\n",
      "...done.\n",
      "\n",
      "Creating Colour-Magnitude Field interpolants...\n",
      "multiprocessing - observable SF calculation - running on 3 cores...\n",
      "Current field in col-mag calculation: 1.0, 1/3, Time: 1m, Left: 0m\n",
      "now pickling them...\n",
      "...done\n",
      ".\n",
      "81.4580380917\n"
     ]
    }
   ],
   "source": [
    "fileinfo_path = '/media/andy/37E3-0F91/Research/SF/SFdata/Galaxia3_new/Galaxia3_new_fileinfo.pickle'\n",
    "SF = SelectionGrid.SFGenerator(fileinfo_path, ncores=3)\n",
    "# ncores=0: SF will run the Serial version (not use multiprocessing)\n",
    "# ncores>0: Parallel version on the number of cores given\n",
    "# When running in parallel, the field counting can mess up a bit because the pools get disordered"
   ]
  },
  {
   "cell_type": "code",
   "execution_count": 12,
   "metadata": {},
   "outputs": [],
   "source": []
  },
  {
   "cell_type": "markdown",
   "metadata": {},
   "source": [
    "<a name=\"SFprob\"></a>\n",
    "# Calculate SF probabilities"
   ]
  },
  {
   "cell_type": "code",
   "execution_count": null,
   "metadata": {},
   "outputs": [],
   "source": [
    "# Load in Isochrone Calculator\n",
    "IsoCalculator = IsochroneScaling.IntrinsicToObservable()\n",
    "IsoCalculator.LoadColMag(SF.isocolmag_pickle)"
   ]
  },
  {
   "cell_type": "markdown",
   "metadata": {},
   "source": [
    "### Load in data"
   ]
  },
  {
   "cell_type": "code",
   "execution_count": 4,
   "metadata": {
    "collapsed": true
   },
   "outputs": [
    {
     "ename": "NameError",
     "evalue": "name 'IsoCalculator' is not defined",
     "output_type": "error",
     "traceback": [
      "\u001b[0;31m---------------------------------------------------------------------------\u001b[0m",
      "\u001b[0;31mNameError\u001b[0m                                 Traceback (most recent call last)",
      "\u001b[0;32m<ipython-input-4-b9a6d8feb750>\u001b[0m in \u001b[0;36m<module>\u001b[0;34m()\u001b[0m\n\u001b[1;32m      3\u001b[0m \u001b[0msurvey\u001b[0m\u001b[0;34m[\u001b[0m\u001b[0;34m'Colour'\u001b[0m\u001b[0;34m]\u001b[0m \u001b[0;34m=\u001b[0m \u001b[0msurvey\u001b[0m\u001b[0;34m[\u001b[0m\u001b[0mfileinfo\u001b[0m\u001b[0;34m.\u001b[0m\u001b[0mspectro_coords\u001b[0m\u001b[0;34m[\u001b[0m\u001b[0;36m3\u001b[0m\u001b[0;34m]\u001b[0m\u001b[0;34m]\u001b[0m \u001b[0;34m-\u001b[0m \u001b[0msurvey\u001b[0m\u001b[0;34m[\u001b[0m\u001b[0mfileinfo\u001b[0m\u001b[0;34m.\u001b[0m\u001b[0mspectro_coords\u001b[0m\u001b[0;34m[\u001b[0m\u001b[0;36m4\u001b[0m\u001b[0;34m]\u001b[0m\u001b[0;34m]\u001b[0m\u001b[0;34m\u001b[0m\u001b[0m\n\u001b[1;32m      4\u001b[0m \u001b[0;31m# Recalculate to make colour and apparent magnitude agree\u001b[0m\u001b[0;34m\u001b[0m\u001b[0;34m\u001b[0m\u001b[0m\n\u001b[0;32m----> 5\u001b[0;31m \u001b[0msurvey\u001b[0m\u001b[0;34m[\u001b[0m\u001b[0;34m'Colour'\u001b[0m\u001b[0;34m]\u001b[0m\u001b[0;34m,\u001b[0m \u001b[0msurvey\u001b[0m\u001b[0;34m[\u001b[0m\u001b[0;34m'Happ'\u001b[0m\u001b[0;34m]\u001b[0m \u001b[0;34m=\u001b[0m \u001b[0mIsoCalculator\u001b[0m\u001b[0;34m.\u001b[0m\u001b[0mColourMapp\u001b[0m\u001b[0;34m(\u001b[0m\u001b[0msurvey\u001b[0m\u001b[0;34m.\u001b[0m\u001b[0mageGyr\u001b[0m\u001b[0;34m,\u001b[0m \u001b[0msurvey\u001b[0m\u001b[0;34m.\u001b[0m\u001b[0mmh\u001b[0m\u001b[0;34m,\u001b[0m \u001b[0msurvey\u001b[0m\u001b[0;34m.\u001b[0m\u001b[0mmass\u001b[0m\u001b[0;34m,\u001b[0m \u001b[0msurvey\u001b[0m\u001b[0;34m.\u001b[0m\u001b[0ms\u001b[0m\u001b[0;34m)\u001b[0m\u001b[0;34m\u001b[0m\u001b[0m\n\u001b[0m\u001b[1;32m      6\u001b[0m \u001b[0;34m\u001b[0m\u001b[0m\n\u001b[1;32m      7\u001b[0m \u001b[0msurvey1\u001b[0m \u001b[0;34m=\u001b[0m \u001b[0msurvey\u001b[0m\u001b[0;34m[\u001b[0m\u001b[0msurvey\u001b[0m\u001b[0;34m[\u001b[0m\u001b[0mfileinfo\u001b[0m\u001b[0;34m.\u001b[0m\u001b[0mspectro_coords\u001b[0m\u001b[0;34m[\u001b[0m\u001b[0;36m0\u001b[0m\u001b[0;34m]\u001b[0m\u001b[0;34m]\u001b[0m \u001b[0;34m==\u001b[0m \u001b[0;36m1.0\u001b[0m\u001b[0;34m]\u001b[0m\u001b[0;34m\u001b[0m\u001b[0m\n",
      "\u001b[0;31mNameError\u001b[0m: name 'IsoCalculator' is not defined"
     ]
    }
   ],
   "source": [
    "# Load in spectroscopic data\n",
    "survey = pd.read_csv(fileinfo.spectro_path)\n",
    "# Calculate colour and magnitude of spectroscopic data\n",
    "survey['Colour'], survey['Happ'] = IsoCalculator.ColourMapp(survey.ageGyr, survey.mh, survey.mass, survey.s)\n",
    "\n",
    "# Separate spectroscopic data into field 1 and field 2, 3 overlapping\n",
    "survey1 = survey[survey[fileinfo.spectro_coords[0]] == 1.0]\n",
    "survey23 = survey[survey[fileinfo.spectro_coords[0]].apply(lambda x: x in [2.0,3.0])]"
   ]
  },
  {
   "cell_type": "code",
   "execution_count": 7,
   "metadata": {},
   "outputs": [],
   "source": [
    "# Load in field 1 photometric data\n",
    "\n",
    "full1 = pd.read_csv(os.path.join(fileinfo.photo_path, str(1.0))+'.csv')\n",
    "full1['Colour'] = full1[fileinfo.photo_coords[2]]-full1[fileinfo.photo_coords[3]]\n",
    "full1.rename(index=str, columns={'feh':'mh', 'smass':'mass','rad':'s'}, inplace=True)\n",
    "full1['Colour'], full1['Happ'] = IsoCalculator.ColourMapp(full1.ageGyr, full1.mh, full1.mass, full1.s)"
   ]
  },
  {
   "cell_type": "code",
   "execution_count": 9,
   "metadata": {},
   "outputs": [],
   "source": [
    "# Load in field 2, 3 photometric data\n",
    "\n",
    "full23 = pd.DataFrame()\n",
    "fields= [2.0,3.0]\n",
    "for field in fields:\n",
    "    full23 = pd.concat((full23, pd.read_csv(os.path.join(fileinfo.photo_path, str(field))+'.csv')))\n",
    "full23['Colour'] = full23[fileinfo.photo_coords[2]]-full23[fileinfo.photo_coords[3]]\n",
    "full23.rename(index=str, columns={'feh':'mh', 'smass':'mass','rad':'s'}, inplace=True)\n",
    "# Recalculate to make colour and apparent magnitude agree\n",
    "full23['Colour'], full23['Happ'] = IsoCalculator.ColourMapp(full23.ageGyr, full23.mh, full23.mass, full23.s)"
   ]
  },
  {
   "cell_type": "markdown",
   "metadata": {},
   "source": [
    "### Calculate SF probabilities"
   ]
  },
  {
   "cell_type": "code",
   "execution_count": null,
   "metadata": {},
   "outputs": [],
   "source": [
    "# Calculate intrinsic SF probabilities for field 1\n",
    "full1 = SF(full1, method='intrinsic', coords=['ageGyr', 'mh', 's', 'mass'], angle_coords=['glon', 'glat'])\n",
    "full1['union_int'] = full1.union"
   ]
  },
  {
   "cell_type": "code",
   "execution_count": null,
   "metadata": {},
   "outputs": [],
   "source": [
    "# Calculate observable SF probabilities for field 1\n",
    "full1 = SF(full1, method='observable', coords=['Happ', 'Colour'], angle_coords=['glon', 'glat'])\n",
    "full1['union_obs'] = full1.union"
   ]
  },
  {
   "cell_type": "code",
   "execution_count": 40,
   "metadata": {},
   "outputs": [
    {
     "name": "stdout",
     "output_type": "stream",
     "text": [
      "Calculating all SF values...\n",
      "0...0/14566...done\n",
      "Calculating union contribution...\n",
      "...done\n"
     ]
    }
   ],
   "source": [
    "# Calculate intrinsic SF probabilities for field 2, 3\n",
    "full23 = SF(full23, method='intrinsic', coords=['ageGyr', 'mh', 's', 'mass'], angle_coords=['glon', 'glat'])\n",
    "full23['union_int'] = full23.union"
   ]
  },
  {
   "cell_type": "code",
   "execution_count": 10,
   "metadata": {
    "scrolled": true
   },
   "outputs": [
    {
     "name": "stdout",
     "output_type": "stream",
     "text": [
      "Calculating all SF values...\n",
      "...14566/14566        ...done\n",
      "Calculating union contribution...\n",
      "...done\n"
     ]
    }
   ],
   "source": [
    "# Calculate observable SF probabilities for field 2, 3\n",
    "full23 = SF(full23, method='observable', coords=['Happ', 'Colour'], angle_coords=['glon', 'glat'])\n",
    "full23['union_obs'] = full23.union"
   ]
  },
  {
   "cell_type": "markdown",
   "metadata": {},
   "source": [
    "### Drop duplicates"
   ]
  },
  {
   "cell_type": "code",
   "execution_count": 15,
   "metadata": {},
   "outputs": [
    {
     "name": "stdout",
     "output_type": "stream",
     "text": [
      "Duplicate progress: 14565 / 14566"
     ]
    }
   ],
   "source": [
    "# Clear duplicates for photometric field 2, 3\n",
    "cleared = pd.DataFrame()\n",
    "for i in range(len(full23)):\n",
    "    result = np.sum((full23[i+1:].glon == full23.iloc[i].glon)&\\\n",
    "                    (full23[i+1:].glat == full23.iloc[i].glat))\n",
    "    if result == 0: cleared = pd.concat((cleared, full23[i:i+1]))\n",
    "    sys.stdout.write('\\rDuplicate progress: %d / %d' % (i, len(full23)))\n",
    "\n",
    "full23_c = cleared"
   ]
  },
  {
   "cell_type": "code",
   "execution_count": 16,
   "metadata": {},
   "outputs": [
    {
     "name": "stdout",
     "output_type": "stream",
     "text": [
      "Duplicate progress: 244 / 245"
     ]
    }
   ],
   "source": [
    "# Clear duplicates for spectroscopic fields 2,3\n",
    "cleared = pd.DataFrame()\n",
    "for i in range(len(survey23)):\n",
    "    result = np.sum((survey23[i+1:].glon == survey23.iloc[i].glon)&\\\n",
    "                    (survey23[i+1:].glat == survey23.iloc[i].glat))\n",
    "    if result == 0: cleared = pd.concat((cleared, survey23[i:i+1]))\n",
    "    sys.stdout.write('\\rDuplicate progress: %d / %d' % (i, len(survey23)))\n",
    "    \n",
    "survey23_c = cleared"
   ]
  },
  {
   "cell_type": "code",
   "execution_count": 18,
   "metadata": {},
   "outputs": [
    {
     "data": {
      "text/plain": [
       "(14566, 9536, 245, 239)"
      ]
     },
     "execution_count": 18,
     "metadata": {},
     "output_type": "execute_result"
    }
   ],
   "source": [
    "len(full23), len(full23_c), len(survey23), len(survey23_c)"
   ]
  },
  {
   "cell_type": "markdown",
   "metadata": {},
   "source": [
    "### Save files"
   ]
  },
  {
   "cell_type": "code",
   "execution_count": 21,
   "metadata": {},
   "outputs": [],
   "source": [
    "# Save all data with selection function probabilities counted\n",
    "full1.to_csv(os.path.join(fileinfo.photo_path, 'solutionF1.csv'), index=False)\n",
    "full23.to_csv(os.path.join(fileinfo.photo_path, 'solutionF23.csv'), index=False)\n",
    "survey1.to_csv(os.path.join(fileinfo.photo_path, 'solutionS1.csv'), index=False)\n",
    "survey23.to_csv(os.path.join(fileinfo.photo_path, 'solutionS23.csv'), index=False)\n",
    "\n",
    "full23_c.to_csv(os.path.join(fileinfo.photo_path, 'solutionF23_c.csv'), index=False)\n",
    "survey23_c.to_csv(os.path.join(fileinfo.photo_path, 'solutionS23_c.csv'), index=False)"
   ]
  },
  {
   "cell_type": "code",
   "execution_count": null,
   "metadata": {},
   "outputs": [],
   "source": []
  }
 ],
 "metadata": {
  "kernelspec": {
   "display_name": "Python 2",
   "language": "python",
   "name": "python2"
  },
  "language_info": {
   "codemirror_mode": {
    "name": "ipython",
    "version": 2
   },
   "file_extension": ".py",
   "mimetype": "text/x-python",
   "name": "python",
   "nbconvert_exporter": "python",
   "pygments_lexer": "ipython2",
   "version": "2.7.14"
  }
 },
 "nbformat": 4,
 "nbformat_minor": 2
}
