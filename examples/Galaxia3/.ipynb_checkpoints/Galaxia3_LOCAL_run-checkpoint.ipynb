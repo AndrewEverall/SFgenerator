{
 "cells": [
  {
   "cell_type": "markdown",
   "metadata": {},
   "source": [
    "# Building selection functions for Galaxia 3\n",
    "Calculate observed and intrinsic selection function using Galaxia3  mock photometric and spectroscopic catalogues."
   ]
  },
  {
   "cell_type": "code",
   "execution_count": 1,
   "metadata": {},
   "outputs": [],
   "source": [
    "# Load modules\n",
    "%load_ext autoreload\n",
    "%autoreload 2\n",
    "\n",
    "import os, sys\n",
    "import numpy as np\n",
    "import pandas as pd\n",
    "\n",
    "def ErrorWarning():\n",
    "    raise ValueError(\"Wait, don't run this, you don't want to!\")"
   ]
  },
  {
   "cell_type": "markdown",
   "metadata": {},
   "source": [
    "## 1. Create new data directory"
   ]
  },
  {
   "cell_type": "code",
   "execution_count": 2,
   "metadata": {},
   "outputs": [],
   "source": [
    "path = \"/<path to directory...>/\""
   ]
  },
  {
   "cell_type": "code",
   "execution_count": 3,
   "metadata": {
    "collapsed": true
   },
   "outputs": [
    {
     "ename": "KeyboardInterrupt",
     "evalue": "",
     "output_type": "error",
     "traceback": [
      "\u001b[0;31m---------------------------------------------------------------------------\u001b[0m",
      "\u001b[0;31mKeyboardInterrupt\u001b[0m                         Traceback (most recent call last)",
      "\u001b[0;32m<ipython-input-3-cb6f565cc6af>\u001b[0m in \u001b[0;36m<module>\u001b[0;34m()\u001b[0m\n\u001b[1;32m      1\u001b[0m \u001b[0;32mfrom\u001b[0m \u001b[0mseestar\u001b[0m \u001b[0;32mimport\u001b[0m \u001b[0mcreateNew\u001b[0m\u001b[0;34m\u001b[0m\u001b[0m\n\u001b[0;32m----> 2\u001b[0;31m \u001b[0mcreateNew\u001b[0m\u001b[0;34m.\u001b[0m\u001b[0mcreate\u001b[0m\u001b[0;34m(\u001b[0m\u001b[0;34m)\u001b[0m\u001b[0;34m\u001b[0m\u001b[0m\n\u001b[0m",
      "\u001b[0;32m/home/andy/anaconda2/lib/python2.7/site-packages/seestar-1.0-py2.7.egg/seestar/createNew.pyc\u001b[0m in \u001b[0;36mcreate\u001b[0;34m()\u001b[0m\n\u001b[1;32m     38\u001b[0m \u001b[0;34m\u001b[0m\u001b[0m\n\u001b[1;32m     39\u001b[0m         \u001b[0;31m# Ask for a directory name\u001b[0m\u001b[0;34m\u001b[0m\u001b[0;34m\u001b[0m\u001b[0m\n\u001b[0;32m---> 40\u001b[0;31m         \u001b[0mdirectory\u001b[0m \u001b[0;34m=\u001b[0m \u001b[0minput\u001b[0m\u001b[0;34m(\u001b[0m\u001b[0;34m\"Where will the new directory be created? e.g. data \"\u001b[0m\u001b[0;34m)\u001b[0m\u001b[0;34m\u001b[0m\u001b[0m\n\u001b[0m\u001b[1;32m     41\u001b[0m         \u001b[0;32mwhile\u001b[0m \u001b[0;32mnot\u001b[0m \u001b[0mos\u001b[0m\u001b[0;34m.\u001b[0m\u001b[0mpath\u001b[0m\u001b[0;34m.\u001b[0m\u001b[0mexists\u001b[0m\u001b[0;34m(\u001b[0m\u001b[0mdirectory\u001b[0m\u001b[0;34m)\u001b[0m\u001b[0;34m:\u001b[0m\u001b[0;34m\u001b[0m\u001b[0m\n\u001b[1;32m     42\u001b[0m                 \u001b[0mdirectory\u001b[0m \u001b[0;34m=\u001b[0m \u001b[0minput\u001b[0m\u001b[0;34m(\u001b[0m\u001b[0;34m\"Directory does not exist, please give a real location: \"\u001b[0m\u001b[0;34m)\u001b[0m\u001b[0;34m\u001b[0m\u001b[0m\n",
      "\u001b[0;32m/home/andy/anaconda2/lib/python2.7/site-packages/ipykernel/kernelbase.pyc\u001b[0m in \u001b[0;36mraw_input\u001b[0;34m(self, prompt)\u001b[0m\n\u001b[1;32m    702\u001b[0m             \u001b[0mself\u001b[0m\u001b[0;34m.\u001b[0m\u001b[0m_parent_ident\u001b[0m\u001b[0;34m,\u001b[0m\u001b[0;34m\u001b[0m\u001b[0m\n\u001b[1;32m    703\u001b[0m             \u001b[0mself\u001b[0m\u001b[0;34m.\u001b[0m\u001b[0m_parent_header\u001b[0m\u001b[0;34m,\u001b[0m\u001b[0;34m\u001b[0m\u001b[0m\n\u001b[0;32m--> 704\u001b[0;31m             \u001b[0mpassword\u001b[0m\u001b[0;34m=\u001b[0m\u001b[0mFalse\u001b[0m\u001b[0;34m,\u001b[0m\u001b[0;34m\u001b[0m\u001b[0m\n\u001b[0m\u001b[1;32m    705\u001b[0m         )\n\u001b[1;32m    706\u001b[0m \u001b[0;34m\u001b[0m\u001b[0m\n",
      "\u001b[0;32m/home/andy/anaconda2/lib/python2.7/site-packages/ipykernel/kernelbase.pyc\u001b[0m in \u001b[0;36m_input_request\u001b[0;34m(self, prompt, ident, parent, password)\u001b[0m\n\u001b[1;32m    732\u001b[0m             \u001b[0;32mexcept\u001b[0m \u001b[0mKeyboardInterrupt\u001b[0m\u001b[0;34m:\u001b[0m\u001b[0;34m\u001b[0m\u001b[0m\n\u001b[1;32m    733\u001b[0m                 \u001b[0;31m# re-raise KeyboardInterrupt, to truncate traceback\u001b[0m\u001b[0;34m\u001b[0m\u001b[0;34m\u001b[0m\u001b[0m\n\u001b[0;32m--> 734\u001b[0;31m                 \u001b[0;32mraise\u001b[0m \u001b[0mKeyboardInterrupt\u001b[0m\u001b[0;34m\u001b[0m\u001b[0m\n\u001b[0m\u001b[1;32m    735\u001b[0m             \u001b[0;32melse\u001b[0m\u001b[0;34m:\u001b[0m\u001b[0;34m\u001b[0m\u001b[0m\n\u001b[1;32m    736\u001b[0m                 \u001b[0;32mbreak\u001b[0m\u001b[0;34m\u001b[0m\u001b[0m\n",
      "\u001b[0;31mKeyboardInterrupt\u001b[0m: "
     ]
    }
   ],
   "source": [
    "from seestar import createNew\n",
    "createNew.create()"
   ]
  },
  {
   "cell_type": "markdown",
   "metadata": {},
   "source": [
    "The newly created folder contains templates of all the files that are needed for calculating the selection function. Once you have created this folder, you must replace the template files with real field files:\n",
    "* Spectroscopic catalogue (SURVEY_survey.csv). This file will be a comma-separated file with at least the following five columns (appropriately labelled): galactic longitude in radians ('glon'), galactic latitude in radians ('glat'), apparent magnitudes ('Happ', 'Japp', 'Kapp'), field id tag for the star ('fieldID'). The file can have other columns too but they won't be used.\n",
    "* Locations and IDs of the spectroscopic field pointings (SURVEY_fieldinfo.csv). This file gives the central galactic longitude in radians ('glon') and galactic latitude in radians ('glat') of each field, half angle of the field in radians ('halfangle') and the color and magnitude limits imposed by the spectroscopic survey ('Magmin', 'Magmax', 'Colmin', 'Colmax'). If none are imposed, write \"NoLimit\".\n",
    "* PARSEC isochrone files can extracted from [isoPARSEC.tar.gz](https://drive.google.com/drive/folders/1mz09FRP6hJPo1zPBJHP1T0BNhtDOkdGs?usp=sharing). Move isochrone_interpolantinstances.pickle into the isochrones/ folder. Without the isochrones, you can still generate the selection function in observable coordinates."
   ]
  },
  {
   "cell_type": "markdown",
   "metadata": {},
   "source": [
    "### Check pickled instance of file locations"
   ]
  },
  {
   "cell_type": "markdown",
   "metadata": {},
   "source": [
    "The newly created folder also has a file called SURVEY_fileinfo.pickle, which stores all the file locations and model setup parameters for evaluating the selection function. You can test the locations and print the values of all the parameters."
   ]
  },
  {
   "cell_type": "code",
   "execution_count": 3,
   "metadata": {},
   "outputs": [
    {
     "name": "stdout",
     "output_type": "stream",
     "text": [
      "Filename for spectroscopic catalogue:\n",
      "     spectro_path: /home/andy/Documents/Research/SF/CodeDev/Notebooks/091118Tests/Galaxia3_sf/Galaxia3_sf_survey.csv\n",
      "Filename for spectroscopic field pointings:\n",
      "     field_path: /home/andy/Documents/Research/SF/CodeDev/Notebooks/091118Tests/Galaxia3_sf/Galaxia3_sf_fieldinfo.csv\n",
      "\n",
      "Folder containing photometric samples in the spectroscopic field pointings:\n",
      "     photo_path: /home/andy/Documents/Research/SF/CodeDev/Notebooks/091118Tests/Galaxia3_sf/photometric\n",
      "Column headers and dtypes for spectroscopic files [ fieldID, Phi, Th, magA, magB, magC]\n",
      "where magA-magB = Colour, magC = m (for selection limits):\n",
      "     spectro_coords: ['fieldID', 'glon', 'glat', 'Japp', 'Kapp', 'Happ']\n",
      "     spectro_dtypes: [<type 'numpy.float64'>, <type 'float'>, <type 'float'>, <type 'float'>, <type 'float'>, <type 'float'>]\n",
      "Column headers for field pointing information [fieldID, Phi, Th, halfangle, Magmin, Magmax, Colmin, Colmax]:\n",
      "     field_coords: ['fieldID', 'glon', 'glat', 'halfangle', 'Magmin', 'Magmax', 'Colmin', 'Colmax']\n",
      "     field_dtypes: [<type 'numpy.float64'>, <type 'float'>, <type 'float'>, <type 'float'>, <type 'float'>, <type 'float'>, <type 'float'>, <type 'numpy.object_'>]\n",
      "Column headers and dtypes for photometric field files [ Phi, Th, magA, magB, magC]\n",
      "where magA-magB = Colour, magC = m (for selection limits):\n",
      "     photo_coords: ['glon', 'glat', 'Japp', 'Kapp', 'Happ']\n",
      "     photo_dtypes: [<type 'numpy.float64'>, <type 'numpy.float64'>, <type 'numpy.float64'>, <type 'numpy.float64'>, <type 'numpy.float64'>]\n",
      "Coordinate system of angles (\"Equatorial\" or \"Galactic\"):\n",
      "     coord_system:Galactic\n",
      "\n",
      "Names of pickled files that will store the selection function information:\n",
      "     sf_pickle_path: /home/andy/Documents/Research/SF/CodeDev/Notebooks/091118Tests/Galaxia3_sf/Galaxia3_sf_SF.pickle\n",
      "     obsSF_pickle_path: /home/andy/Documents/Research/SF/CodeDev/Notebooks/091118Tests/Galaxia3_sf/Galaxia3_sf_obsSF.pickle\n",
      "\n",
      "File types for photometric data:\n",
      "     photo_tag: .csv\n",
      "File containing pickled instance of isochrone data:\n",
      "     iso_data_file: /home/andy/Documents/Research/SF/CodeDev/Notebooks/091118Tests/Galaxia3_sf/isochrones/iso_fulldata.pickle\n",
      "File containing pickled isochrone interpolants:\n",
      "     iso_interp_path: /home/andy/Documents/Research/SF/CodeDev/Notebooks/091118Tests/Galaxia3_sf/isochrones/isochrone_interpolantinstances.pickle\n"
     ]
    }
   ],
   "source": [
    "from seestar import surveyInfoPickler\n",
    "fileinfo_path = os.path.join(path, 'Galaxia3_sf/Galaxia3_sf_fileinfo.pickle')\n",
    "fileinfo = surveyInfoPickler.surveyInformation(fileinfo_path)\n",
    "\n",
    "# Print values for the file locations\n",
    "fileinfo.printValues()"
   ]
  },
  {
   "cell_type": "code",
   "execution_count": 5,
   "metadata": {},
   "outputs": [],
   "source": [
    "# Model for evaluating selection function\n",
    "fileinfo.spectro_model = ('GMM', 10)\n",
    "fileinfo.photo_model   = ('GMM', 10)"
   ]
  },
  {
   "cell_type": "code",
   "execution_count": 4,
   "metadata": {
    "scrolled": false
   },
   "outputs": [
    {
     "name": "stdout",
     "output_type": "stream",
     "text": [
      "1) Checking file paths exist:\n",
      "OK\n",
      "\n",
      "2) Checking spectroscopic catalogue file structure:\n",
      "OK\n",
      "\n",
      "3) Checking field information file structure:\n",
      "(make sure halfangle is in units of radians.)\n",
      "OK\n",
      "\n",
      "4) Checking photometric catalogue file structure:\n",
      "Checking 2.0.csv:\n",
      "OK\n",
      "\n",
      "5) Checking selection function pickle paths exist:\n",
      "OK\n",
      "\n",
      "6) Checking isochrone pickle files exist:\n",
      "The premade interpolants (isochrone_interpolantinstances.pickle) will be automatically be used to calculate the selection function.\n"
     ]
    }
   ],
   "source": [
    "# Test and save\n",
    "fileinfo.testFiles()\n",
    "fileinfo.save()"
   ]
  },
  {
   "cell_type": "code",
   "execution_count": null,
   "metadata": {},
   "outputs": [],
   "source": []
  },
  {
   "cell_type": "code",
   "execution_count": null,
   "metadata": {},
   "outputs": [],
   "source": []
  },
  {
   "cell_type": "code",
   "execution_count": 50,
   "metadata": {},
   "outputs": [
    {
     "name": "stdout",
     "output_type": "stream",
     "text": [
      "Checking photometric catalogue file structure:\n",
      "Checking /home/andy/Documents/Research/SF/CodeDev/Notebooks/091118Tests/Galaxia3_sf/photometric/Galaxia_subset_1.csv:\n",
      "File OK\n",
      "\n",
      "Counting total number of stars..done\n",
      "Total number of stars 2652527.\n",
      "Importing 2417400 stars at a time. Iterating 1290982 stars at a time.\n",
      "Field file path for field 1.0: /home/andy/Documents/Research/SF/CodeDev/Notebooks/091118Tests/Galaxia3_sf/photometric/1.0.csv\n",
      "Clearing field files...\n",
      "...done\n",
      "\n",
      "File: Galaxia_subset_1.csv  Complete: 1500000/2652527(56.55%)  Time: 0.5m  Projected: 0h0m...Saving: 3/3       /1152525        \n",
      "Total stars assigned to fields: 2022647.\n",
      "Dictionary of stars per field in fileinfo.photo_field_starcount.\n"
     ]
    }
   ],
   "source": [
    "from seestar import FieldAssignment\n",
    "\n",
    "fileinfo_path = os.path.join(fileinfo.survey_folder, \"Galaxia3_sf_fileinfo.pickle\")\n",
    "# Galaxia 'photometric' files\n",
    "files = [os.path.join(fileinfo.photo_path, \"Galaxia_subset_\"+str(n)+\".csv\") for n in xrange(1, 3)]\n",
    "FA = FieldAssignment.FieldAssignment(fileinfo_path, files)\n",
    "# ncores=1: SF will run the Serial version (not use multiprocessing)\n",
    "# ncores>1: Parallel version on the number of cores given\n",
    "# When running in parallel, the field counting can mess up a bit because the pools get disordered\n",
    "\n",
    "# You can also specify memory= as an additional kwargs\n",
    "# If memory given: its currently set up to use 5% of given memory\n",
    "# If no memory kwarg given: It will use 5% of the memory available in the computer (not sure how this works on a cluser)"
   ]
  },
  {
   "cell_type": "markdown",
   "metadata": {},
   "source": [
    "## 2. Calculate observed and intrinsic selection functions"
   ]
  },
  {
   "cell_type": "code",
   "execution_count": 54,
   "metadata": {
    "scrolled": true
   },
   "outputs": [
    {
     "name": "stdout",
     "output_type": "stream",
     "text": [
      "Would you like the selection function in: a) observable, b) intrinsic, c) both? (return a, b or c)c\n",
      "Path to intrinsic SF (Galaxia3_sf_SF.pickle) exists. Load SF in from here? (y/n)n\n",
      "Will generate a new intrinsic SF.\n",
      "No observed SF found at /home/andy/Documents/Research/SF/CodeDev/Notebooks/091118Tests/Galaxia3_sf/Galaxia3_sf_obsSF.pickle, we'll build observable seleciton function from scratch.\n",
      "Path to interpolated isochrones (isochrone_interpolantinstances.pickle) exists. These will be used.\n",
      "The spectro model description is:('GMM', 1)\n",
      "The photo model description is:('GMM', 2)\n",
      "\n",
      "{'glon': 'phi', 'Colmin': 'Colmin', 'glat': 'theta', 'Colmax': 'Colmax', 'Magmin': 'Magmin', 'Magmax': 'Magmax', 'fieldID': 'fieldID', 'halfangle': 'halfangle'}\n",
      "Creating distance-age-metallicity interpolants...\n",
      "Importing colour-magnitude isochrone interpolants...\n",
      "...done\n",
      "...done.\n",
      "\n",
      "Importing data for colour-magnitude field interpolants...\n",
      "{'Kapp': 'appB', 'Happ': 'appC', 'glon': 'phi', 'glat': 'theta', 'Japp': 'appA', 'fieldID': 'fieldID'}\n",
      "Filtering for null values in spectro: Total star count = 5. Filtered star count = 5. 0 stars removed with null values\n",
      "((0.0, 0.0), (0.0, 0.0))\n",
      "...done.\n",
      "\n",
      "Creating colour-magnitude field interpolants...\n",
      "multiprocessing - observable SF calculation - running on 3 cores...\n",
      "Current field in col-mag calculation: 1.0, 1/3, Time: 0m, Left: 0m\n",
      "now pickling them...\n",
      "...done\n",
      ".\n"
     ]
    }
   ],
   "source": [
    "from seestar import SelectionGrid\n",
    "SF = SelectionGrid.SFGenerator(fileinfo_path,ncores=3)\n",
    "# ncores = 0: SF will run the Serial version (not use multiprocessing)\n",
    "# ncores > 0: Parallel version on the number of cores given\n",
    "# When running in parallel, the field counting can mess up a bit because the pools get disordered"
   ]
  },
  {
   "cell_type": "markdown",
   "metadata": {},
   "source": [
    "## 3. Calculate selection function probabilities (assuming duplicates still in samples)"
   ]
  },
  {
   "cell_type": "code",
   "execution_count": null,
   "metadata": {},
   "outputs": [],
   "source": [
    "from seestar import IsochroneScaling\n",
    "# Load in Isochrone Calculator\n",
    "IsoCalculator = IsochroneScaling.IntrinsicToObservable()\n",
    "IsoCalculator.LoadColMag(SF.isocolmag_pickle)"
   ]
  },
  {
   "cell_type": "code",
   "execution_count": null,
   "metadata": {},
   "outputs": [],
   "source": []
  },
  {
   "cell_type": "code",
   "execution_count": 55,
   "metadata": {},
   "outputs": [],
   "source": [
    "# Load in spectroscopic data\n",
    "survey = pd.read_csv(fileinfo.spectro_path)\n",
    "\n",
    "# Separate spectroscopic data into fields 1 and overlapping field 2 and 3\n",
    "survey1 = survey[survey[fileinfo.spectro_coords[0]] == 1.0]\n",
    "survey23 = survey[survey[fileinfo.spectro_coords[0]].apply(lambda x: x in [2.0,3.0])]"
   ]
  },
  {
   "cell_type": "code",
   "execution_count": 56,
   "metadata": {},
   "outputs": [],
   "source": [
    "# Load in photometric data in fields 1, 2, and 3\n",
    "full1 = pd.read_csv(os.path.join(fileinfo.photo_path, str(1.0))+'.csv')\n",
    "full1['Colour'] = full1[fileinfo.photo_coords[2]]-full1[fileinfo.photo_coords[3]]\n",
    "full1.rename(index=str, columns={'feh':'mh', 'smass':'mass','rad':'s'}, inplace=True)\n",
    "\n",
    "full23 = pd.DataFrame()\n",
    "fields= [2.0,3.0]\n",
    "for field in fields:\n",
    "    full23 = pd.concat((full23, pd.read_csv(os.path.join(fileinfo.photo_path, str(field))+'.csv')))\n",
    "full23['Colour'] = full23[fileinfo.photo_coords[2]]-full23[fileinfo.photo_coords[3]]\n",
    "full23.rename(index=str, columns={'feh':'mh', 'smass':'mass','rad':'s'}, inplace=True)"
   ]
  },
  {
   "cell_type": "code",
   "execution_count": 61,
   "metadata": {},
   "outputs": [
    {
     "data": {
      "text/plain": [
       "'/home/andy/Documents/Research/SF/CodeDev/Notebooks/091118Tests/Galaxia3_sf/isochrones/iso_fulldata.pickle'"
      ]
     },
     "execution_count": 61,
     "metadata": {},
     "output_type": "execute_result"
    }
   ],
   "source": [
    "fileinfo.iso_data_path"
   ]
  },
  {
   "cell_type": "code",
   "execution_count": 6,
   "metadata": {
    "collapsed": true
   },
   "outputs": [
    {
     "name": "stdout",
     "output_type": "stream",
     "text": [
      "/home/andy/Documents/Research/SF/CodeDev/Notebooks/091118Tests/Galaxia3_sf/isochrones/iso_fulldata.pickle\n",
      "Unpickling isochrone dictionaries...\n",
      "...done.\n",
      "\n",
      "Scaled masses spacing: 235 / 353\r"
     ]
    },
    {
     "name": "stderr",
     "output_type": "stream",
     "text": [
      "/home/andy/anaconda2/lib/python2.7/site-packages/seestar-1.0-py2.7.egg/seestar/IsochroneScaling.py:646: RuntimeWarning: divide by zero encountered in double_scalars\n"
     ]
    },
    {
     "name": "stdout",
     "output_type": "stream",
     "text": [
      "Scaled masses spacing: 352 / 353\n",
      "Scaled masses points: 999 / 1000\n",
      "nage, nmh, nmass: 353, 54, 500\n",
      "((0.0, 13.220006551228417), (-2.2435283018867924, 0.5905283018867925), (0.0, 1.0))\n"
     ]
    },
    {
     "ename": "NameError",
     "evalue": "name 'full23' is not defined",
     "output_type": "error",
     "traceback": [
      "\u001b[0;31m---------------------------------------------------------------------------\u001b[0m",
      "\u001b[0;31mNameError\u001b[0m                                 Traceback (most recent call last)",
      "\u001b[0;32m<ipython-input-6-582c78f5387c>\u001b[0m in \u001b[0;36m<module>\u001b[0;34m()\u001b[0m\n\u001b[1;32m      8\u001b[0m \u001b[0;34m\u001b[0m\u001b[0m\n\u001b[1;32m      9\u001b[0m \u001b[0;31m# Recalculate colour and apparent magnitudes\u001b[0m\u001b[0;34m\u001b[0m\u001b[0;34m\u001b[0m\u001b[0m\n\u001b[0;32m---> 10\u001b[0;31m \u001b[0mfull23\u001b[0m\u001b[0;34m[\u001b[0m\u001b[0;34m'Colour'\u001b[0m\u001b[0;34m]\u001b[0m\u001b[0;34m,\u001b[0m \u001b[0mfull23\u001b[0m\u001b[0;34m[\u001b[0m\u001b[0;34m'Happ'\u001b[0m\u001b[0;34m]\u001b[0m \u001b[0;34m=\u001b[0m \u001b[0mIsoCalculator\u001b[0m\u001b[0;34m.\u001b[0m\u001b[0mColourMapp\u001b[0m\u001b[0;34m(\u001b[0m\u001b[0mfull23\u001b[0m\u001b[0;34m.\u001b[0m\u001b[0mageGyr\u001b[0m\u001b[0;34m,\u001b[0m \u001b[0mfull23\u001b[0m\u001b[0;34m.\u001b[0m\u001b[0mmh\u001b[0m\u001b[0;34m,\u001b[0m \u001b[0mfull23\u001b[0m\u001b[0;34m.\u001b[0m\u001b[0mmass\u001b[0m\u001b[0;34m,\u001b[0m \u001b[0mfull23\u001b[0m\u001b[0;34m.\u001b[0m\u001b[0ms\u001b[0m\u001b[0;34m)\u001b[0m\u001b[0;34m\u001b[0m\u001b[0m\n\u001b[0m\u001b[1;32m     11\u001b[0m \u001b[0mfull1\u001b[0m\u001b[0;34m[\u001b[0m\u001b[0;34m'Colour'\u001b[0m\u001b[0;34m]\u001b[0m\u001b[0;34m,\u001b[0m \u001b[0mfull1\u001b[0m\u001b[0;34m[\u001b[0m\u001b[0;34m'Happ'\u001b[0m\u001b[0;34m]\u001b[0m \u001b[0;34m=\u001b[0m \u001b[0mIsoCalculator\u001b[0m\u001b[0;34m.\u001b[0m\u001b[0mColourMapp\u001b[0m\u001b[0;34m(\u001b[0m\u001b[0mfull1\u001b[0m\u001b[0;34m.\u001b[0m\u001b[0mageGyr\u001b[0m\u001b[0;34m,\u001b[0m \u001b[0mfull1\u001b[0m\u001b[0;34m.\u001b[0m\u001b[0mmh\u001b[0m\u001b[0;34m,\u001b[0m \u001b[0mfull1\u001b[0m\u001b[0;34m.\u001b[0m\u001b[0mmass\u001b[0m\u001b[0;34m,\u001b[0m \u001b[0mfull1\u001b[0m\u001b[0;34m.\u001b[0m\u001b[0ms\u001b[0m\u001b[0;34m)\u001b[0m\u001b[0;34m\u001b[0m\u001b[0m\n",
      "\u001b[0;31mNameError\u001b[0m: name 'full23' is not defined"
     ]
    }
   ],
   "source": [
    "# Recalculate colour and apparent magnitudes\n",
    "full23['Colour'], full23['Happ'] = IsoCalculator.ColourMapp(full23.ageGyr, full23.mh, full23.mass, full23.s)\n",
    "full1['Colour'], full1['Happ'] = IsoCalculator.ColourMapp(full1.ageGyr, full1.mh, full1.mass, full1.s)"
   ]
  },
  {
   "cell_type": "code",
   "execution_count": 24,
   "metadata": {},
   "outputs": [
    {
     "name": "stdout",
     "output_type": "stream",
     "text": [
      "Calculating all SF values...\n",
      "...Assigning: 1969303/1969303        \n",
      "Calculating: 1969303/1969303        ...done\n",
      "Calculating union contribution...\n",
      "...done\n"
     ]
    }
   ],
   "source": [
    "# Calculate observable SF probabilities for field 1\n",
    "full1 = SF(full1, method='observable', coords=['Happ', 'Colour'], angle_coords=['glon', 'glat'])\n",
    "full1['union_obs'] = full1.union"
   ]
  },
  {
   "cell_type": "code",
   "execution_count": 13,
   "metadata": {
    "collapsed": true
   },
   "outputs": [
    {
     "name": "stdout",
     "output_type": "stream",
     "text": [
      "Calculating all SF values...\n",
      "...Assigning: 1969303/1969303        \n",
      "Calculating: 1556567/1969303        "
     ]
    },
    {
     "ename": "AttributeError",
     "evalue": "SFGenerator instance has no attribute 'instanceSF'",
     "output_type": "error",
     "traceback": [
      "\u001b[0;31m---------------------------------------------------------------------------\u001b[0m",
      "\u001b[0;31mAttributeError\u001b[0m                            Traceback (most recent call last)",
      "\u001b[0;32m<ipython-input-13-ca86b6ce09af>\u001b[0m in \u001b[0;36m<module>\u001b[0;34m()\u001b[0m\n\u001b[1;32m      1\u001b[0m \u001b[0;31m# Calculate intrinsic SF probabilities for field 1\u001b[0m\u001b[0;34m\u001b[0m\u001b[0;34m\u001b[0m\u001b[0m\n\u001b[0;32m----> 2\u001b[0;31m \u001b[0mfull1\u001b[0m \u001b[0;34m=\u001b[0m \u001b[0mSF\u001b[0m\u001b[0;34m(\u001b[0m\u001b[0mfull1\u001b[0m\u001b[0;34m,\u001b[0m \u001b[0mmethod\u001b[0m\u001b[0;34m=\u001b[0m\u001b[0;34m'intrinsic'\u001b[0m\u001b[0;34m,\u001b[0m \u001b[0mcoords\u001b[0m\u001b[0;34m=\u001b[0m\u001b[0;34m[\u001b[0m\u001b[0;34m'ageGyr'\u001b[0m\u001b[0;34m,\u001b[0m \u001b[0;34m'mh'\u001b[0m\u001b[0;34m,\u001b[0m \u001b[0;34m's'\u001b[0m\u001b[0;34m,\u001b[0m \u001b[0;34m'mass'\u001b[0m\u001b[0;34m]\u001b[0m\u001b[0;34m,\u001b[0m \u001b[0mangle_coords\u001b[0m\u001b[0;34m=\u001b[0m\u001b[0;34m[\u001b[0m\u001b[0;34m'glon'\u001b[0m\u001b[0;34m,\u001b[0m \u001b[0;34m'glat'\u001b[0m\u001b[0;34m]\u001b[0m\u001b[0;34m)\u001b[0m\u001b[0;34m\u001b[0m\u001b[0m\n\u001b[0m\u001b[1;32m      3\u001b[0m \u001b[0mfull1\u001b[0m\u001b[0;34m[\u001b[0m\u001b[0;34m'union_int'\u001b[0m\u001b[0;34m]\u001b[0m \u001b[0;34m=\u001b[0m \u001b[0mfull1\u001b[0m\u001b[0;34m.\u001b[0m\u001b[0munion\u001b[0m\u001b[0;34m\u001b[0m\u001b[0m\n",
      "\u001b[0;32m/usr/local/lib/python2.7/dist-packages/seestar-1.0-py2.7.egg/seestar/SelectionGrid.pyc\u001b[0m in \u001b[0;36m__call__\u001b[0;34m(self, catalogue, method, coords, angle_coords, rng_phi, rng_th)\u001b[0m\n\u001b[1;32m    255\u001b[0m             catalogue = FieldUnions.GenerateMatrices(catalogue, self.pointings, \n\u001b[1;32m    256\u001b[0m                                                     \u001b[0mangle_coords\u001b[0m\u001b[0;34m,\u001b[0m \u001b[0mpoint_coords\u001b[0m\u001b[0;34m,\u001b[0m \u001b[0;34m'halfangle'\u001b[0m\u001b[0;34m,\u001b[0m\u001b[0;34m\u001b[0m\u001b[0m\n\u001b[0;32m--> 257\u001b[0;31m                                                     SFcalc, IDtype=self.fieldlabel_type)\n\u001b[0m\u001b[1;32m    258\u001b[0m             \u001b[0;32mprint\u001b[0m\u001b[0;34m(\u001b[0m\u001b[0;34m'...done'\u001b[0m\u001b[0;34m)\u001b[0m\u001b[0;34m\u001b[0m\u001b[0m\n\u001b[1;32m    259\u001b[0m \u001b[0;34m\u001b[0m\u001b[0m\n",
      "\u001b[0;32m/usr/local/lib/python2.7/dist-packages/seestar-1.0-py2.7.egg/seestar/FieldUnions.pyc\u001b[0m in \u001b[0;36mGenerateMatrices\u001b[0;34m(df, pointings, angle_coords, point_coords, halfangle, SFcalc, IDtype, Nsample, test, progress)\u001b[0m\n\u001b[1;32m    206\u001b[0m                 \u001b[0mcol_arr\u001b[0m\u001b[0;34m[\u001b[0m\u001b[0mcondition\u001b[0m\u001b[0;34m]\u001b[0m \u001b[0;34m=\u001b[0m \u001b[0mcol\u001b[0m\u001b[0;34m\u001b[0m\u001b[0m\n\u001b[1;32m    207\u001b[0m                 \u001b[0mmag_arr\u001b[0m\u001b[0;34m[\u001b[0m\u001b[0mcondition\u001b[0m\u001b[0;34m]\u001b[0m \u001b[0;34m=\u001b[0m \u001b[0mmag\u001b[0m\u001b[0;34m\u001b[0m\u001b[0m\n\u001b[0;32m--> 208\u001b[0;31m             \u001b[0;32melse\u001b[0m\u001b[0;34m:\u001b[0m \u001b[0mprob\u001b[0m \u001b[0;34m=\u001b[0m \u001b[0mSFcalc\u001b[0m\u001b[0;34m(\u001b[0m\u001b[0mfield\u001b[0m\u001b[0;34m,\u001b[0m \u001b[0mdfi\u001b[0m\u001b[0;34m[\u001b[0m\u001b[0mcondition\u001b[0m\u001b[0;34m]\u001b[0m\u001b[0;34m)\u001b[0m\u001b[0;34m\u001b[0m\u001b[0m\n\u001b[0m\u001b[1;32m    209\u001b[0m             \u001b[0;31m# Set probability values in array\u001b[0m\u001b[0;34m\u001b[0m\u001b[0;34m\u001b[0m\u001b[0m\n\u001b[1;32m    210\u001b[0m             \u001b[0;32mif\u001b[0m \u001b[0misinstance\u001b[0m\u001b[0;34m(\u001b[0m\u001b[0mprob\u001b[0m\u001b[0;34m,\u001b[0m \u001b[0mpd\u001b[0m\u001b[0;34m.\u001b[0m\u001b[0mSeries\u001b[0m\u001b[0;34m)\u001b[0m\u001b[0;34m:\u001b[0m\u001b[0;34m\u001b[0m\u001b[0m\n",
      "\u001b[0;32m/usr/local/lib/python2.7/dist-packages/seestar-1.0-py2.7.egg/seestar/SelectionGrid.pyc\u001b[0m in \u001b[0;36m<lambda>\u001b[0;34m(field, df)\u001b[0m\n\u001b[1;32m    243\u001b[0m             \u001b[0mSFcalc\u001b[0m \u001b[0;34m=\u001b[0m \u001b[0;32mlambda\u001b[0m \u001b[0mfield\u001b[0m\u001b[0;34m,\u001b[0m \u001b[0mdf\u001b[0m\u001b[0;34m:\u001b[0m \u001b[0mself\u001b[0m\u001b[0;34m.\u001b[0m\u001b[0minstanceIMFSF\u001b[0m\u001b[0;34m(\u001b[0m \u001b[0;34m(\u001b[0m\u001b[0mdf\u001b[0m\u001b[0;34m[\u001b[0m\u001b[0mcoords\u001b[0m\u001b[0;34m[\u001b[0m\u001b[0;36m0\u001b[0m\u001b[0;34m]\u001b[0m\u001b[0;34m]\u001b[0m\u001b[0;34m,\u001b[0m \u001b[0mdf\u001b[0m\u001b[0;34m[\u001b[0m\u001b[0mcoords\u001b[0m\u001b[0;34m[\u001b[0m\u001b[0;36m1\u001b[0m\u001b[0;34m]\u001b[0m\u001b[0;34m]\u001b[0m\u001b[0;34m,\u001b[0m \u001b[0mdf\u001b[0m\u001b[0;34m[\u001b[0m\u001b[0mcoords\u001b[0m\u001b[0;34m[\u001b[0m\u001b[0;36m2\u001b[0m\u001b[0;34m]\u001b[0m\u001b[0;34m]\u001b[0m\u001b[0;34m)\u001b[0m\u001b[0;34m,\u001b[0m \u001b[0mself\u001b[0m\u001b[0;34m.\u001b[0m\u001b[0mobsSF\u001b[0m\u001b[0;34m[\u001b[0m\u001b[0mfield\u001b[0m\u001b[0;34m]\u001b[0m \u001b[0;34m)\u001b[0m\u001b[0;34m\u001b[0m\u001b[0m\n\u001b[1;32m    244\u001b[0m         \u001b[0;32melif\u001b[0m \u001b[0mmethod\u001b[0m\u001b[0;34m==\u001b[0m\u001b[0;34m'intrinsic'\u001b[0m\u001b[0;34m:\u001b[0m\u001b[0;34m\u001b[0m\u001b[0m\n\u001b[0;32m--> 245\u001b[0;31m             \u001b[0mSFcalc\u001b[0m \u001b[0;34m=\u001b[0m \u001b[0;32mlambda\u001b[0m \u001b[0mfield\u001b[0m\u001b[0;34m,\u001b[0m \u001b[0mdf\u001b[0m\u001b[0;34m:\u001b[0m \u001b[0mself\u001b[0m\u001b[0;34m.\u001b[0m\u001b[0minstanceSF\u001b[0m\u001b[0;34m(\u001b[0m \u001b[0;34m(\u001b[0m\u001b[0mdf\u001b[0m\u001b[0;34m[\u001b[0m\u001b[0mcoords\u001b[0m\u001b[0;34m[\u001b[0m\u001b[0;36m0\u001b[0m\u001b[0;34m]\u001b[0m\u001b[0;34m]\u001b[0m\u001b[0;34m,\u001b[0m \u001b[0mdf\u001b[0m\u001b[0;34m[\u001b[0m\u001b[0mcoords\u001b[0m\u001b[0;34m[\u001b[0m\u001b[0;36m1\u001b[0m\u001b[0;34m]\u001b[0m\u001b[0;34m]\u001b[0m\u001b[0;34m,\u001b[0m \u001b[0mdf\u001b[0m\u001b[0;34m[\u001b[0m\u001b[0mcoords\u001b[0m\u001b[0;34m[\u001b[0m\u001b[0;36m3\u001b[0m\u001b[0;34m]\u001b[0m\u001b[0;34m]\u001b[0m\u001b[0;34m,\u001b[0m \u001b[0mdf\u001b[0m\u001b[0;34m[\u001b[0m\u001b[0mcoords\u001b[0m\u001b[0;34m[\u001b[0m\u001b[0;36m2\u001b[0m\u001b[0;34m]\u001b[0m\u001b[0;34m]\u001b[0m\u001b[0;34m)\u001b[0m\u001b[0;34m,\u001b[0m \u001b[0mself\u001b[0m\u001b[0;34m.\u001b[0m\u001b[0mobsSF\u001b[0m\u001b[0;34m[\u001b[0m\u001b[0mfield\u001b[0m\u001b[0;34m]\u001b[0m \u001b[0;34m)\u001b[0m\u001b[0;34m\u001b[0m\u001b[0m\n\u001b[0m\u001b[1;32m    246\u001b[0m         \u001b[0;32melse\u001b[0m\u001b[0;34m:\u001b[0m \u001b[0;32mraise\u001b[0m \u001b[0mValueError\u001b[0m\u001b[0;34m(\u001b[0m\u001b[0;34m'Method is unknown'\u001b[0m\u001b[0;34m)\u001b[0m\u001b[0;34m\u001b[0m\u001b[0m\n\u001b[1;32m    247\u001b[0m \u001b[0;34m\u001b[0m\u001b[0m\n",
      "\u001b[0;31mAttributeError\u001b[0m: SFGenerator instance has no attribute 'instanceSF'"
     ]
    }
   ],
   "source": [
    "# Calculate intrinsic SF probabilities for field 1\n",
    "full1 = SF(full1, method='intrinsic', coords=['ageGyr', 'mh', 's', 'mass'], angle_coords=['glon', 'glat'])\n",
    "full1['union_int'] = full1.union"
   ]
  },
  {
   "cell_type": "code",
   "execution_count": 25,
   "metadata": {
    "collapsed": true
   },
   "outputs": [
    {
     "name": "stdout",
     "output_type": "stream",
     "text": [
      "Calculating all SF values...\n",
      "...Assigning: 14566/14566        \n",
      "Calculating: 14566/14566        ...done\n",
      "Calculating union contribution...\n",
      "...done\n"
     ]
    }
   ],
   "source": [
    "# Calculate observable SF probabilities for field 2, 3\n",
    "full23 = SF(full23, method='observable', coords=['Happ', 'Colour'], angle_coords=['glon', 'glat'])\n",
    "full23['union_obs'] = full23.union"
   ]
  },
  {
   "cell_type": "code",
   "execution_count": 15,
   "metadata": {
    "collapsed": true
   },
   "outputs": [
    {
     "name": "stdout",
     "output_type": "stream",
     "text": [
      "Calculating all SF values...\n",
      "...Assigning: 14566/14566        \n",
      "Calculating: 14566/14566        "
     ]
    },
    {
     "ename": "AttributeError",
     "evalue": "SFGenerator instance has no attribute 'instanceSF'",
     "output_type": "error",
     "traceback": [
      "\u001b[0;31m---------------------------------------------------------------------------\u001b[0m",
      "\u001b[0;31mAttributeError\u001b[0m                            Traceback (most recent call last)",
      "\u001b[0;32m<ipython-input-15-ee3c689a9ce1>\u001b[0m in \u001b[0;36m<module>\u001b[0;34m()\u001b[0m\n\u001b[1;32m      1\u001b[0m \u001b[0;31m# Calculate intrinsic SF probabilities for field 2, 3\u001b[0m\u001b[0;34m\u001b[0m\u001b[0;34m\u001b[0m\u001b[0m\n\u001b[0;32m----> 2\u001b[0;31m \u001b[0mfull23\u001b[0m \u001b[0;34m=\u001b[0m \u001b[0mSF\u001b[0m\u001b[0;34m(\u001b[0m\u001b[0mfull23\u001b[0m\u001b[0;34m,\u001b[0m \u001b[0mmethod\u001b[0m\u001b[0;34m=\u001b[0m\u001b[0;34m'intrinsic'\u001b[0m\u001b[0;34m,\u001b[0m \u001b[0mcoords\u001b[0m\u001b[0;34m=\u001b[0m\u001b[0;34m[\u001b[0m\u001b[0;34m'ageGyr'\u001b[0m\u001b[0;34m,\u001b[0m \u001b[0;34m'mh'\u001b[0m\u001b[0;34m,\u001b[0m \u001b[0;34m's'\u001b[0m\u001b[0;34m,\u001b[0m \u001b[0;34m'mass'\u001b[0m\u001b[0;34m]\u001b[0m\u001b[0;34m,\u001b[0m \u001b[0mangle_coords\u001b[0m\u001b[0;34m=\u001b[0m\u001b[0;34m[\u001b[0m\u001b[0;34m'glon'\u001b[0m\u001b[0;34m,\u001b[0m \u001b[0;34m'glat'\u001b[0m\u001b[0;34m]\u001b[0m\u001b[0;34m)\u001b[0m\u001b[0;34m\u001b[0m\u001b[0m\n\u001b[0m\u001b[1;32m      3\u001b[0m \u001b[0mfull23\u001b[0m\u001b[0;34m[\u001b[0m\u001b[0;34m'union_int'\u001b[0m\u001b[0;34m]\u001b[0m \u001b[0;34m=\u001b[0m \u001b[0mfull23\u001b[0m\u001b[0;34m.\u001b[0m\u001b[0munion\u001b[0m\u001b[0;34m\u001b[0m\u001b[0m\n",
      "\u001b[0;32m/usr/local/lib/python2.7/dist-packages/seestar-1.0-py2.7.egg/seestar/SelectionGrid.pyc\u001b[0m in \u001b[0;36m__call__\u001b[0;34m(self, catalogue, method, coords, angle_coords, rng_phi, rng_th)\u001b[0m\n\u001b[1;32m    255\u001b[0m             catalogue = FieldUnions.GenerateMatrices(catalogue, self.pointings, \n\u001b[1;32m    256\u001b[0m                                                     \u001b[0mangle_coords\u001b[0m\u001b[0;34m,\u001b[0m \u001b[0mpoint_coords\u001b[0m\u001b[0;34m,\u001b[0m \u001b[0;34m'halfangle'\u001b[0m\u001b[0;34m,\u001b[0m\u001b[0;34m\u001b[0m\u001b[0m\n\u001b[0;32m--> 257\u001b[0;31m                                                     SFcalc, IDtype=self.fieldlabel_type)\n\u001b[0m\u001b[1;32m    258\u001b[0m             \u001b[0;32mprint\u001b[0m\u001b[0;34m(\u001b[0m\u001b[0;34m'...done'\u001b[0m\u001b[0;34m)\u001b[0m\u001b[0;34m\u001b[0m\u001b[0m\n\u001b[1;32m    259\u001b[0m \u001b[0;34m\u001b[0m\u001b[0m\n",
      "\u001b[0;32m/usr/local/lib/python2.7/dist-packages/seestar-1.0-py2.7.egg/seestar/FieldUnions.pyc\u001b[0m in \u001b[0;36mGenerateMatrices\u001b[0;34m(df, pointings, angle_coords, point_coords, halfangle, SFcalc, IDtype, Nsample, test, progress)\u001b[0m\n\u001b[1;32m    206\u001b[0m                 \u001b[0mcol_arr\u001b[0m\u001b[0;34m[\u001b[0m\u001b[0mcondition\u001b[0m\u001b[0;34m]\u001b[0m \u001b[0;34m=\u001b[0m \u001b[0mcol\u001b[0m\u001b[0;34m\u001b[0m\u001b[0m\n\u001b[1;32m    207\u001b[0m                 \u001b[0mmag_arr\u001b[0m\u001b[0;34m[\u001b[0m\u001b[0mcondition\u001b[0m\u001b[0;34m]\u001b[0m \u001b[0;34m=\u001b[0m \u001b[0mmag\u001b[0m\u001b[0;34m\u001b[0m\u001b[0m\n\u001b[0;32m--> 208\u001b[0;31m             \u001b[0;32melse\u001b[0m\u001b[0;34m:\u001b[0m \u001b[0mprob\u001b[0m \u001b[0;34m=\u001b[0m \u001b[0mSFcalc\u001b[0m\u001b[0;34m(\u001b[0m\u001b[0mfield\u001b[0m\u001b[0;34m,\u001b[0m \u001b[0mdfi\u001b[0m\u001b[0;34m[\u001b[0m\u001b[0mcondition\u001b[0m\u001b[0;34m]\u001b[0m\u001b[0;34m)\u001b[0m\u001b[0;34m\u001b[0m\u001b[0m\n\u001b[0m\u001b[1;32m    209\u001b[0m             \u001b[0;31m# Set probability values in array\u001b[0m\u001b[0;34m\u001b[0m\u001b[0;34m\u001b[0m\u001b[0m\n\u001b[1;32m    210\u001b[0m             \u001b[0;32mif\u001b[0m \u001b[0misinstance\u001b[0m\u001b[0;34m(\u001b[0m\u001b[0mprob\u001b[0m\u001b[0;34m,\u001b[0m \u001b[0mpd\u001b[0m\u001b[0;34m.\u001b[0m\u001b[0mSeries\u001b[0m\u001b[0;34m)\u001b[0m\u001b[0;34m:\u001b[0m\u001b[0;34m\u001b[0m\u001b[0m\n",
      "\u001b[0;32m/usr/local/lib/python2.7/dist-packages/seestar-1.0-py2.7.egg/seestar/SelectionGrid.pyc\u001b[0m in \u001b[0;36m<lambda>\u001b[0;34m(field, df)\u001b[0m\n\u001b[1;32m    243\u001b[0m             \u001b[0mSFcalc\u001b[0m \u001b[0;34m=\u001b[0m \u001b[0;32mlambda\u001b[0m \u001b[0mfield\u001b[0m\u001b[0;34m,\u001b[0m \u001b[0mdf\u001b[0m\u001b[0;34m:\u001b[0m \u001b[0mself\u001b[0m\u001b[0;34m.\u001b[0m\u001b[0minstanceIMFSF\u001b[0m\u001b[0;34m(\u001b[0m \u001b[0;34m(\u001b[0m\u001b[0mdf\u001b[0m\u001b[0;34m[\u001b[0m\u001b[0mcoords\u001b[0m\u001b[0;34m[\u001b[0m\u001b[0;36m0\u001b[0m\u001b[0;34m]\u001b[0m\u001b[0;34m]\u001b[0m\u001b[0;34m,\u001b[0m \u001b[0mdf\u001b[0m\u001b[0;34m[\u001b[0m\u001b[0mcoords\u001b[0m\u001b[0;34m[\u001b[0m\u001b[0;36m1\u001b[0m\u001b[0;34m]\u001b[0m\u001b[0;34m]\u001b[0m\u001b[0;34m,\u001b[0m \u001b[0mdf\u001b[0m\u001b[0;34m[\u001b[0m\u001b[0mcoords\u001b[0m\u001b[0;34m[\u001b[0m\u001b[0;36m2\u001b[0m\u001b[0;34m]\u001b[0m\u001b[0;34m]\u001b[0m\u001b[0;34m)\u001b[0m\u001b[0;34m,\u001b[0m \u001b[0mself\u001b[0m\u001b[0;34m.\u001b[0m\u001b[0mobsSF\u001b[0m\u001b[0;34m[\u001b[0m\u001b[0mfield\u001b[0m\u001b[0;34m]\u001b[0m \u001b[0;34m)\u001b[0m\u001b[0;34m\u001b[0m\u001b[0m\n\u001b[1;32m    244\u001b[0m         \u001b[0;32melif\u001b[0m \u001b[0mmethod\u001b[0m\u001b[0;34m==\u001b[0m\u001b[0;34m'intrinsic'\u001b[0m\u001b[0;34m:\u001b[0m\u001b[0;34m\u001b[0m\u001b[0m\n\u001b[0;32m--> 245\u001b[0;31m             \u001b[0mSFcalc\u001b[0m \u001b[0;34m=\u001b[0m \u001b[0;32mlambda\u001b[0m \u001b[0mfield\u001b[0m\u001b[0;34m,\u001b[0m \u001b[0mdf\u001b[0m\u001b[0;34m:\u001b[0m \u001b[0mself\u001b[0m\u001b[0;34m.\u001b[0m\u001b[0minstanceSF\u001b[0m\u001b[0;34m(\u001b[0m \u001b[0;34m(\u001b[0m\u001b[0mdf\u001b[0m\u001b[0;34m[\u001b[0m\u001b[0mcoords\u001b[0m\u001b[0;34m[\u001b[0m\u001b[0;36m0\u001b[0m\u001b[0;34m]\u001b[0m\u001b[0;34m]\u001b[0m\u001b[0;34m,\u001b[0m \u001b[0mdf\u001b[0m\u001b[0;34m[\u001b[0m\u001b[0mcoords\u001b[0m\u001b[0;34m[\u001b[0m\u001b[0;36m1\u001b[0m\u001b[0;34m]\u001b[0m\u001b[0;34m]\u001b[0m\u001b[0;34m,\u001b[0m \u001b[0mdf\u001b[0m\u001b[0;34m[\u001b[0m\u001b[0mcoords\u001b[0m\u001b[0;34m[\u001b[0m\u001b[0;36m3\u001b[0m\u001b[0;34m]\u001b[0m\u001b[0;34m]\u001b[0m\u001b[0;34m,\u001b[0m \u001b[0mdf\u001b[0m\u001b[0;34m[\u001b[0m\u001b[0mcoords\u001b[0m\u001b[0;34m[\u001b[0m\u001b[0;36m2\u001b[0m\u001b[0;34m]\u001b[0m\u001b[0;34m]\u001b[0m\u001b[0;34m)\u001b[0m\u001b[0;34m,\u001b[0m \u001b[0mself\u001b[0m\u001b[0;34m.\u001b[0m\u001b[0mobsSF\u001b[0m\u001b[0;34m[\u001b[0m\u001b[0mfield\u001b[0m\u001b[0;34m]\u001b[0m \u001b[0;34m)\u001b[0m\u001b[0;34m\u001b[0m\u001b[0m\n\u001b[0m\u001b[1;32m    246\u001b[0m         \u001b[0;32melse\u001b[0m\u001b[0;34m:\u001b[0m \u001b[0;32mraise\u001b[0m \u001b[0mValueError\u001b[0m\u001b[0;34m(\u001b[0m\u001b[0;34m'Method is unknown'\u001b[0m\u001b[0;34m)\u001b[0m\u001b[0;34m\u001b[0m\u001b[0m\n\u001b[1;32m    247\u001b[0m \u001b[0;34m\u001b[0m\u001b[0m\n",
      "\u001b[0;31mAttributeError\u001b[0m: SFGenerator instance has no attribute 'instanceSF'"
     ]
    }
   ],
   "source": [
    "# Calculate intrinsic SF probabilities for field 2, 3\n",
    "full23 = SF(full23, method='intrinsic', coords=['ageGyr', 'mh', 's', 'mass'], angle_coords=['glon', 'glat'])\n",
    "full23['union_int'] = full23.union"
   ]
  },
  {
   "cell_type": "markdown",
   "metadata": {},
   "source": [
    "## 4. Drop duplicates for overlapping fields"
   ]
  },
  {
   "cell_type": "code",
   "execution_count": 26,
   "metadata": {},
   "outputs": [
    {
     "name": "stdout",
     "output_type": "stream",
     "text": [
      "Duplicate progress: 14565 / 14566"
     ]
    }
   ],
   "source": [
    "# Clear duplicates for photometric field 2, 3\n",
    "full23_c = full23.drop_duplicates(subset=['glon','glat'], keep='first', inplace=False)"
   ]
  },
  {
   "cell_type": "code",
   "execution_count": 17,
   "metadata": {},
   "outputs": [
    {
     "name": "stdout",
     "output_type": "stream",
     "text": [
      "Duplicate progress: 244 / 245"
     ]
    }
   ],
   "source": [
    "# Clear duplicates for spectroscopic fields 2,3    \n",
    "survey23_c = survey23.drop_duplicates(subset=['glon','glat'], keep='first', inplace=False)"
   ]
  },
  {
   "cell_type": "code",
   "execution_count": null,
   "metadata": {},
   "outputs": [],
   "source": [
    "len(full23), len(full23_c), len(survey23), len(survey23_c)"
   ]
  },
  {
   "cell_type": "markdown",
   "metadata": {},
   "source": [
    "## 5. Save all files"
   ]
  },
  {
   "cell_type": "code",
   "execution_count": 27,
   "metadata": {
    "collapsed": true
   },
   "outputs": [],
   "source": [
    "# Save all data with selection function probabilities counted\n",
    "full1.to_csv(os.path.join(fileinfo.photo_path, 'solutionF1.csv'), index=False)\n",
    "full23.to_csv(os.path.join(fileinfo.photo_path, 'solutionF23.csv'), index=False)\n",
    "survey1.to_csv(os.path.join(fileinfo.photo_path, 'solutionS1.csv'), index=False)\n",
    "survey23.to_csv(os.path.join(fileinfo.photo_path, 'solutionS23.csv'), index=False)\n",
    "full23_c.to_csv(os.path.join(fileinfo.photo_path, 'solutionF23_c.csv'), index=False)\n",
    "survey23_c.to_csv(os.path.join(fileinfo.photo_path, 'solutionS23_c.csv'), index=False)"
   ]
  },
  {
   "cell_type": "code",
   "execution_count": null,
   "metadata": {
    "collapsed": true
   },
   "outputs": [],
   "source": []
  }
 ],
 "metadata": {
  "kernelspec": {
   "display_name": "Python 3",
   "language": "python",
   "name": "python3"
  },
  "language_info": {
   "codemirror_mode": {
    "name": "ipython",
    "version": 3
   },
   "file_extension": ".py",
   "mimetype": "text/x-python",
   "name": "python",
   "nbconvert_exporter": "python",
   "pygments_lexer": "ipython3",
   "version": "3.5.4"
  }
 },
 "nbformat": 4,
 "nbformat_minor": 2
}
