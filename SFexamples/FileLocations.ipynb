{
 "cells": [
  {
   "cell_type": "code",
   "execution_count": 3,
   "metadata": {},
   "outputs": [],
   "source": [
    "# autoreload modules when files have been altered\n",
    "%load_ext autoreload\n",
    "%autoreload 2\n",
    "\n",
    "import sys, os\n",
    "sys.path.append(\"../../SFgithub/SFscripts/\")\n",
    "\n",
    "import numpy as np\n",
    "from surveyInfoPickler import surveyInformation"
   ]
  },
  {
   "cell_type": "code",
   "execution_count": 20,
   "metadata": {},
   "outputs": [],
   "source": [
    "RAVE = surveyInformation()\n",
    "\n",
    "RAVE.data_path = '../../SFgithub/SFdata'\n",
    "RAVE.photo_path = '/media/andy/37E3-0F91/2MASS/RAVE-2MASS_fieldbyfield_29-11/RAVEfield_'\n",
    "RAVE.spectro = '/RAVE'\n",
    "RAVE.spectro_fname = '/RAVE_wPlateIDs.csv'\n",
    "RAVE.spectro_coords = ['FieldName', 'RA_TGAS', 'DE_TGAS', 'Jmag_2MASS', 'Kmag_2MASS', 'Hmag_2MASS']\n",
    "RAVE.field_coords = (['RAVE_FIELD', 'RAdeg', 'DEdeg'], 'Equatorial')\n",
    "RAVE.photo_coords = ['RA', 'Dec', 'j', 'h', 'k']\n",
    "RAVE.field_SA = 28.3\n",
    "RAVE.spectro_pickle_fname = '/surveydata_RAVEfields.pickle'\n",
    "RAVE.photo_pickle_fname = '/2massdata_RAVEfields.pickle'\n",
    "RAVE.sf_pickle_fname = '/2massdata_RAVEfields.pickle'\n",
    "RAVE.obsSF_pickle_fname = '/RAVE_obsSF.pickle'\n",
    "RAVE.photo_tag = '.csv'\n",
    "RAVE.fieldlabel_type = str\n",
    "RAVE.iso_pickle_file = \"/evoTracks/isochrone_distributions_resampled.pickle\" \n",
    "RAVE.field_fname = '/RAVE_FIELDS_wFieldIDs.csv'\n",
    "RAVE.overlap_fname = '/RAVE_fieldoverlapdatabase'\n",
    "\n",
    "RAVE()"
   ]
  },
  {
   "cell_type": "code",
   "execution_count": 21,
   "metadata": {},
   "outputs": [
    {
     "name": "stdout",
     "output_type": "stream",
     "text": [
      "\n",
      "The path to your photometric survey, photo_path, does not exist: /media/andy/37E3-0F91/2MASS/RAVE-2MASS_fieldbyfield_29-11/RAVEfield_\n",
      "\n",
      "Your angular coordinates will be treated as Equatorial.\n",
      "\n",
      " The solid angle extent of your fields is 28.3\n",
      "\n",
      "\n",
      "Your field labels are of type <type 'str'>\n",
      "\n"
     ]
    }
   ],
   "source": [
    "RAVE.testFiles()\n",
    "\n",
    "pklfile = \"../../SFgithub/SFdata/RAVE/raveFileInformation.pickle\"\n",
    "RAVE.pickleInformation(pklfile)"
   ]
  },
  {
   "cell_type": "code",
   "execution_count": 5,
   "metadata": {},
   "outputs": [],
   "source": [
    "APOGEE = surveyInformation()\n",
    "\n",
    "APOGEE.data_path = '../../SFgithub/SFdata'\n",
    "APOGEE.photo_path = '/media/andy/37E3-0F91/2MASS/Apogee-2MASS/APOGEEfield_'\n",
    "APOGEE.spectro = '/APOGEE'\n",
    "APOGEE.spectro_fname = '/TGAS_APOGEE_supp_keplercannon_masses_ages.csv'\n",
    "APOGEE.spectro_coords = ['# location_id', 'ra', 'dec', 'j', 'k', 'h']\n",
    "APOGEE.field_coords = (['FieldName', 'RA', 'Dec', \"Hliml\", \"Hlimu\", \"JKliml\", \"JKlimu\"], 'Equatorial')\n",
    "APOGEE.photo_coords = ['RA', 'Dec', 'j', 'h', 'k']\n",
    "APOGEE.field_SA = 7.\n",
    "APOGEE.spectro_pickle_fname = '/surveydata_APOGEEfields.pickle'\n",
    "APOGEE.photo_pickle_fname = '/2massdata_APOGEEfields.pickle'\n",
    "APOGEE.sf_pickle_fname = '/sf_apogeefields.pickle'\n",
    "APOGEE.obsSF_pickle_fname = '/APOGEE_obsSF.pickle'\n",
    "APOGEE.photo_tag = '.csv'\n",
    "APOGEE.fieldlabel_type = np.float64\n",
    "APOGEE.iso_pickle_file = \"/evoTracks/isochrone_distributions_resampled.pickle\" \n",
    "\n",
    "#APOGEE.field_fname = \"/apogeetgasdr14_fieldinfo.csv\"\n",
    "APOGEE.field_fname = \"/apogeetgasdr14_fieldinfo_limits.csv\"\n",
    "\n",
    "APOGEE.overlap_fname = \"/APOGEE_fieldoverlapdatabase.csv\"\n",
    "\n",
    "APOGEE()"
   ]
  },
  {
   "cell_type": "code",
   "execution_count": 6,
   "metadata": {},
   "outputs": [
    {
     "name": "stdout",
     "output_type": "stream",
     "text": [
      "\n",
      "The path to your photometric survey, photo_path, does not exist: /media/andy/37E3-0F91/2MASS/Apogee-2MASS/APOGEEfield_\n",
      "\n",
      "Your angular coordinates will be treated as Equatorial.\n",
      "\n",
      "The path to your photometric pickled instance, photo_pickle_path, does not exist: ../../SFgithub/SFdata/APOGEE/2massdata_APOGEEfields.pickle\n",
      "\n",
      "The path to your spectroscopic pickled instance, spectro_pickle_path, does not exist: ../../SFgithub/SFdata/APOGEE/surveydata_APOGEEfields.pickle\n",
      "\n",
      "The path to your selection function pickled instance, obsSF_pickle_path, does not exist: ../../SFgithub/SFdata/APOGEE/APOGEE_fieldoverlapdatabase.csv\n",
      "\n",
      " The solid angle extent of your fields is 7.0\n",
      "\n",
      "\n",
      "Your field labels are of type <type 'numpy.float64'>\n",
      "\n"
     ]
    }
   ],
   "source": [
    "APOGEE.testFiles()\n",
    "\n",
    "pklfile = \"../../SFgithub/SFdata/APOGEE/ApogeeFileInformation.pickle\"\n",
    "APOGEE.pickleInformation(pklfile)"
   ]
  },
  {
   "cell_type": "code",
   "execution_count": 17,
   "metadata": {},
   "outputs": [],
   "source": [
    "APOGEE = surveyInformation()\n",
    "\n",
    "APOGEE.data_path = '../../SFgithub/SFdata'\n",
    "APOGEE.photo_path = '/media/andy/37E3-0F91/2MASS/Apogee-2MASS/APOGEEfield_'\n",
    "APOGEE.spectro = '/APOGEETest'\n",
    "APOGEE.spectro_fname = '/TGAS_APOGEE_supp_keplercannon_masses_ages.csv'\n",
    "APOGEE.spectro_coords = ['# location_id', 'ra', 'dec', 'j', 'k', 'h']\n",
    "APOGEE.field_coords = (['FieldName', 'RA', 'Dec', \"Hliml\", \"Hlimu\", \"JKliml\", \"JKlimu\"], 'Equatorial')\n",
    "APOGEE.photo_coords = ['RA', 'Dec', 'j', 'h', 'k']\n",
    "APOGEE.field_SA = 7.\n",
    "APOGEE.spectro_pickle_fname = '/APOGEETest_survey.pickle'\n",
    "APOGEE.photo_pickle_fname = '/APOGEETest_full.pickle'\n",
    "APOGEE.sf_pickle_fname = '/APOGEETest_SF.pickle'\n",
    "APOGEE.obsSF_pickle_fname = '/APOGEETest_obsSF.pickle'\n",
    "APOGEE.photo_tag = '.csv'\n",
    "APOGEE.fieldlabel_type = np.float64\n",
    "APOGEE.iso_pickle_file = \"/evoTracks/isochrone_distributions_resampled.pickle\" \n",
    "\n",
    "#APOGEE.field_fname = \"/apogeetgasdr14_fieldinfo.csv\"\n",
    "APOGEE.field_fname = \"/APOGEETest_fieldinfo.csv\"\n",
    "\n",
    "APOGEE.overlap_fname = \"/APOGEE_fieldoverlapdatabase.csv\"\n",
    "\n",
    "APOGEE()"
   ]
  },
  {
   "cell_type": "code",
   "execution_count": 18,
   "metadata": {},
   "outputs": [
    {
     "name": "stdout",
     "output_type": "stream",
     "text": [
      "\n",
      "The path to your photometric survey, photo_path, does not exist: /media/andy/37E3-0F91/2MASS/Apogee-2MASS/APOGEEfield_\n",
      "\n",
      "Your angular coordinates will be treated as Equatorial.\n",
      "\n",
      "The path to your photometric pickled instance, photo_pickle_path, does not exist: ../../SFgithub/SFdata/APOGEETest/APOGEETest_full.pickle\n",
      "\n",
      "The path to your spectroscopic pickled instance, spectro_pickle_path, does not exist: ../../SFgithub/SFdata/APOGEETest/APOGEETest_survey.pickle\n",
      "\n",
      "The path to your selection function pickled instance, sf_pickle_path, does not exist: ../../SFgithub/SFdata/APOGEETest/APOGEETest_SF.pickle\n",
      "\n",
      "The path to your selection function pickled instance, obsSF_pickle_path, does not exist: ../../SFgithub/SFdata/APOGEETest/APOGEETest_obsSF.pickle\n",
      "\n",
      "The path to your selection function pickled instance, obsSF_pickle_path, does not exist: ../../SFgithub/SFdata/APOGEETest/APOGEE_fieldoverlapdatabase.csv\n",
      "\n",
      " The solid angle extent of your fields is 7.0\n",
      "\n",
      "\n",
      "Your field labels are of type <type 'numpy.float64'>\n",
      "\n"
     ]
    }
   ],
   "source": [
    "APOGEE.testFiles()\n",
    "\n",
    "pklfile = \"../../SFgithub/SFdata/APOGEETest/ApogeeTestFileInformation.pickle\"\n",
    "APOGEE.pickleInformation(pklfile)"
   ]
  },
  {
   "cell_type": "code",
   "execution_count": 1,
   "metadata": {
    "collapsed": true
   },
   "outputs": [
    {
     "ename": "NameError",
     "evalue": "name 'surveyInformation' is not defined",
     "output_type": "error",
     "traceback": [
      "\u001b[0;31m---------------------------------------------------------------------------\u001b[0m",
      "\u001b[0;31mNameError\u001b[0m                                 Traceback (most recent call last)",
      "\u001b[0;32m<ipython-input-1-d8b6a6da0441>\u001b[0m in \u001b[0;36m<module>\u001b[0;34m()\u001b[0m\n\u001b[0;32m----> 1\u001b[0;31m \u001b[0mGalax\u001b[0m \u001b[0;34m=\u001b[0m \u001b[0msurveyInformation\u001b[0m\u001b[0;34m(\u001b[0m\u001b[0;34m)\u001b[0m\u001b[0;34m\u001b[0m\u001b[0m\n\u001b[0m\u001b[1;32m      2\u001b[0m \u001b[0;34m\u001b[0m\u001b[0m\n\u001b[1;32m      3\u001b[0m \u001b[0mGalax\u001b[0m\u001b[0;34m.\u001b[0m\u001b[0mdata_path\u001b[0m \u001b[0;34m=\u001b[0m \u001b[0;34m'../../SFgithub/SFdata'\u001b[0m\u001b[0;34m\u001b[0m\u001b[0m\n\u001b[1;32m      4\u001b[0m \u001b[0mGalax\u001b[0m\u001b[0;34m.\u001b[0m\u001b[0mphoto_path\u001b[0m \u001b[0;34m=\u001b[0m \u001b[0;34m'/media/andy/UUI/Galaxia/Galaxy_fields/'\u001b[0m\u001b[0;34m\u001b[0m\u001b[0m\n\u001b[1;32m      5\u001b[0m \u001b[0mGalax\u001b[0m\u001b[0;34m.\u001b[0m\u001b[0mspectro\u001b[0m \u001b[0;34m=\u001b[0m \u001b[0;34m'/GalaxiaMock'\u001b[0m\u001b[0;34m\u001b[0m\u001b[0m\n",
      "\u001b[0;31mNameError\u001b[0m: name 'surveyInformation' is not defined"
     ]
    }
   ],
   "source": [
    "Galax = surveyInformation()\n",
    "\n",
    "Galax.data_path = '../../SFgithub/SFdata'\n",
    "Galax.photo_path = '/media/andy/UUI/Galaxia/Galaxy_fields/'\n",
    "Galax.spectro = '/GalaxiaMock'\n",
    "Galax.spectro_fname = '/Galaxia_fields_selected.csv'\n",
    "Galax.spectro_coords = ['fieldid', 'glon', 'glat', 'ubv_h', 'ubv_j', 'ubv_k']\n",
    "Galax.field_coords = (['fieldID', 'glon', 'glat', 'hmin', 'hmax', 'cmin', 'cmax'], 'Galactic')\n",
    "Galax.photo_coords = ['glon', 'glat', 'ubv_h', 'ubv_j', 'ubv_k']\n",
    "Galax.field_SA = 12.565\n",
    "Galax.spectro_pickle_fname = '/Galaxia_survey.pickle'\n",
    "Galax.photo_pickle_fname = '/Galaxia_full.pickle'\n",
    "Galax.sf_pickle_fname = '/Galaxia_SF.pickle'\n",
    "Galax.obsSF_pickle_fname = '/Galaxia_obsSF.pickle'\n",
    "Galax.photo_tag = '.csv'\n",
    "Galax.fieldlabel_type = np.float64\n",
    "Galax.iso_pickle_file = \"/evoTracks/isochrone_distributions_resampled.pickle\" \n",
    "Galax.field_fname = '/Galaxia_fieldinfo.csv'\n",
    "Galax.overlap_fname = '/Galax_fieldoverlapdatabase'\n",
    "\n",
    "Galax()"
   ]
  },
  {
   "cell_type": "code",
   "execution_count": 2,
   "metadata": {
    "collapsed": true
   },
   "outputs": [
    {
     "ename": "NameError",
     "evalue": "name 'Galax' is not defined",
     "output_type": "error",
     "traceback": [
      "\u001b[0;31m---------------------------------------------------------------------------\u001b[0m",
      "\u001b[0;31mNameError\u001b[0m                                 Traceback (most recent call last)",
      "\u001b[0;32m<ipython-input-2-bfa3d1178b62>\u001b[0m in \u001b[0;36m<module>\u001b[0;34m()\u001b[0m\n\u001b[0;32m----> 1\u001b[0;31m \u001b[0mGalax\u001b[0m\u001b[0;34m.\u001b[0m\u001b[0mtestFiles\u001b[0m\u001b[0;34m(\u001b[0m\u001b[0;34m)\u001b[0m\u001b[0;34m\u001b[0m\u001b[0m\n\u001b[0m\u001b[1;32m      2\u001b[0m \u001b[0;34m\u001b[0m\u001b[0m\n\u001b[1;32m      3\u001b[0m \u001b[0mpklfile\u001b[0m \u001b[0;34m=\u001b[0m \u001b[0;34m\"../../SFgithub/SFdata/GalaxiaMock/GalaxiaFileInformation.pickle\"\u001b[0m\u001b[0;34m\u001b[0m\u001b[0m\n\u001b[1;32m      4\u001b[0m \u001b[0mGalax\u001b[0m\u001b[0;34m.\u001b[0m\u001b[0mpickleInformation\u001b[0m\u001b[0;34m(\u001b[0m\u001b[0mpklfile\u001b[0m\u001b[0;34m)\u001b[0m\u001b[0;34m\u001b[0m\u001b[0m\n",
      "\u001b[0;31mNameError\u001b[0m: name 'Galax' is not defined"
     ]
    }
   ],
   "source": [
    "Galax.testFiles()\n",
    "\n",
    "pklfile = \"../../SFgithub/SFdata/GalaxiaMock/GalaxiaFileInformation.pickle\"\n",
    "Galax.pickleInformation(pklfile)"
   ]
  },
  {
   "cell_type": "code",
   "execution_count": 9,
   "metadata": {},
   "outputs": [],
   "source": [
    "Galax = surveyInformation()\n",
    "\n",
    "Galax.data_path = '../../SFgithub/SFdata'\n",
    "Galax.photo_path = '/media/andy/UUI/Galaxia/Galaxy_fields/'\n",
    "Galax.spectro = '/GalaxiaTest'\n",
    "Galax.spectro_fname = '/Galaxia_fields_selected.csv'\n",
    "Galax.spectro_coords = ['fieldid', 'glon', 'glat', 'ubv_h', 'ubv_j', 'ubv_k']\n",
    "Galax.field_coords = (['fieldID', 'glon', 'glat', 'hmin', 'hmax', 'cmin', 'cmax'], 'Galactic')\n",
    "Galax.photo_coords = ['glon', 'glat', 'ubv_h', 'ubv_j', 'ubv_k']\n",
    "Galax.field_SA = 12.565\n",
    "Galax.spectro_pickle_fname = '/GalaxiaTest_survey.pickle'\n",
    "Galax.photo_pickle_fname = '/GalaxiaTest_full.pickle'\n",
    "Galax.sf_pickle_fname = '/GalaxiaTest_SF.pickle'\n",
    "Galax.obsSF_pickle_fname = '/GalaxiaTest_obsSF.pickle'\n",
    "Galax.photo_tag = '.csv'\n",
    "Galax.fieldlabel_type = np.float64\n",
    "Galax.iso_pickle_file = \"/evoTracks/isochrone_distributions_resampled.pickle\" \n",
    "Galax.field_fname = '/GalaxiaTest_fieldinfo.csv'\n",
    "Galax.overlap_fname = '/GalaxiaTest_fieldoverlapdatabase'\n",
    "\n",
    "Galax()"
   ]
  },
  {
   "cell_type": "code",
   "execution_count": 16,
   "metadata": {},
   "outputs": [
    {
     "name": "stdout",
     "output_type": "stream",
     "text": [
      "\n",
      "Your angular coordinates will be treated as Galactic.\n",
      "\n",
      "The path to your photometric pickled instance, photo_pickle_path, does not exist: ../../SFgithub/SFdata/GalaxiaTest/GalaxiaTest_full.pickle\n",
      "\n",
      "The path to your spectroscopic pickled instance, spectro_pickle_path, does not exist: ../../SFgithub/SFdata/GalaxiaTest/GalaxiaTest_survey.pickle\n",
      "\n",
      "The path to your selection function pickled instance, sf_pickle_path, does not exist: ../../SFgithub/SFdata/GalaxiaTest/GalaxiaTest_SF.pickle\n",
      "\n",
      "The path to your selection function pickled instance, obsSF_pickle_path, does not exist: ../../SFgithub/SFdata/GalaxiaTest/GalaxiaTest_obsSF.pickle\n",
      "\n",
      "The path to your selection function pickled instance, obsSF_pickle_path, does not exist: ../../SFgithub/SFdata/GalaxiaTest/GalaxiaTest_fieldoverlapdatabase\n",
      "\n",
      " The solid angle extent of your fields is 12.565\n",
      "\n",
      "\n",
      "Your field labels are of type <type 'numpy.float64'>\n",
      "\n"
     ]
    }
   ],
   "source": [
    "Galax.testFiles()\n",
    "\n",
    "pklfile = \"../../SFgithub/SFdata/GalaxiaTest/GalaxiaTestInformation.pickle\"\n",
    "Galax.pickleInformation(pklfile)"
   ]
  }
 ],
 "metadata": {
  "kernelspec": {
   "display_name": "Python 2",
   "language": "python",
   "name": "python2"
  },
  "language_info": {
   "codemirror_mode": {
    "name": "ipython",
    "version": 2
   },
   "file_extension": ".py",
   "mimetype": "text/x-python",
   "name": "python",
   "nbconvert_exporter": "python",
   "pygments_lexer": "ipython2",
   "version": "2.7.14"
  }
 },
 "nbformat": 4,
 "nbformat_minor": 2
}
