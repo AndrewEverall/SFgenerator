{
 "cells": [
  {
   "cell_type": "markdown",
   "metadata": {},
   "source": [
    "# 2) APOGEE run selection function\n",
    "\n",
    "* [Check APOGEE files are ok](#files)\n",
    "* [Generate selection function](#gen)\n",
    "* [Run selection function on data](#run)"
   ]
  },
  {
   "cell_type": "code",
   "execution_count": 2,
   "metadata": {},
   "outputs": [],
   "source": [
    "# autoreload modules when files have been altered\n",
    "%load_ext autoreload\n",
    "%autoreload 2\n",
    "\n",
    "import os, sys, pickle\n",
    "import numpy as np\n",
    "import pandas as pd\n",
    "\n",
    "%matplotlib inline\n",
    "import matplotlib.pyplot as plt\n",
    "\n",
    "from seestar import ArrayMechanics\n",
    "from seestar import SelectionGrid\n",
    "from seestar import IsochroneScaling\n",
    "\n",
    "import seaborn as sns\n",
    "\n",
    "\n",
    "def ErrorWarning():\n",
    "    raise ValueError(\"Wait, don't run this, you don't want to!\")"
   ]
  },
  {
   "cell_type": "markdown",
   "metadata": {},
   "source": [
    "<a name=\"files\"></a>\n",
    "# Check file information "
   ]
  },
  {
   "cell_type": "code",
   "execution_count": 3,
   "metadata": {},
   "outputs": [],
   "source": [
    "from seestar import surveyInfoPickler\n",
    "fileinfo_path = 'PATH/Apogee_new/Apogee_new_fileinfo.pickle'\n",
    "fileinfo = surveyInfoPickler.surveyInformation(fileinfo_path)"
   ]
  },
  {
   "cell_type": "code",
   "execution_count": 4,
   "metadata": {},
   "outputs": [
    {
     "name": "stdout",
     "output_type": "stream",
     "text": [
      "1) Checking file paths exist:\n",
      "OK\n",
      "\n",
      "2) Checking spectroscopic catalogue file structure:\n",
      "OK\n",
      "\n",
      "3) Checking field information file structure:\n",
      "(make sure halfangle is in units of radians.)\n",
      "OK\n",
      "\n",
      "4) Checking photometric catalogue file structure:\n",
      "Checking 2380.csv:\n",
      "OK\n",
      "\n",
      "5) Checking selection function pickle paths exist:\n",
      "OK\n",
      "\n",
      "6) Checking isochrone pickle files exist:\n",
      "The premade interpolants (isochrone_interpolantinstances.pickle) will be automatically be used to calculate the selection function.\n"
     ]
    }
   ],
   "source": [
    "fileinfo.testFiles()"
   ]
  },
  {
   "cell_type": "code",
   "execution_count": 6,
   "metadata": {},
   "outputs": [],
   "source": [
    "fileinfo.spectro_model = ('GMM', 1)\n",
    "fileinfo.photo_model = ('GMM', 2)\n",
    "fileinfo.fieldlabel_type = int\n",
    "fileinfo.save()"
   ]
  },
  {
   "cell_type": "markdown",
   "metadata": {},
   "source": [
    "<a name=\"gen\"></a>\n",
    "# Calculate Selection function"
   ]
  },
  {
   "cell_type": "code",
   "execution_count": 9,
   "metadata": {},
   "outputs": [
    {
     "name": "stdout",
     "output_type": "stream",
     "text": [
      "Would you like the selection function in: a) observable, b) intrinsic, c) both? (return a, b or c)a\n",
      "Path to observable SF (Apogee_new_obsSF.pickle) exists. Use this to ? (y/n)n\n",
      "The spectro model description is:('GMM', 1)\n",
      "The photo model description is:('GMM', 2)\n",
      "\n",
      "{'glon': 'phi', 'Colmin': 'Colmin', 'glat': 'theta', 'Colmax': 'Colmax', 'Magmin': 'Magmin', 'Magmax': 'Magmax', 'fieldID': 'fieldID', 'halfangle': 'halfangle'}\n",
      "Importing data for Colour-Magnitude Field interpolants...\n",
      "{'Kapp': 'appB', 'Happ': 'appC', 'glon': 'phi', 'glat': 'theta', 'Japp': 'appA', 'fieldID': 'fieldID'}\n",
      "Filtering for null values in spectro: Total star count = 213009. Filtered star count = 213009. 0 stars removed with null values\n",
      "((0.375, 15.318), (-0.13000000000000256, 2.646000000000001))\n",
      "...done.\n",
      "\n",
      "Creating Colour-Magnitude Field interpolants...\n",
      "Current field in col-mag calculation: 5013, 263/390, Time: 91m, Left: 44mm...failed to initialise params on field\n",
      "Current field in col-mag calculation: 2284, 390/390, Time: 136m, Left: 0mm\n",
      "now pickling them...\n",
      "...done\n",
      ".\n"
     ]
    }
   ],
   "source": [
    "SF = SelectionGrid.SFGenerator('PATH/Apogee_new/Apogee_new_fileinfo.pickle')"
   ]
  },
  {
   "cell_type": "markdown",
   "metadata": {},
   "source": [
    "<a name=\"run\"></a>\n",
    "# Calculate union for set of stars"
   ]
  },
  {
   "cell_type": "code",
   "execution_count": 4,
   "metadata": {},
   "outputs": [],
   "source": [
    "survey = pd.read_csv(fileinfo.spectro_path)\n",
    "survey['Colour'] = survey[fileinfo.spectro_coords[3]] - survey[fileinfo.spectro_coords[4]]"
   ]
  },
  {
   "cell_type": "code",
   "execution_count": 43,
   "metadata": {},
   "outputs": [
    {
     "name": "stdout",
     "output_type": "stream",
     "text": [
      "Calculating all SF values...\n",
      "...Assigning: 213009/213009        \n",
      "Calculating: 213009/213009        ...done\n",
      "Calculating union contribution...\n",
      "...done\n"
     ]
    }
   ],
   "source": [
    "survey = SF(survey, method='observable', coords=['Happ', 'Colour'], angle_coords=['glon', 'glat'])"
   ]
  },
  {
   "cell_type": "code",
   "execution_count": null,
   "metadata": {},
   "outputs": [],
   "source": []
  },
  {
   "cell_type": "code",
   "execution_count": null,
   "metadata": {},
   "outputs": [],
   "source": []
  },
  {
   "cell_type": "code",
   "execution_count": null,
   "metadata": {},
   "outputs": [],
   "source": []
  }
 ],
 "metadata": {
  "kernelspec": {
   "display_name": "Python 2",
   "language": "python",
   "name": "python2"
  },
  "language_info": {
   "codemirror_mode": {
    "name": "ipython",
    "version": 2
   },
   "file_extension": ".py",
   "mimetype": "text/x-python",
   "name": "python",
   "nbconvert_exporter": "python",
   "pygments_lexer": "ipython2",
   "version": "2.7.14"
  }
 },
 "nbformat": 4,
 "nbformat_minor": 2
}
