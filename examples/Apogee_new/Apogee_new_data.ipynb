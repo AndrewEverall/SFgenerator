{
 "cells": [
  {
   "cell_type": "markdown",
   "metadata": {},
   "source": [
    "# 1) APOGEE data\n",
    "\n",
    "* [Create a new data repository for the APOGEE data](#create)\n",
    "* [Sort and save the field pointings file](#field)\n",
    "* [Sort and save spectroscopic data](#spectro)\n",
    "* [Assign photometric data to field files](#photo)\n",
    "\n",
    "Saved version of the repository online is [here](https://drive.google.com/file/d/1Zw-aspDF3rE1ug6OQb8Sdehq4_BZWR4o/view?usp=sharing)\n",
    "(This doesn't contain the photometric field files as they were too large to store online)\n",
    "\n",
    "Run \n",
    "```tar -xvf Apogee_new.tar.gz```\n",
    "to untar and unzip file."
   ]
  },
  {
   "cell_type": "code",
   "execution_count": 3,
   "metadata": {},
   "outputs": [],
   "source": [
    "# autoreload modules when files have been altered\n",
    "%load_ext autoreload\n",
    "%autoreload 2\n",
    "\n",
    "import ebf, sys, gc\n",
    "import numpy as np\n",
    "import pandas as pd\n",
    "import dill\n",
    "\n",
    "%matplotlib inline\n",
    "from matplotlib import pyplot as plt\n",
    "import matplotlib\n",
    "from matplotlib.colors import LogNorm\n",
    "font = {'family' : 'normal',\n",
    "        'weight' : 'bold',\n",
    "        'size'   : 30}\n",
    "matplotlib.rc('font', **font)\n",
    "\n",
    "import seaborn as sns\n",
    "rc={'font.size': 16, 'axes.labelsize': 16, 'legend.fontsize': 12,\n",
    "    'axes.titlesize': 18, 'xtick.labelsize': 12, 'ytick.labelsize': 12}\n",
    "sns.set(font=\"serif\",style=\"white\",rc=rc)\n",
    "\n",
    "def ErrorWarning():\n",
    "    raise ValueError(\"Wait, don't run this, you don't want to!\")"
   ]
  },
  {
   "cell_type": "markdown",
   "metadata": {},
   "source": [
    "# Create New <a name=\"create\"></a>\n",
    "New database for information."
   ]
  },
  {
   "cell_type": "code",
   "execution_count": 19,
   "metadata": {
    "collapsed": true
   },
   "outputs": [
    {
     "ename": "ZipImportError",
     "evalue": "bad local file header: /home/andy/anaconda2/lib/python2.7/site-packages/seestar-1.2.7rc0-py2.7.egg",
     "output_type": "error",
     "traceback": [
      "\u001b[0;31m---------------------------------------------------------------------------\u001b[0m",
      "\u001b[0;31mZipImportError\u001b[0m                            Traceback (most recent call last)",
      "\u001b[0;32m<ipython-input-19-cb6f565cc6af>\u001b[0m in \u001b[0;36m<module>\u001b[0;34m()\u001b[0m\n\u001b[0;32m----> 1\u001b[0;31m \u001b[0;32mfrom\u001b[0m \u001b[0mseestar\u001b[0m \u001b[0;32mimport\u001b[0m \u001b[0mcreateNew\u001b[0m\u001b[0;34m\u001b[0m\u001b[0m\n\u001b[0m\u001b[1;32m      2\u001b[0m \u001b[0mcreateNew\u001b[0m\u001b[0;34m.\u001b[0m\u001b[0mcreate\u001b[0m\u001b[0;34m(\u001b[0m\u001b[0;34m)\u001b[0m\u001b[0;34m\u001b[0m\u001b[0m\n",
      "\u001b[0;31mZipImportError\u001b[0m: bad local file header: /home/andy/anaconda2/lib/python2.7/site-packages/seestar-1.2.7rc0-py2.7.egg"
     ]
    }
   ],
   "source": [
    "from seestar import createNew\n",
    "createNew.create()\n",
    "# When requested , give the database a path\n",
    "# Provide a name for the database \n",
    "# (I've used Apogee_new here and for the rest of this notebook but you can change that.)"
   ]
  },
  {
   "cell_type": "markdown",
   "metadata": {},
   "source": [
    "# File Info"
   ]
  },
  {
   "cell_type": "code",
   "execution_count": 2,
   "metadata": {},
   "outputs": [],
   "source": [
    "from seestar import surveyInfoPickler"
   ]
  },
  {
   "cell_type": "code",
   "execution_count": 3,
   "metadata": {},
   "outputs": [],
   "source": [
    "# Location of fileinfo file - replace teh fileinfo_path string\n",
    "fileinfo_path = 'PATH/Apogee_new/Apogee_new_fileinfo.pickle'\n",
    "fileinfo = surveyInfoPickler.surveyInformation(fileinfo_path)"
   ]
  },
  {
   "cell_type": "code",
   "execution_count": 4,
   "metadata": {},
   "outputs": [
    {
     "name": "stdout",
     "output_type": "stream",
     "text": [
      "1) Checking file paths exist:\n",
      "OK\n",
      "\n",
      "2) Checking spectroscopic catalogue file structure:\n",
      "OK\n",
      "\n",
      "3) Checking field information file structure:\n",
      "(make sure halfangle is in units of radians.)\n",
      "OK\n",
      "\n",
      "4) Checking photometric catalogue file structure:\n",
      "Checking 4302.csv:\n",
      "OK\n",
      "\n",
      "5) Checking selection function pickle paths exist:\n",
      "The path to your selection function pickled instance, obsSF_pickle_path, does not exist: /media/andy/37E3-0F91/Research/SF/SFdata/Apogee_new/Apogee_new_obsSF.pickle\n",
      "The path to your selection function pickled instance, obsSF_pickle_path, does not exist: /media/andy/37E3-0F91/Research/SF/SFdata/Apogee_new/Apogee_new_fieldoverlapdatabase\n",
      "^ These files should exist for an already made selection function. If you're starting from scratch, ignore this!\n",
      "\n",
      "6) Checking isochrone pickle files exist:\n",
      "The premade interpolants (isochrone_interpolantinstances.pickle) will be automatically be used to calculate the selection function.\n"
     ]
    }
   ],
   "source": [
    "# Test for any problems in the\n",
    "fileinfo.testFiles()\n",
    "# Good to come back to this whenever you move files around or change things."
   ]
  },
  {
   "cell_type": "code",
   "execution_count": 10,
   "metadata": {},
   "outputs": [],
   "source": [
    "# Some changes will be saved automatically if you run testFiles then save. \n",
    "fileinfo.save()"
   ]
  },
  {
   "cell_type": "code",
   "execution_count": 7,
   "metadata": {},
   "outputs": [],
   "source": [
    "# Joins some of the given folders and filenames together to create full paths\n",
    "fileinfo()"
   ]
  },
  {
   "cell_type": "markdown",
   "metadata": {},
   "source": [
    "# Field info <a name=\"field\"></a>"
   ]
  },
  {
   "cell_type": "code",
   "execution_count": 1,
   "metadata": {},
   "outputs": [],
   "source": [
    "# Field file downloaded from website\n",
    "filepath = '.../allPlates-l31c.2.fits'"
   ]
  },
  {
   "cell_type": "code",
   "execution_count": 4,
   "metadata": {},
   "outputs": [],
   "source": [
    "# Generate dataframe from file\n",
    "from astropy.table import Table\n",
    "\n",
    "with open(filepath) as data:\n",
    "    dat = Table.read(data, format='fits')\n",
    "    \n",
    "    arr = dat.as_array()\n",
    "    lstlst = [list(row)[:15]+list(row)[16:] for row in arr.tolist()]\n",
    "    pointings = pd.DataFrame(lstlst, columns=dat.colnames[:15]+dat.colnames[16:])"
   ]
  },
  {
   "cell_type": "code",
   "execution_count": 12,
   "metadata": {},
   "outputs": [],
   "source": [
    "# Transform from Equatorial to Galactic (Copied from your CoordTrans script in AngleDisks.EquatToGal)\n",
    "from seestar import AngleDisks\n",
    "\n",
    "pointings['RADIUS'] *= np.pi/180\n",
    "\n",
    "pointings['RA'] = pointings.RACEN * np.pi/180\n",
    "pointings['Dec'] = pointings.DECCEN * np.pi/180\n",
    "pointings['glon'], pointings['glat'] = AngleDisks.EquatToGal(pointings.RA, pointings.Dec)"
   ]
  },
  {
   "cell_type": "code",
   "execution_count": 13,
   "metadata": {},
   "outputs": [
    {
     "name": "stderr",
     "output_type": "stream",
     "text": [
      "/home/andy/.local/lib/python2.7/site-packages/matplotlib/projections/geo.py:493: RuntimeWarning: invalid value encountered in arcsin\n",
      "  theta = np.arcsin(y / np.sqrt(2))\n"
     ]
    },
    {
     "data": {
      "text/plain": [
       "<matplotlib.collections.PathCollection at 0x7f7d63c4ca10>"
      ]
     },
     "execution_count": 13,
     "metadata": {},
     "output_type": "execute_result"
    },
    {
     "data": {
      "image/png": "[encoded data removed]",
      "text/plain": [
       "<matplotlib.figure.Figure at 0x7f7d63c4cd50>"
      ]
     },
     "metadata": {},
     "output_type": "display_data"
    }
   ],
   "source": [
    "# Scatter of pointings locations\n",
    "fig = plt.figure(figsize=(10,10))\n",
    "l = pointings['glon'].copy()\n",
    "l[l>np.pi] -= 2*np.pi\n",
    "b = pointings.glat.copy()\n",
    "plt.subplot(projection='mollweide')\n",
    "plt.scatter(l, b, s=10)"
   ]
  },
  {
   "cell_type": "code",
   "execution_count": 14,
   "metadata": {},
   "outputs": [],
   "source": [
    "# Rename columns and provide colour and magnitude boundaries\n",
    "cols_old = ['LOCATION_ID', 'glon', 'glat', 'RADIUS']\n",
    "cols_new = ['fieldID', 'glon', 'glat', 'halfangle']\n",
    "pointings = pointings.rename(index=str, columns=dict(zip(cols_old, cols_new)))\n",
    "pointings = pointings[cols_new]\n",
    "\n",
    "pointings['Magmin'] = 'NoLimit'\n",
    "pointings['Magmax'] = 'NoLimit'\n",
    "pointings['Colmin'] = 'NoLimit'\n",
    "pointings['Colmax'] = 'NoLimit'\n",
    "\n",
    "pointings.drop_duplicates('fieldID', inplace=True)"
   ]
  },
  {
   "cell_type": "code",
   "execution_count": 15,
   "metadata": {},
   "outputs": [],
   "source": [
    "# Save to csv inside database\n",
    "pointings.to_csv(fileinfo.field_path, index=False)"
   ]
  },
  {
   "cell_type": "markdown",
   "metadata": {},
   "source": [
    "<a name=\"spectro\"></a>\n",
    "# Spectro data"
   ]
  },
  {
   "cell_type": "code",
   "execution_count": 44,
   "metadata": {},
   "outputs": [],
   "source": [
    "# Spectroscopic datafile which you sent me\n",
    "filepath = '.../APOGEE_distances_withPRIOR_MASTER_suppapodr14(1).csv'\n",
    "df = pd.read_csv(filepath)"
   ]
  },
  {
   "cell_type": "code",
   "execution_count": 46,
   "metadata": {
    "scrolled": true
   },
   "outputs": [],
   "source": [
    "# Relabel columns and correct units (e.g. log10age --> ageGyr)\n",
    "cols = ['apogee_id', 'apogee_location_id', 'l', 'b', 's', \n",
    "            'apogee_j', 'apogee_h', 'apogee_k', \n",
    "            'apogee_m_h', 'dm', 'dist', 'par', 'log10_age',\n",
    "            'mass', 'Z', 'R', 'phi', 'z',  'flag']\n",
    "df = df[cols].copy()\n",
    "\n",
    "cols_old = ['apogee_id', 'apogee_location_id', 'l', 'b', 's', 'dist', 'par', 'log10_age', 'mass', 'Z', 'log10_av', 'R', 'phi', 'z']\n",
    "cols_new = ['APOGEE_ID', 'fieldID', 'glon', 'glat', 's', 'dist', 'par', 'log10age', 'mass', 'Z', 'log10_av', 'R', 'phi', 'z']\n",
    "df.rename(index=str, columns=dict(zip(cols_old, cols_new)), inplace=True)\n",
    "\n",
    "cm_old = ['apogee_j', 'apogee_h', 'apogee_k']\n",
    "cm_new = ['Japp', 'Kapp', 'Happ']\n",
    "df.rename(index=str, columns=dict(zip(cm_old, cm_new)), inplace=True)\n",
    "\n",
    "df['ageGyr'] = 10**df['log10age']\n",
    "# Zsolar = 0.0152\n",
    "df['mh'] = df.Z"
   ]
  },
  {
   "cell_type": "code",
   "execution_count": 48,
   "metadata": {
    "collapsed": true
   },
   "outputs": [
    {
     "data": {
      "text/plain": [
       "(277371,\n",
       " 215081,\n",
       " 224686,\n",
       " 224686,\n",
       " 224686,\n",
       " 222527,\n",
       " 229285,\n",
       " 276430,\n",
       " 276440,\n",
       " 277370)"
      ]
     },
     "execution_count": 48,
     "metadata": {},
     "output_type": "execute_result"
    }
   ],
   "source": [
    "# Drop nan values for age and distance and only use flag==False\n",
    "df = df[pd.notnull(df.ageGyr) & pd.notnull(df.s) & (~df.flag)]\n",
    "# Only take stars which have normal magnitudes (bad values are -10000)\n",
    "magcon = (df.Japp<-5000)|(df.Kapp<-5000)|(df.Happ<-5000)\n",
    "df = df[~magcon]"
   ]
  },
  {
   "cell_type": "code",
   "execution_count": 56,
   "metadata": {},
   "outputs": [],
   "source": [
    "# Save to spectro file\n",
    "df.to_csv(fileinfo.spectro_path, index=False)"
   ]
  },
  {
   "cell_type": "markdown",
   "metadata": {},
   "source": [
    "<a name=\"photo\"></a>\n",
    "# Apogee field assignment \n",
    "Assigning photometric stars to correct fields"
   ]
  },
  {
   "cell_type": "code",
   "execution_count": 3,
   "metadata": {},
   "outputs": [],
   "source": [
    "# This is the list of files in which I have the 2MASS data\n",
    "files = [str(i*10)+\"_\"+str((i+1)*10) for i in range(24)]\n",
    "files.extend([str(i*5)+\"_\"+str((i+1)*5) for i in range(24*2, 30*2)])\n",
    "files.extend([str(i*10)+\"_\"+str((i+1)*10) for i in range(30, 36)])\n",
    "files = ['.../2MASSgalactic/2MASS_'+filen+'.csv.gz' for filen in files]"
   ]
  },
  {
   "cell_type": "code",
   "execution_count": 6,
   "metadata": {},
   "outputs": [
    {
     "name": "stdout",
     "output_type": "stream",
     "text": [
      "Checking photometric catalogue file structure:\n",
      "Checking /media/andy/UUI/Research/SF/SFdata/2MASS/2MASSgalactic/2MASS_90_100.csv.gz:\n",
      "Column headers are ['RA' 'Dec' 'j' 'h' 'k' 'glon' 'glat'], \n",
      "but photo_coords suggests ['glon', 'glat', 'Japp', 'Kapp', 'Happ'], \n",
      "please resolve this.\n",
      "\n",
      "Tests on the files have raised some warnings. Would you like to continue anyway? (y/n)y\n",
      "\n",
      "Total number of stars 470000000.\n",
      "Importing 5310850 stars at a time. Iterating 42264 stars at a time.\n",
      "Field file path for field 4394: /media/andy/37E3-0F91/Research/SF/SFdata/Apogee_new/photometric/4394.csv\n",
      "Clearing field files...\n",
      "...done\n",
      "\n",
      "File: 2MASS_340_350.csv.gz  Complete: 465745510/470000000(99.095%)  Time: 1020.9m  Projected: 17h10m...Saving: 141/141        \n",
      "Total stars assigned to fields: 34199298.\n",
      "Dictionary of stars per field in fileinfo.photo_field_starcount.\n"
     ]
    },
    {
     "data": {
      "text/plain": [
       "<seestar.FieldAssignment.FieldAssignment instance at 0x7f7c00665638>"
      ]
     },
     "execution_count": 6,
     "metadata": {},
     "output_type": "execute_result"
    }
   ],
   "source": [
    "FieldAssignment.FieldAssignment(fileinfo_path, files, ncores=1)"
   ]
  },
  {
   "cell_type": "code",
   "execution_count": null,
   "metadata": {},
   "outputs": [],
   "source": []
  },
  {
   "cell_type": "code",
   "execution_count": null,
   "metadata": {},
   "outputs": [],
   "source": []
  },
  {
   "cell_type": "code",
   "execution_count": null,
   "metadata": {},
   "outputs": [],
   "source": []
  },
  {
   "cell_type": "code",
   "execution_count": null,
   "metadata": {},
   "outputs": [],
   "source": []
  }
 ],
 "metadata": {
  "kernelspec": {
   "display_name": "Python 2",
   "language": "python",
   "name": "python2"
  },
  "language_info": {
   "codemirror_mode": {
    "name": "ipython",
    "version": 2
   },
   "file_extension": ".py",
   "mimetype": "text/x-python",
   "name": "python",
   "nbconvert_exporter": "python",
   "pygments_lexer": "ipython2",
   "version": "2.7.14"
  }
 },
 "nbformat": 4,
 "nbformat_minor": 2
}
