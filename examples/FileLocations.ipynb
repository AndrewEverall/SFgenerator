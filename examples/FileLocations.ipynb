{
 "cells": [
  {
   "cell_type": "code",
   "execution_count": 1,
   "metadata": {},
   "outputs": [
    {
     "ename": "SyntaxError",
     "evalue": "invalid syntax (surveyInfoPickler.py, line 136)",
     "output_type": "error",
     "traceback": [
      "\u001b[0;36m  File \u001b[0;32m\"/home/andy/anaconda2/lib/python2.7/site-packages/selfun-1.0-py2.7.egg/selfun/surveyInfoPickler.py\"\u001b[0;36m, line \u001b[0;32m136\u001b[0m\n\u001b[0;31m    self.photo_pickle_path = os.path.join(self.spectro_folder self.photo_pickle_fname)\u001b[0m\n\u001b[0m                                                                 ^\u001b[0m\n\u001b[0;31mSyntaxError\u001b[0m\u001b[0;31m:\u001b[0m invalid syntax\n"
     ]
    }
   ],
   "source": [
    "from selfun import surveyInfoPickler\n",
    "\n",
    "# Initialise class\n",
    "Demo = surveyInfoPickler.surveyInformation()"
   ]
  },
  {
   "cell_type": "code",
   "execution_count": 2,
   "metadata": {},
   "outputs": [],
   "source": [
    "import numpy as np\n",
    "import sys\n",
    "sys.path.append('../selfun')\n",
    "\n",
    "import surveyInfoPickler\n",
    "# Initialise class\n",
    "Demo = surveyInfoPickler.surveyInformation()"
   ]
  },
  {
   "cell_type": "code",
   "execution_count": 3,
   "metadata": {},
   "outputs": [],
   "source": [
    "# Location where spectrograph survey information is stored\n",
    "Demo.data_path = '../../SFdata'\n",
    "\n",
    "# Folder in .data_path which contains the file informatino\n",
    "Demo.spectro = 'SpectroName'\n",
    "\n",
    "# Filename of spectrograph star information\n",
    "Demo.spectro_fname = 'Spectrograph_survey.csv'\n",
    "# Column headers for spectrograph information\n",
    "# [ fieldID, Phi, Th, magA, magB, magC]\n",
    "# magA-magB = Colour, magC = m (for selection limits)\n",
    "Demo.spectro_coords = ['fieldid', 'glon', 'glat', 'J', 'K', 'H']\n",
    "\n",
    "# Filename (in Demo.spectro file) for field pointings\n",
    "Demo.field_fname = 'Spectrograph_fieldinfo.csv'\n",
    "# Column headers in field pointings\n",
    "Demo.field_coords = (['fieldID', 'glon', 'glat', 'hmin', 'hmax', 'cmin', 'cmax'], 'Galactic')\n",
    "# Solid angle area of fiels in deg^2\n",
    "Demo.field_SA = 12.565\n",
    "# Data type for field IDs\n",
    "Demo.fieldlabel_type = np.float64\n",
    "\n",
    "# Location where photometric datafiles are stored (require large storage space)\n",
    "Demo.photo_path = '../../SFgithub/SFdata'\n",
    "# Column headers in photometric data files\n",
    "Demo.photo_coords = ['glon', 'glat', 'J', 'K', 'H']\n",
    "# File types for photometric data\n",
    "Demo.photo_tag = '.csv'\n",
    "\n",
    "# pickled file locations which will store the selection function information\n",
    "Demo.sf_pickle_fname = 'Spectrograph_SF.pickle'\n",
    "Demo.obsSF_pickle_fname = 'Spectrograph_obsSF.pickle'\n",
    "\n",
    "# File containing isochrone data\n",
    "Demo.iso_pickle_file = \"evoTracks/isochrones.pickle\" \n",
    "# File location for storing information on area overlap of individual fields\n",
    "Demo.overlap_fname = 'Spectrograph_fieldoverlapdatabase'"
   ]
  },
  {
   "cell_type": "code",
   "execution_count": 4,
   "metadata": {},
   "outputs": [
    {
     "name": "stdout",
     "output_type": "stream",
     "text": [
      "\n",
      "No file: ../../SFdata/SpectroName/Spectrograph_survey.csv\n",
      "\n",
      "The path to your photometric survey, photo_path, does not exist: ../../SFgithub/SFdata\n",
      "\n",
      "The path to your field coordinates, field_path, does not exist: ../../SFdata/SpectroName/Spectrograph_fieldinfo.csv\n",
      "\n",
      "The path to your selection function pickled instance, sf_pickle_path, does not exist: ../../SFdata/SpectroName/Spectrograph_SF.pickle\n",
      "\n",
      "The path to your selection function pickled instance, obsSF_pickle_path, does not exist: ../../SFdata/SpectroName/Spectrograph_obsSF.pickle\n",
      "\n",
      "The path to your selection function pickled instance, obsSF_pickle_path, does not exist: ../../SFdata/SpectroName/Spectrograph_fieldoverlapdatabase\n",
      "\n",
      " The solid angle extent of your fields is 12.565\n",
      "\n",
      "\n",
      "The tests of field_path and field_coords have not been passed so fieldlabel_type cannot be tested.\n",
      "\n",
      "The path to your isochrone pickled instance, iso_pickle_path, does not exist: ../../SFdata/evoTracks/isochrones.pickle\n"
     ]
    }
   ],
   "source": [
    "# Run the __call__ routine to setup the file locations\n",
    "Demo()\n",
    "# testFiles checks whether the information given is accurate\n",
    "# If this is the first time running, pickle files and overlap_fname shouldn't exist\n",
    "Demo.testFiles()"
   ]
  },
  {
   "cell_type": "code",
   "execution_count": 5,
   "metadata": {},
   "outputs": [
    {
     "name": "stdout",
     "output_type": "stream",
     "text": [
      "python\t\n",
      "        # Get file names and coordinates from pickled file\n",
      "        pickleFile = '../../SFdata/SpectroName/SpectroName_FileInformation.pickle'\n",
      "        with open(pickleFile, \"rb\") as input:\n",
      "            SpectroName  = pickle.load(input)\n",
      "\n",
      "\t\t# Location where spectrograph survey information is stored\n",
      "\t\tSpectroName.data_path = '../../SFgithub/SFdata'\n",
      "\n",
      "\t\t# Folder in .data_path which contains the file informatino\n",
      "\t\tSpectroName.spectro = '/SpectroName'\n",
      "\n",
      "\t\t# Filename of spectrograph star information\n",
      "\t\tSpectroName.spectro_fname = '/Spectrograph_survey.csv'\n",
      "\t\t# Column headers for spectrograph information\n",
      "\t\t# [ fieldID, Phi, Th, magA, magB, magC]\n",
      "\t\t# magA-magB = Colour, magC = m (for selection limits)\n",
      "\t\tSpectroName.spectro_coords = ['fieldid', 'glon', 'glat', 'J', 'K', 'H']\n",
      "\n",
      "\t\t# Filename (in SpectroName.spectro file) for field pointings\n",
      "\t\tSpectroName.field_fname = '/Spectrograph_fieldinfo.csv'\n",
      "\t\t# Column headers in field pointings\n",
      "\t\tSpectroName.field_coords = (['fieldID', 'glon', 'glat', 'hmin', 'hmax', 'cmin', 'cmax'], 'Galactic')\n",
      "\t\t# Solid angle area of fiels in deg^2\n",
      "\t\tSpectroName.field_SA = 12.565\n",
      "\t\t# Data type for field IDs\n",
      "\t\tSpectroName.fieldlabel_type = np.float64\n",
      "\n",
      "\t\t# Location where photometric datafiles are stored (require large storage space)\n",
      "\t\tSpectroName.photo_path = '/photometricstorage/'\n",
      "\t\t# Column headers in photometric data files\n",
      "\t\tSpectroName.photo_coords = ['glon', 'glat', 'J', 'K', 'H']\n",
      "\t\t# File types for photometric data\n",
      "\t\tSpectroName.photo_tag = '.csv'\n",
      "\n",
      "\t\t# pickled file locations which will store the selection function information\n",
      "\t\tSpectroName.sf_pickle_fname = '/Spectrograph_SF.pickle'\n",
      "\t\tSpectroName.obsSF_pickle_fname = '/Spectrograph_obsSF.pickle'\n",
      "\n",
      "\t\t# File containing isochrone data\n",
      "\t\tSpectroName.iso_pickle_file = \"/evoTracks/isochrones.pickle\" \n",
      "\t\t# File location for storing information on area overlap of individual fields\n",
      "\t\tSpectroName.overlap_fname = '/Spectrograph_fieldoverlapdatabase'\n",
      "\n",
      "\t\t# Run the __call__ routine to setup the file locations\n",
      "\t\tSpectroName()\n",
      "\t\t# testFiles checks whether the information given is accurate\n",
      "\t\t# If this is the first time running, pickle files and overlap_fname shouldn't exist\n",
      "\t\tSpectroName.testFiles()\n",
      "\n",
      "\t\t# Location of pickle file which the file information will be stored in\n",
      "\t\tpklfile = \"../../SFgithub/SFdata/SpectroName/SpectrographFileInformation.pickle\"\n",
      "\t\t# Pickle the file information\n",
      "\t\tSpectroName.pickleInformation(pklfile)\n",
      "\t\t\n"
     ]
    }
   ],
   "source": [
    "Demo.pythonCodeExample()"
   ]
  },
  {
   "cell_type": "code",
   "execution_count": 6,
   "metadata": {
    "collapsed": true
   },
   "outputs": [
    {
     "ename": "IOError",
     "evalue": "[Errno 2] No such file or directory: '../../SFgithub/SFdata/SpectroName/SpectrographFileInformation.pickle'",
     "output_type": "error",
     "traceback": [
      "\u001b[0;31m---------------------------------------------------------------------------\u001b[0m",
      "\u001b[0;31mIOError\u001b[0m                                   Traceback (most recent call last)",
      "\u001b[0;32m<ipython-input-6-f92f0d466ab9>\u001b[0m in \u001b[0;36m<module>\u001b[0;34m()\u001b[0m\n\u001b[1;32m      2\u001b[0m \u001b[0mpklfile\u001b[0m \u001b[0;34m=\u001b[0m \u001b[0;34m\"../../SFgithub/SFdata/SpectroName/SpectrographFileInformation.pickle\"\u001b[0m\u001b[0;34m\u001b[0m\u001b[0m\n\u001b[1;32m      3\u001b[0m \u001b[0;31m# Pickle the file information\u001b[0m\u001b[0;34m\u001b[0m\u001b[0;34m\u001b[0m\u001b[0m\n\u001b[0;32m----> 4\u001b[0;31m \u001b[0mDemo\u001b[0m\u001b[0;34m.\u001b[0m\u001b[0mpickleInformation\u001b[0m\u001b[0;34m(\u001b[0m\u001b[0mpklfile\u001b[0m\u001b[0;34m)\u001b[0m\u001b[0;34m\u001b[0m\u001b[0m\n\u001b[0m",
      "\u001b[0;32m/home/andy/Documents/Research/SFgithub/selfun/surveyInfoPickler.py\u001b[0m in \u001b[0;36mpickleInformation\u001b[0;34m(self, filename)\u001b[0m\n\u001b[1;32m    162\u001b[0m \u001b[0;34m\u001b[0m\u001b[0m\n\u001b[1;32m    163\u001b[0m                 \u001b[0;31m# Can you pickle a class from inside the class?\u001b[0m\u001b[0;34m\u001b[0m\u001b[0;34m\u001b[0m\u001b[0m\n\u001b[0;32m--> 164\u001b[0;31m                 \u001b[0;32mwith\u001b[0m \u001b[0mopen\u001b[0m\u001b[0;34m(\u001b[0m\u001b[0mfilename\u001b[0m\u001b[0;34m,\u001b[0m \u001b[0;34m'wb'\u001b[0m\u001b[0;34m)\u001b[0m \u001b[0;32mas\u001b[0m \u001b[0mhandle\u001b[0m\u001b[0;34m:\u001b[0m\u001b[0;34m\u001b[0m\u001b[0m\n\u001b[0m\u001b[1;32m    165\u001b[0m                         \u001b[0mpickle\u001b[0m\u001b[0;34m.\u001b[0m\u001b[0mdump\u001b[0m\u001b[0;34m(\u001b[0m\u001b[0mself\u001b[0m\u001b[0;34m,\u001b[0m \u001b[0mhandle\u001b[0m\u001b[0;34m)\u001b[0m\u001b[0;34m\u001b[0m\u001b[0m\n\u001b[1;32m    166\u001b[0m \u001b[0;34m\u001b[0m\u001b[0m\n",
      "\u001b[0;31mIOError\u001b[0m: [Errno 2] No such file or directory: '../../SFgithub/SFdata/SpectroName/SpectrographFileInformation.pickle'"
     ]
    }
   ],
   "source": [
    "# Location of pickle file which the file information will be stored in\n",
    "pklfile = \"../../SFgithub/SFdata/SpectroName/SpectrographFileInformation.pickle\"\n",
    "# Pickle the file information\n",
    "Demo.pickleInformation(pklfile)"
   ]
  },
  {
   "cell_type": "code",
   "execution_count": null,
   "metadata": {},
   "outputs": [],
   "source": []
  },
  {
   "cell_type": "code",
   "execution_count": 9,
   "metadata": {},
   "outputs": [],
   "source": [
    "import sys\n",
    "sys.path.append('../selfun/')\n",
    "\n"
   ]
  },
  {
   "cell_type": "code",
   "execution_count": 12,
   "metadata": {},
   "outputs": [
    {
     "ename": "SyntaxError",
     "evalue": "invalid syntax (<ipython-input-12-132227a3a2fb>, line 1)",
     "output_type": "error",
     "traceback": [
      "\u001b[0;36m  File \u001b[0;32m\"<ipython-input-12-132227a3a2fb>\"\u001b[0;36m, line \u001b[0;32m1\u001b[0m\n\u001b[0;31m    import ../selfun/createNew as cn\u001b[0m\n\u001b[0m           ^\u001b[0m\n\u001b[0;31mSyntaxError\u001b[0m\u001b[0;31m:\u001b[0m invalid syntax\n"
     ]
    }
   ],
   "source": [
    "import createNew as cn"
   ]
  },
  {
   "cell_type": "code",
   "execution_count": 11,
   "metadata": {},
   "outputs": [
    {
     "name": "stdout",
     "output_type": "stream",
     "text": [
      "Where is the directory? ../../DataTrial\n",
      "What survey? (will be used to label the folder and file contents) Testing\n"
     ]
    },
    {
     "ename": "SyntaxError",
     "evalue": "invalid syntax (surveyInfoPickler.py, line 136)",
     "output_type": "error",
     "traceback": [
      "\u001b[0;36m  File \u001b[0;32m\"/home/andy/anaconda2/lib/python2.7/site-packages/selfun-1.0-py2.7.egg/selfun/surveyInfoPickler.py\"\u001b[0;36m, line \u001b[0;32m136\u001b[0m\n\u001b[0;31m    self.photo_pickle_path = os.path.join(self.spectro_folder self.photo_pickle_fname)\u001b[0m\n\u001b[0m                                                                 ^\u001b[0m\n\u001b[0;31mSyntaxError\u001b[0m\u001b[0;31m:\u001b[0m invalid syntax\n"
     ]
    }
   ],
   "source": [
    "createNew.create()"
   ]
  },
  {
   "cell_type": "code",
   "execution_count": null,
   "metadata": {},
   "outputs": [],
   "source": []
  }
 ],
 "metadata": {
  "kernelspec": {
   "display_name": "Python 2",
   "language": "python",
   "name": "python2"
  },
  "language_info": {
   "codemirror_mode": {
    "name": "ipython",
    "version": 2
   },
   "file_extension": ".py",
   "mimetype": "text/x-python",
   "name": "python",
   "nbconvert_exporter": "python",
   "pygments_lexer": "ipython2",
   "version": "2.7.14"
  }
 },
 "nbformat": 4,
 "nbformat_minor": 2
}
