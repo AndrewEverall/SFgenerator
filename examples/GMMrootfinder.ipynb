{
 "cells": [
  {
   "cell_type": "code",
   "execution_count": 1,
   "metadata": {},
   "outputs": [],
   "source": [
    "%load_ext autoreload\n",
    "%autoreload 2\n",
    "\n",
    "import sys\n",
    "sys.path.append('/home/andy/Documents/Research/software/basecode/')\n",
    "from importscript import *\n",
    "\n",
    "no_warnings()"
   ]
  },
  {
   "cell_type": "code",
   "execution_count": 2,
   "metadata": {},
   "outputs": [],
   "source": [
    "import scipy"
   ]
  },
  {
   "cell_type": "code",
   "execution_count": 3,
   "metadata": {},
   "outputs": [],
   "source": [
    "def get_params(gmm_inst, Nstar, n_components):\n",
    "    \n",
    "    params = np.zeros((n_components,6))\n",
    "    params[:,:2] = gmm_inst.means_\n",
    "    params[:,2:4] = gmm_inst.covariances_[:,[0,1],[0,1]]\n",
    "    params[:,4] = gmm_inst.covariances_[:,0,1]/np.sqrt(gmm_inst.covariances_[:,0,0]*gmm_inst.covariances_[:,1,1])\n",
    "    params[:,5] = gmm_inst.weights_*Nstar\n",
    "\n",
    "    return params"
   ]
  },
  {
   "cell_type": "code",
   "execution_count": null,
   "metadata": {},
   "outputs": [],
   "source": []
  },
  {
   "cell_type": "code",
   "execution_count": null,
   "metadata": {},
   "outputs": [],
   "source": []
  },
  {
   "cell_type": "code",
   "execution_count": 77,
   "metadata": {},
   "outputs": [],
   "source": [
    "params = np.array([[1., 1., 2., 2., 0.1, 10.],\n",
    "                   [-1., -1., 2., 2., 0., 5.],\n",
    "                   [-0.1, -0.1, 2., 2., 0., 3.]])"
   ]
  },
  {
   "cell_type": "code",
   "execution_count": 8,
   "metadata": {},
   "outputs": [
    {
     "data": {
      "text/plain": [
       "array([ 1., -1.])"
      ]
     },
     "execution_count": 8,
     "metadata": {},
     "output_type": "execute_result"
    }
   ],
   "source": [
    "params[:,0]"
   ]
  },
  {
   "cell_type": "code",
   "execution_count": 24,
   "metadata": {},
   "outputs": [],
   "source": [
    "def quick_invdet(S):\n",
    "    det = S[:,0,0]*S[:,1,1] - S[:,0,1]**2\n",
    "    Sinv = S.copy()*0\n",
    "    Sinv[:,0,0] = S[:,1,1]\n",
    "    Sinv[:,1,1] = S[:,0,0]\n",
    "    Sinv[:,0,1] = -S[:,0,1]\n",
    "    Sinv[:,1,0] = -S[:,1,0]\n",
    "    Sinv *= 1/det[:,np.newaxis,np.newaxis]\n",
    "    \n",
    "    return Sinv, det"
   ]
  },
  {
   "cell_type": "code",
   "execution_count": 44,
   "metadata": {},
   "outputs": [],
   "source": [
    "def rootfinder(X, sigma_inv, sigma_det, mu, weight, norm):\n",
    "    \n",
    "    delta = mu-X[:,np.newaxis]\n",
    "    sigma_inv_delta = np.sum(sigma_inv*delta[:,:,np.newaxis], axis=1)\n",
    "    \n",
    "    # Gaussian\n",
    "    exponent = np.exp(-0.5 * np.sum(delta*sigma_inv_delta, axis=1))\n",
    "    fx = norm*exponent\n",
    "    \n",
    "    # Jacobian\n",
    "    jac = -sigma_inv_delta * fx\n",
    "    \n",
    "    # Hessian\n",
    "    hess = sigma_inv_delta[:,:,np.newaxis]*sigma_inv_delta[:,np.newaxis,:] - sigma_inv\n",
    "    hess = hess * fx[:,np.newaxis,np.newaxis]\n",
    "    \n",
    "    return -np.sum(fx*weight, axis=0), -np.sum(jac*weight[:,np.newaxis], axis=0), \\\n",
    "            -np.sum(hess*weight[:,np.newaxis,np.newaxis], axis=0)"
   ]
  },
  {
   "cell_type": "code",
   "execution_count": 46,
   "metadata": {},
   "outputs": [],
   "source": [
    "def rootfinder_hess(X, sigma_inv, sigma_det, mu, weight, norm):\n",
    "    \n",
    "    delta = mu-X[:,np.newaxis]\n",
    "    sigma_inv_delta = np.sum(sigma_inv*delta[:,:,np.newaxis], axis=1)\n",
    "    \n",
    "    # Gaussian\n",
    "    exponent = np.exp(-0.5 * np.sum(delta*sigma_inv_delta, axis=1))\n",
    "    fx = norm*exponent\n",
    "    \n",
    "    # Hessian\n",
    "    hess = sigma_inv_delta[:,:,np.newaxis]*sigma_inv_delta[:,np.newaxis,:] - sigma_inv\n",
    "    hess = hess * fx[:,np.newaxis,np.newaxis]\n",
    "    \n",
    "    return -np.sum(hess*weight[:,np.newaxis,np.newaxis], axis=0)"
   ]
  },
  {
   "cell_type": "code",
   "execution_count": 104,
   "metadata": {},
   "outputs": [],
   "source": [
    "def rootfinder_jac(X, sigma_inv, sigma_det, mu, weight, norm):\n",
    "    \n",
    "    delta = mu-X[np.newaxis,:]\n",
    "    sigma_inv_delta = np.sum(sigma_inv*delta[:,:,np.newaxis], axis=1)\n",
    "    \n",
    "    # Gaussian\n",
    "    exponent = np.exp(-0.5 * np.sum(delta*sigma_inv_delta, axis=1))\n",
    "    fx = norm*exponent\n",
    "    \n",
    "    # Jacobian\n",
    "    jac = -sigma_inv_delta * fx[:,np.newaxis]\n",
    "    \n",
    "    # Hessian\n",
    "    #hess = sigma_inv_delta[:,:,np.newaxis]*sigma_inv_delta[:,np.newaxis,:] - sigma_inv\n",
    "    #hess = hess * fx[:,np.newaxis,np.newaxis]\n",
    "    \n",
    "    return 5-np.sum(fx*weight, axis=0), -np.sum(jac*weight[:,np.newaxis], axis=0)"
   ]
  },
  {
   "cell_type": "code",
   "execution_count": 102,
   "metadata": {},
   "outputs": [],
   "source": [
    "def log_rootfinder(X, sigma_inv, sigma_det, mu, weight, lognorm):\n",
    "    \n",
    "    delta = mu-X[:,np.newaxis]\n",
    "    sigma_inv_delta = np.sum(sigma_inv*delta[:,:,np.newaxis], axis=1)\n",
    "    \n",
    "    # Gaussian\n",
    "    exponent = -0.5 * np.sum(delta*sigma_inv_delta, axis=1)\n",
    "    fx = lognorm + exponent\n",
    "    \n",
    "    # Jacobian\n",
    "    jac = -sigma_inv_delta\n",
    "    \n",
    "    # Hessian\n",
    "    hess = - sigma_inv\n",
    "    \n",
    "    return -np.sum(fx*weight, axis=0), -np.sum(jac*weight[:,np.newaxis], axis=0), \\\n",
    "            -np.sum(hess*weight[:,np.newaxis,np.newaxis], axis=0)"
   ]
  },
  {
   "cell_type": "code",
   "execution_count": 105,
   "metadata": {},
   "outputs": [],
   "source": [
    "# Covariance matrix\n",
    "sigma = np.zeros((params.shape[0], 2, 2))\n",
    "sigma[:,[0,1],[0,1]] = params[:,[2,3]]**2\n",
    "sigma[:,[0,1],[1,0]] = (params[:,2]*params[:,3]*params[:,4])[:,np.newaxis]\n",
    "\n",
    "# Gaussian value\n",
    "sigma_inv, sigma_det = quick_invdet(sigma)\n",
    "\n",
    "norm = 1/(2*np.pi*np.sqrt(sigma_det))"
   ]
  },
  {
   "cell_type": "code",
   "execution_count": 87,
   "metadata": {},
   "outputs": [
    {
     "name": "stdout",
     "output_type": "stream",
     "text": [
      "CPU times: user 0 ns, sys: 0 ns, total: 0 ns\n",
      "Wall time: 159 µs\n"
     ]
    },
    {
     "data": {
      "text/plain": [
       "(-0.561286995909023, array([-0.06085081, -0.06085081]))"
      ]
     },
     "execution_count": 87,
     "metadata": {},
     "output_type": "execute_result"
    }
   ],
   "source": [
    "%time rootfinder_jac(np.array([1.0, 1.0]), sigma_inv, sigma_det, params[:,:2], params[:,5], norm)"
   ]
  },
  {
   "cell_type": "code",
   "execution_count": 43,
   "metadata": {},
   "outputs": [
    {
     "data": {
      "text/plain": [
       "array([15.99567363,  0.03978874])"
      ]
     },
     "execution_count": 43,
     "metadata": {},
     "output_type": "execute_result"
    }
   ],
   "source": [
    "1/(2*np.pi*np.sqrt(sigma_det))"
   ]
  },
  {
   "cell_type": "code",
   "execution_count": null,
   "metadata": {},
   "outputs": [],
   "source": []
  },
  {
   "cell_type": "code",
   "execution_count": 108,
   "metadata": {},
   "outputs": [
    {
     "name": "stdout",
     "output_type": "stream",
     "text": [
      "CPU times: user 12 ms, sys: 0 ns, total: 12 ms\n",
      "Wall time: 11.5 ms\n"
     ]
    },
    {
     "name": "stderr",
     "output_type": "stream",
     "text": [
      "/home/andy/py3/lib/python3.5/site-packages/scipy/optimize/_minimize.py:501: RuntimeWarning: Method Nelder-Mead does not use gradient information (jac).\n",
      "  RuntimeWarning)\n"
     ]
    },
    {
     "data": {
      "text/plain": [
       " final_simplex: (array([[0.33242197, 0.33243736],\n",
       "       [0.33233345, 0.33242474],\n",
       "       [0.33245224, 0.33235441]]), array([4.39707722, 4.39707722, 4.39707722]))\n",
       "           fun: 4.397077216103094\n",
       "       message: 'Optimization terminated successfully.'\n",
       "          nfev: 60\n",
       "           nit: 33\n",
       "        status: 0\n",
       "       success: True\n",
       "             x: array([0.33242197, 0.33243736])"
      ]
     },
     "execution_count": 108,
     "metadata": {},
     "output_type": "execute_result"
    }
   ],
   "source": [
    "%time scipy.optimize.minimize(rootfinder_jac, np.array([0.9, 0.9]), method='Nelder-Mead', args=(sigma_inv, sigma_det, params[:,:2], params[:,5], norm), jac=True)"
   ]
  },
  {
   "cell_type": "code",
   "execution_count": 64,
   "metadata": {},
   "outputs": [],
   "source": [
    "out = np.zeros(params.shape[0])\n",
    "loc = np.zeros((params.shape[0], 2))\n",
    "for i in range(params.shape[0]):\n",
    "    opt = scipy.optimize.minimize(rootfinder_jac, params[i,:2], \n",
    "                                  args=(sigma_inv, sigma_det, params[:,:2], params[:,5], norm), jac=True)\n",
    "    \n",
    "    out[i] = opt.fun\n",
    "    loc[i] = opt.x"
   ]
  },
  {
   "cell_type": "code",
   "execution_count": 65,
   "metadata": {},
   "outputs": [
    {
     "data": {
      "text/plain": [
       "(array([-160.02992358,   -0.19894368]), array([[ 1.,  1.],\n",
       "        [-1., -1.]]))"
      ]
     },
     "execution_count": 65,
     "metadata": {},
     "output_type": "execute_result"
    }
   ],
   "source": [
    "out, loc"
   ]
  },
  {
   "cell_type": "code",
   "execution_count": null,
   "metadata": {},
   "outputs": [],
   "source": []
  },
  {
   "cell_type": "code",
   "execution_count": null,
   "metadata": {},
   "outputs": [],
   "source": []
  },
  {
   "cell_type": "code",
   "execution_count": 139,
   "metadata": {},
   "outputs": [],
   "source": [
    "def jac_rootfinder(X, sigma_inv, sigma_det, mu, weight, lognorm):\n",
    "    \n",
    "    delta = mu-X[np.newaxis,:]\n",
    "    sigma_inv_delta = np.sum(sigma_inv*delta[:,:,np.newaxis], axis=1)\n",
    "    \n",
    "    # Gaussian\n",
    "    exponent = np.exp(-0.5 * np.sum(delta*sigma_inv_delta, axis=1))\n",
    "    fx = norm*exponent\n",
    "    \n",
    "    # Jacobian\n",
    "    jac = -sigma_inv_delta * fx[:,np.newaxis]\n",
    "    \n",
    "    result =  -np.sum(jac*weight[:,np.newaxis], axis=0)\n",
    "    #print(X.shape, result.shape)\n",
    "    return result"
   ]
  },
  {
   "cell_type": "code",
   "execution_count": 141,
   "metadata": {},
   "outputs": [],
   "source": [
    "def jac_rootfinder_hess(X, sigma_inv, sigma_det, mu, weight, lognorm):\n",
    "    \n",
    "    delta = mu-X[np.newaxis,:]\n",
    "    sigma_inv_delta = np.sum(sigma_inv*delta[:,:,np.newaxis], axis=1)\n",
    "    \n",
    "    # Gaussian\n",
    "    exponent = np.exp(-0.5 * np.sum(delta*sigma_inv_delta, axis=1))\n",
    "    fx = norm*exponent\n",
    "    \n",
    "    # Jacobian\n",
    "    jac = -sigma_inv_delta * fx[:,np.newaxis]\n",
    "    \n",
    "    # Hessian\n",
    "    hess = sigma_inv_delta[:,:,np.newaxis]*sigma_inv_delta[:,np.newaxis,:] - sigma_inv\n",
    "    hess = hess * fx[:,np.newaxis,np.newaxis]\n",
    "    \n",
    "    return -np.sum(jac*weight[:,np.newaxis], axis=0), \\\n",
    "            -np.sum(hess*weight[:,np.newaxis,np.newaxis], axis=0)"
   ]
  },
  {
   "cell_type": "code",
   "execution_count": 143,
   "metadata": {},
   "outputs": [
    {
     "name": "stdout",
     "output_type": "stream",
     "text": [
      "CPU times: user 0 ns, sys: 0 ns, total: 0 ns\n",
      "Wall time: 546 µs\n"
     ]
    },
    {
     "data": {
      "text/plain": [
       "    fjac: array([[-0.99377224,  0.1114304 ],\n",
       "       [-0.1114304 , -0.99377224]])\n",
       "     fun: array([-3.46944695e-18, -3.46944695e-18])\n",
       " message: 'The solution converged.'\n",
       "    nfev: 9\n",
       "     qtf: array([-1.84704874e-11, -2.31357399e-11])\n",
       "       r: array([ 0.10754643, -0.02381862,  0.10487568])\n",
       "  status: 1\n",
       " success: True\n",
       "       x: array([0.33239067, 0.33239067])"
      ]
     },
     "execution_count": 143,
     "metadata": {},
     "output_type": "execute_result"
    }
   ],
   "source": [
    "%time scipy.optimize.root(jac_rootfinder, np.array([-1., -1.]), args=(sigma_inv, sigma_det, params[:,:2], params[:,5], norm))#, jac=True)"
   ]
  },
  {
   "cell_type": "code",
   "execution_count": 145,
   "metadata": {},
   "outputs": [
    {
     "name": "stdout",
     "output_type": "stream",
     "text": [
      "CPU times: user 32 ms, sys: 0 ns, total: 32 ms\n",
      "Wall time: 29.7 ms\n"
     ]
    },
    {
     "data": {
      "text/plain": [
       "    fjac: array([[-0.70710678,  0.70710678],\n",
       "       [-0.70710678, -0.70710678]])\n",
       "     fun: array([5.71593506e-91, 5.71593506e-91])\n",
       " message: 'The number of calls to function has reached maxfev = 300.'\n",
       "    nfev: 300\n",
       "    njev: 3\n",
       "     qtf: array([ 2.62075589e-101, -1.61807204e-090])\n",
       "       r: array([-3.29489841e-69,  3.29489841e-69, -3.35290799e-89])\n",
       "  status: 2\n",
       " success: False\n",
       "       x: array([-29.85507037, -29.85507037])"
      ]
     },
     "execution_count": 145,
     "metadata": {},
     "output_type": "execute_result"
    }
   ],
   "source": [
    "%time scipy.optimize.root(jac_rootfinder_hess, np.array([-1., -1.]), args=(sigma_inv, sigma_det, params[:,:2], params[:,5], norm), jac=True)"
   ]
  },
  {
   "cell_type": "code",
   "execution_count": 151,
   "metadata": {},
   "outputs": [
    {
     "name": "stdout",
     "output_type": "stream",
     "text": [
      "CPU times: user 4 ms, sys: 0 ns, total: 4 ms\n",
      "Wall time: 1.38 ms\n"
     ]
    }
   ],
   "source": [
    "%%time\n",
    "\n",
    "out = np.zeros(params.shape[0])\n",
    "loc = np.zeros((params.shape[0], 2))\n",
    "for i in range(params.shape[0]):\n",
    "    opt = scipy.optimize.root(jac_rootfinder, params[i,:2], \n",
    "                                  args=(sigma_inv, sigma_det, params[:,:2], params[:,5], norm))\n",
    "    loc[i] = opt.x"
   ]
  },
  {
   "cell_type": "code",
   "execution_count": 152,
   "metadata": {},
   "outputs": [
    {
     "data": {
      "text/plain": [
       "array([[0.33239067, 0.33239067],\n",
       "       [0.33239067, 0.33239067],\n",
       "       [0.33239067, 0.33239067]])"
      ]
     },
     "execution_count": 152,
     "metadata": {},
     "output_type": "execute_result"
    }
   ],
   "source": [
    "loc"
   ]
  }
 ],
 "metadata": {
  "kernelspec": {
   "display_name": "py3",
   "language": "python",
   "name": "py3"
  },
  "language_info": {
   "codemirror_mode": {
    "name": "ipython",
    "version": 3
   },
   "file_extension": ".py",
   "mimetype": "text/x-python",
   "name": "python",
   "nbconvert_exporter": "python",
   "pygments_lexer": "ipython3",
   "version": "3.5.2"
  }
 },
 "nbformat": 4,
 "nbformat_minor": 2
}
