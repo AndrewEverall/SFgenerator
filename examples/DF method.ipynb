{
 "cells": [
  {
   "cell_type": "code",
   "execution_count": 1,
   "metadata": {},
   "outputs": [],
   "source": [
    "%load_ext autoreload\n",
    "%autoreload 2\n",
    "\n",
    "import sys, os\n",
    "import numpy as np, pandas as pd\n",
    "\n",
    "import warnings\n",
    "warnings.filterwarnings(\"ignore\", message=\"numpy.dtype size changed\")\n",
    "\n",
    "\n",
    "%matplotlib inline\n",
    "from matplotlib import pyplot as plt\n",
    "from matplotlib.pyplot import NullFormatter\n",
    "import matplotlib\n",
    "from matplotlib.colors import LogNorm\n",
    "font = {'family' : 'normal',\n",
    "        'weight' : 'bold',\n",
    "        'size'   : 30}\n",
    "matplotlib.rc('font', **font)\n",
    "\n",
    "import seaborn as sns\n",
    "rc={'font.size': 16, 'axes.labelsize': 16, 'legend.fontsize': 12,\n",
    "    'axes.titlesize': 18, 'xtick.labelsize': 12, 'ytick.labelsize': 12}\n",
    "sns.set(font=\"serif\",style=\"white\",rc=rc)"
   ]
  },
  {
   "cell_type": "markdown",
   "metadata": {},
   "source": [
    "# Testing distribution function"
   ]
  },
  {
   "cell_type": "code",
   "execution_count": 3,
   "metadata": {},
   "outputs": [],
   "source": [
    "folder = '/home/andy/Documents/Research/SF/SFdata/Galaxia_data/'\n",
    "iso_folder = '/home/andy/Documents/Research/SF/SFdata/'"
   ]
  },
  {
   "cell_type": "code",
   "execution_count": 4,
   "metadata": {},
   "outputs": [],
   "source": [
    "survey = pd.read_csv(folder + '/Galaxia_sf_survey.csv')\n",
    "survey['Colour'] = survey.Japp-survey.Kapp\n",
    "\n",
    "pointings = pd.read_csv(folder + '/Galaxia_sf_fieldinfo.csv')\n",
    "pointings = pointings[['fieldID', 'glon', 'glat', 'halfangle','Magmin', 'Magmax', 'Colmin', 'Colmax']]\n",
    "pointings.rename({'glon':'phi', 'glat':'theta'})\n",
    "\n",
    "def get_photo(field):\n",
    "    \n",
    "    file_path = folder + '/photometric/'+str(field)+'.csv'\n",
    "    field_data = pd.read_csv(file_path, usecols=['Japp', 'Happ', 'Kapp'])\n",
    "    \n",
    "    field_data['Colour'] = field_data.Japp - field_data.Kapp\n",
    "    field_data = np.array(field_data[['Happ', 'Colour']])\n",
    "    \n",
    "    return field_data"
   ]
  },
  {
   "cell_type": "code",
   "execution_count": 6,
   "metadata": {},
   "outputs": [],
   "source": [
    "X = get_photo(3.0)"
   ]
  },
  {
   "cell_type": "code",
   "execution_count": null,
   "metadata": {},
   "outputs": [],
   "source": []
  },
  {
   "cell_type": "markdown",
   "metadata": {},
   "source": [
    "# Fit"
   ]
  },
  {
   "cell_type": "code",
   "execution_count": 21,
   "metadata": {},
   "outputs": [],
   "source": [
    "sys.path.append('/home/andy/Documents/Research/SF/GitRepo/seestar/')\n",
    "import SelectionGrid, IsochroneScaling, StatisticalModels, SFInstanceClasses\n",
    "\n",
    "from sklearn import mixture\n",
    "from sklearn.cluster import KMeans\n",
    "\n",
    "import scipy"
   ]
  },
  {
   "cell_type": "code",
   "execution_count": 45,
   "metadata": {},
   "outputs": [
    {
     "name": "stdout",
     "output_type": "stream",
     "text": [
      "CPU times: user 41.1 s, sys: 592 ms, total: 41.7 s\n",
      "Wall time: 41.8 s\n"
     ]
    },
    {
     "name": "stderr",
     "output_type": "stream",
     "text": [
      "/home/andy/py3/lib/python3.5/site-packages/sklearn/mixture/base.py:273: ConvergenceWarning: Initialization 3 did not converge. Try different init parameters, or increase max_iter, tol or check for degenerate data.\n",
      "  % (init + 1), ConvergenceWarning)\n"
     ]
    }
   ],
   "source": [
    "# Simple GMM\n",
    "i = 10\n",
    "gmm = mixture.BayesianGaussianMixture(n_components=i, n_init=3,\n",
    "                                      init_params='kmeans', tol=1e-10, max_iter=1000,\n",
    "                                     mean_precision_prior=0.1, degrees_of_freedom_prior=20.)#,\n",
    "                                     #covariance_prior=np.array([[100,0],[0,10]]))\n",
    "%time gmm.fit(X)\n",
    "\n",
    "params = StatisticalModels.get_params(gmm, X.shape[0], i)"
   ]
  },
  {
   "cell_type": "code",
   "execution_count": 80,
   "metadata": {},
   "outputs": [],
   "source": [
    "Y = gmm.sample(100000)"
   ]
  },
  {
   "cell_type": "code",
   "execution_count": 101,
   "metadata": {},
   "outputs": [
    {
     "data": {
      "text/plain": [
       "KstestResult(statistic=0.021005509426475943, pvalue=0.001773523598440332)"
      ]
     },
     "execution_count": 101,
     "metadata": {},
     "output_type": "execute_result"
    },
    {
     "data": {
      "image/png": "[encoded data removed]",
      "text/plain": [
       "<Figure size 432x288 with 1 Axes>"
      ]
     },
     "metadata": {
      "needs_background": "light"
     },
     "output_type": "display_data"
    }
   ],
   "source": [
    "x = np.linspace(4, 15, 1000)\n",
    "y = marginal_dist(x, params, 'x')\n",
    "_=plt.plot(x, y/marginal_cdf(x, params, 'x')[-1], c='r')\n",
    "\n",
    "_=plt.hist(X[:,0], bins=80, normed='density', histtype='step', linewidth=2)\n",
    "_=plt.hist(Y[0][:,0], bins=100, normed='density', histtype='step', linewidth=2, color='r')\n",
    "\n",
    "foo_cdf = lambda x: marginal_cdf(x, params, 'x', normed=True)\n",
    "scipy.stats.kstest(X[:,0], foo_cdf)"
   ]
  },
  {
   "cell_type": "code",
   "execution_count": 48,
   "metadata": {},
   "outputs": [
    {
     "data": {
      "text/plain": [
       "BayesianGaussianMixture(covariance_prior=None, covariance_type='full',\n",
       "            degrees_of_freedom_prior=20.0, init_params='kmeans',\n",
       "            max_iter=1000, mean_precision_prior=0.1, mean_prior=None,\n",
       "            n_components=10, n_init=3, random_state=None, reg_covar=1e-06,\n",
       "            tol=1e-10, verbose=0, verbose_interval=10, warm_start=False,\n",
       "            weight_concentration_prior=None,\n",
       "            weight_concentration_prior_type='dirichlet_process')"
      ]
     },
     "execution_count": 48,
     "metadata": {},
     "output_type": "execute_result"
    }
   ],
   "source": [
    "gmm"
   ]
  },
  {
   "cell_type": "code",
   "execution_count": 52,
   "metadata": {},
   "outputs": [
    {
     "data": {
      "text/plain": [
       "{'converged_': False,\n",
       " 'covariance_prior': None,\n",
       " 'covariance_prior_': array([[2.02090535, 0.08369374],\n",
       "        [0.08369374, 0.03510076]]),\n",
       " 'covariance_type': 'full',\n",
       " 'covariances_': array([[[ 5.76405490e-01,  3.14337873e-02],\n",
       "         [ 3.14337873e-02,  1.22865546e-02]],\n",
       " \n",
       "        [[ 7.84099911e-02, -5.10024140e-04],\n",
       "         [-5.10024140e-04,  6.15463784e-03]],\n",
       " \n",
       "        [[ 5.57469069e-01,  4.35953246e-04],\n",
       "         [ 4.35953246e-04,  3.10329408e-04]],\n",
       " \n",
       "        [[ 1.37774063e+00, -3.36798973e-02],\n",
       "         [-3.36798973e-02,  1.49795274e-02]],\n",
       " \n",
       "        [[ 1.99824439e-01,  6.94779248e-03],\n",
       "         [ 6.94779248e-03,  3.18028228e-03]],\n",
       " \n",
       "        [[ 1.12793733e-01,  2.80211731e-03],\n",
       "         [ 2.80211731e-03,  8.05494785e-04]],\n",
       " \n",
       "        [[ 7.27579773e-02, -3.21828776e-05],\n",
       "         [-3.21828776e-05,  2.54874359e-04]],\n",
       " \n",
       "        [[ 1.08649021e+00,  8.77164330e-03],\n",
       "         [ 8.77164330e-03,  1.03689799e-03]],\n",
       " \n",
       "        [[ 1.52676085e+00,  8.96247981e-02],\n",
       "         [ 8.96247981e-02,  2.72944711e-02]],\n",
       " \n",
       "        [[ 1.60891807e-01, -1.13903000e-03],\n",
       "         [-1.13903000e-03,  1.98916692e-03]]]),\n",
       " 'degrees_of_freedom_': array([1183.03119769,  571.97178452, 1425.46137633,  100.44514321,\n",
       "         560.10615319,  624.32910969, 1418.31789823, 1061.30532938,\n",
       "         641.1805953 ,  577.85141247]),\n",
       " 'degrees_of_freedom_prior': 20.0,\n",
       " 'degrees_of_freedom_prior_': 20.0,\n",
       " 'init_params': 'kmeans',\n",
       " 'lower_bound_': 10502.049822817044,\n",
       " 'max_iter': 1000,\n",
       " 'mean_precision_': array([1163.13119769,  552.07178452, 1405.56137633,   80.54514321,\n",
       "         540.20615319,  604.42910969, 1398.41789823, 1041.40532938,\n",
       "         621.2805953 ,  557.95141247]),\n",
       " 'mean_precision_prior': 0.1,\n",
       " 'mean_precision_prior_': 0.1,\n",
       " 'mean_prior': None,\n",
       " 'mean_prior_': array([13.27130389,  0.55662631]),\n",
       " 'means_': array([[12.83695338,  0.50989664],\n",
       "        [14.39283346,  0.48135421],\n",
       "        [13.37280231,  0.75457987],\n",
       "        [ 7.36503284,  0.65118006],\n",
       "        [13.47855838,  0.38823627],\n",
       "        [14.15862083,  0.32368791],\n",
       "        [14.45426611,  0.75286115],\n",
       "        [12.32270761,  0.31048229],\n",
       "        [10.64257627,  0.48748397],\n",
       "        [14.2348211 ,  0.67615446]]),\n",
       " 'n_components': 10,\n",
       " 'n_init': 3,\n",
       " 'n_iter_': 1000,\n",
       " 'precisions_': array([[[ 2.01618744e+00, -5.15819197e+00],\n",
       "         [-5.15819197e+00,  9.45864442e+01]],\n",
       " \n",
       "        [[ 1.27603549e+01,  1.05742843e+00],\n",
       "         [ 1.05742843e+00,  1.62566724e+02]],\n",
       " \n",
       "        [[ 1.79579434e+00, -2.52274633e+00],\n",
       "         [-2.52274633e+00,  3.22592631e+03]],\n",
       " \n",
       "        [[ 7.68040361e-01,  1.72685824e+00],\n",
       "         [ 1.72685824e+00,  7.06404399e+01]],\n",
       " \n",
       "        [[ 5.41576947e+00, -1.18315417e+01],\n",
       "         [-1.18315417e+01,  3.40285233e+02]],\n",
       " \n",
       "        [[ 9.70441711e+00, -3.37592690e+01],\n",
       "         [-3.37592690e+01,  1.35891312e+03]],\n",
       " \n",
       "        [[ 1.37449651e+01,  1.73557093e+00],\n",
       "         [ 1.73557093e+00,  3.92372093e+03]],\n",
       " \n",
       "        [[ 9.87862667e-01, -8.35682875e+00],\n",
       "         [-8.35682875e+00,  1.03510965e+03]],\n",
       " \n",
       "        [[ 8.11380978e-01, -2.66427058e+00],\n",
       "         [-2.66427058e+00,  4.53859212e+01]],\n",
       " \n",
       "        [[ 6.24065541e+00,  3.57350288e+00],\n",
       "         [ 3.57350288e+00,  5.04769266e+02]]]),\n",
       " 'precisions_cholesky_': array([[[ 1.31715215e+00, -5.30375008e-01],\n",
       "         [ 0.00000000e+00,  9.72555624e+00]],\n",
       " \n",
       "        [[ 3.57120103e+00,  8.29344857e-02],\n",
       "         [ 0.00000000e+00,  1.27501657e+01]],\n",
       " \n",
       "        [[ 1.33933622e+00, -4.44167074e-02],\n",
       "         [ 0.00000000e+00,  5.67972385e+01]],\n",
       " \n",
       "        [[ 8.51954238e-01,  2.05461281e-01],\n",
       "         [ 0.00000000e+00,  8.40478673e+00]],\n",
       " \n",
       "        [[ 2.23705004e+00, -6.41386458e-01],\n",
       "         [ 0.00000000e+00,  1.84468217e+01]],\n",
       " \n",
       "        [[ 2.97753939e+00, -9.15792724e-01],\n",
       "         [ 0.00000000e+00,  3.68634388e+01]],\n",
       " \n",
       "        [[ 3.70731673e+00,  2.77072429e-02],\n",
       "         [ 0.00000000e+00,  6.26396115e+01]],\n",
       " \n",
       "        [[ 9.59372113e-01, -2.59745674e-01],\n",
       "         [ 0.00000000e+00,  3.21731201e+01]],\n",
       " \n",
       "        [[ 8.09309228e-01, -3.95473832e-01],\n",
       "         [ 0.00000000e+00,  6.73690739e+00]],\n",
       " \n",
       "        [[ 2.49306175e+00,  1.59055131e-01],\n",
       "         [ 0.00000000e+00,  2.24670707e+01]]]),\n",
       " 'random_state': None,\n",
       " 'reg_covar': 1e-06,\n",
       " 'tol': 1e-10,\n",
       " 'verbose': 0,\n",
       " 'verbose_interval': 10,\n",
       " 'warm_start': False,\n",
       " 'weight_concentration_': (array([1164.03119769,  552.97178452, 1406.46137633,   81.44514321,\n",
       "          541.10615319,  605.32910969, 1399.31789823, 1042.30532938,\n",
       "          622.1805953 ,  558.85141247]),\n",
       "  array([6.80106880e+03, 6.24909702e+03, 4.84363564e+03, 4.76319050e+03,\n",
       "         4.22308435e+03, 3.61875524e+03, 2.22043734e+03, 1.17913201e+03,\n",
       "         5.57951412e+02, 1.00000000e-01])),\n",
       " 'weight_concentration_prior': None,\n",
       " 'weight_concentration_prior_': 0.1,\n",
       " 'weight_concentration_prior_type': 'dirichlet_process',\n",
       " 'weights_': array([0.14614327, 0.069415  , 0.17652599, 0.01022013, 0.06788636,\n",
       "        0.07592569, 0.17546625, 0.13064014, 0.07791659, 0.06986058])}"
      ]
     },
     "execution_count": 52,
     "metadata": {},
     "output_type": "execute_result"
    }
   ],
   "source": [
    "gmm.__dict__"
   ]
  },
  {
   "cell_type": "code",
   "execution_count": 60,
   "metadata": {},
   "outputs": [
    {
     "data": {
      "text/plain": [
       "array([0.14597833, 0.06934685, 0.17638091, 0.01021384, 0.06785881,\n",
       "       0.07591286, 0.17548506, 0.13071298, 0.07802616, 0.0700842 ])"
      ]
     },
     "execution_count": 60,
     "metadata": {},
     "output_type": "execute_result"
    }
   ],
   "source": [
    "gmm.weight_concentration_[0]/np.sum(gmm.weight_concentration_[0])"
   ]
  },
  {
   "cell_type": "code",
   "execution_count": 55,
   "metadata": {},
   "outputs": [
    {
     "data": {
      "text/plain": [
       "array([0.14614327, 0.069415  , 0.17652599, 0.01022013, 0.06788636,\n",
       "       0.07592569, 0.17546625, 0.13064014, 0.07791659, 0.06986058])"
      ]
     },
     "execution_count": 55,
     "metadata": {},
     "output_type": "execute_result"
    }
   ],
   "source": [
    "gmm.weights_"
   ]
  },
  {
   "cell_type": "code",
   "execution_count": 57,
   "metadata": {},
   "outputs": [
    {
     "data": {
      "text/plain": [
       "(7964, 2)"
      ]
     },
     "execution_count": 57,
     "metadata": {},
     "output_type": "execute_result"
    }
   ],
   "source": [
    "X.shape"
   ]
  },
  {
   "cell_type": "code",
   "execution_count": null,
   "metadata": {},
   "outputs": [],
   "source": []
  },
  {
   "cell_type": "code",
   "execution_count": 61,
   "metadata": {},
   "outputs": [],
   "source": [
    "from sklearn.neighbors import KernelDensity"
   ]
  },
  {
   "cell_type": "code",
   "execution_count": 62,
   "metadata": {},
   "outputs": [],
   "source": [
    "kde = KernelDensity(kernel='gaussian')"
   ]
  },
  {
   "cell_type": "code",
   "execution_count": 63,
   "metadata": {},
   "outputs": [
    {
     "data": {
      "text/plain": [
       "KernelDensity(algorithm='auto', atol=0, bandwidth=1.0, breadth_first=True,\n",
       "       kernel='gaussian', leaf_size=40, metric='euclidean',\n",
       "       metric_params=None, rtol=0)"
      ]
     },
     "execution_count": 63,
     "metadata": {},
     "output_type": "execute_result"
    }
   ],
   "source": [
    "kde.fit(X)"
   ]
  },
  {
   "cell_type": "code",
   "execution_count": 67,
   "metadata": {},
   "outputs": [],
   "source": [
    "Y = kde.sample(10000)"
   ]
  },
  {
   "cell_type": "code",
   "execution_count": 70,
   "metadata": {},
   "outputs": [
    {
     "data": {
      "image/png": "[encoded data removed]",
      "text/plain": [
       "<Figure size 432x288 with 1 Axes>"
      ]
     },
     "metadata": {
      "needs_background": "light"
     },
     "output_type": "display_data"
    }
   ],
   "source": [
    "_=plt.hist(X[:,0], bins=80, normed=True, histtype='step')\n",
    "_=plt.hist(Y[:,0], bins=80, normed=True, histtype='step')"
   ]
  },
  {
   "cell_type": "code",
   "execution_count": null,
   "metadata": {},
   "outputs": [],
   "source": []
  },
  {
   "cell_type": "code",
   "execution_count": 84,
   "metadata": {},
   "outputs": [],
   "source": [
    "Y = gmm.sample(1000000)"
   ]
  },
  {
   "cell_type": "code",
   "execution_count": 100,
   "metadata": {},
   "outputs": [
    {
     "data": {
      "text/plain": [
       "KstestResult(statistic=0.021005509426475943, pvalue=0.001773523598440332)"
      ]
     },
     "execution_count": 100,
     "metadata": {},
     "output_type": "execute_result"
    },
    {
     "data": {
      "image/png": "[encoded data removed]",
      "text/plain": [
       "<Figure size 432x288 with 1 Axes>"
      ]
     },
     "metadata": {
      "needs_background": "light"
     },
     "output_type": "display_data"
    }
   ],
   "source": [
    "x = np.linspace(4, 15, 1000)\n",
    "y = marginal_dist(x, params, 'x')\n",
    "_=plt.plot(x, y/marginal_cdf(x, params, 'x')[-1], c='r')\n",
    "\n",
    "_=plt.hist(Y[0][:,0], bins=1000, normed='density', histtype='step', linewidth=2, color='r')\n",
    "\n",
    "foo_cdf = lambda x: marginal_cdf(x, params, 'x', normed=True)\n",
    "scipy.stats.kstest(X[:,0], foo_cdf)"
   ]
  },
  {
   "cell_type": "code",
   "execution_count": 93,
   "metadata": {},
   "outputs": [
    {
     "data": {
      "text/plain": [
       "array([[5.76405490e-01, 1.22865546e-02],\n",
       "       [7.84099911e-02, 6.15463784e-03],\n",
       "       [5.57469069e-01, 3.10329408e-04],\n",
       "       [1.37774063e+00, 1.49795274e-02],\n",
       "       [1.99824439e-01, 3.18028228e-03],\n",
       "       [1.12793733e-01, 8.05494785e-04],\n",
       "       [7.27579773e-02, 2.54874359e-04],\n",
       "       [1.08649021e+00, 1.03689799e-03],\n",
       "       [1.52676085e+00, 2.72944711e-02],\n",
       "       [1.60891807e-01, 1.98916692e-03]])"
      ]
     },
     "execution_count": 93,
     "metadata": {},
     "output_type": "execute_result"
    }
   ],
   "source": [
    "gmm.covariances_[:,[0,1],[0,1]]"
   ]
  },
  {
   "cell_type": "code",
   "execution_count": 95,
   "metadata": {},
   "outputs": [
    {
     "data": {
      "text/plain": [
       "array([[5.76405490e-01, 1.22865546e-02],\n",
       "       [7.84099911e-02, 6.15463784e-03],\n",
       "       [5.57469069e-01, 3.10329408e-04],\n",
       "       [1.37774063e+00, 1.49795274e-02],\n",
       "       [1.99824439e-01, 3.18028228e-03],\n",
       "       [1.12793733e-01, 8.05494785e-04],\n",
       "       [7.27579773e-02, 2.54874359e-04],\n",
       "       [1.08649021e+00, 1.03689799e-03],\n",
       "       [1.52676085e+00, 2.72944711e-02],\n",
       "       [1.60891807e-01, 1.98916692e-03]])"
      ]
     },
     "execution_count": 95,
     "metadata": {},
     "output_type": "execute_result"
    }
   ],
   "source": [
    "params[:,2:4]"
   ]
  },
  {
   "cell_type": "code",
   "execution_count": 99,
   "metadata": {},
   "outputs": [
    {
     "data": {
      "text/plain": [
       "KstestResult(statistic=0.011173131844794626, pvalue=0.2731167631900559)"
      ]
     },
     "execution_count": 99,
     "metadata": {},
     "output_type": "execute_result"
    },
    {
     "data": {
      "image/png": "[encoded data removed]",
      "text/plain": [
       "<Figure size 432x288 with 1 Axes>"
      ]
     },
     "metadata": {
      "needs_background": "light"
     },
     "output_type": "display_data"
    }
   ],
   "source": [
    "x = np.linspace(0, 1.2, 1000)\n",
    "y = marginal_dist(x, params, 'y')\n",
    "_=plt.plot(x, y/marginal_cdf(x, params, 'y')[-1], c='r')\n",
    "\n",
    "_=plt.hist(Y[0][:,1], bins=1000, normed='density', histtype='step', linewidth=2, color='r')\n",
    "\n",
    "foo_cdf = lambda x: marginal_cdf(x, params, 'y', normed=True)\n",
    "scipy.stats.kstest(X[:,1], foo_cdf)"
   ]
  },
  {
   "cell_type": "markdown",
   "metadata": {},
   "source": [
    "# Test result"
   ]
  },
  {
   "cell_type": "code",
   "execution_count": 97,
   "metadata": {},
   "outputs": [],
   "source": [
    "def marginal_dist(x, params, axis):\n",
    "    if axis=='x':\n",
    "        mu = params[:,0]\n",
    "        cov = params[:,2]\n",
    "    elif axis=='y':\n",
    "        mu = params[:,1]\n",
    "        cov = params[:,3]\n",
    "        \n",
    "    exponent = -0.5*(x[:,np.newaxis]-mu[np.newaxis,:])**2 / (cov[np.newaxis,:])\n",
    "    norm = 1/np.sqrt(2*np.pi*cov)[np.newaxis,:]\n",
    "        \n",
    "    return np.sum(params[:,5][np.newaxis,:]*norm*np.exp(exponent), axis=1)\n",
    "\n",
    "def marginal_cdf(x, params, axis, normed=False):\n",
    "    if axis=='x':\n",
    "        mu = params[:,0]\n",
    "        cov = params[:,2]\n",
    "    elif axis=='y':\n",
    "        mu = params[:,1]\n",
    "        cov = params[:,3]\n",
    "        \n",
    "    components =  0.5*(scipy.special.erf((x[:,np.newaxis] - mu[np.newaxis,:])/(np.sqrt(2*cov[np.newaxis,:]))) + 1)\n",
    "        \n",
    "    if normed:\n",
    "        return np.sum(params[:,5][np.newaxis,:]*components, axis=1)/np.sum(params[:,5])\n",
    "    return np.sum(params[:,5][np.newaxis,:]*components, axis=1)\n",
    "\n",
    "def normed_marginal_cdf(x, params, axis):\n",
    "    if axis=='x':\n",
    "        mu = params[:,0]\n",
    "        cov = params[:,2]\n",
    "    elif axis=='y':\n",
    "        mu = params[:,1]\n",
    "        cov = params[:,3]\n",
    "        \n",
    "    components =  0.5*(scipy.special.erf((x - mu)/(np.sqrt(2*cov))) + 1)\n",
    "        \n",
    "    return np.sum(params[:,5]*components)/np.sum(params[:,5])"
   ]
  },
  {
   "cell_type": "code",
   "execution_count": 18,
   "metadata": {},
   "outputs": [
    {
     "data": {
      "text/plain": [
       "<matplotlib.collections.PathCollection at 0x7f754522a048>"
      ]
     },
     "execution_count": 18,
     "metadata": {},
     "output_type": "execute_result"
    },
    {
     "data": {
      "image/png": "[encoded data removed]",
      "text/plain": [
       "<Figure size 432x288 with 1 Axes>"
      ]
     },
     "metadata": {
      "needs_background": "light"
     },
     "output_type": "display_data"
    }
   ],
   "source": [
    "plt.scatter(X[:,0], X[:,1])"
   ]
  },
  {
   "cell_type": "code",
   "execution_count": 28,
   "metadata": {},
   "outputs": [
    {
     "data": {
      "text/plain": [
       "KstestResult(statistic=0.04947346768295957, pvalue=2.342780839079132e-17)"
      ]
     },
     "execution_count": 28,
     "metadata": {},
     "output_type": "execute_result"
    },
    {
     "data": {
      "image/png": "[encoded data removed]",
      "text/plain": [
       "<Figure size 432x288 with 1 Axes>"
      ]
     },
     "metadata": {
      "needs_background": "light"
     },
     "output_type": "display_data"
    }
   ],
   "source": [
    "x = np.linspace(4, 15, 1000)\n",
    "y = marginal_dist(x, params, 'x')\n",
    "_=plt.plot(x, y/marginal_cdf(x, params, 'x')[-1], c='r')\n",
    "\n",
    "_=plt.hist(X[:,0], bins=80, normed=True)\n",
    "\n",
    "foo_cdf = lambda x: marginal_cdf(x, params, 'x', normed=True)\n",
    "scipy.stats.kstest(X[:,0], foo_cdf)"
   ]
  },
  {
   "cell_type": "code",
   "execution_count": 31,
   "metadata": {},
   "outputs": [
    {
     "data": {
      "text/plain": [
       "KstestResult(statistic=0.02102303768328917, pvalue=0.0017528347738093727)"
      ]
     },
     "execution_count": 31,
     "metadata": {},
     "output_type": "execute_result"
    },
    {
     "data": {
      "image/png": "[encoded data removed]",
      "text/plain": [
       "<Figure size 432x288 with 1 Axes>"
      ]
     },
     "metadata": {
      "needs_background": "light"
     },
     "output_type": "display_data"
    }
   ],
   "source": [
    "x = np.linspace(0., 1.2, 1000)\n",
    "y = marginal_dist(x, params, 'y')\n",
    "_=plt.plot(x, y/marginal_cdf(x, params, 'y')[-1], c='r')\n",
    "\n",
    "_=plt.hist(X[:,1], bins=80, normed=True)\n",
    "\n",
    "foo_cdf = lambda x: marginal_cdf(x, params, 'y', normed=True)\n",
    "scipy.stats.kstest(X[:,1], foo_cdf)"
   ]
  },
  {
   "cell_type": "code",
   "execution_count": null,
   "metadata": {},
   "outputs": [],
   "source": []
  },
  {
   "cell_type": "code",
   "execution_count": null,
   "metadata": {},
   "outputs": [],
   "source": []
  },
  {
   "cell_type": "code",
   "execution_count": null,
   "metadata": {},
   "outputs": [],
   "source": []
  },
  {
   "cell_type": "code",
   "execution_count": null,
   "metadata": {},
   "outputs": [],
   "source": []
  },
  {
   "cell_type": "code",
   "execution_count": null,
   "metadata": {},
   "outputs": [],
   "source": []
  },
  {
   "cell_type": "code",
   "execution_count": null,
   "metadata": {},
   "outputs": [],
   "source": []
  },
  {
   "cell_type": "code",
   "execution_count": null,
   "metadata": {},
   "outputs": [],
   "source": []
  },
  {
   "cell_type": "code",
   "execution_count": null,
   "metadata": {},
   "outputs": [],
   "source": []
  },
  {
   "cell_type": "code",
   "execution_count": null,
   "metadata": {},
   "outputs": [],
   "source": []
  },
  {
   "cell_type": "code",
   "execution_count": null,
   "metadata": {},
   "outputs": [],
   "source": []
  }
 ],
 "metadata": {
  "kernelspec": {
   "display_name": "py3",
   "language": "python",
   "name": "py3"
  },
  "language_info": {
   "codemirror_mode": {
    "name": "ipython",
    "version": 3
   },
   "file_extension": ".py",
   "mimetype": "text/x-python",
   "name": "python",
   "nbconvert_exporter": "python",
   "pygments_lexer": "ipython3",
   "version": "3.5.2"
  }
 },
 "nbformat": 4,
 "nbformat_minor": 2
}
