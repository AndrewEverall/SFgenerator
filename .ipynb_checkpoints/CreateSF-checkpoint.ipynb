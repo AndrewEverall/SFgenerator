{
 "cells": [
  {
   "cell_type": "code",
   "execution_count": null,
   "metadata": {},
   "outputs": [],
   "source": [
    "#import neccessary dependencies for code\n",
    "import numpy as np\n",
    "import pandas as pd\n",
    "import re\n",
    "import scipy\n",
    "from scipy.io import readsav\n",
    "import dill\n",
    "from itertools import product\n",
    "import savReaderWriter\n",
    "import pickle\n",
    "\n",
    "import cProfile\n",
    "import pstats\n",
    "\n",
    "import sys, os\n",
    "os.path.exists(\"../../Project/Milky/FitGalaxyModels/\")\n",
    "sys.path.append(\"../FitGalMods/\")\n",
    "\n",
    "#from MilkyWayDFModified import MilkyWayDF as mwdf\n",
    "#from GalDFModified import GalDF\n",
    "import CoordTrans\n",
    "\n",
    "%matplotlib inline\n",
    "from matplotlib import pyplot as plt\n",
    "import matplotlib\n",
    "\n",
    "font = {'family' : 'normal',\n",
    "        'weight' : 'bold',\n",
    "        'size'   : 15}\n",
    "\n",
    "matplotlib.rc('font', **font)\n",
    "\n",
    "\n",
    "from StatisticalAnalysis import *\n",
    "from DataImport import *\n",
    "from ArrayMechanics import *\n",
    "from AngleDisks import *\n",
    "from PlotCoordinates import *\n",
    "from SelectionGrid import *"
   ]
  }
 ],
 "metadata": {
  "kernelspec": {
   "display_name": "Python 2",
   "language": "python",
   "name": "python2"
  },
  "language_info": {
   "codemirror_mode": {
    "name": "ipython",
    "version": 2
   },
   "file_extension": ".py",
   "mimetype": "text/x-python",
   "name": "python",
   "nbconvert_exporter": "python",
   "pygments_lexer": "ipython2",
   "version": "2.7.14"
  }
 },
 "nbformat": 4,
 "nbformat_minor": 2
}
